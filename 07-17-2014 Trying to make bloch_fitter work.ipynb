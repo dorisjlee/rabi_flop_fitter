{
 "metadata": {
  "name": "",
  "signature": "sha256:22fc2e0ed189b054984d55d2f4cdc31cc9b17c812412a6a816f4d06d77de722f"
 },
 "nbformat": 3,
 "nbformat_minor": 0,
 "worksheets": [
  {
   "cells": [
    {
     "cell_type": "code",
     "collapsed": false,
     "input": [
      "cd ../common/abstractdevices/fitter/"
     ],
     "language": "python",
     "metadata": {},
     "outputs": [
      {
       "output_type": "stream",
       "stream": "stdout",
       "text": [
        "/Users/dorislee/Desktop/HaffnerLab/common/abstractdevices/fitter\n"
       ]
      }
     ],
     "prompt_number": 1
    },
    {
     "cell_type": "code",
     "collapsed": false,
     "input": [
      "%pylab inline\n",
      "from matplotlib import pyplot as plt\n",
      "import numpy as np\n",
      "from scipy.integrate import odeint\n",
      "#############\n",
      "from __future__ import division\n",
      "from get_data import *\n",
      "import lmfit as lmfit \n",
      "from datafit import DataFit\n",
      "from bloch import Bloch"
     ],
     "language": "python",
     "metadata": {},
     "outputs": [
      {
       "output_type": "stream",
       "stream": "stdout",
       "text": [
        "Populating the interactive namespace from numpy and matplotlib\n"
       ]
      }
     ],
     "prompt_number": 2
    },
    {
     "cell_type": "code",
     "collapsed": false,
     "input": [
      "dataobj = ReadData('2014Jun17',experiment = 'Spectrum729')\n",
      "car_data = dataobj.get_data('1903_14')\n",
      "plt.figure()\n",
      "plt.plot(car_data[:,0],car_data[:,1],'o')"
     ],
     "language": "python",
     "metadata": {},
     "outputs": [
      {
       "metadata": {},
       "output_type": "pyout",
       "prompt_number": 3,
       "text": [
        "[<matplotlib.lines.Line2D at 0x106ad8950>]"
       ]
      },
      {
       "metadata": {},
       "output_type": "display_data",
       "png": "[encoded data removed]",
       "text": [
        "<matplotlib.figure.Figure at 0x106aacb10>"
       ]
      }
     ],
     "prompt_number": 3
    },
    {
     "cell_type": "code",
     "collapsed": false,
     "input": [
      "b = Bloch()\n",
      "b.setData(car_data)\n",
      "# From the parameter files, retrieve parameter 10 info (t_excitation)\n",
      "# data = Value(40.0, 'us')\n",
      "initial_guess={'t_excitation':40e-6 , 'height': 0.7,\n",
      "               'gamma':1e-4,'ohm': 2*np.pi*1000,\n",
      "               'shift':0.0}\n",
      "b.guess_shift()"
     ],
     "language": "python",
     "metadata": {},
     "outputs": [
      {
       "metadata": {},
       "output_type": "pyout",
       "prompt_number": 4,
       "text": [
        "-24.837209101328099"
       ]
      }
     ],
     "prompt_number": 4
    },
    {
     "cell_type": "markdown",
     "metadata": {},
     "source": [
      "Changed the mxstep step size of numerical integrator from 50000 to 15000 but it still complains that it does not converge"
     ]
    },
    {
     "cell_type": "code",
     "collapsed": false,
     "input": [
      "#Sucessful integration mxstep=1000000, and 500000\n",
      "fit_params={}\n",
      "for key in initial_guess.keys():\n",
      "    fit_params[key]=(False,False,initial_guess[key])\n",
      "fit_params['gamma']=(True,True,initial_guess[key])\n",
      "fit_params['ohm']=(True,True,initial_guess[key])\n",
      "print fit_params"
     ],
     "language": "python",
     "metadata": {},
     "outputs": [
      {
       "output_type": "stream",
       "stream": "stdout",
       "text": [
        "{'height': (False, False, 0.7), 'ohm': (True, True, 0.7), 't_excitation': (False, False, 4e-05), 'gamma': (True, True, 0.7), 'shift': (False, False, 0.0)}\n"
       ]
      }
     ],
     "prompt_number": 5
    },
    {
     "cell_type": "code",
     "collapsed": false,
     "input": [
      "x,y=b.fit()\n",
      "# Not sure why the length of x and y differ by 1, fixed now by changes inside datafit (violate abstraction barrier)\n",
      "# b.fit()"
     ],
     "language": "python",
     "metadata": {},
     "outputs": [
      {
       "output_type": "stream",
       "stream": "stdout",
       "text": [
        "inside fit\n",
        "Parameters([('t_excitation', <Parameter 't_excitation', 4e-05, bounds=[None:None]>), ('height', <Parameter 'height', 0.70999999999999996, bounds=[None:None]>), ('gamma', <Parameter 'gamma', 0.0001, bounds=[None:None]>), ('ohm', <Parameter 'ohm', 6283.185307179586, bounds=[None:None]>), ('shift', <Parameter 'shift', 0.0, bounds=[None:None]>)])\n",
        "inside model\n",
        "t_excitation: \n",
        "delta_list: 20\n",
        "delta_i: -314159.265359\n",
        "r3: \n",
        "delta_i: -282743.338823\n",
        "r3: \n",
        "delta_i: -251327.412287\n",
        "r3: \n",
        "delta_i: -219911.485751\n",
        "r3: \n",
        "delta_i: -188495.559215\n",
        "r3: \n",
        "delta_i: -157079.632679\n",
        "r3: \n",
        "delta_i: -125663.706144\n",
        "r3: \n",
        "delta_i: -94247.7796077\n",
        "r3: \n",
        "delta_i: -62831.8530718\n",
        "r3: \n",
        "delta_i: -31415.9265359\n",
        "r3: \n",
        "delta_i: 1.7462298274e-10\n",
        "r3: \n",
        "delta_i: 31415.9265359\n",
        "r3: \n",
        "delta_i: 62831.8530718\n",
        "r3: \n",
        "delta_i: 94247.7796077\n",
        "r3: \n",
        "delta_i: 125663.706144\n",
        "r3: \n",
        "delta_i: 157079.632679\n",
        "r3: \n",
        "delta_i: 188495.559215\n",
        "r3: \n",
        "delta_i: 219911.485751\n",
        "r3: \n",
        "delta_i: 251327.412287\n",
        "r3: \n",
        "delta_i: 282743.338823\n",
        "r3: \n",
        "inside model\n",
        "t_excitation: \n",
        "delta_list: 20\n",
        "delta_i: -314159.265359\n",
        "r3: \n",
        "delta_i: -282743.338823\n",
        "r3: \n",
        "delta_i: -251327.412287\n",
        "r3: \n",
        "delta_i: -219911.485751\n",
        "r3: \n",
        "delta_i: -188495.559215\n",
        "r3: \n",
        "delta_i: -157079.632679\n",
        "r3: \n",
        "delta_i: -125663.706144\n",
        "r3: \n",
        "delta_i: -94247.7796077\n",
        "r3: \n",
        "delta_i: -62831.8530718\n",
        "r3: \n",
        "delta_i: -31415.9265359\n",
        "r3: \n",
        "delta_i: 1.7462298274e-10\n",
        "r3: \n",
        "delta_i: 31415.9265359\n",
        "r3: \n",
        "delta_i: 62831.8530718\n",
        "r3: \n",
        "delta_i: 94247.7796077\n",
        "r3: \n",
        "delta_i: 125663.706144\n",
        "r3: \n",
        "delta_i: 157079.632679\n",
        "r3: \n",
        "delta_i: 188495.559215\n",
        "r3: \n",
        "delta_i: 219911.485751\n",
        "r3: \n",
        "delta_i: 251327.412287\n",
        "r3: \n",
        "delta_i: 282743.338823\n",
        "r3: \n",
        "inside model\n",
        "t_excitation: \n",
        "delta_list: 20\n",
        "delta_i: -314159.265359\n",
        "r3: \n",
        "delta_i: -282743.338823\n",
        "r3: \n",
        "delta_i: -251327.412287\n",
        "r3: \n",
        "delta_i: -219911.485751\n",
        "r3: \n",
        "delta_i: -188495.559215\n",
        "r3: \n",
        "delta_i: -157079.632679\n",
        "r3: "
       ]
      },
      {
       "output_type": "stream",
       "stream": "stdout",
       "text": [
        "\n",
        "delta_i: -125663.706144\n",
        "r3: \n",
        "delta_i: -94247.7796077\n",
        "r3: \n",
        "delta_i: -62831.8530718\n",
        "r3: \n",
        "delta_i: -31415.9265359\n",
        "r3: \n",
        "delta_i: 1.7462298274e-10\n",
        "r3: \n",
        "delta_i: 31415.9265359\n",
        "r3: \n",
        "delta_i: 62831.8530718\n",
        "r3: \n",
        "delta_i: 94247.7796077\n",
        "r3: \n",
        "delta_i: 125663.706144\n",
        "r3: \n",
        "delta_i: 157079.632679\n",
        "r3: \n",
        "delta_i: 188495.559215\n",
        "r3: \n",
        "delta_i: 219911.485751\n",
        "r3: \n",
        "delta_i: 251327.412287\n",
        "r3: \n",
        "delta_i: 282743.338823\n",
        "r3: \n",
        "inside model\n",
        "t_excitation: \n",
        "delta_list: 20\n",
        "delta_i: -314159.265359\n",
        "r3: \n",
        "delta_i: -282743.338823\n",
        "r3: \n",
        "delta_i: -251327.412287\n",
        "r3: \n",
        "delta_i: -219911.485751\n",
        "r3: \n",
        "delta_i: -188495.559215\n",
        "r3: \n",
        "delta_i: -157079.632679\n",
        "r3: \n",
        "delta_i: -125663.706144\n",
        "r3: \n",
        "delta_i: -94247.7796077\n",
        "r3: \n",
        "delta_i: -62831.8530718\n",
        "r3: \n",
        "delta_i: -31415.9265359\n",
        "r3: \n",
        "delta_i: 1.7462298274e-10\n",
        "r3: \n",
        "delta_i: 31415.9265359\n",
        "r3: \n",
        "delta_i: 62831.8530718\n",
        "r3: \n",
        "delta_i: 94247.7796077\n",
        "r3: \n",
        "delta_i: 125663.706144\n",
        "r3: \n",
        "delta_i: 157079.632679\n",
        "r3: \n",
        "delta_i: 188495.559215\n",
        "r3: \n",
        "delta_i: 219911.485751\n",
        "r3: \n",
        "delta_i: 251327.412287\n",
        "r3: \n",
        "delta_i: 282743.338823\n",
        "r3: \n",
        "inside model\n",
        "t_excitation: \n",
        "delta_list: 20\n",
        "delta_i: -314159.265359\n",
        "r3: \n",
        "delta_i: -282743.338823\n",
        "r3: \n",
        "delta_i: -251327.412287\n",
        "r3: \n",
        "delta_i: -219911.485751\n",
        "r3: \n",
        "delta_i: -188495.559215\n",
        "r3: \n",
        "delta_i: -157079.632679\n",
        "r3: \n",
        "delta_i: -125663.706144\n",
        "r3: \n",
        "delta_i: -94247.7796077\n",
        "r3: \n",
        "delta_i: -62831.8530718\n",
        "r3: \n",
        "delta_i: -31415.9265359\n",
        "r3: \n",
        "delta_i: 1.7462298274e-10\n",
        "r3: \n",
        "delta_i: 31415.9265359\n",
        "r3: \n",
        "delta_i: 62831.8530718\n",
        "r3: \n",
        "delta_i: 94247.7796077\n",
        "r3: \n",
        "delta_i: 125663.706144\n",
        "r3: \n",
        "delta_i: 157079.632679\n",
        "r3: \n",
        "delta_i: 188495.559215\n",
        "r3: \n",
        "delta_i: 219911.485751\n",
        "r3: \n",
        "delta_i: 251327.412287\n",
        "r3: \n",
        "delta_i: 282743.338823\n",
        "r3: \n",
        "inside model\n",
        "t_excitation: \n",
        "delta_list: 20\n",
        "delta_i: -314159.265359\n",
        "r3: \n",
        "delta_i: -282743.338823\n",
        "r3: \n",
        "delta_i: -251327.412287\n",
        "r3: \n",
        "delta_i: -219911.485751\n",
        "r3: \n",
        "delta_i: -188495.559215\n",
        "r3: \n",
        "delta_i: -157079.632679\n",
        "r3: \n",
        "delta_i: -125663.706144\n",
        "r3: \n",
        "delta_i: -94247.7796077\n",
        "r3: \n",
        "delta_i: -62831.8530718\n",
        "r3: \n",
        "delta_i: -31415.9265359\n",
        "r3: \n",
        "delta_i: 1.7462298274e-10\n",
        "r3: \n",
        "delta_i: 31415.9265359\n",
        "r3: \n",
        "delta_i: 62831.8530718\n",
        "r3: \n",
        "delta_i: 94247.7796077\n",
        "r3: \n",
        "delta_i: 125663.706144\n",
        "r3: \n",
        "delta_i: 157079.632679\n",
        "r3: \n",
        "delta_i: 188495.559215\n",
        "r3: \n",
        "delta_i: 219911.485751\n",
        "r3: "
       ]
      },
      {
       "output_type": "stream",
       "stream": "stdout",
       "text": [
        "\n",
        "delta_i: 251327.412287\n",
        "r3: \n",
        "delta_i: 282743.338823\n",
        "r3: \n",
        "inside model\n",
        "t_excitation: \n",
        "delta_list: 20\n",
        "delta_i: -314159.27004\n",
        "r3: \n",
        "delta_i: -282743.343036\n",
        "r3: \n",
        "delta_i: -251327.416032\n",
        "r3: \n",
        "delta_i: -219911.489028\n",
        "r3: \n",
        "delta_i: -188495.562024\n",
        "r3: \n",
        "delta_i: -157079.63502\n",
        "r3: \n",
        "delta_i: -125663.708016\n",
        "r3: \n",
        "delta_i: -94247.7810121\n",
        "r3: \n",
        "delta_i: -62831.8540081\n",
        "r3: \n",
        "delta_i: -31415.927004\n",
        "r3: \n",
        "delta_i: 5.82076609135e-11\n",
        "r3: \n",
        "delta_i: 31415.927004\n",
        "r3: \n",
        "delta_i: 62831.8540081\n",
        "r3: \n",
        "delta_i: 94247.7810121\n",
        "r3: \n",
        "delta_i: 125663.708016\n",
        "r3: \n",
        "delta_i: 157079.63502\n",
        "r3: \n",
        "delta_i: 188495.562024\n",
        "r3: \n",
        "delta_i: 219911.489028\n",
        "r3: \n",
        "delta_i: 251327.416032\n",
        "r3: \n",
        "delta_i: 282743.343036\n",
        "r3: \n",
        "inside model\n",
        "t_excitation: \n",
        "delta_list: 20\n",
        "delta_i: -314159.265359\n",
        "r3: \n",
        "delta_i: -282743.338823\n",
        "r3: \n",
        "delta_i: -251327.412287\n",
        "r3: "
       ]
      },
      {
       "output_type": "stream",
       "stream": "stdout",
       "text": [
        "\n",
        "delta_i: -219911.485751\n",
        "r3: \n",
        "delta_i: -188495.559215\n",
        "r3: \n",
        "delta_i: -157079.632679\n",
        "r3: \n",
        "delta_i: -125663.706144\n",
        "r3: \n",
        "delta_i: -94247.7796077\n",
        "r3: \n",
        "delta_i: -62831.8530718\n",
        "r3: \n",
        "delta_i: -31415.9265359\n",
        "r3: \n",
        "delta_i: 1.7462298274e-10\n",
        "r3: \n",
        "delta_i: 31415.9265359\n",
        "r3: \n",
        "delta_i: 62831.8530718\n",
        "r3: \n",
        "delta_i: 94247.7796077\n",
        "r3: \n",
        "delta_i: 125663.706144\n",
        "r3: \n",
        "delta_i: 157079.632679\n",
        "r3: \n",
        "delta_i: 188495.559215\n",
        "r3: \n",
        "delta_i: 219911.485751\n",
        "r3: \n",
        "delta_i: 251327.412287\n",
        "r3: \n",
        "delta_i: 282743.338823\n",
        "r3: \n",
        "inside model\n",
        "t_excitation: \n",
        "delta_list: 20\n",
        "delta_i: -17217367.5049\n",
        "r3: "
       ]
      },
      {
       "output_type": "stream",
       "stream": "stdout",
       "text": [
        "\n",
        "delta_i: -15495630.7544\n",
        "r3: "
       ]
      },
      {
       "output_type": "stream",
       "stream": "stdout",
       "text": [
        "\n",
        "delta_i: -13773894.0039\n",
        "r3: "
       ]
      },
      {
       "output_type": "stream",
       "stream": "stdout",
       "text": [
        "\n",
        "delta_i: -12052157.2534\n",
        "r3: "
       ]
      },
      {
       "output_type": "stream",
       "stream": "stdout",
       "text": [
        "\n",
        "delta_i: -10330420.5029\n",
        "r3: "
       ]
      },
      {
       "output_type": "stream",
       "stream": "stdout",
       "text": [
        "\n",
        "delta_i: -8608683.75244\n",
        "r3: "
       ]
      },
      {
       "output_type": "stream",
       "stream": "stdout",
       "text": [
        "\n",
        "delta_i: -6886947.00195\n",
        "r3: "
       ]
      },
      {
       "output_type": "stream",
       "stream": "stdout",
       "text": [
        "\n",
        "delta_i: -5165210.25146\n",
        "r3: "
       ]
      },
      {
       "output_type": "stream",
       "stream": "stdout",
       "text": [
        "\n",
        "delta_i: -3443473.50098\n",
        "r3: "
       ]
      },
      {
       "output_type": "stream",
       "stream": "stdout",
       "text": [
        "\n",
        "delta_i: -1721736.75049\n",
        "r3: "
       ]
      },
      {
       "output_type": "stream",
       "stream": "stdout",
       "text": [
        "\n",
        "delta_i: 0.0\n",
        "r3: \n",
        "delta_i: 1721736.75049\n",
        "r3: "
       ]
      },
      {
       "output_type": "stream",
       "stream": "stdout",
       "text": [
        "\n",
        "delta_i: 3443473.50098\n",
        "r3: "
       ]
      },
      {
       "output_type": "stream",
       "stream": "stdout",
       "text": [
        "\n",
        "delta_i: 5165210.25146\n",
        "r3: "
       ]
      },
      {
       "output_type": "stream",
       "stream": "stdout",
       "text": [
        "\n",
        "delta_i: 6886947.00195\n",
        "r3: "
       ]
      },
      {
       "output_type": "stream",
       "stream": "stdout",
       "text": [
        "\n",
        "delta_i: 8608683.75244\n",
        "r3: "
       ]
      },
      {
       "output_type": "stream",
       "stream": "stdout",
       "text": [
        "\n",
        "delta_i: 10330420.5029\n",
        "r3: "
       ]
      },
      {
       "output_type": "stream",
       "stream": "stdout",
       "text": [
        "\n",
        "delta_i: 12052157.2534\n",
        "r3: "
       ]
      },
      {
       "output_type": "stream",
       "stream": "stdout",
       "text": [
        "\n",
        "delta_i: 13773894.0039\n",
        "r3: "
       ]
      },
      {
       "output_type": "stream",
       "stream": "stdout",
       "text": [
        "\n",
        "delta_i: 15495630.7544\n",
        "r3: "
       ]
      },
      {
       "output_type": "stream",
       "stream": "stdout",
       "text": [
        "\n",
        "inside model\n",
        "t_excitation: \n",
        "delta_list: 20\n",
        "delta_i: 9291443.51193\n",
        "r3: "
       ]
      },
      {
       "output_type": "stream",
       "stream": "stdout",
       "text": [
        "\n",
        "delta_i: 8362299.16074\n",
        "r3: "
       ]
      },
      {
       "output_type": "stream",
       "stream": "stdout",
       "text": [
        "\n",
        "delta_i: 7433154.80954\n",
        "r3: "
       ]
      },
      {
       "output_type": "stream",
       "stream": "stdout",
       "text": [
        "\n",
        "delta_i: 6504010.45835\n",
        "r3: "
       ]
      },
      {
       "output_type": "stream",
       "stream": "stdout",
       "text": [
        "\n",
        "delta_i: 5574866.10716\n",
        "r3: "
       ]
      },
      {
       "output_type": "stream",
       "stream": "stdout",
       "text": [
        "\n",
        "delta_i: 4645721.75597\n",
        "r3: "
       ]
      },
      {
       "output_type": "stream",
       "stream": "stdout",
       "text": [
        "\n",
        "delta_i: 3716577.40477\n",
        "r3: "
       ]
      },
      {
       "output_type": "stream",
       "stream": "stdout",
       "text": [
        "\n",
        "delta_i: 2787433.05358\n",
        "r3: "
       ]
      },
      {
       "output_type": "stream",
       "stream": "stdout",
       "text": [
        "\n",
        "delta_i: 1858288.70239\n",
        "r3: "
       ]
      },
      {
       "output_type": "stream",
       "stream": "stdout",
       "text": [
        "\n",
        "delta_i: 929144.351193\n",
        "r3: \n",
        "delta_i: -3.72529029846e-09\n",
        "r3: \n",
        "delta_i: -929144.351193\n",
        "r3: \n",
        "delta_i: -1858288.70239\n",
        "r3: "
       ]
      },
      {
       "output_type": "stream",
       "stream": "stdout",
       "text": [
        "\n",
        "delta_i: -2787433.05358\n",
        "r3: "
       ]
      },
      {
       "output_type": "stream",
       "stream": "stdout",
       "text": [
        "\n",
        "delta_i: -3716577.40477\n",
        "r3: "
       ]
      },
      {
       "output_type": "stream",
       "stream": "stdout",
       "text": [
        "\n",
        "delta_i: -4645721.75597\n",
        "r3: "
       ]
      },
      {
       "output_type": "stream",
       "stream": "stdout",
       "text": [
        "\n",
        "delta_i: -5574866.10716\n",
        "r3: "
       ]
      },
      {
       "output_type": "stream",
       "stream": "stdout",
       "text": [
        "\n",
        "delta_i: -6504010.45835\n",
        "r3: "
       ]
      },
      {
       "output_type": "stream",
       "stream": "stdout",
       "text": [
        "\n",
        "delta_i: -7433154.80954\n",
        "r3: "
       ]
      },
      {
       "output_type": "stream",
       "stream": "stdout",
       "text": [
        "\n",
        "delta_i: -8362299.16074\n",
        "r3: "
       ]
      },
      {
       "output_type": "stream",
       "stream": "stdout",
       "text": [
        "\n",
        "inside model\n",
        "t_excitation: \n",
        "delta_list: 20\n",
        "delta_i: 7670415.97708\n",
        "r3: \n",
        "delta_i: 6903374.37937\n",
        "r3: "
       ]
      },
      {
       "output_type": "stream",
       "stream": "stdout",
       "text": [
        "\n",
        "delta_i: 6136332.78166\n",
        "r3: \n",
        "delta_i: 5369291.18396\n",
        "r3: \n",
        "delta_i: 4602249.58625\n",
        "r3: "
       ]
      },
      {
       "output_type": "stream",
       "stream": "stdout",
       "text": [
        "\n",
        "delta_i: 3835207.98854\n",
        "r3: \n",
        "delta_i: 3068166.39083\n",
        "r3: \n",
        "delta_i: 2301124.79312\n",
        "r3: \n",
        "delta_i: 1534083.19542\n",
        "r3: "
       ]
      },
      {
       "output_type": "stream",
       "stream": "stdout",
       "text": [
        "\n",
        "delta_i: 767041.597708\n",
        "r3: \n",
        "delta_i: 1.86264514923e-09\n",
        "r3: \n",
        "delta_i: -767041.597708\n",
        "r3: \n",
        "delta_i: -1534083.19542\n",
        "r3: \n",
        "delta_i: -2301124.79312\n",
        "r3: \n",
        "delta_i: -3068166.39083\n",
        "r3: \n",
        "delta_i: -3835207.98854\n",
        "r3: \n",
        "delta_i: -4602249.58625\n",
        "r3: "
       ]
      },
      {
       "output_type": "stream",
       "stream": "stdout",
       "text": [
        "\n",
        "delta_i: -5369291.18396\n",
        "r3: \n",
        "delta_i: -6136332.78166\n",
        "r3: \n",
        "delta_i: -6903374.37937\n",
        "r3: "
       ]
      },
      {
       "output_type": "stream",
       "stream": "stdout",
       "text": [
        "\n",
        "inside model\n",
        "t_excitation: \n",
        "delta_list: 20\n",
        "delta_i: 7670415.97708\n",
        "r3: \n",
        "delta_i: 6903374.37937\n",
        "r3: "
       ]
      },
      {
       "output_type": "stream",
       "stream": "stdout",
       "text": [
        "\n",
        "delta_i: 6136332.78166\n",
        "r3: \n",
        "delta_i: 5369291.18396\n",
        "r3: \n",
        "delta_i: 4602249.58625\n",
        "r3: "
       ]
      },
      {
       "output_type": "stream",
       "stream": "stdout",
       "text": [
        "\n",
        "delta_i: 3835207.98854\n",
        "r3: \n",
        "delta_i: 3068166.39083\n",
        "r3: \n",
        "delta_i: 2301124.79312\n",
        "r3: \n",
        "delta_i: 1534083.19542\n",
        "r3: \n",
        "delta_i: 767041.597708\n",
        "r3: \n",
        "delta_i: 1.86264514923e-09\n",
        "r3: \n",
        "delta_i: -767041.597708\n",
        "r3: \n",
        "delta_i: -1534083.19542\n",
        "r3: "
       ]
      },
      {
       "output_type": "stream",
       "stream": "stdout",
       "text": [
        "\n",
        "delta_i: -2301124.79312\n",
        "r3: \n",
        "delta_i: -3068166.39083\n",
        "r3: \n",
        "delta_i: -3835207.98854\n",
        "r3: \n",
        "delta_i: -4602249.58625\n",
        "r3: "
       ]
      },
      {
       "output_type": "stream",
       "stream": "stdout",
       "text": [
        "\n",
        "delta_i: -5369291.18396\n",
        "r3: \n",
        "delta_i: -6136332.78166\n",
        "r3: \n",
        "delta_i: -6903374.37937\n",
        "r3: "
       ]
      },
      {
       "output_type": "stream",
       "stream": "stdout",
       "text": [
        "\n",
        "inside model\n",
        "t_excitation: \n",
        "delta_list: 20\n",
        "delta_i: 7670415.97708\n",
        "r3: \n",
        "delta_i: 6903374.37937\n",
        "r3: "
       ]
      },
      {
       "output_type": "stream",
       "stream": "stdout",
       "text": [
        "\n",
        "delta_i: 6136332.78166\n",
        "r3: \n",
        "delta_i: 5369291.18396\n",
        "r3: "
       ]
      },
      {
       "output_type": "stream",
       "stream": "stdout",
       "text": [
        "\n",
        "delta_i: 4602249.58625\n",
        "r3: \n",
        "delta_i: 3835207.98854\n",
        "r3: \n",
        "delta_i: 3068166.39083\n",
        "r3: \n",
        "delta_i: 2301124.79312\n",
        "r3: "
       ]
      },
      {
       "output_type": "stream",
       "stream": "stdout",
       "text": [
        "\n",
        "delta_i: 1534083.19542\n",
        "r3: \n",
        "delta_i: 767041.597708\n",
        "r3: \n",
        "delta_i: 1.86264514923e-09\n",
        "r3: \n",
        "delta_i: -767041.597708\n",
        "r3: \n",
        "delta_i: -1534083.19542\n",
        "r3: \n",
        "delta_i: -2301124.79312\n",
        "r3: \n",
        "delta_i: -3068166.39083\n",
        "r3: "
       ]
      },
      {
       "output_type": "stream",
       "stream": "stdout",
       "text": [
        "\n",
        "delta_i: -3835207.98854\n",
        "r3: \n",
        "delta_i: -4602249.58625\n",
        "r3: \n",
        "delta_i: -5369291.18396\n",
        "r3: "
       ]
      },
      {
       "output_type": "stream",
       "stream": "stdout",
       "text": [
        "\n",
        "delta_i: -6136332.78166\n",
        "r3: \n",
        "delta_i: -6903374.37937\n",
        "r3: \n",
        "inside model\n",
        "t_excitation: \n",
        "delta_list: 20\n",
        "delta_i: 7670415.97708\n",
        "r3: "
       ]
      },
      {
       "output_type": "stream",
       "stream": "stdout",
       "text": [
        "\n",
        "delta_i: 6903374.37937\n",
        "r3: \n",
        "delta_i: 6136332.78166\n",
        "r3: \n",
        "delta_i: 5369291.18396\n",
        "r3: "
       ]
      },
      {
       "output_type": "stream",
       "stream": "stdout",
       "text": [
        "\n",
        "delta_i: 4602249.58625\n",
        "r3: \n",
        "delta_i: 3835207.98854\n",
        "r3: \n",
        "delta_i: 3068166.39083\n",
        "r3: \n",
        "delta_i: 2301124.79312\n",
        "r3: "
       ]
      },
      {
       "output_type": "stream",
       "stream": "stdout",
       "text": [
        "\n",
        "delta_i: 1534083.19542\n",
        "r3: \n",
        "delta_i: 767041.597708\n",
        "r3: \n",
        "delta_i: 1.86264514923e-09\n",
        "r3: \n",
        "delta_i: -767041.597708\n",
        "r3: \n",
        "delta_i: -1534083.19542\n",
        "r3: \n",
        "delta_i: -2301124.79312\n",
        "r3: \n",
        "delta_i: -3068166.39083\n",
        "r3: \n",
        "delta_i: -3835207.98854\n",
        "r3: "
       ]
      },
      {
       "output_type": "stream",
       "stream": "stdout",
       "text": [
        "\n",
        "delta_i: -4602249.58625\n",
        "r3: \n",
        "delta_i: -5369291.18396\n",
        "r3: \n",
        "delta_i: -6136332.78166\n",
        "r3: "
       ]
      },
      {
       "output_type": "stream",
       "stream": "stdout",
       "text": [
        "\n",
        "delta_i: -6903374.37937\n",
        "r3: \n",
        "inside model\n",
        "t_excitation: \n",
        "delta_list: 20\n",
        "delta_i: 7670415.86278\n",
        "r3: "
       ]
      },
      {
       "output_type": "stream",
       "stream": "stdout",
       "text": [
        "\n",
        "delta_i: 6903374.2765\n",
        "r3: \n",
        "delta_i: 6136332.69022\n",
        "r3: \n",
        "delta_i: 5369291.10395\n",
        "r3: "
       ]
      },
      {
       "output_type": "stream",
       "stream": "stdout",
       "text": [
        "\n",
        "delta_i: 4602249.51767\n",
        "r3: \n",
        "delta_i: 3835207.93139\n",
        "r3: \n",
        "delta_i: 3068166.34511\n",
        "r3: \n",
        "delta_i: 2301124.75883\n",
        "r3: "
       ]
      },
      {
       "output_type": "stream",
       "stream": "stdout",
       "text": [
        "\n",
        "delta_i: 1534083.17256\n",
        "r3: \n",
        "delta_i: 767041.586278\n",
        "r3: \n",
        "delta_i: -3.72529029846e-09\n",
        "r3: \n",
        "delta_i: -767041.586278\n",
        "r3: \n",
        "delta_i: -1534083.17256\n",
        "r3: \n",
        "delta_i: -2301124.75883\n",
        "r3: \n",
        "delta_i: -3068166.34511\n",
        "r3: \n",
        "delta_i: -3835207.93139\n",
        "r3: "
       ]
      },
      {
       "output_type": "stream",
       "stream": "stdout",
       "text": [
        "\n",
        "delta_i: -4602249.51767\n",
        "r3: \n",
        "delta_i: -5369291.10395\n",
        "r3: \n",
        "delta_i: -6136332.69022\n",
        "r3: "
       ]
      },
      {
       "output_type": "stream",
       "stream": "stdout",
       "text": [
        "\n",
        "delta_i: -6903374.2765\n",
        "r3: \n",
        "inside model\n",
        "t_excitation: \n",
        "delta_list: 20\n",
        "delta_i: 7670415.97708\n",
        "r3: "
       ]
      },
      {
       "output_type": "stream",
       "stream": "stdout",
       "text": [
        "\n",
        "delta_i: 6903374.37937\n",
        "r3: \n",
        "delta_i: 6136332.78166\n",
        "r3: "
       ]
      },
      {
       "output_type": "stream",
       "stream": "stdout",
       "text": [
        "\n",
        "delta_i: 5369291.18396\n",
        "r3: \n",
        "delta_i: 4602249.58625\n",
        "r3: \n",
        "delta_i: 3835207.98854\n",
        "r3: "
       ]
      },
      {
       "output_type": "stream",
       "stream": "stdout",
       "text": [
        "\n",
        "delta_i: 3068166.39083\n",
        "r3: \n",
        "delta_i: 2301124.79312\n",
        "r3: \n",
        "delta_i: 1534083.19542\n",
        "r3: \n",
        "delta_i: 767041.597708\n",
        "r3: \n",
        "delta_i: 1.86264514923e-09\n",
        "r3: \n",
        "delta_i: -767041.597708\n",
        "r3: \n",
        "delta_i: -1534083.19542\n",
        "r3: \n",
        "delta_i: -2301124.79312\n",
        "r3: "
       ]
      },
      {
       "output_type": "stream",
       "stream": "stdout",
       "text": [
        "\n",
        "delta_i: -3068166.39083\n",
        "r3: \n",
        "delta_i: -3835207.98854\n",
        "r3: \n",
        "delta_i: -4602249.58625\n",
        "r3: \n",
        "delta_i: -5369291.18396\n",
        "r3: "
       ]
      },
      {
       "output_type": "stream",
       "stream": "stdout",
       "text": [
        "\n",
        "delta_i: -6136332.78166\n",
        "r3: \n",
        "delta_i: -6903374.37937\n",
        "r3: "
       ]
      },
      {
       "output_type": "stream",
       "stream": "stdout",
       "text": [
        "\n",
        "inside model\n",
        "t_excitation: \n",
        "delta_list: 20\n",
        "delta_i: 3830059.56135\n",
        "r3: \n",
        "delta_i: 3447053.60522\n",
        "r3: \n",
        "delta_i: 3064047.64908\n",
        "r3: "
       ]
      },
      {
       "output_type": "stream",
       "stream": "stdout",
       "text": [
        "\n",
        "delta_i: 2681041.69295\n",
        "r3: \n",
        "delta_i: 2298035.73681\n",
        "r3: \n",
        "delta_i: 1915029.78068\n",
        "r3: "
       ]
      },
      {
       "output_type": "stream",
       "stream": "stdout",
       "text": [
        "\n",
        "delta_i: 1532023.82454\n",
        "r3: \n",
        "delta_i: 1149017.86841\n",
        "r3: \n",
        "delta_i: 766011.912271\n",
        "r3: \n",
        "delta_i: 383005.956135\n",
        "r3: \n",
        "delta_i: -1.39698386192e-09\n",
        "r3: \n",
        "delta_i: -383005.956135\n",
        "r3: \n",
        "delta_i: -766011.912271\n",
        "r3: \n",
        "delta_i: -1149017.86841\n",
        "r3: "
       ]
      },
      {
       "output_type": "stream",
       "stream": "stdout",
       "text": [
        "\n",
        "delta_i: -1532023.82454\n",
        "r3: \n",
        "delta_i: -1915029.78068\n",
        "r3: \n",
        "delta_i: -2298035.73681\n",
        "r3: "
       ]
      },
      {
       "output_type": "stream",
       "stream": "stdout",
       "text": [
        "\n",
        "delta_i: -2681041.69295\n",
        "r3: \n",
        "delta_i: -3064047.64908\n",
        "r3: "
       ]
      },
      {
       "output_type": "stream",
       "stream": "stdout",
       "text": [
        "\n",
        "delta_i: -3447053.60522\n",
        "r3: \n",
        "inside model\n",
        "t_excitation: \n",
        "delta_list: 20\n",
        "delta_i: 3830059.56135\n",
        "r3: "
       ]
      },
      {
       "output_type": "stream",
       "stream": "stdout",
       "text": [
        "\n",
        "delta_i: 3447053.60522\n",
        "r3: \n",
        "delta_i: 3064047.64908\n",
        "r3: "
       ]
      },
      {
       "output_type": "stream",
       "stream": "stdout",
       "text": [
        "\n",
        "delta_i: 2681041.69295\n",
        "r3: \n",
        "delta_i: 2298035.73681\n",
        "r3: \n",
        "delta_i: 1915029.78068\n",
        "r3: \n",
        "delta_i: 1532023.82454\n",
        "r3: "
       ]
      },
      {
       "output_type": "stream",
       "stream": "stdout",
       "text": [
        "\n",
        "delta_i: 1149017.86841\n",
        "r3: \n",
        "delta_i: 766011.912271\n",
        "r3: \n",
        "delta_i: 383005.956135\n",
        "r3: \n",
        "delta_i: -1.39698386192e-09\n",
        "r3: \n",
        "delta_i: -383005.956135\n",
        "r3: \n",
        "delta_i: -766011.912271\n",
        "r3: \n",
        "delta_i: -1149017.86841\n",
        "r3: \n",
        "delta_i: -1532023.82454\n",
        "r3: \n",
        "delta_i: -1915029.78068\n",
        "r3: "
       ]
      },
      {
       "output_type": "stream",
       "stream": "stdout",
       "text": [
        "\n",
        "delta_i: -2298035.73681\n",
        "r3: \n",
        "delta_i: -2681041.69295\n",
        "r3: \n",
        "delta_i: -3064047.64908\n",
        "r3: \n",
        "delta_i: -3447053.60522\n",
        "r3: "
       ]
      },
      {
       "output_type": "stream",
       "stream": "stdout",
       "text": [
        "\n",
        "inside model\n",
        "t_excitation: \n",
        "delta_list: 20\n",
        "delta_i: 3830059.56135\n",
        "r3: \n",
        "delta_i: 3447053.60522\n",
        "r3: \n",
        "delta_i: 3064047.64908\n",
        "r3: "
       ]
      },
      {
       "output_type": "stream",
       "stream": "stdout",
       "text": [
        "\n",
        "delta_i: 2681041.69295\n",
        "r3: \n",
        "delta_i: 2298035.73681\n",
        "r3: \n",
        "delta_i: 1915029.78068\n",
        "r3: \n",
        "delta_i: 1532023.82454\n",
        "r3: \n",
        "delta_i: 1149017.86841"
       ]
      },
      {
       "output_type": "stream",
       "stream": "stdout",
       "text": [
        "\n",
        "r3: \n",
        "delta_i: 766011.912271\n",
        "r3: \n",
        "delta_i: 383005.956135\n",
        "r3: \n",
        "delta_i: -1.39698386192e-09\n",
        "r3: \n",
        "delta_i: -383005.956135\n",
        "r3: \n",
        "delta_i: -766011.912271\n",
        "r3: \n",
        "delta_i: -1149017.86841\n",
        "r3: \n",
        "delta_i: -1532023.82454\n",
        "r3: \n",
        "delta_i: -1915029.78068\n",
        "r3: "
       ]
      },
      {
       "output_type": "stream",
       "stream": "stdout",
       "text": [
        "\n",
        "delta_i: -2298035.73681\n",
        "r3: \n",
        "delta_i: -2681041.69295\n",
        "r3: \n",
        "delta_i: -3064047.64908\n",
        "r3: "
       ]
      },
      {
       "output_type": "stream",
       "stream": "stdout",
       "text": [
        "\n",
        "delta_i: -3447053.60522\n",
        "r3: \n",
        "inside model\n",
        "t_excitation: \n",
        "delta_list: 20\n",
        "delta_i: 3830059.56135\n",
        "r3: \n",
        "delta_i: 3447053.60522\n",
        "r3: "
       ]
      },
      {
       "output_type": "stream",
       "stream": "stdout",
       "text": [
        "\n",
        "delta_i: 3064047.64908\n",
        "r3: \n",
        "delta_i: 2681041.69295\n",
        "r3: \n",
        "delta_i: 2298035.73681\n",
        "r3: "
       ]
      },
      {
       "output_type": "stream",
       "stream": "stdout",
       "text": [
        "\n",
        "delta_i: 1915029.78068\n",
        "r3: \n",
        "delta_i: 1532023.82454\n",
        "r3: \n",
        "delta_i: 1149017.86841\n",
        "r3: \n",
        "delta_i: 766011.912271\n",
        "r3: \n",
        "delta_i: 383005.956135\n",
        "r3: \n",
        "delta_i: -1.39698386192e-09\n",
        "r3: \n",
        "delta_i: -383005.956135\n",
        "r3: \n",
        "delta_i: -766011.912271\n",
        "r3: \n",
        "delta_i: -1149017.86841\n",
        "r3: "
       ]
      },
      {
       "output_type": "stream",
       "stream": "stdout",
       "text": [
        "\n",
        "delta_i: -1532023.82454\n",
        "r3: \n",
        "delta_i: -1915029.78068\n",
        "r3: \n",
        "delta_i: -2298035.73681\n",
        "r3: \n",
        "delta_i: -2681041.69295\n",
        "r3: "
       ]
      },
      {
       "output_type": "stream",
       "stream": "stdout",
       "text": [
        "\n",
        "delta_i: -3064047.64908\n",
        "r3: \n",
        "delta_i: -3447053.60522\n",
        "r3: \n",
        "inside model\n",
        "t_excitation: \n",
        "delta_list: 20\n",
        "delta_i: 3830059.50428\n",
        "r3: "
       ]
      },
      {
       "output_type": "stream",
       "stream": "stdout",
       "text": [
        "\n",
        "delta_i: 3447053.55385\n",
        "r3: \n",
        "delta_i: 3064047.60343\n",
        "r3: \n",
        "delta_i: 2681041.653\n",
        "r3: "
       ]
      },
      {
       "output_type": "stream",
       "stream": "stdout",
       "text": [
        "\n",
        "delta_i: 2298035.70257\n",
        "r3: \n",
        "delta_i: 1915029.75214\n",
        "r3: \n",
        "delta_i: 1532023.80171\n",
        "r3: \n",
        "delta_i: 1149017.85128\n",
        "r3: \n",
        "delta_i: 766011.900856\n",
        "r3: \n",
        "delta_i: 383005.950428\n",
        "r3: "
       ]
      },
      {
       "output_type": "stream",
       "stream": "stdout",
       "text": [
        "\n",
        "delta_i: 4.65661287308e-10\n",
        "r3: \n",
        "delta_i: -383005.950428\n",
        "r3: \n",
        "delta_i: -766011.900856\n",
        "r3: \n",
        "delta_i: -1149017.85128\n",
        "r3: \n",
        "delta_i: -1532023.80171\n",
        "r3: \n",
        "delta_i: -1915029.75214\n",
        "r3: \n",
        "delta_i: -2298035.70257\n",
        "r3: "
       ]
      },
      {
       "output_type": "stream",
       "stream": "stdout",
       "text": [
        "\n",
        "delta_i: -2681041.653\n",
        "r3: \n",
        "delta_i: -3064047.60343\n",
        "r3: \n",
        "delta_i: -3447053.55385\n",
        "r3: "
       ]
      },
      {
       "output_type": "stream",
       "stream": "stdout",
       "text": [
        "\n",
        "inside model\n",
        "t_excitation: \n",
        "delta_list: 20\n",
        "delta_i: 3830059.56135\n",
        "r3: \n",
        "delta_i: 3447053.60522\n",
        "r3: \n",
        "delta_i: 3064047.64908\n",
        "r3: "
       ]
      },
      {
       "output_type": "stream",
       "stream": "stdout",
       "text": [
        "\n",
        "delta_i: 2681041.69295\n",
        "r3: \n",
        "delta_i: 2298035.73681\n",
        "r3: \n",
        "delta_i: 1915029.78068\n",
        "r3: \n",
        "delta_i: 1532023.82454\n",
        "r3: "
       ]
      },
      {
       "output_type": "stream",
       "stream": "stdout",
       "text": [
        "\n",
        "delta_i: 1149017.86841\n",
        "r3: \n",
        "delta_i: 766011.912271\n",
        "r3: \n",
        "delta_i: 383005.956135\n",
        "r3: \n",
        "delta_i: -1.39698386192e-09\n",
        "r3: \n",
        "delta_i: -383005.956135\n",
        "r3: \n",
        "delta_i: -766011.912271\n",
        "r3: \n",
        "delta_i: -1149017.86841\n",
        "r3: \n",
        "delta_i: -1532023.82454\n",
        "r3: "
       ]
      },
      {
       "output_type": "stream",
       "stream": "stdout",
       "text": [
        "\n",
        "delta_i: -1915029.78068\n",
        "r3: \n",
        "delta_i: -2298035.73681\n",
        "r3: \n",
        "delta_i: -2681041.69295\n",
        "r3: \n",
        "delta_i: -3064047.64908\n",
        "r3: "
       ]
      },
      {
       "output_type": "stream",
       "stream": "stdout",
       "text": [
        "\n",
        "delta_i: -3447053.60522\n",
        "r3: \n",
        "inside model\n",
        "t_excitation: \n",
        "delta_list: 20\n",
        "delta_i: 37711649.1358\n",
        "r3: "
       ]
      },
      {
       "output_type": "stream",
       "stream": "stdout",
       "text": [
        "\n",
        "delta_i: 33940484.2222\n",
        "r3: "
       ]
      },
      {
       "output_type": "stream",
       "stream": "stdout",
       "text": [
        "\n",
        "delta_i: 30169319.3086\n",
        "r3: "
       ]
      },
      {
       "output_type": "stream",
       "stream": "stdout",
       "text": [
        "\n",
        "delta_i: 26398154.395\n",
        "r3: "
       ]
      },
      {
       "output_type": "stream",
       "stream": "stdout",
       "text": [
        "\n",
        "delta_i: 22626989.4815\n",
        "r3: "
       ]
      },
      {
       "output_type": "stream",
       "stream": "stdout",
       "text": [
        "\n",
        "delta_i: 18855824.5679\n",
        "r3: "
       ]
      },
      {
       "output_type": "stream",
       "stream": "stdout",
       "text": [
        "\n",
        "delta_i: 15084659.6543\n",
        "r3: "
       ]
      },
      {
       "output_type": "stream",
       "stream": "stdout",
       "text": [
        "\n",
        "delta_i: 11313494.7407\n",
        "r3: "
       ]
      },
      {
       "output_type": "stream",
       "stream": "stdout",
       "text": [
        "\n",
        "delta_i: 7542329.82715\n",
        "r3: \n",
        "delta_i: 3771164.91358\n",
        "r3: "
       ]
      },
      {
       "output_type": "stream",
       "stream": "stdout",
       "text": [
        "\n",
        "delta_i: -2.23517417908e-08\n",
        "r3: \n",
        "delta_i: -3771164.91358\n",
        "r3: \n",
        "delta_i: -7542329.82715\n",
        "r3: "
       ]
      },
      {
       "output_type": "stream",
       "stream": "stdout",
       "text": [
        "\n",
        "delta_i: -11313494.7407\n",
        "r3: "
       ]
      },
      {
       "output_type": "stream",
       "stream": "stdout",
       "text": [
        "\n",
        "delta_i: -15084659.6543\n",
        "r3: "
       ]
      },
      {
       "output_type": "stream",
       "stream": "stdout",
       "text": [
        "\n",
        "delta_i: -18855824.5679\n",
        "r3: "
       ]
      },
      {
       "output_type": "stream",
       "stream": "stdout",
       "text": [
        "\n",
        "delta_i: -22626989.4815\n",
        "r3: "
       ]
      },
      {
       "output_type": "stream",
       "stream": "stdout",
       "text": [
        "\n",
        "delta_i: -26398154.395\n",
        "r3: "
       ]
      },
      {
       "output_type": "stream",
       "stream": "stdout",
       "text": [
        "\n",
        "delta_i: -30169319.3086\n",
        "r3: "
       ]
      },
      {
       "output_type": "stream",
       "stream": "stdout",
       "text": [
        "\n",
        "delta_i: -33940484.2222\n",
        "r3: "
       ]
      },
      {
       "output_type": "stream",
       "stream": "stdout",
       "text": [
        "\n",
        "inside model\n",
        "t_excitation: \n",
        "delta_list: 20\n",
        "delta_i: 20768343.0957\n",
        "r3: "
       ]
      },
      {
       "output_type": "stream",
       "stream": "stdout",
       "text": [
        "\n",
        "delta_i: 18691508.7861\n",
        "r3: "
       ]
      },
      {
       "output_type": "stream",
       "stream": "stdout",
       "text": [
        "\n",
        "delta_i: 16614674.4766\n",
        "r3: "
       ]
      },
      {
       "output_type": "stream",
       "stream": "stdout",
       "text": [
        "\n",
        "delta_i: 14537840.167\n",
        "r3: "
       ]
      },
      {
       "output_type": "stream",
       "stream": "stdout",
       "text": [
        "\n",
        "delta_i: 12461005.8574\n",
        "r3: "
       ]
      },
      {
       "output_type": "stream",
       "stream": "stdout",
       "text": [
        "\n",
        "delta_i: 10384171.5478\n",
        "r3: "
       ]
      },
      {
       "output_type": "stream",
       "stream": "stdout",
       "text": [
        "\n",
        "delta_i: 8307337.23828\n",
        "r3: \n",
        "delta_i: 6230502.92871\n",
        "r3: "
       ]
      },
      {
       "output_type": "stream",
       "stream": "stdout",
       "text": [
        "\n",
        "delta_i: 4153668.61914\n",
        "r3: \n",
        "delta_i: 2076834.30957\n",
        "r3: \n",
        "delta_i: -1.11758708954e-08\n",
        "r3: \n",
        "delta_i: -2076834.30957\n",
        "r3: "
       ]
      },
      {
       "output_type": "stream",
       "stream": "stdout",
       "text": [
        "\n",
        "delta_i: -4153668.61914\n",
        "r3: \n",
        "delta_i: -6230502.92871\n",
        "r3: "
       ]
      },
      {
       "output_type": "stream",
       "stream": "stdout",
       "text": [
        "\n",
        "delta_i: -8307337.23828\n",
        "r3: "
       ]
      },
      {
       "output_type": "stream",
       "stream": "stdout",
       "text": [
        "\n",
        "delta_i: -10384171.5478\n",
        "r3: "
       ]
      },
      {
       "output_type": "stream",
       "stream": "stdout",
       "text": [
        "\n",
        "delta_i: -12461005.8574\n",
        "r3: "
       ]
      },
      {
       "output_type": "stream",
       "stream": "stdout",
       "text": [
        "\n",
        "delta_i: -14537840.167\n",
        "r3: "
       ]
      },
      {
       "output_type": "stream",
       "stream": "stdout",
       "text": [
        "\n",
        "delta_i: -16614674.4766\n",
        "r3: "
       ]
      },
      {
       "output_type": "stream",
       "stream": "stdout",
       "text": [
        "\n",
        "delta_i: -18691508.7861\n",
        "r3: "
       ]
      },
      {
       "output_type": "stream",
       "stream": "stdout",
       "text": [
        "\n",
        "inside model\n",
        "t_excitation: \n",
        "delta_list: 20\n",
        "delta_i: 20768343.0957\n",
        "r3: "
       ]
      },
      {
       "output_type": "stream",
       "stream": "stdout",
       "text": [
        "\n",
        "delta_i: 18691508.7861\n",
        "r3: "
       ]
      },
      {
       "output_type": "stream",
       "stream": "stdout",
       "text": [
        "\n",
        "delta_i: 16614674.4766\n",
        "r3: "
       ]
      },
      {
       "output_type": "stream",
       "stream": "stdout",
       "text": [
        "\n",
        "delta_i: 14537840.167\n",
        "r3: "
       ]
      },
      {
       "output_type": "stream",
       "stream": "stdout",
       "text": [
        "\n",
        "delta_i: 12461005.8574\n",
        "r3: "
       ]
      },
      {
       "output_type": "stream",
       "stream": "stdout",
       "text": [
        "\n",
        "delta_i: 10384171.5478\n",
        "r3: "
       ]
      },
      {
       "output_type": "stream",
       "stream": "stdout",
       "text": [
        "\n",
        "delta_i: 8307337.23828\n",
        "r3: \n",
        "delta_i: 6230502.92871\n",
        "r3: "
       ]
      },
      {
       "output_type": "stream",
       "stream": "stdout",
       "text": [
        "\n",
        "delta_i: 4153668.61914\n",
        "r3: \n",
        "delta_i: 2076834.30957\n",
        "r3: \n",
        "delta_i: -1.11758708954e-08\n",
        "r3: \n",
        "delta_i: -2076834.30957\n",
        "r3: "
       ]
      },
      {
       "output_type": "stream",
       "stream": "stdout",
       "text": [
        "\n",
        "delta_i: -4153668.61914\n",
        "r3: \n",
        "delta_i: -6230502.92871\n",
        "r3: "
       ]
      },
      {
       "output_type": "stream",
       "stream": "stdout",
       "text": [
        "\n",
        "delta_i: -8307337.23828\n",
        "r3: \n",
        "delta_i: -10384171.5478\n",
        "r3: "
       ]
      },
      {
       "output_type": "stream",
       "stream": "stdout",
       "text": [
        "\n",
        "delta_i: -12461005.8574\n",
        "r3: "
       ]
      },
      {
       "output_type": "stream",
       "stream": "stdout",
       "text": [
        "\n",
        "delta_i: -14537840.167\n",
        "r3: "
       ]
      },
      {
       "output_type": "stream",
       "stream": "stdout",
       "text": [
        "\n",
        "delta_i: -16614674.4766\n",
        "r3: "
       ]
      },
      {
       "output_type": "stream",
       "stream": "stdout",
       "text": [
        "\n",
        "delta_i: -18691508.7861\n",
        "r3: "
       ]
      },
      {
       "output_type": "stream",
       "stream": "stdout",
       "text": [
        "\n",
        "inside model\n",
        "t_excitation: \n",
        "delta_list: 20\n",
        "delta_i: 20768343.0957\n",
        "r3: "
       ]
      },
      {
       "output_type": "stream",
       "stream": "stdout",
       "text": [
        "\n",
        "delta_i: 18691508.7861\n",
        "r3: "
       ]
      },
      {
       "output_type": "stream",
       "stream": "stdout",
       "text": [
        "\n",
        "delta_i: 16614674.4766\n",
        "r3: "
       ]
      },
      {
       "output_type": "stream",
       "stream": "stdout",
       "text": [
        "\n",
        "delta_i: 14537840.167\n",
        "r3: "
       ]
      },
      {
       "output_type": "stream",
       "stream": "stdout",
       "text": [
        "\n",
        "delta_i: 12461005.8574\n",
        "r3: "
       ]
      },
      {
       "output_type": "stream",
       "stream": "stdout",
       "text": [
        "\n",
        "delta_i: 10384171.5478\n",
        "r3: "
       ]
      },
      {
       "output_type": "stream",
       "stream": "stdout",
       "text": [
        "\n",
        "delta_i: 8307337.23828\n",
        "r3: \n",
        "delta_i: 6230502.92871\n",
        "r3: "
       ]
      },
      {
       "output_type": "stream",
       "stream": "stdout",
       "text": [
        "\n",
        "delta_i: 4153668.61914\n",
        "r3: \n",
        "delta_i: 2076834.30957\n",
        "r3: \n",
        "delta_i: -1.11758708954e-08\n",
        "r3: \n",
        "delta_i: -2076834.30957\n",
        "r3: "
       ]
      },
      {
       "output_type": "stream",
       "stream": "stdout",
       "text": [
        "\n",
        "delta_i: -4153668.61914\n",
        "r3: \n",
        "delta_i: -6230502.92871\n",
        "r3: "
       ]
      },
      {
       "output_type": "stream",
       "stream": "stdout",
       "text": [
        "\n",
        "delta_i: -8307337.23828\n",
        "r3: \n",
        "delta_i: -10384171.5478\n",
        "r3: "
       ]
      },
      {
       "output_type": "stream",
       "stream": "stdout",
       "text": [
        "\n",
        "delta_i: -12461005.8574\n",
        "r3: "
       ]
      },
      {
       "output_type": "stream",
       "stream": "stdout",
       "text": [
        "\n",
        "delta_i: -14537840.167\n",
        "r3: "
       ]
      },
      {
       "output_type": "stream",
       "stream": "stdout",
       "text": [
        "\n",
        "delta_i: -16614674.4766\n",
        "r3: "
       ]
      },
      {
       "output_type": "stream",
       "stream": "stdout",
       "text": [
        "\n",
        "delta_i: -18691508.7861\n",
        "r3: "
       ]
      },
      {
       "output_type": "stream",
       "stream": "stdout",
       "text": [
        "\n",
        "inside model\n",
        "t_excitation: \n",
        "delta_list: 20\n",
        "delta_i: 20768343.0957\n",
        "r3: "
       ]
      },
      {
       "output_type": "stream",
       "stream": "stdout",
       "text": [
        "\n",
        "delta_i: 18691508.7861\n",
        "r3: "
       ]
      },
      {
       "output_type": "stream",
       "stream": "stdout",
       "text": [
        "\n",
        "delta_i: 16614674.4766\n",
        "r3: "
       ]
      },
      {
       "output_type": "stream",
       "stream": "stdout",
       "text": [
        "\n",
        "delta_i: 14537840.167\n",
        "r3: "
       ]
      },
      {
       "output_type": "stream",
       "stream": "stdout",
       "text": [
        "\n",
        "delta_i: 12461005.8574\n",
        "r3: "
       ]
      },
      {
       "output_type": "stream",
       "stream": "stdout",
       "text": [
        "\n",
        "delta_i: 10384171.5478\n",
        "r3: "
       ]
      },
      {
       "output_type": "stream",
       "stream": "stdout",
       "text": [
        "\n",
        "delta_i: 8307337.23828\n",
        "r3: \n",
        "delta_i: 6230502.92871\n",
        "r3: "
       ]
      },
      {
       "output_type": "stream",
       "stream": "stdout",
       "text": [
        "\n",
        "delta_i: 4153668.61914\n",
        "r3: \n",
        "delta_i: 2076834.30957\n",
        "r3: \n",
        "delta_i: -1.11758708954e-08\n",
        "r3: \n",
        "delta_i: -2076834.30957\n",
        "r3: "
       ]
      },
      {
       "output_type": "stream",
       "stream": "stdout",
       "text": [
        "\n",
        "delta_i: -4153668.61914\n",
        "r3: \n",
        "delta_i: -6230502.92871\n",
        "r3: "
       ]
      },
      {
       "output_type": "stream",
       "stream": "stdout",
       "text": [
        "\n",
        "delta_i: -8307337.23828\n",
        "r3: "
       ]
      },
      {
       "output_type": "stream",
       "stream": "stdout",
       "text": [
        "\n",
        "delta_i: -10384171.5478\n",
        "r3: "
       ]
      },
      {
       "output_type": "stream",
       "stream": "stdout",
       "text": [
        "\n",
        "delta_i: -12461005.8574\n",
        "r3: "
       ]
      },
      {
       "output_type": "stream",
       "stream": "stdout",
       "text": [
        "\n",
        "delta_i: -14537840.167\n",
        "r3: "
       ]
      },
      {
       "output_type": "stream",
       "stream": "stdout",
       "text": [
        "\n",
        "delta_i: -16614674.4766\n",
        "r3: "
       ]
      },
      {
       "output_type": "stream",
       "stream": "stdout",
       "text": [
        "\n",
        "delta_i: -18691508.7861\n",
        "r3: "
       ]
      },
      {
       "output_type": "stream",
       "stream": "stdout",
       "text": [
        "\n",
        "inside model\n",
        "t_excitation: \n",
        "delta_list: 20\n",
        "delta_i: 20768342.7862\n",
        "r3: "
       ]
      },
      {
       "output_type": "stream",
       "stream": "stdout",
       "text": [
        "\n",
        "delta_i: 18691508.5076\n",
        "r3: "
       ]
      },
      {
       "output_type": "stream",
       "stream": "stdout",
       "text": [
        "\n",
        "delta_i: 16614674.229\n",
        "r3: "
       ]
      },
      {
       "output_type": "stream",
       "stream": "stdout",
       "text": [
        "\n",
        "delta_i: 14537839.9504\n",
        "r3: "
       ]
      },
      {
       "output_type": "stream",
       "stream": "stdout",
       "text": [
        "\n",
        "delta_i: 12461005.6717\n",
        "r3: "
       ]
      },
      {
       "output_type": "stream",
       "stream": "stdout",
       "text": [
        "\n",
        "delta_i: 10384171.3931\n",
        "r3: "
       ]
      },
      {
       "output_type": "stream",
       "stream": "stdout",
       "text": [
        "\n",
        "delta_i: 8307337.11449\n",
        "r3: "
       ]
      },
      {
       "output_type": "stream",
       "stream": "stdout",
       "text": [
        "\n",
        "delta_i: 6230502.83587\n",
        "r3: \n",
        "delta_i: 4153668.55724\n",
        "r3: "
       ]
      },
      {
       "output_type": "stream",
       "stream": "stdout",
       "text": [
        "\n",
        "delta_i: 2076834.27862\n",
        "r3: \n",
        "delta_i: 1.49011611938e-08\n",
        "r3: \n",
        "delta_i: -2076834.27862\n",
        "r3: \n",
        "delta_i: -4153668.55724\n",
        "r3: "
       ]
      },
      {
       "output_type": "stream",
       "stream": "stdout",
       "text": [
        "\n",
        "delta_i: -6230502.83587\n",
        "r3: "
       ]
      },
      {
       "output_type": "stream",
       "stream": "stdout",
       "text": [
        "\n",
        "delta_i: -8307337.11449\n",
        "r3: "
       ]
      },
      {
       "output_type": "stream",
       "stream": "stdout",
       "text": [
        "\n",
        "delta_i: -10384171.3931\n",
        "r3: "
       ]
      },
      {
       "output_type": "stream",
       "stream": "stdout",
       "text": [
        "\n",
        "delta_i: -12461005.6717\n",
        "r3: "
       ]
      },
      {
       "output_type": "stream",
       "stream": "stdout",
       "text": [
        "\n",
        "delta_i: -14537839.9504\n",
        "r3: "
       ]
      },
      {
       "output_type": "stream",
       "stream": "stdout",
       "text": [
        "\n",
        "delta_i: -16614674.229\n",
        "r3: "
       ]
      },
      {
       "output_type": "stream",
       "stream": "stdout",
       "text": [
        "\n",
        "delta_i: -18691508.5076\n",
        "r3: "
       ]
      },
      {
       "output_type": "stream",
       "stream": "stdout",
       "text": [
        "\n",
        "inside model\n",
        "t_excitation: \n",
        "delta_list: 20\n",
        "delta_i: 20768343.0957\n",
        "r3: "
       ]
      },
      {
       "output_type": "stream",
       "stream": "stdout",
       "text": [
        "\n",
        "delta_i: 18691508.7861\n",
        "r3: "
       ]
      },
      {
       "output_type": "stream",
       "stream": "stdout",
       "text": [
        "\n",
        "delta_i: 16614674.4766\n",
        "r3: "
       ]
      },
      {
       "output_type": "stream",
       "stream": "stdout",
       "text": [
        "\n",
        "delta_i: 14537840.167\n",
        "r3: "
       ]
      },
      {
       "output_type": "stream",
       "stream": "stdout",
       "text": [
        "\n",
        "delta_i: 12461005.8574\n",
        "r3: "
       ]
      },
      {
       "output_type": "stream",
       "stream": "stdout",
       "text": [
        "\n",
        "delta_i: 10384171.5478\n",
        "r3: "
       ]
      },
      {
       "output_type": "stream",
       "stream": "stdout",
       "text": [
        "\n",
        "delta_i: 8307337.23828\n",
        "r3: \n",
        "delta_i: 6230502.92871\n",
        "r3: "
       ]
      },
      {
       "output_type": "stream",
       "stream": "stdout",
       "text": [
        "\n",
        "delta_i: 4153668.61914\n",
        "r3: \n",
        "delta_i: 2076834.30957\n",
        "r3: \n",
        "delta_i: -1.11758708954e-08\n",
        "r3: \n",
        "delta_i: -2076834.30957\n",
        "r3: "
       ]
      },
      {
       "output_type": "stream",
       "stream": "stdout",
       "text": [
        "\n",
        "delta_i: -4153668.61914\n",
        "r3: \n",
        "delta_i: -6230502.92871\n",
        "r3: "
       ]
      },
      {
       "output_type": "stream",
       "stream": "stdout",
       "text": [
        "\n",
        "delta_i: -8307337.23828\n",
        "r3: "
       ]
      },
      {
       "output_type": "stream",
       "stream": "stdout",
       "text": [
        "\n",
        "delta_i: -10384171.5478\n",
        "r3: "
       ]
      },
      {
       "output_type": "stream",
       "stream": "stdout",
       "text": [
        "\n",
        "delta_i: -12461005.8574\n",
        "r3: "
       ]
      },
      {
       "output_type": "stream",
       "stream": "stdout",
       "text": [
        "\n",
        "delta_i: -14537840.167\n",
        "r3: "
       ]
      },
      {
       "output_type": "stream",
       "stream": "stdout",
       "text": [
        "\n",
        "delta_i: -16614674.4766\n",
        "r3: "
       ]
      },
      {
       "output_type": "stream",
       "stream": "stdout",
       "text": [
        "\n",
        "delta_i: -18691508.7861\n",
        "r3: "
       ]
      },
      {
       "output_type": "stream",
       "stream": "stdout",
       "text": [
        "\n",
        "inside model\n",
        "t_excitation: \n",
        "delta_list: 20\n",
        "delta_i: 13434637.1215\n",
        "r3: "
       ]
      },
      {
       "output_type": "stream",
       "stream": "stdout",
       "text": [
        "\n",
        "delta_i: 12091173.4093\n",
        "r3: "
       ]
      },
      {
       "output_type": "stream",
       "stream": "stdout",
       "text": [
        "\n",
        "delta_i: 10747709.6972\n",
        "r3: "
       ]
      },
      {
       "output_type": "stream",
       "stream": "stdout",
       "text": [
        "\n",
        "delta_i: 9404245.98505\n",
        "r3: "
       ]
      },
      {
       "output_type": "stream",
       "stream": "stdout",
       "text": [
        "\n",
        "delta_i: 8060782.2729\n",
        "r3: "
       ]
      },
      {
       "output_type": "stream",
       "stream": "stdout",
       "text": [
        "\n",
        "delta_i: 6717318.56075\n",
        "r3: "
       ]
      },
      {
       "output_type": "stream",
       "stream": "stdout",
       "text": [
        "\n",
        "delta_i: 5373854.8486\n",
        "r3: "
       ]
      },
      {
       "output_type": "stream",
       "stream": "stdout",
       "text": [
        "\n",
        "delta_i: 4030391.13645\n",
        "r3: \n",
        "delta_i: 2686927.4243\n",
        "r3: "
       ]
      },
      {
       "output_type": "stream",
       "stream": "stdout",
       "text": [
        "\n",
        "delta_i: 1343463.71215\n",
        "r3: \n",
        "delta_i: -3.72529029846e-09\n",
        "r3: \n",
        "delta_i: -1343463.71215\n",
        "r3: \n",
        "delta_i: -2686927.4243\n",
        "r3: "
       ]
      },
      {
       "output_type": "stream",
       "stream": "stdout",
       "text": [
        "\n",
        "delta_i: -4030391.13645\n",
        "r3: \n",
        "delta_i: -5373854.8486\n",
        "r3: "
       ]
      },
      {
       "output_type": "stream",
       "stream": "stdout",
       "text": [
        "\n",
        "delta_i: -6717318.56075\n",
        "r3: "
       ]
      },
      {
       "output_type": "stream",
       "stream": "stdout",
       "text": [
        "\n",
        "delta_i: -8060782.2729\n",
        "r3: "
       ]
      },
      {
       "output_type": "stream",
       "stream": "stdout",
       "text": [
        "\n",
        "delta_i: -9404245.98505\n",
        "r3: "
       ]
      },
      {
       "output_type": "stream",
       "stream": "stdout",
       "text": [
        "\n",
        "delta_i: -10747709.6972\n",
        "r3: "
       ]
      },
      {
       "output_type": "stream",
       "stream": "stdout",
       "text": [
        "\n",
        "delta_i: -12091173.4093\n",
        "r3: "
       ]
      },
      {
       "output_type": "stream",
       "stream": "stdout",
       "text": [
        "\n",
        "inside model\n",
        "t_excitation: \n",
        "delta_list: 20\n",
        "delta_i: 13434637.1215\n",
        "r3: "
       ]
      },
      {
       "output_type": "stream",
       "stream": "stdout",
       "text": [
        "\n",
        "delta_i: 12091173.4093\n",
        "r3: "
       ]
      },
      {
       "output_type": "stream",
       "stream": "stdout",
       "text": [
        "\n",
        "delta_i: 10747709.6972\n",
        "r3: "
       ]
      },
      {
       "output_type": "stream",
       "stream": "stdout",
       "text": [
        "\n",
        "delta_i: 9404245.98505\n",
        "r3: "
       ]
      },
      {
       "output_type": "stream",
       "stream": "stdout",
       "text": [
        "\n",
        "delta_i: 8060782.2729\n",
        "r3: "
       ]
      },
      {
       "output_type": "stream",
       "stream": "stdout",
       "text": [
        "\n",
        "delta_i: 6717318.56075\n",
        "r3: "
       ]
      },
      {
       "output_type": "stream",
       "stream": "stdout",
       "text": [
        "\n",
        "delta_i: 5373854.8486\n",
        "r3: "
       ]
      },
      {
       "output_type": "stream",
       "stream": "stdout",
       "text": [
        "\n",
        "delta_i: 4030391.13645\n",
        "r3: "
       ]
      },
      {
       "output_type": "stream",
       "stream": "stdout",
       "text": [
        "\n",
        "delta_i: 2686927.4243\n",
        "r3: \n",
        "delta_i: 1343463.71215\n",
        "r3: \n",
        "delta_i: -3.72529029846e-09\n",
        "r3: \n",
        "delta_i: -1343463.71215\n",
        "r3: \n",
        "delta_i: -2686927.4243\n",
        "r3: "
       ]
      },
      {
       "output_type": "stream",
       "stream": "stdout",
       "text": [
        "\n",
        "delta_i: -4030391.13645\n",
        "r3: \n",
        "delta_i: -5373854.8486\n",
        "r3: \n",
        "delta_i: -6717318.56075\n"
       ]
      },
      {
       "output_type": "stream",
       "stream": "stdout",
       "text": [
        "r3: \n",
        "delta_i: -8060782.2729\n",
        "r3: \n",
        "delta_i: -9404245.98505\n",
        "r3: "
       ]
      },
      {
       "output_type": "stream",
       "stream": "stdout",
       "text": [
        "\n",
        "delta_i: -10747709.6972\n",
        "r3: \n",
        "delta_i: -12091173.4093\n",
        "r3: "
       ]
      },
      {
       "output_type": "stream",
       "stream": "stdout",
       "text": [
        "\n",
        "inside model\n",
        "t_excitation: \n",
        "delta_list: 20\n",
        "delta_i: 13434637.1215\n",
        "r3: "
       ]
      },
      {
       "output_type": "stream",
       "stream": "stdout",
       "text": [
        "\n",
        "delta_i: 12091173.4093\n",
        "r3: "
       ]
      },
      {
       "output_type": "stream",
       "stream": "stdout",
       "text": [
        "\n",
        "delta_i: 10747709.6972\n",
        "r3: \n",
        "delta_i: 9404245.98505\n",
        "r3: "
       ]
      },
      {
       "output_type": "stream",
       "stream": "stdout",
       "text": [
        "\n",
        "delta_i: 8060782.2729\n",
        "r3: \n",
        "delta_i: 6717318.56075\n",
        "r3: "
       ]
      },
      {
       "output_type": "stream",
       "stream": "stdout",
       "text": [
        "\n",
        "delta_i: 5373854.8486\n",
        "r3: \n",
        "delta_i: 4030391.13645\n",
        "r3: "
       ]
      },
      {
       "output_type": "stream",
       "stream": "stdout",
       "text": [
        "\n",
        "delta_i: 2686927.4243\n",
        "r3: \n",
        "delta_i: 1343463.71215\n",
        "r3: \n",
        "delta_i: -3.72529029846e-09\n",
        "r3: \n",
        "delta_i: -1343463.71215\n",
        "r3: \n",
        "delta_i: -2686927.4243\n",
        "r3: "
       ]
      },
      {
       "output_type": "stream",
       "stream": "stdout",
       "text": [
        "\n",
        "delta_i: -4030391.13645\n",
        "r3: \n",
        "delta_i: -5373854.8486\n",
        "r3: "
       ]
      },
      {
       "output_type": "stream",
       "stream": "stdout",
       "text": [
        "\n",
        "delta_i: -6717318.56075\n",
        "r3: "
       ]
      },
      {
       "output_type": "stream",
       "stream": "stdout",
       "text": [
        "\n",
        "delta_i: -8060782.2729\n",
        "r3: "
       ]
      },
      {
       "output_type": "stream",
       "stream": "stdout",
       "text": [
        "\n",
        "delta_i: -9404245.98505\n",
        "r3: "
       ]
      },
      {
       "output_type": "stream",
       "stream": "stdout",
       "text": [
        "\n",
        "delta_i: -10747709.6972\n",
        "r3: "
       ]
      },
      {
       "output_type": "stream",
       "stream": "stdout",
       "text": [
        "\n",
        "delta_i: -12091173.4093\n",
        "r3: "
       ]
      },
      {
       "output_type": "stream",
       "stream": "stdout",
       "text": [
        "\n",
        "inside model\n",
        "t_excitation: \n",
        "delta_list: 20\n",
        "delta_i: 13434637.1215\n",
        "r3: "
       ]
      },
      {
       "output_type": "stream",
       "stream": "stdout",
       "text": [
        "\n",
        "delta_i: 12091173.4093\n",
        "r3: "
       ]
      },
      {
       "output_type": "stream",
       "stream": "stdout",
       "text": [
        "\n",
        "delta_i: 10747709.6972\n",
        "r3: "
       ]
      },
      {
       "output_type": "stream",
       "stream": "stdout",
       "text": [
        "\n",
        "delta_i: 9404245.98505\n",
        "r3: "
       ]
      },
      {
       "output_type": "stream",
       "stream": "stdout",
       "text": [
        "\n",
        "delta_i: 8060782.2729\n",
        "r3: "
       ]
      },
      {
       "output_type": "stream",
       "stream": "stdout",
       "text": [
        "\n",
        "delta_i: 6717318.56075\n",
        "r3: "
       ]
      },
      {
       "output_type": "stream",
       "stream": "stdout",
       "text": [
        "\n",
        "delta_i: 5373854.8486\n",
        "r3: "
       ]
      },
      {
       "output_type": "stream",
       "stream": "stdout",
       "text": [
        "\n",
        "delta_i: 4030391.13645\n",
        "r3: \n",
        "delta_i: 2686927.4243\n",
        "r3: "
       ]
      },
      {
       "output_type": "stream",
       "stream": "stdout",
       "text": [
        "\n",
        "delta_i: 1343463.71215\n",
        "r3: \n",
        "delta_i: -3.72529029846e-09\n",
        "r3: \n",
        "delta_i: -1343463.71215\n",
        "r3: \n",
        "delta_i: -2686927.4243\n",
        "r3: "
       ]
      },
      {
       "output_type": "stream",
       "stream": "stdout",
       "text": [
        "\n",
        "delta_i: -4030391.13645\n",
        "r3: \n",
        "delta_i: -5373854.8486\n",
        "r3: "
       ]
      },
      {
       "output_type": "stream",
       "stream": "stdout",
       "text": [
        "\n",
        "delta_i: -6717318.56075\n",
        "r3: "
       ]
      },
      {
       "output_type": "stream",
       "stream": "stdout",
       "text": [
        "\n",
        "delta_i: -8060782.2729\n",
        "r3: "
       ]
      },
      {
       "output_type": "stream",
       "stream": "stdout",
       "text": [
        "\n",
        "delta_i: -9404245.98505\n",
        "r3: "
       ]
      },
      {
       "output_type": "stream",
       "stream": "stdout",
       "text": [
        "\n",
        "delta_i: -10747709.6972\n",
        "r3: "
       ]
      },
      {
       "output_type": "stream",
       "stream": "stdout",
       "text": [
        "\n",
        "delta_i: -12091173.4093\n",
        "r3: "
       ]
      },
      {
       "output_type": "stream",
       "stream": "stdout",
       "text": [
        "\n",
        "inside model\n",
        "t_excitation: \n",
        "delta_list: 20\n",
        "delta_i: 13434636.9213\n",
        "r3: "
       ]
      },
      {
       "output_type": "stream",
       "stream": "stdout",
       "text": [
        "\n",
        "delta_i: 12091173.2292\n",
        "r3: "
       ]
      },
      {
       "output_type": "stream",
       "stream": "stdout",
       "text": [
        "\n",
        "delta_i: 10747709.537\n",
        "r3: "
       ]
      },
      {
       "output_type": "stream",
       "stream": "stdout",
       "text": [
        "\n",
        "delta_i: 9404245.84491\n",
        "r3: "
       ]
      },
      {
       "output_type": "stream",
       "stream": "stdout",
       "text": [
        "\n",
        "delta_i: 8060782.15278\n",
        "r3: \n",
        "delta_i: 6717318.46065\n",
        "r3: "
       ]
      },
      {
       "output_type": "stream",
       "stream": "stdout",
       "text": [
        "\n",
        "delta_i: 5373854.76852\n",
        "r3: \n",
        "delta_i: 4030391.07639\n",
        "r3: "
       ]
      },
      {
       "output_type": "stream",
       "stream": "stdout",
       "text": [
        "\n",
        "delta_i: 2686927.38426\n",
        "r3: \n",
        "delta_i: 1343463.69213\n",
        "r3: \n",
        "delta_i: 1.86264514923e-09\n",
        "r3: \n",
        "delta_i: -1343463.69213\n",
        "r3: \n",
        "delta_i: -2686927.38426\n",
        "r3: "
       ]
      },
      {
       "output_type": "stream",
       "stream": "stdout",
       "text": [
        "\n",
        "delta_i: -4030391.07639\n",
        "r3: \n",
        "delta_i: -5373854.76852\n",
        "r3: "
       ]
      },
      {
       "output_type": "stream",
       "stream": "stdout",
       "text": [
        "\n",
        "delta_i: -6717318.46065\n",
        "r3: \n",
        "delta_i: -8060782.15278\n",
        "r3: "
       ]
      },
      {
       "output_type": "stream",
       "stream": "stdout",
       "text": [
        "\n",
        "delta_i: -9404245.84491\n",
        "r3: "
       ]
      },
      {
       "output_type": "stream",
       "stream": "stdout",
       "text": [
        "\n",
        "delta_i: -10747709.537\n",
        "r3: "
       ]
      },
      {
       "output_type": "stream",
       "stream": "stdout",
       "text": [
        "\n",
        "delta_i: -12091173.2292\n",
        "r3: "
       ]
      },
      {
       "output_type": "stream",
       "stream": "stdout",
       "text": [
        "\n",
        "inside model\n",
        "t_excitation: \n",
        "delta_list: 20\n",
        "delta_i: 13434637.1215\n",
        "r3: "
       ]
      },
      {
       "output_type": "stream",
       "stream": "stdout",
       "text": [
        "\n",
        "delta_i: 12091173.4093\n",
        "r3: "
       ]
      },
      {
       "output_type": "stream",
       "stream": "stdout",
       "text": [
        "\n",
        "delta_i: 10747709.6972\n",
        "r3: "
       ]
      },
      {
       "output_type": "stream",
       "stream": "stdout",
       "text": [
        "\n",
        "delta_i: 9404245.98505\n",
        "r3: \n",
        "delta_i: 8060782.2729\n",
        "r3: "
       ]
      },
      {
       "output_type": "stream",
       "stream": "stdout",
       "text": [
        "\n",
        "delta_i: 6717318.56075\n",
        "r3: \n",
        "delta_i: 5373854.8486\n",
        "r3: "
       ]
      },
      {
       "output_type": "stream",
       "stream": "stdout",
       "text": [
        "\n",
        "delta_i: 4030391.13645\n",
        "r3: \n",
        "delta_i: 2686927.4243\n",
        "r3: \n",
        "delta_i: 1343463.71215\n",
        "r3: "
       ]
      },
      {
       "output_type": "stream",
       "stream": "stdout",
       "text": [
        "\n",
        "delta_i: -3.72529029846e-09\n",
        "r3: \n",
        "delta_i: -1343463.71215\n",
        "r3: \n",
        "delta_i: -2686927.4243\n",
        "r3: \n",
        "delta_i: -4030391.13645\n",
        "r3: "
       ]
      },
      {
       "output_type": "stream",
       "stream": "stdout",
       "text": [
        "\n",
        "delta_i: -5373854.8486\n",
        "r3: \n",
        "delta_i: -6717318.56075\n",
        "r3: "
       ]
      },
      {
       "output_type": "stream",
       "stream": "stdout",
       "text": [
        "\n",
        "delta_i: -8060782.2729\n",
        "r3: \n",
        "delta_i: -9404245.98505\n",
        "r3: "
       ]
      },
      {
       "output_type": "stream",
       "stream": "stdout",
       "text": [
        "\n",
        "delta_i: -10747709.6972\n",
        "r3: "
       ]
      },
      {
       "output_type": "stream",
       "stream": "stdout",
       "text": [
        "\n",
        "delta_i: -12091173.4093\n",
        "r3: "
       ]
      },
      {
       "output_type": "stream",
       "stream": "stdout",
       "text": [
        "\n",
        "inside model\n",
        "t_excitation: \n",
        "delta_list: 20\n",
        "delta_i: 21159185.5096\n",
        "r3: "
       ]
      },
      {
       "output_type": "stream",
       "stream": "stdout",
       "text": [
        "\n",
        "delta_i: 19043266.9587\n",
        "r3: "
       ]
      },
      {
       "output_type": "stream",
       "stream": "stdout",
       "text": [
        "\n",
        "delta_i: 16927348.4077\n",
        "r3: "
       ]
      },
      {
       "output_type": "stream",
       "stream": "stdout",
       "text": [
        "\n",
        "delta_i: 14811429.8567\n",
        "r3: "
       ]
      },
      {
       "output_type": "stream",
       "stream": "stdout",
       "text": [
        "\n",
        "delta_i: 12695511.3058\n",
        "r3: "
       ]
      },
      {
       "output_type": "stream",
       "stream": "stdout",
       "text": [
        "\n",
        "delta_i: 10579592.7548\n",
        "r3: "
       ]
      },
      {
       "output_type": "stream",
       "stream": "stdout",
       "text": [
        "\n",
        "delta_i: 8463674.20385\n",
        "r3: "
       ]
      },
      {
       "output_type": "stream",
       "stream": "stdout",
       "text": [
        "\n",
        "delta_i: 6347755.65289\n",
        "r3: \n",
        "delta_i: 4231837.10193\n",
        "r3: "
       ]
      },
      {
       "output_type": "stream",
       "stream": "stdout",
       "text": [
        "\n",
        "delta_i: 2115918.55096\n",
        "r3: \n",
        "delta_i: 3.72529029846e-09\n",
        "r3: \n",
        "delta_i: -2115918.55096\n",
        "r3: \n",
        "delta_i: -4231837.10193\n",
        "r3: "
       ]
      },
      {
       "output_type": "stream",
       "stream": "stdout",
       "text": [
        "\n",
        "delta_i: -6347755.65289\n",
        "r3: \n",
        "delta_i: -8463674.20385\n",
        "r3: "
       ]
      },
      {
       "output_type": "stream",
       "stream": "stdout",
       "text": [
        "\n",
        "delta_i: -10579592.7548\n",
        "r3: "
       ]
      },
      {
       "output_type": "stream",
       "stream": "stdout",
       "text": [
        "\n",
        "delta_i: -12695511.3058\n",
        "r3: "
       ]
      },
      {
       "output_type": "stream",
       "stream": "stdout",
       "text": [
        "\n",
        "delta_i: -14811429.8567\n",
        "r3: "
       ]
      },
      {
       "output_type": "stream",
       "stream": "stdout",
       "text": [
        "\n",
        "delta_i: -16927348.4077\n",
        "r3: "
       ]
      },
      {
       "output_type": "stream",
       "stream": "stdout",
       "text": [
        "\n",
        "delta_i: -19043266.9587\n",
        "r3: "
       ]
      },
      {
       "output_type": "stream",
       "stream": "stdout",
       "text": [
        "\n",
        "inside model\n",
        "t_excitation: \n",
        "delta_list: 20\n",
        "delta_i: 21159185.5096\n",
        "r3: "
       ]
      },
      {
       "output_type": "stream",
       "stream": "stdout",
       "text": [
        "\n",
        "delta_i: 19043266.9587\n",
        "r3: "
       ]
      },
      {
       "output_type": "stream",
       "stream": "stdout",
       "text": [
        "\n",
        "delta_i: 16927348.4077\n",
        "r3: "
       ]
      },
      {
       "output_type": "stream",
       "stream": "stdout",
       "text": [
        "\n",
        "delta_i: 14811429.8567\n",
        "r3: "
       ]
      },
      {
       "output_type": "stream",
       "stream": "stdout",
       "text": [
        "\n",
        "delta_i: 12695511.3058\n",
        "r3: "
       ]
      },
      {
       "output_type": "stream",
       "stream": "stdout",
       "text": [
        "\n",
        "delta_i: 10579592.7548\n",
        "r3: "
       ]
      },
      {
       "output_type": "stream",
       "stream": "stdout",
       "text": [
        "\n",
        "delta_i: 8463674.20385\n",
        "r3: "
       ]
      },
      {
       "output_type": "stream",
       "stream": "stdout",
       "text": [
        "\n",
        "delta_i: 6347755.65289\n",
        "r3: \n",
        "delta_i: 4231837.10193\n",
        "r3: "
       ]
      },
      {
       "output_type": "stream",
       "stream": "stdout",
       "text": [
        "\n",
        "delta_i: 2115918.55096\n",
        "r3: \n",
        "delta_i: 3.72529029846e-09\n",
        "r3: \n",
        "delta_i: -2115918.55096\n",
        "r3: \n",
        "delta_i: -4231837.10193\n",
        "r3: \n",
        "delta_i: -6347755.65289\n",
        "r3: "
       ]
      },
      {
       "output_type": "stream",
       "stream": "stdout",
       "text": [
        "\n",
        "delta_i: -8463674.20385\n",
        "r3: \n",
        "delta_i: -10579592.7548\n",
        "r3: "
       ]
      },
      {
       "output_type": "stream",
       "stream": "stdout",
       "text": [
        "\n",
        "delta_i: -12695511.3058\n",
        "r3: "
       ]
      },
      {
       "output_type": "stream",
       "stream": "stdout",
       "text": [
        "\n",
        "delta_i: -14811429.8567\n",
        "r3: "
       ]
      },
      {
       "output_type": "stream",
       "stream": "stdout",
       "text": [
        "\n",
        "delta_i: -16927348.4077\n",
        "r3: "
       ]
      },
      {
       "output_type": "stream",
       "stream": "stdout",
       "text": [
        "\n",
        "delta_i: -19043266.9587\n",
        "r3: "
       ]
      },
      {
       "output_type": "stream",
       "stream": "stdout",
       "text": [
        "\n",
        "inside model\n",
        "t_excitation: \n",
        "delta_list: 20\n",
        "delta_i: 21159185.5096\n",
        "r3: "
       ]
      },
      {
       "output_type": "stream",
       "stream": "stdout",
       "text": [
        "\n",
        "delta_i: 19043266.9587\n",
        "r3: "
       ]
      },
      {
       "output_type": "stream",
       "stream": "stdout",
       "text": [
        "\n",
        "delta_i: 16927348.4077\n",
        "r3: "
       ]
      },
      {
       "output_type": "stream",
       "stream": "stdout",
       "text": [
        "\n",
        "delta_i: 14811429.8567\n",
        "r3: "
       ]
      },
      {
       "output_type": "stream",
       "stream": "stdout",
       "text": [
        "\n",
        "delta_i: 12695511.3058\n",
        "r3: "
       ]
      },
      {
       "output_type": "stream",
       "stream": "stdout",
       "text": [
        "\n",
        "delta_i: 10579592.7548\n",
        "r3: "
       ]
      },
      {
       "output_type": "stream",
       "stream": "stdout",
       "text": [
        "\n",
        "delta_i: 8463674.20385\n",
        "r3: \n",
        "delta_i: 6347755.65289\n",
        "r3: "
       ]
      },
      {
       "output_type": "stream",
       "stream": "stdout",
       "text": [
        "\n",
        "delta_i: 4231837.10193\n",
        "r3: \n",
        "delta_i: 2115918.55096\n",
        "r3: \n",
        "delta_i: 3.72529029846e-09\n",
        "r3: \n",
        "delta_i: -2115918.55096\n",
        "r3: "
       ]
      },
      {
       "output_type": "stream",
       "stream": "stdout",
       "text": [
        "\n",
        "delta_i: -4231837.10193\n",
        "r3: \n",
        "delta_i: -6347755.65289\n",
        "r3: "
       ]
      },
      {
       "output_type": "stream",
       "stream": "stdout",
       "text": [
        "\n",
        "delta_i: -8463674.20385\n",
        "r3: "
       ]
      },
      {
       "output_type": "stream",
       "stream": "stdout",
       "text": [
        "\n",
        "delta_i: -10579592.7548\n",
        "r3: "
       ]
      },
      {
       "output_type": "stream",
       "stream": "stdout",
       "text": [
        "\n",
        "delta_i: -12695511.3058\n",
        "r3: "
       ]
      },
      {
       "output_type": "stream",
       "stream": "stdout",
       "text": [
        "\n",
        "delta_i: -14811429.8567\n",
        "r3: "
       ]
      },
      {
       "output_type": "stream",
       "stream": "stdout",
       "text": [
        "\n",
        "delta_i: -16927348.4077\n",
        "r3: "
       ]
      },
      {
       "output_type": "stream",
       "stream": "stdout",
       "text": [
        "\n",
        "delta_i: -19043266.9587\n",
        "r3: "
       ]
      },
      {
       "output_type": "stream",
       "stream": "stdout",
       "text": [
        "\n",
        "inside model\n",
        "t_excitation: \n",
        "delta_list: 20\n",
        "delta_i: 21159185.5096\n",
        "r3: "
       ]
      },
      {
       "output_type": "stream",
       "stream": "stdout",
       "text": [
        "\n",
        "delta_i: 19043266.9587\n",
        "r3: "
       ]
      },
      {
       "output_type": "stream",
       "stream": "stdout",
       "text": [
        "\n",
        "delta_i: 16927348.4077\n",
        "r3: "
       ]
      },
      {
       "output_type": "stream",
       "stream": "stdout",
       "text": [
        "\n",
        "delta_i: 14811429.8567\n",
        "r3: "
       ]
      },
      {
       "output_type": "stream",
       "stream": "stdout",
       "text": [
        "\n",
        "delta_i: 12695511.3058\n",
        "r3: "
       ]
      },
      {
       "output_type": "stream",
       "stream": "stdout",
       "text": [
        "\n",
        "delta_i: 10579592.7548\n",
        "r3: "
       ]
      },
      {
       "output_type": "stream",
       "stream": "stdout",
       "text": [
        "\n",
        "delta_i: 8463674.20385\n",
        "r3: \n",
        "delta_i: 6347755.65289\n",
        "r3: "
       ]
      },
      {
       "output_type": "stream",
       "stream": "stdout",
       "text": [
        "\n",
        "delta_i: 4231837.10193\n",
        "r3: \n",
        "delta_i: 2115918.55096\n",
        "r3: \n",
        "delta_i: 3.72529029846e-09\n",
        "r3: \n",
        "delta_i: -2115918.55096\n",
        "r3: \n",
        "delta_i: -4231837.10193\n",
        "r3: "
       ]
      },
      {
       "output_type": "stream",
       "stream": "stdout",
       "text": [
        "\n",
        "delta_i: -6347755.65289\n",
        "r3: "
       ]
      },
      {
       "output_type": "stream",
       "stream": "stdout",
       "text": [
        "\n",
        "delta_i: -8463674.20385\n",
        "r3: "
       ]
      },
      {
       "output_type": "stream",
       "stream": "stdout",
       "text": [
        "\n",
        "delta_i: -10579592.7548\n",
        "r3: \n",
        "delta_i: -12695511.3058\n",
        "r3: "
       ]
      },
      {
       "output_type": "stream",
       "stream": "stdout",
       "text": [
        "\n",
        "delta_i: -14811429.8567\n",
        "r3: "
       ]
      },
      {
       "output_type": "stream",
       "stream": "stdout",
       "text": [
        "\n",
        "delta_i: -16927348.4077\n",
        "r3: "
       ]
      },
      {
       "output_type": "stream",
       "stream": "stdout",
       "text": [
        "\n",
        "delta_i: -19043266.9587\n",
        "r3: "
       ]
      },
      {
       "output_type": "stream",
       "stream": "stdout",
       "text": [
        "\n",
        "inside model\n",
        "t_excitation: \n",
        "delta_list: 20\n",
        "delta_i: 21159185.1943\n",
        "r3: "
       ]
      },
      {
       "output_type": "stream",
       "stream": "stdout",
       "text": [
        "\n",
        "delta_i: 19043266.6749\n",
        "r3: "
       ]
      },
      {
       "output_type": "stream",
       "stream": "stdout",
       "text": [
        "\n",
        "delta_i: 16927348.1555\n",
        "r3: "
       ]
      },
      {
       "output_type": "stream",
       "stream": "stdout",
       "text": [
        "\n",
        "delta_i: 14811429.636\n",
        "r3: "
       ]
      },
      {
       "output_type": "stream",
       "stream": "stdout",
       "text": [
        "\n",
        "delta_i: 12695511.1166\n",
        "r3: "
       ]
      },
      {
       "output_type": "stream",
       "stream": "stdout",
       "text": [
        "\n",
        "delta_i: 10579592.5972\n",
        "r3: \n",
        "delta_i: 8463674.07773\n",
        "r3: "
       ]
      },
      {
       "output_type": "stream",
       "stream": "stdout",
       "text": [
        "\n",
        "delta_i: 6347755.5583\n",
        "r3: \n",
        "delta_i: 4231837.03887\n",
        "r3: "
       ]
      },
      {
       "output_type": "stream",
       "stream": "stdout",
       "text": [
        "\n",
        "delta_i: 2115918.51943\n",
        "r3: \n",
        "delta_i: -3.72529029846e-09\n",
        "r3: \n",
        "delta_i: -2115918.51943\n",
        "r3: \n",
        "delta_i: -4231837.03887\n",
        "r3: "
       ]
      },
      {
       "output_type": "stream",
       "stream": "stdout",
       "text": [
        "\n",
        "delta_i: -6347755.5583\n",
        "r3: \n",
        "delta_i: -8463674.07773\n",
        "r3: "
       ]
      },
      {
       "output_type": "stream",
       "stream": "stdout",
       "text": [
        "\n",
        "delta_i: -10579592.5972\n",
        "r3: "
       ]
      },
      {
       "output_type": "stream",
       "stream": "stdout",
       "text": [
        "\n",
        "delta_i: -12695511.1166\n",
        "r3: "
       ]
      },
      {
       "output_type": "stream",
       "stream": "stdout",
       "text": [
        "\n",
        "delta_i: -14811429.636\n",
        "r3: "
       ]
      },
      {
       "output_type": "stream",
       "stream": "stdout",
       "text": [
        "\n",
        "delta_i: -16927348.1555\n",
        "r3: "
       ]
      },
      {
       "output_type": "stream",
       "stream": "stdout",
       "text": [
        "\n",
        "delta_i: -19043266.6749\n",
        "r3: "
       ]
      },
      {
       "output_type": "stream",
       "stream": "stdout",
       "text": [
        "\n",
        "inside model\n",
        "t_excitation: \n",
        "delta_list: 20\n",
        "delta_i: 21159185.5096\n",
        "r3: "
       ]
      },
      {
       "output_type": "stream",
       "stream": "stdout",
       "text": [
        "\n",
        "delta_i: 19043266.9587\n",
        "r3: "
       ]
      },
      {
       "output_type": "stream",
       "stream": "stdout",
       "text": [
        "\n",
        "delta_i: 16927348.4077\n",
        "r3: "
       ]
      },
      {
       "output_type": "stream",
       "stream": "stdout",
       "text": [
        "\n",
        "delta_i: 14811429.8567\n",
        "r3: "
       ]
      },
      {
       "output_type": "stream",
       "stream": "stdout",
       "text": [
        "\n",
        "delta_i: 12695511.3058\n",
        "r3: "
       ]
      },
      {
       "output_type": "stream",
       "stream": "stdout",
       "text": [
        "\n",
        "delta_i: 10579592.7548\n",
        "r3: "
       ]
      },
      {
       "output_type": "stream",
       "stream": "stdout",
       "text": [
        "\n",
        "delta_i: 8463674.20385\n",
        "r3: "
       ]
      },
      {
       "output_type": "stream",
       "stream": "stdout",
       "text": [
        "\n",
        "delta_i: 6347755.65289\n",
        "r3: \n",
        "delta_i: 4231837.10193\n",
        "r3: "
       ]
      },
      {
       "output_type": "stream",
       "stream": "stdout",
       "text": [
        "\n",
        "delta_i: 2115918.55096\n",
        "r3: \n",
        "delta_i: 3.72529029846e-09\n",
        "r3: \n",
        "delta_i: -2115918.55096\n",
        "r3: \n",
        "delta_i: -4231837.10193\n",
        "r3: "
       ]
      },
      {
       "output_type": "stream",
       "stream": "stdout",
       "text": [
        "\n",
        "delta_i: -6347755.65289\n",
        "r3: \n",
        "delta_i: -8463674.20385\n",
        "r3: "
       ]
      },
      {
       "output_type": "stream",
       "stream": "stdout",
       "text": [
        "\n",
        "delta_i: -10579592.7548\n",
        "r3: "
       ]
      },
      {
       "output_type": "stream",
       "stream": "stdout",
       "text": [
        "\n",
        "delta_i: -12695511.3058\n",
        "r3: "
       ]
      },
      {
       "output_type": "stream",
       "stream": "stdout",
       "text": [
        "\n",
        "delta_i: -14811429.8567\n",
        "r3: "
       ]
      },
      {
       "output_type": "stream",
       "stream": "stdout",
       "text": [
        "\n",
        "delta_i: -16927348.4077\n",
        "r3: "
       ]
      },
      {
       "output_type": "stream",
       "stream": "stdout",
       "text": [
        "\n",
        "delta_i: -19043266.9587\n",
        "r3: "
       ]
      },
      {
       "output_type": "stream",
       "stream": "stdout",
       "text": [
        "\n",
        "inside model\n",
        "t_excitation: \n",
        "delta_list: 20\n",
        "delta_i: 17497430.0299\n",
        "r3: "
       ]
      },
      {
       "output_type": "stream",
       "stream": "stdout",
       "text": [
        "\n",
        "delta_i: 15747687.0269\n",
        "r3: "
       ]
      },
      {
       "output_type": "stream",
       "stream": "stdout",
       "text": [
        "\n",
        "delta_i: 13997944.0239\n",
        "r3: "
       ]
      },
      {
       "output_type": "stream",
       "stream": "stdout",
       "text": [
        "\n",
        "delta_i: 12248201.0209\n",
        "r3: "
       ]
      },
      {
       "output_type": "stream",
       "stream": "stdout",
       "text": [
        "\n",
        "delta_i: 10498458.0179\n",
        "r3: "
       ]
      },
      {
       "output_type": "stream",
       "stream": "stdout",
       "text": [
        "\n",
        "delta_i: 8748715.01494\n",
        "r3: "
       ]
      },
      {
       "output_type": "stream",
       "stream": "stdout",
       "text": [
        "\n",
        "delta_i: 6998972.01195\n",
        "r3: \n",
        "delta_i: 5249229.00896\n",
        "r3: "
       ]
      },
      {
       "output_type": "stream",
       "stream": "stdout",
       "text": [
        "\n",
        "delta_i: 3499486.00598\n",
        "r3: \n",
        "delta_i: 1749743.00299\n",
        "r3: \n",
        "delta_i: 0.0\n",
        "r3: \n",
        "delta_i: -1749743.00299\n",
        "r3: \n",
        "delta_i: -3499486.00598\n",
        "r3: "
       ]
      },
      {
       "output_type": "stream",
       "stream": "stdout",
       "text": [
        "\n",
        "delta_i: -5249229.00896\n",
        "r3: \n",
        "delta_i: -6998972.01195\n",
        "r3: "
       ]
      },
      {
       "output_type": "stream",
       "stream": "stdout",
       "text": [
        "\n",
        "delta_i: -8748715.01494\n",
        "r3: \n",
        "delta_i: -10498458.0179\n",
        "r3: "
       ]
      },
      {
       "output_type": "stream",
       "stream": "stdout",
       "text": [
        "\n",
        "delta_i: -12248201.0209\n",
        "r3: "
       ]
      },
      {
       "output_type": "stream",
       "stream": "stdout",
       "text": [
        "\n",
        "delta_i: -13997944.0239\n",
        "r3: "
       ]
      },
      {
       "output_type": "stream",
       "stream": "stdout",
       "text": [
        "\n",
        "delta_i: -15747687.0269\n",
        "r3: "
       ]
      },
      {
       "output_type": "stream",
       "stream": "stdout",
       "text": [
        "\n",
        "inside model\n",
        "t_excitation: \n",
        "delta_list: 20\n",
        "delta_i: 17497430.0299\n",
        "r3: "
       ]
      },
      {
       "output_type": "stream",
       "stream": "stdout",
       "text": [
        "\n",
        "delta_i: 15747687.0269\n",
        "r3: "
       ]
      },
      {
       "output_type": "stream",
       "stream": "stdout",
       "text": [
        "\n",
        "delta_i: 13997944.0239\n",
        "r3: "
       ]
      },
      {
       "output_type": "stream",
       "stream": "stdout",
       "text": [
        "\n",
        "delta_i: 12248201.0209\n",
        "r3: "
       ]
      },
      {
       "output_type": "stream",
       "stream": "stdout",
       "text": [
        "\n",
        "delta_i: 10498458.0179\n",
        "r3: "
       ]
      },
      {
       "output_type": "stream",
       "stream": "stdout",
       "text": [
        "\n",
        "delta_i: 8748715.01494\n",
        "r3: \n",
        "delta_i: 6998972.01195\n",
        "r3: "
       ]
      },
      {
       "output_type": "stream",
       "stream": "stdout",
       "text": [
        "\n",
        "delta_i: 5249229.00896\n",
        "r3: \n",
        "delta_i: 3499486.00598\n",
        "r3: "
       ]
      },
      {
       "output_type": "stream",
       "stream": "stdout",
       "text": [
        "\n",
        "delta_i: 1749743.00299\n",
        "r3: \n",
        "delta_i: 0.0\n",
        "r3: \n",
        "delta_i: -1749743.00299\n",
        "r3: \n",
        "delta_i: -3499486.00598\n",
        "r3: \n",
        "delta_i: -5249229.00896\n",
        "r3: "
       ]
      },
      {
       "output_type": "stream",
       "stream": "stdout",
       "text": [
        "\n",
        "delta_i: -6998972.01195\n",
        "r3: \n",
        "delta_i: -8748715.01494\n",
        "r3: "
       ]
      },
      {
       "output_type": "stream",
       "stream": "stdout",
       "text": [
        "\n",
        "delta_i: -10498458.0179\n",
        "r3: \n",
        "delta_i: -12248201.0209\n",
        "r3: "
       ]
      },
      {
       "output_type": "stream",
       "stream": "stdout",
       "text": [
        "\n",
        "delta_i: -13997944.0239\n",
        "r3: "
       ]
      },
      {
       "output_type": "stream",
       "stream": "stdout",
       "text": [
        "\n",
        "delta_i: -15747687.0269\n",
        "r3: "
       ]
      },
      {
       "output_type": "stream",
       "stream": "stdout",
       "text": [
        "\n",
        "inside model\n",
        "t_excitation: \n",
        "delta_list: 20\n",
        "delta_i: 17497430.0299\n",
        "r3: "
       ]
      },
      {
       "output_type": "stream",
       "stream": "stdout",
       "text": [
        "\n",
        "delta_i: 15747687.0269\n",
        "r3: "
       ]
      },
      {
       "output_type": "stream",
       "stream": "stdout",
       "text": [
        "\n",
        "delta_i: 13997944.0239\n",
        "r3: "
       ]
      },
      {
       "output_type": "stream",
       "stream": "stdout",
       "text": [
        "\n",
        "delta_i: 12248201.0209\n",
        "r3: "
       ]
      },
      {
       "output_type": "stream",
       "stream": "stdout",
       "text": [
        "\n",
        "delta_i: 10498458.0179\n",
        "r3: \n",
        "delta_i: 8748715.01494\n",
        "r3: "
       ]
      },
      {
       "output_type": "stream",
       "stream": "stdout",
       "text": [
        "\n",
        "delta_i: 6998972.01195\n",
        "r3: \n",
        "delta_i: 5249229.00896\n",
        "r3: "
       ]
      },
      {
       "output_type": "stream",
       "stream": "stdout",
       "text": [
        "\n",
        "delta_i: 3499486.00598\n",
        "r3: \n",
        "delta_i: 1749743.00299\n",
        "r3: \n",
        "delta_i: 0.0\n",
        "r3: \n",
        "delta_i: -1749743.00299\n",
        "r3: \n",
        "delta_i: -3499486.00598\n",
        "r3: "
       ]
      },
      {
       "output_type": "stream",
       "stream": "stdout",
       "text": [
        "\n",
        "delta_i: -5249229.00896\n",
        "r3: \n",
        "delta_i: -6998972.01195\n",
        "r3: "
       ]
      },
      {
       "output_type": "stream",
       "stream": "stdout",
       "text": [
        "\n",
        "delta_i: -8748715.01494\n",
        "r3: \n",
        "delta_i: -10498458.0179\n",
        "r3: "
       ]
      },
      {
       "output_type": "stream",
       "stream": "stdout",
       "text": [
        "\n",
        "delta_i: -12248201.0209\n",
        "r3: "
       ]
      },
      {
       "output_type": "stream",
       "stream": "stdout",
       "text": [
        "\n",
        "delta_i: -13997944.0239\n",
        "r3: "
       ]
      },
      {
       "output_type": "stream",
       "stream": "stdout",
       "text": [
        "\n",
        "delta_i: -15747687.0269\n",
        "r3: "
       ]
      },
      {
       "output_type": "stream",
       "stream": "stdout",
       "text": [
        "\n",
        "inside model\n",
        "t_excitation: \n",
        "delta_list: 20\n",
        "delta_i: 17497430.0299\n",
        "r3: "
       ]
      },
      {
       "output_type": "stream",
       "stream": "stdout",
       "text": [
        "\n",
        "delta_i: 15747687.0269\n",
        "r3: "
       ]
      },
      {
       "output_type": "stream",
       "stream": "stdout",
       "text": [
        "\n",
        "delta_i: 13997944.0239\n",
        "r3: "
       ]
      },
      {
       "output_type": "stream",
       "stream": "stdout",
       "text": [
        "\n",
        "delta_i: 12248201.0209\n",
        "r3: "
       ]
      },
      {
       "output_type": "stream",
       "stream": "stdout",
       "text": [
        "\n",
        "delta_i: 10498458.0179\n",
        "r3: "
       ]
      },
      {
       "output_type": "stream",
       "stream": "stdout",
       "text": [
        "\n",
        "delta_i: 8748715.01494\n",
        "r3: \n",
        "delta_i: 6998972.01195\n",
        "r3: "
       ]
      },
      {
       "output_type": "stream",
       "stream": "stdout",
       "text": [
        "\n",
        "delta_i: 5249229.00896\n",
        "r3: \n",
        "delta_i: 3499486.00598\n",
        "r3: \n",
        "delta_i: 1749743.00299\n",
        "r3: "
       ]
      },
      {
       "output_type": "stream",
       "stream": "stdout",
       "text": [
        "\n",
        "delta_i: 0.0\n",
        "r3: \n",
        "delta_i: -1749743.00299\n",
        "r3: \n",
        "delta_i: -3499486.00598\n",
        "r3: \n",
        "delta_i: -5249229.00896\n",
        "r3: "
       ]
      },
      {
       "output_type": "stream",
       "stream": "stdout",
       "text": [
        "\n",
        "delta_i: -6998972.01195\n",
        "r3: \n",
        "delta_i: -8748715.01494\n",
        "r3: "
       ]
      },
      {
       "output_type": "stream",
       "stream": "stdout",
       "text": [
        "\n",
        "delta_i: -10498458.0179\n",
        "r3: \n",
        "delta_i: -12248201.0209\n",
        "r3: "
       ]
      },
      {
       "output_type": "stream",
       "stream": "stdout",
       "text": [
        "\n",
        "delta_i: -13997944.0239\n",
        "r3: "
       ]
      },
      {
       "output_type": "stream",
       "stream": "stdout",
       "text": [
        "\n",
        "delta_i: -15747687.0269\n",
        "r3: "
       ]
      },
      {
       "output_type": "stream",
       "stream": "stdout",
       "text": [
        "\n",
        "inside model\n",
        "t_excitation: \n",
        "delta_list: 20\n",
        "delta_i: 17497429.7691\n",
        "r3: "
       ]
      },
      {
       "output_type": "stream",
       "stream": "stdout",
       "text": [
        "\n",
        "delta_i: 15747686.7922\n",
        "r3: "
       ]
      },
      {
       "output_type": "stream",
       "stream": "stdout",
       "text": [
        "\n",
        "delta_i: 13997943.8153\n",
        "r3: "
       ]
      },
      {
       "output_type": "stream",
       "stream": "stdout",
       "text": [
        "\n",
        "delta_i: 12248200.8384\n",
        "r3: "
       ]
      },
      {
       "output_type": "stream",
       "stream": "stdout",
       "text": [
        "\n",
        "delta_i: 10498457.8615\n",
        "r3: "
       ]
      },
      {
       "output_type": "stream",
       "stream": "stdout",
       "text": [
        "\n",
        "delta_i: 8748714.88457\n",
        "r3: \n",
        "delta_i: 6998971.90766\n",
        "r3: "
       ]
      },
      {
       "output_type": "stream",
       "stream": "stdout",
       "text": [
        "\n",
        "delta_i: 5249228.93074\n",
        "r3: \n",
        "delta_i: 3499485.95383\n",
        "r3: "
       ]
      },
      {
       "output_type": "stream",
       "stream": "stdout",
       "text": [
        "\n",
        "delta_i: 1749742.97691\n",
        "r3: \n",
        "delta_i: 0.0\n",
        "r3: \n",
        "delta_i: -1749742.97691\n",
        "r3: \n",
        "delta_i: -3499485.95383\n",
        "r3: \n",
        "delta_i: -5249228.93074\n",
        "r3: "
       ]
      },
      {
       "output_type": "stream",
       "stream": "stdout",
       "text": [
        "\n",
        "delta_i: -6998971.90766\n",
        "r3: \n",
        "delta_i: -8748714.88457\n",
        "r3: "
       ]
      },
      {
       "output_type": "stream",
       "stream": "stdout",
       "text": [
        "\n",
        "delta_i: -10498457.8615\n",
        "r3: \n",
        "delta_i: -12248200.8384\n",
        "r3: "
       ]
      },
      {
       "output_type": "stream",
       "stream": "stdout",
       "text": [
        "\n",
        "delta_i: -13997943.8153\n",
        "r3: "
       ]
      },
      {
       "output_type": "stream",
       "stream": "stdout",
       "text": [
        "\n",
        "delta_i: -15747686.7922\n",
        "r3: "
       ]
      },
      {
       "output_type": "stream",
       "stream": "stdout",
       "text": [
        "\n",
        "inside model\n",
        "t_excitation: \n",
        "delta_list: 20\n",
        "delta_i: 17497430.0299\n",
        "r3: "
       ]
      },
      {
       "output_type": "stream",
       "stream": "stdout",
       "text": [
        "\n",
        "delta_i: 15747687.0269\n",
        "r3: "
       ]
      },
      {
       "output_type": "stream",
       "stream": "stdout",
       "text": [
        "\n",
        "delta_i: 13997944.0239\n",
        "r3: "
       ]
      },
      {
       "output_type": "stream",
       "stream": "stdout",
       "text": [
        "\n",
        "delta_i: 12248201.0209\n",
        "r3: "
       ]
      },
      {
       "output_type": "stream",
       "stream": "stdout",
       "text": [
        "\n",
        "delta_i: 10498458.0179\n",
        "r3: "
       ]
      },
      {
       "output_type": "stream",
       "stream": "stdout",
       "text": [
        "\n",
        "delta_i: 8748715.01494\n",
        "r3: "
       ]
      },
      {
       "output_type": "stream",
       "stream": "stdout",
       "text": [
        "\n",
        "delta_i: 6998972.01195\n",
        "r3: \n",
        "delta_i: 5249229.00896\n",
        "r3: "
       ]
      },
      {
       "output_type": "stream",
       "stream": "stdout",
       "text": [
        "\n",
        "delta_i: 3499486.00598\n",
        "r3: \n",
        "delta_i: 1749743.00299\n",
        "r3: \n",
        "delta_i: 0.0\n",
        "r3: \n",
        "delta_i: -1749743.00299\n",
        "r3: \n",
        "delta_i: -3499486.00598\n",
        "r3: "
       ]
      },
      {
       "output_type": "stream",
       "stream": "stdout",
       "text": [
        "\n",
        "delta_i: -5249229.00896\n",
        "r3: \n",
        "delta_i: -6998972.01195\n",
        "r3: "
       ]
      },
      {
       "output_type": "stream",
       "stream": "stdout",
       "text": [
        "\n",
        "delta_i: -8748715.01494\n",
        "r3: "
       ]
      },
      {
       "output_type": "stream",
       "stream": "stdout",
       "text": [
        "\n",
        "delta_i: -10498458.0179\n",
        "r3: "
       ]
      },
      {
       "output_type": "stream",
       "stream": "stdout",
       "text": [
        "\n",
        "delta_i: -12248201.0209\n",
        "r3: "
       ]
      },
      {
       "output_type": "stream",
       "stream": "stdout",
       "text": [
        "\n",
        "delta_i: -13997944.0239\n",
        "r3: "
       ]
      },
      {
       "output_type": "stream",
       "stream": "stdout",
       "text": [
        "\n",
        "delta_i: -15747687.0269\n",
        "r3: "
       ]
      },
      {
       "output_type": "stream",
       "stream": "stdout",
       "text": [
        "\n",
        "inside model\n",
        "t_excitation: \n",
        "delta_list: 20\n",
        "delta_i: 19379846.5188\n",
        "r3: "
       ]
      },
      {
       "output_type": "stream",
       "stream": "stdout",
       "text": [
        "\n",
        "delta_i: 17441861.8669\n",
        "r3: "
       ]
      },
      {
       "output_type": "stream",
       "stream": "stdout",
       "text": [
        "\n",
        "delta_i: 15503877.215\n",
        "r3: "
       ]
      },
      {
       "output_type": "stream",
       "stream": "stdout",
       "text": [
        "\n",
        "delta_i: 13565892.5632\n",
        "r3: "
       ]
      },
      {
       "output_type": "stream",
       "stream": "stdout",
       "text": [
        "\n",
        "delta_i: 11627907.9113\n",
        "r3: "
       ]
      },
      {
       "output_type": "stream",
       "stream": "stdout",
       "text": [
        "\n",
        "delta_i: 9689923.2594\n",
        "r3: "
       ]
      },
      {
       "output_type": "stream",
       "stream": "stdout",
       "text": [
        "\n",
        "delta_i: 7751938.60752\n",
        "r3: "
       ]
      },
      {
       "output_type": "stream",
       "stream": "stdout",
       "text": [
        "\n",
        "delta_i: 5813953.95564\n",
        "r3: \n",
        "delta_i: 3875969.30376\n",
        "r3: "
       ]
      },
      {
       "output_type": "stream",
       "stream": "stdout",
       "text": [
        "\n",
        "delta_i: 1937984.65188\n",
        "r3: \n",
        "delta_i: 0.0\n",
        "r3: \n",
        "delta_i: -1937984.65188\n",
        "r3: \n",
        "delta_i: -3875969.30376\n",
        "r3: \n",
        "delta_i: -5813953.95564\n",
        "r3: "
       ]
      },
      {
       "output_type": "stream",
       "stream": "stdout",
       "text": [
        "\n",
        "delta_i: -7751938.60752\n",
        "r3: \n",
        "delta_i: -9689923.2594\n",
        "r3: "
       ]
      },
      {
       "output_type": "stream",
       "stream": "stdout",
       "text": [
        "\n",
        "delta_i: -11627907.9113\n",
        "r3: "
       ]
      },
      {
       "output_type": "stream",
       "stream": "stdout",
       "text": [
        "\n",
        "delta_i: -13565892.5632\n",
        "r3: "
       ]
      },
      {
       "output_type": "stream",
       "stream": "stdout",
       "text": [
        "\n",
        "delta_i: -15503877.215\n",
        "r3: "
       ]
      },
      {
       "output_type": "stream",
       "stream": "stdout",
       "text": [
        "\n",
        "delta_i: -17441861.8669\n",
        "r3: "
       ]
      },
      {
       "output_type": "stream",
       "stream": "stdout",
       "text": [
        "\n",
        "inside model\n",
        "t_excitation: \n",
        "delta_list: 20\n",
        "delta_i: 19379846.5188\n",
        "r3: "
       ]
      },
      {
       "output_type": "stream",
       "stream": "stdout",
       "text": [
        "\n",
        "delta_i: 17441861.8669\n",
        "r3: "
       ]
      },
      {
       "output_type": "stream",
       "stream": "stdout",
       "text": [
        "\n",
        "delta_i: 15503877.215\n",
        "r3: "
       ]
      },
      {
       "output_type": "stream",
       "stream": "stdout",
       "text": [
        "\n",
        "delta_i: 13565892.5632\n",
        "r3: "
       ]
      },
      {
       "output_type": "stream",
       "stream": "stdout",
       "text": [
        "\n",
        "delta_i: 11627907.9113\n",
        "r3: "
       ]
      },
      {
       "output_type": "stream",
       "stream": "stdout",
       "text": [
        "\n",
        "delta_i: 9689923.2594\n",
        "r3: "
       ]
      },
      {
       "output_type": "stream",
       "stream": "stdout",
       "text": [
        "\n",
        "delta_i: 7751938.60752\n",
        "r3: \n",
        "delta_i: 5813953.95564\n",
        "r3: "
       ]
      },
      {
       "output_type": "stream",
       "stream": "stdout",
       "text": [
        "\n",
        "delta_i: 3875969.30376\n",
        "r3: \n",
        "delta_i: 1937984.65188\n",
        "r3: \n",
        "delta_i: 0.0\n",
        "r3: \n",
        "delta_i: -1937984.65188\n",
        "r3: "
       ]
      },
      {
       "output_type": "stream",
       "stream": "stdout",
       "text": [
        "\n",
        "delta_i: -3875969.30376\n",
        "r3: "
       ]
      },
      {
       "output_type": "stream",
       "stream": "stdout",
       "text": [
        "\n",
        "delta_i: -5813953.95564\n",
        "r3: "
       ]
      },
      {
       "output_type": "stream",
       "stream": "stdout",
       "text": [
        "\n",
        "delta_i: -7751938.60752\n",
        "r3: "
       ]
      },
      {
       "output_type": "stream",
       "stream": "stdout",
       "text": [
        "\n",
        "delta_i: -9689923.2594\n",
        "r3: "
       ]
      },
      {
       "output_type": "stream",
       "stream": "stdout",
       "text": [
        "\n",
        "delta_i: -11627907.9113\n",
        "r3: "
       ]
      },
      {
       "output_type": "stream",
       "stream": "stdout",
       "text": [
        "\n",
        "delta_i: -13565892.5632\n",
        "r3: "
       ]
      },
      {
       "output_type": "stream",
       "stream": "stdout",
       "text": [
        "\n",
        "delta_i: -15503877.215\n",
        "r3: "
       ]
      },
      {
       "output_type": "stream",
       "stream": "stdout",
       "text": [
        "\n",
        "delta_i: -17441861.8669\n",
        "r3: "
       ]
      },
      {
       "output_type": "stream",
       "stream": "stdout",
       "text": [
        "\n",
        "inside model\n",
        "t_excitation: \n",
        "delta_list: 20\n",
        "delta_i: 19379846.5188\n",
        "r3: "
       ]
      },
      {
       "output_type": "stream",
       "stream": "stdout",
       "text": [
        "\n",
        "delta_i: 17441861.8669\n",
        "r3: "
       ]
      },
      {
       "output_type": "stream",
       "stream": "stdout",
       "text": [
        "\n",
        "delta_i: 15503877.215\n",
        "r3: "
       ]
      },
      {
       "output_type": "stream",
       "stream": "stdout",
       "text": [
        "\n",
        "delta_i: 13565892.5632\n",
        "r3: "
       ]
      },
      {
       "output_type": "stream",
       "stream": "stdout",
       "text": [
        "\n",
        "delta_i: 11627907.9113\n",
        "r3: "
       ]
      },
      {
       "output_type": "stream",
       "stream": "stdout",
       "text": [
        "\n",
        "delta_i: 9689923.2594\n",
        "r3: "
       ]
      },
      {
       "output_type": "stream",
       "stream": "stdout",
       "text": [
        "\n",
        "delta_i: 7751938.60752\n",
        "r3: "
       ]
      },
      {
       "output_type": "stream",
       "stream": "stdout",
       "text": [
        "\n",
        "delta_i: 5813953.95564\n",
        "r3: "
       ]
      },
      {
       "output_type": "stream",
       "stream": "stdout",
       "text": [
        "\n",
        "delta_i: 3875969.30376\n",
        "r3: \n",
        "delta_i: 1937984.65188\n",
        "r3: "
       ]
      },
      {
       "output_type": "stream",
       "stream": "stdout",
       "text": [
        "\n",
        "delta_i: 0.0\n",
        "r3: \n",
        "delta_i: -1937984.65188\n",
        "r3: \n",
        "delta_i: -3875969.30376\n",
        "r3: "
       ]
      },
      {
       "output_type": "stream",
       "stream": "stdout",
       "text": [
        "\n",
        "delta_i: -5813953.95564\n",
        "r3: \n",
        "delta_i: -7751938.60752\n",
        "r3: "
       ]
      },
      {
       "output_type": "stream",
       "stream": "stdout",
       "text": [
        "\n",
        "delta_i: -9689923.2594\n",
        "r3: "
       ]
      },
      {
       "output_type": "stream",
       "stream": "stdout",
       "text": [
        "\n",
        "delta_i: -11627907.9113\n",
        "r3: "
       ]
      },
      {
       "output_type": "stream",
       "stream": "stdout",
       "text": [
        "\n",
        "delta_i: -13565892.5632\n",
        "r3: "
       ]
      },
      {
       "output_type": "stream",
       "stream": "stdout",
       "text": [
        "\n",
        "delta_i: -15503877.215\n",
        "r3: "
       ]
      },
      {
       "output_type": "stream",
       "stream": "stdout",
       "text": [
        "\n",
        "delta_i: -17441861.8669\n",
        "r3: "
       ]
      },
      {
       "output_type": "stream",
       "stream": "stdout",
       "text": [
        "\n",
        "inside model\n",
        "t_excitation: \n",
        "delta_list: 20\n",
        "delta_i: 19379846.5188\n",
        "r3: "
       ]
      },
      {
       "output_type": "stream",
       "stream": "stdout",
       "text": [
        "\n",
        "delta_i: 17441861.8669\n",
        "r3: "
       ]
      },
      {
       "output_type": "stream",
       "stream": "stdout",
       "text": [
        "\n",
        "delta_i: 15503877.215\n",
        "r3: "
       ]
      },
      {
       "output_type": "stream",
       "stream": "stdout",
       "text": [
        "\n",
        "delta_i: 13565892.5632\n",
        "r3: "
       ]
      },
      {
       "output_type": "stream",
       "stream": "stdout",
       "text": [
        "\n",
        "delta_i: 11627907.9113\n",
        "r3: "
       ]
      },
      {
       "output_type": "stream",
       "stream": "stdout",
       "text": [
        "\n",
        "delta_i: 9689923.2594\n",
        "r3: "
       ]
      },
      {
       "output_type": "stream",
       "stream": "stdout",
       "text": [
        "\n",
        "delta_i: 7751938.60752\n",
        "r3: "
       ]
      },
      {
       "output_type": "stream",
       "stream": "stdout",
       "text": [
        "\n",
        "delta_i: 5813953.95564\n",
        "r3: "
       ]
      },
      {
       "output_type": "stream",
       "stream": "stdout",
       "text": [
        "\n",
        "delta_i: 3875969.30376\n",
        "r3: \n",
        "delta_i: 1937984.65188\n",
        "r3: "
       ]
      },
      {
       "output_type": "stream",
       "stream": "stdout",
       "text": [
        "\n",
        "delta_i: 0.0\n",
        "r3: \n",
        "delta_i: -1937984.65188\n",
        "r3: \n",
        "delta_i: -3875969.30376\n",
        "r3: \n",
        "delta_i: -5813953.95564\n",
        "r3: "
       ]
      },
      {
       "output_type": "stream",
       "stream": "stdout",
       "text": [
        "\n",
        "delta_i: -7751938.60752\n",
        "r3: \n",
        "delta_i: -9689923.2594\n",
        "r3: "
       ]
      },
      {
       "output_type": "stream",
       "stream": "stdout",
       "text": [
        "\n",
        "delta_i: -11627907.9113\n",
        "r3: "
       ]
      },
      {
       "output_type": "stream",
       "stream": "stdout",
       "text": [
        "\n",
        "delta_i: -13565892.5632\n",
        "r3: "
       ]
      },
      {
       "output_type": "stream",
       "stream": "stdout",
       "text": [
        "\n",
        "delta_i: -15503877.215\n",
        "r3: "
       ]
      },
      {
       "output_type": "stream",
       "stream": "stdout",
       "text": [
        "\n",
        "delta_i: -17441861.8669\n",
        "r3: "
       ]
      },
      {
       "output_type": "stream",
       "stream": "stdout",
       "text": [
        "\n",
        "inside model\n",
        "t_excitation: \n",
        "delta_list: 20\n",
        "delta_i: 19379846.23\n",
        "r3: "
       ]
      },
      {
       "output_type": "stream",
       "stream": "stdout",
       "text": [
        "\n",
        "delta_i: 17441861.607\n",
        "r3: "
       ]
      },
      {
       "output_type": "stream",
       "stream": "stdout",
       "text": [
        "\n",
        "delta_i: 15503876.984\n",
        "r3: "
       ]
      },
      {
       "output_type": "stream",
       "stream": "stdout",
       "text": [
        "\n",
        "delta_i: 13565892.361\n",
        "r3: "
       ]
      },
      {
       "output_type": "stream",
       "stream": "stdout",
       "text": [
        "\n",
        "delta_i: 11627907.738\n",
        "r3: "
       ]
      },
      {
       "output_type": "stream",
       "stream": "stdout",
       "text": [
        "\n",
        "delta_i: 9689923.11501\n",
        "r3: "
       ]
      },
      {
       "output_type": "stream",
       "stream": "stdout",
       "text": [
        "\n",
        "delta_i: 7751938.49201\n",
        "r3: "
       ]
      },
      {
       "output_type": "stream",
       "stream": "stdout",
       "text": [
        "\n",
        "delta_i: 5813953.869\n",
        "r3: \n",
        "delta_i: 3875969.246\n",
        "r3: "
       ]
      },
      {
       "output_type": "stream",
       "stream": "stdout",
       "text": [
        "\n",
        "delta_i: 1937984.623\n",
        "r3: \n",
        "delta_i: 1.49011611938e-08\n",
        "r3: \n",
        "delta_i: -1937984.623\n",
        "r3: \n",
        "delta_i: -3875969.246\n",
        "r3: "
       ]
      },
      {
       "output_type": "stream",
       "stream": "stdout",
       "text": [
        "\n",
        "delta_i: -5813953.869\n",
        "r3: "
       ]
      },
      {
       "output_type": "stream",
       "stream": "stdout",
       "text": [
        "\n",
        "delta_i: -7751938.49201\n",
        "r3: "
       ]
      },
      {
       "output_type": "stream",
       "stream": "stdout",
       "text": [
        "\n",
        "delta_i: -9689923.11501\n",
        "r3: "
       ]
      },
      {
       "output_type": "stream",
       "stream": "stdout",
       "text": [
        "\n",
        "delta_i: -11627907.738\n",
        "r3: "
       ]
      },
      {
       "output_type": "stream",
       "stream": "stdout",
       "text": [
        "\n",
        "delta_i: -13565892.361\n",
        "r3: "
       ]
      },
      {
       "output_type": "stream",
       "stream": "stdout",
       "text": [
        "\n",
        "delta_i: -15503876.984\n",
        "r3: "
       ]
      },
      {
       "output_type": "stream",
       "stream": "stdout",
       "text": [
        "\n",
        "delta_i: -17441861.607\n",
        "r3: "
       ]
      },
      {
       "output_type": "stream",
       "stream": "stdout",
       "text": [
        "\n",
        "inside model\n",
        "t_excitation: \n",
        "delta_list: 20\n",
        "delta_i: 19379846.5188\n",
        "r3: "
       ]
      },
      {
       "output_type": "stream",
       "stream": "stdout",
       "text": [
        "\n",
        "delta_i: 17441861.8669\n",
        "r3: "
       ]
      },
      {
       "output_type": "stream",
       "stream": "stdout",
       "text": [
        "\n",
        "delta_i: 15503877.215\n",
        "r3: "
       ]
      },
      {
       "output_type": "stream",
       "stream": "stdout",
       "text": [
        "\n",
        "delta_i: 13565892.5632\n",
        "r3: "
       ]
      },
      {
       "output_type": "stream",
       "stream": "stdout",
       "text": [
        "\n",
        "delta_i: 11627907.9113\n",
        "r3: "
       ]
      },
      {
       "output_type": "stream",
       "stream": "stdout",
       "text": [
        "\n",
        "delta_i: 9689923.2594\n",
        "r3: "
       ]
      },
      {
       "output_type": "stream",
       "stream": "stdout",
       "text": [
        "\n",
        "delta_i: 7751938.60752\n",
        "r3: \n",
        "delta_i: 5813953.95564\n",
        "r3: "
       ]
      },
      {
       "output_type": "stream",
       "stream": "stdout",
       "text": [
        "\n",
        "delta_i: 3875969.30376\n",
        "r3: \n",
        "delta_i: 1937984.65188\n",
        "r3: \n",
        "delta_i: 0.0\n",
        "r3: \n",
        "delta_i: -1937984.65188\n",
        "r3: "
       ]
      },
      {
       "output_type": "stream",
       "stream": "stdout",
       "text": [
        "\n",
        "delta_i: -3875969.30376\n",
        "r3: \n",
        "delta_i: -5813953.95564\n",
        "r3: "
       ]
      },
      {
       "output_type": "stream",
       "stream": "stdout",
       "text": [
        "\n",
        "delta_i: -7751938.60752\n",
        "r3: "
       ]
      },
      {
       "output_type": "stream",
       "stream": "stdout",
       "text": [
        "\n",
        "delta_i: -9689923.2594\n",
        "r3: "
       ]
      },
      {
       "output_type": "stream",
       "stream": "stdout",
       "text": [
        "\n",
        "delta_i: -11627907.9113\n",
        "r3: "
       ]
      },
      {
       "output_type": "stream",
       "stream": "stdout",
       "text": [
        "\n",
        "delta_i: -13565892.5632\n",
        "r3: "
       ]
      },
      {
       "output_type": "stream",
       "stream": "stdout",
       "text": [
        "\n",
        "delta_i: -15503877.215\n",
        "r3: "
       ]
      },
      {
       "output_type": "stream",
       "stream": "stdout",
       "text": [
        "\n",
        "delta_i: -17441861.8669\n",
        "r3: "
       ]
      },
      {
       "output_type": "stream",
       "stream": "stdout",
       "text": [
        "\n",
        "inside model\n",
        "t_excitation: \n",
        "delta_list: 20\n",
        "delta_i: 20310697.6308\n",
        "r3: "
       ]
      },
      {
       "output_type": "stream",
       "stream": "stdout",
       "text": [
        "\n",
        "delta_i: 18279627.8677\n",
        "r3: "
       ]
      },
      {
       "output_type": "stream",
       "stream": "stdout",
       "text": [
        "\n",
        "delta_i: 16248558.1046\n",
        "r3: "
       ]
      },
      {
       "output_type": "stream",
       "stream": "stdout",
       "text": [
        "\n",
        "delta_i: 14217488.3416\n",
        "r3: "
       ]
      },
      {
       "output_type": "stream",
       "stream": "stdout",
       "text": [
        "\n",
        "delta_i: 12186418.5785\n",
        "r3: "
       ]
      },
      {
       "output_type": "stream",
       "stream": "stdout",
       "text": [
        "\n",
        "delta_i: 10155348.8154\n",
        "r3: "
       ]
      },
      {
       "output_type": "stream",
       "stream": "stdout",
       "text": [
        "\n",
        "delta_i: 8124279.05232\n",
        "r3: "
       ]
      },
      {
       "output_type": "stream",
       "stream": "stdout",
       "text": [
        "\n",
        "delta_i: 6093209.28924\n",
        "r3: \n",
        "delta_i: 4062139.52616\n",
        "r3: "
       ]
      },
      {
       "output_type": "stream",
       "stream": "stdout",
       "text": [
        "\n",
        "delta_i: 2031069.76308\n",
        "r3: \n",
        "delta_i: 3.72529029846e-09\n",
        "r3: \n",
        "delta_i: -2031069.76308\n",
        "r3: \n",
        "delta_i: -4062139.52616\n",
        "r3: "
       ]
      },
      {
       "output_type": "stream",
       "stream": "stdout",
       "text": [
        "\n",
        "delta_i: -6093209.28924\n",
        "r3: \n",
        "delta_i: -8124279.05232\n",
        "r3: "
       ]
      },
      {
       "output_type": "stream",
       "stream": "stdout",
       "text": [
        "\n",
        "delta_i: -10155348.8154\n",
        "r3: "
       ]
      },
      {
       "output_type": "stream",
       "stream": "stdout",
       "text": [
        "\n",
        "delta_i: -12186418.5785\n",
        "r3: "
       ]
      },
      {
       "output_type": "stream",
       "stream": "stdout",
       "text": [
        "\n",
        "delta_i: -14217488.3416\n",
        "r3: "
       ]
      },
      {
       "output_type": "stream",
       "stream": "stdout",
       "text": [
        "\n",
        "delta_i: -16248558.1046\n",
        "r3: "
       ]
      },
      {
       "output_type": "stream",
       "stream": "stdout",
       "text": [
        "\n",
        "delta_i: -18279627.8677\n",
        "r3: "
       ]
      },
      {
       "output_type": "stream",
       "stream": "stdout",
       "text": [
        "\n",
        "inside model\n",
        "t_excitation: \n",
        "delta_list: 20\n",
        "delta_i: 19750035.4917\n",
        "r3: "
       ]
      },
      {
       "output_type": "stream",
       "stream": "stdout",
       "text": [
        "\n",
        "delta_i: 17775031.9425\n",
        "r3: "
       ]
      },
      {
       "output_type": "stream",
       "stream": "stdout",
       "text": [
        "\n",
        "delta_i: 15800028.3933\n",
        "r3: "
       ]
      },
      {
       "output_type": "stream",
       "stream": "stdout",
       "text": [
        "\n",
        "delta_i: 13825024.8442\n",
        "r3: "
       ]
      },
      {
       "output_type": "stream",
       "stream": "stdout",
       "text": [
        "\n",
        "delta_i: 11850021.295\n",
        "r3: "
       ]
      },
      {
       "output_type": "stream",
       "stream": "stdout",
       "text": [
        "\n",
        "delta_i: 9875017.74584\n",
        "r3: "
       ]
      },
      {
       "output_type": "stream",
       "stream": "stdout",
       "text": [
        "\n",
        "delta_i: 7900014.19667\n",
        "r3: "
       ]
      },
      {
       "output_type": "stream",
       "stream": "stdout",
       "text": [
        "\n",
        "delta_i: 5925010.6475\n",
        "r3: \n",
        "delta_i: 3950007.09834\n",
        "r3: "
       ]
      },
      {
       "output_type": "stream",
       "stream": "stdout",
       "text": [
        "\n",
        "delta_i: 1975003.54917\n",
        "r3: \n",
        "delta_i: 1.11758708954e-08\n",
        "r3: \n",
        "delta_i: -1975003.54917\n",
        "r3: \n",
        "delta_i: -3950007.09834\n",
        "r3: "
       ]
      },
      {
       "output_type": "stream",
       "stream": "stdout",
       "text": [
        "\n",
        "delta_i: -5925010.6475\n",
        "r3: \n",
        "delta_i: -7900014.19667\n",
        "r3: "
       ]
      },
      {
       "output_type": "stream",
       "stream": "stdout",
       "text": [
        "\n",
        "delta_i: -9875017.74584\n",
        "r3: "
       ]
      },
      {
       "output_type": "stream",
       "stream": "stdout",
       "text": [
        "\n",
        "delta_i: -11850021.295\n",
        "r3: "
       ]
      },
      {
       "output_type": "stream",
       "stream": "stdout",
       "text": [
        "\n",
        "delta_i: -13825024.8442\n",
        "r3: "
       ]
      },
      {
       "output_type": "stream",
       "stream": "stdout",
       "text": [
        "\n",
        "delta_i: -15800028.3933\n",
        "r3: "
       ]
      },
      {
       "output_type": "stream",
       "stream": "stdout",
       "text": [
        "\n",
        "delta_i: -17775031.9425\n",
        "r3: "
       ]
      },
      {
       "output_type": "stream",
       "stream": "stdout",
       "text": [
        "\n",
        "inside model\n",
        "t_excitation: \n",
        "delta_list: 20\n",
        "delta_i: 19750035.4917\n",
        "r3: "
       ]
      },
      {
       "output_type": "stream",
       "stream": "stdout",
       "text": [
        "\n",
        "delta_i: 17775031.9425\n",
        "r3: "
       ]
      },
      {
       "output_type": "stream",
       "stream": "stdout",
       "text": [
        "\n",
        "delta_i: 15800028.3933\n",
        "r3: "
       ]
      },
      {
       "output_type": "stream",
       "stream": "stdout",
       "text": [
        "\n",
        "delta_i: 13825024.8442\n",
        "r3: "
       ]
      },
      {
       "output_type": "stream",
       "stream": "stdout",
       "text": [
        "\n",
        "delta_i: 11850021.295\n",
        "r3: "
       ]
      },
      {
       "output_type": "stream",
       "stream": "stdout",
       "text": [
        "\n",
        "delta_i: 9875017.74584\n",
        "r3: "
       ]
      },
      {
       "output_type": "stream",
       "stream": "stdout",
       "text": [
        "\n",
        "delta_i: 7900014.19667\n",
        "r3: \n",
        "delta_i: 5925010.6475\n",
        "r3: "
       ]
      },
      {
       "output_type": "stream",
       "stream": "stdout",
       "text": [
        "\n",
        "delta_i: 3950007.09834\n",
        "r3: \n",
        "delta_i: 1975003.54917\n",
        "r3: "
       ]
      },
      {
       "output_type": "stream",
       "stream": "stdout",
       "text": [
        "\n",
        "delta_i: 1.11758708954e-08\n",
        "r3: \n",
        "delta_i: -1975003.54917\n",
        "r3: \n",
        "delta_i: -3950007.09834\n",
        "r3: "
       ]
      },
      {
       "output_type": "stream",
       "stream": "stdout",
       "text": [
        "\n",
        "delta_i: -5925010.6475\n",
        "r3: \n",
        "delta_i: -7900014.19667\n",
        "r3: "
       ]
      },
      {
       "output_type": "stream",
       "stream": "stdout",
       "text": [
        "\n",
        "delta_i: -9875017.74584\n",
        "r3: "
       ]
      },
      {
       "output_type": "stream",
       "stream": "stdout",
       "text": [
        "\n",
        "delta_i: -11850021.295\n",
        "r3: "
       ]
      },
      {
       "output_type": "stream",
       "stream": "stdout",
       "text": [
        "\n",
        "delta_i: -13825024.8442\n",
        "r3: "
       ]
      },
      {
       "output_type": "stream",
       "stream": "stdout",
       "text": [
        "\n",
        "delta_i: -15800028.3933\n",
        "r3: "
       ]
      },
      {
       "output_type": "stream",
       "stream": "stdout",
       "text": [
        "\n",
        "delta_i: -17775031.9425\n",
        "r3: "
       ]
      },
      {
       "output_type": "stream",
       "stream": "stdout",
       "text": [
        "\n",
        "inside model\n",
        "t_excitation: \n",
        "delta_list: 20\n",
        "delta_i: 19750035.4917\n",
        "r3: "
       ]
      },
      {
       "output_type": "stream",
       "stream": "stdout",
       "text": [
        "\n",
        "delta_i: 17775031.9425\n",
        "r3: "
       ]
      },
      {
       "output_type": "stream",
       "stream": "stdout",
       "text": [
        "\n",
        "delta_i: 15800028.3933\n",
        "r3: "
       ]
      },
      {
       "output_type": "stream",
       "stream": "stdout",
       "text": [
        "\n",
        "delta_i: 13825024.8442\n",
        "r3: "
       ]
      },
      {
       "output_type": "stream",
       "stream": "stdout",
       "text": [
        "\n",
        "delta_i: 11850021.295\n",
        "r3: "
       ]
      },
      {
       "output_type": "stream",
       "stream": "stdout",
       "text": [
        "\n",
        "delta_i: 9875017.74584\n",
        "r3: "
       ]
      },
      {
       "output_type": "stream",
       "stream": "stdout",
       "text": [
        "\n",
        "delta_i: 7900014.19667\n",
        "r3: "
       ]
      },
      {
       "output_type": "stream",
       "stream": "stdout",
       "text": [
        "\n",
        "delta_i: 5925010.6475\n",
        "r3: \n",
        "delta_i: 3950007.09834\n",
        "r3: "
       ]
      },
      {
       "output_type": "stream",
       "stream": "stdout",
       "text": [
        "\n",
        "delta_i: 1975003.54917\n",
        "r3: \n",
        "delta_i: 1.11758708954e-08\n",
        "r3: \n",
        "delta_i: -1975003.54917\n",
        "r3: \n",
        "delta_i: -3950007.09834\n",
        "r3: "
       ]
      },
      {
       "output_type": "stream",
       "stream": "stdout",
       "text": [
        "\n",
        "delta_i: -5925010.6475\n",
        "r3: \n",
        "delta_i: -7900014.19667\n",
        "r3: "
       ]
      },
      {
       "output_type": "stream",
       "stream": "stdout",
       "text": [
        "\n",
        "delta_i: -9875017.74584\n",
        "r3: "
       ]
      },
      {
       "output_type": "stream",
       "stream": "stdout",
       "text": [
        "\n",
        "delta_i: -11850021.295\n",
        "r3: "
       ]
      },
      {
       "output_type": "stream",
       "stream": "stdout",
       "text": [
        "\n",
        "delta_i: -13825024.8442\n",
        "r3: "
       ]
      },
      {
       "output_type": "stream",
       "stream": "stdout",
       "text": [
        "\n",
        "delta_i: -15800028.3933\n",
        "r3: "
       ]
      },
      {
       "output_type": "stream",
       "stream": "stdout",
       "text": [
        "\n",
        "delta_i: -17775031.9425\n",
        "r3: "
       ]
      },
      {
       "output_type": "stream",
       "stream": "stdout",
       "text": [
        "\n",
        "inside model\n",
        "t_excitation: \n",
        "delta_list: 20\n",
        "delta_i: 19750035.4917\n",
        "r3: "
       ]
      },
      {
       "output_type": "stream",
       "stream": "stdout",
       "text": [
        "\n",
        "delta_i: 17775031.9425\n",
        "r3: "
       ]
      },
      {
       "output_type": "stream",
       "stream": "stdout",
       "text": [
        "\n",
        "delta_i: 15800028.3933\n",
        "r3: "
       ]
      },
      {
       "output_type": "stream",
       "stream": "stdout",
       "text": [
        "\n",
        "delta_i: 13825024.8442\n",
        "r3: "
       ]
      },
      {
       "output_type": "stream",
       "stream": "stdout",
       "text": [
        "\n",
        "delta_i: 11850021.295\n",
        "r3: "
       ]
      },
      {
       "output_type": "stream",
       "stream": "stdout",
       "text": [
        "\n",
        "delta_i: 9875017.74584\n",
        "r3: "
       ]
      },
      {
       "output_type": "stream",
       "stream": "stdout",
       "text": [
        "\n",
        "delta_i: 7900014.19667\n",
        "r3: \n",
        "delta_i: 5925010.6475\n",
        "r3: "
       ]
      },
      {
       "output_type": "stream",
       "stream": "stdout",
       "text": [
        "\n",
        "delta_i: 3950007.09834\n",
        "r3: \n",
        "delta_i: 1975003.54917\n",
        "r3: \n",
        "delta_i: 1.11758708954e-08\n",
        "r3: \n",
        "delta_i: -1975003.54917\n",
        "r3: "
       ]
      },
      {
       "output_type": "stream",
       "stream": "stdout",
       "text": [
        "\n",
        "delta_i: -3950007.09834\n",
        "r3: \n",
        "delta_i: -5925010.6475\n",
        "r3: "
       ]
      },
      {
       "output_type": "stream",
       "stream": "stdout",
       "text": [
        "\n",
        "delta_i: -7900014.19667\n",
        "r3: "
       ]
      },
      {
       "output_type": "stream",
       "stream": "stdout",
       "text": [
        "\n",
        "delta_i: -9875017.74584\n",
        "r3: "
       ]
      },
      {
       "output_type": "stream",
       "stream": "stdout",
       "text": [
        "\n",
        "delta_i: -11850021.295\n",
        "r3: "
       ]
      },
      {
       "output_type": "stream",
       "stream": "stdout",
       "text": [
        "\n",
        "delta_i: -13825024.8442\n",
        "r3: "
       ]
      },
      {
       "output_type": "stream",
       "stream": "stdout",
       "text": [
        "\n",
        "delta_i: -15800028.3933\n",
        "r3: "
       ]
      },
      {
       "output_type": "stream",
       "stream": "stdout",
       "text": [
        "\n",
        "delta_i: -17775031.9425\n",
        "r3: "
       ]
      },
      {
       "output_type": "stream",
       "stream": "stdout",
       "text": [
        "\n",
        "inside model\n",
        "t_excitation: \n",
        "delta_list: 20\n",
        "delta_i: 19750035.1974\n",
        "r3: "
       ]
      },
      {
       "output_type": "stream",
       "stream": "stdout",
       "text": [
        "\n",
        "delta_i: 17775031.6776\n",
        "r3: "
       ]
      },
      {
       "output_type": "stream",
       "stream": "stdout",
       "text": [
        "\n",
        "delta_i: 15800028.1579\n",
        "r3: "
       ]
      },
      {
       "output_type": "stream",
       "stream": "stdout",
       "text": [
        "\n",
        "delta_i: 13825024.6382\n",
        "r3: "
       ]
      },
      {
       "output_type": "stream",
       "stream": "stdout",
       "text": [
        "\n",
        "delta_i: 11850021.1184\n",
        "r3: "
       ]
      },
      {
       "output_type": "stream",
       "stream": "stdout",
       "text": [
        "\n",
        "delta_i: 9875017.59869\n",
        "r3: "
       ]
      },
      {
       "output_type": "stream",
       "stream": "stdout",
       "text": [
        "\n",
        "delta_i: 7900014.07895\n",
        "r3: \n",
        "delta_i: 5925010.55921\n",
        "r3: "
       ]
      },
      {
       "output_type": "stream",
       "stream": "stdout",
       "text": [
        "\n",
        "delta_i: 3950007.03948\n",
        "r3: \n",
        "delta_i: 1975003.51974\n",
        "r3: "
       ]
      },
      {
       "output_type": "stream",
       "stream": "stdout",
       "text": [
        "\n",
        "delta_i: 0.0\n",
        "r3: \n",
        "delta_i: -1975003.51974\n",
        "r3: \n",
        "delta_i: -3950007.03948\n",
        "r3: \n",
        "delta_i: -5925010.55921\n",
        "r3: "
       ]
      },
      {
       "output_type": "stream",
       "stream": "stdout",
       "text": [
        "\n",
        "delta_i: -7900014.07895\n",
        "r3: \n",
        "delta_i: -9875017.59869\n",
        "r3: "
       ]
      },
      {
       "output_type": "stream",
       "stream": "stdout",
       "text": [
        "\n",
        "delta_i: -11850021.1184\n",
        "r3: "
       ]
      },
      {
       "output_type": "stream",
       "stream": "stdout",
       "text": [
        "\n",
        "delta_i: -13825024.6382\n",
        "r3: "
       ]
      },
      {
       "output_type": "stream",
       "stream": "stdout",
       "text": [
        "\n",
        "delta_i: -15800028.1579\n",
        "r3: "
       ]
      },
      {
       "output_type": "stream",
       "stream": "stdout",
       "text": [
        "\n",
        "delta_i: -17775031.6776\n",
        "r3: "
       ]
      },
      {
       "output_type": "stream",
       "stream": "stdout",
       "text": [
        "\n",
        "inside model\n",
        "t_excitation: \n",
        "delta_list: 20\n",
        "delta_i: 19750035.4917\n",
        "r3: "
       ]
      },
      {
       "output_type": "stream",
       "stream": "stdout",
       "text": [
        "\n",
        "delta_i: 17775031.9425\n",
        "r3: "
       ]
      },
      {
       "output_type": "stream",
       "stream": "stdout",
       "text": [
        "\n",
        "delta_i: 15800028.3933\n",
        "r3: "
       ]
      },
      {
       "output_type": "stream",
       "stream": "stdout",
       "text": [
        "\n",
        "delta_i: 13825024.8442\n",
        "r3: "
       ]
      },
      {
       "output_type": "stream",
       "stream": "stdout",
       "text": [
        "\n",
        "delta_i: 11850021.295\n",
        "r3: "
       ]
      },
      {
       "output_type": "stream",
       "stream": "stdout",
       "text": [
        "\n",
        "delta_i: 9875017.74584\n",
        "r3: "
       ]
      },
      {
       "output_type": "stream",
       "stream": "stdout",
       "text": [
        "\n",
        "delta_i: 7900014.19667\n",
        "r3: \n",
        "delta_i: 5925010.6475\n",
        "r3: "
       ]
      },
      {
       "output_type": "stream",
       "stream": "stdout",
       "text": [
        "\n",
        "delta_i: 3950007.09834\n",
        "r3: \n",
        "delta_i: 1975003.54917\n",
        "r3: \n",
        "delta_i: 1.11758708954e-08\n",
        "r3: \n",
        "delta_i: -1975003.54917\n",
        "r3: "
       ]
      },
      {
       "output_type": "stream",
       "stream": "stdout",
       "text": [
        "\n",
        "delta_i: -3950007.09834\n",
        "r3: \n",
        "delta_i: -5925010.6475\n",
        "r3: "
       ]
      },
      {
       "output_type": "stream",
       "stream": "stdout",
       "text": [
        "\n",
        "delta_i: -7900014.19667\n",
        "r3: \n",
        "delta_i: -9875017.74584\n",
        "r3: "
       ]
      },
      {
       "output_type": "stream",
       "stream": "stdout",
       "text": [
        "\n",
        "delta_i: -11850021.295\n",
        "r3: "
       ]
      },
      {
       "output_type": "stream",
       "stream": "stdout",
       "text": [
        "\n",
        "delta_i: -13825024.8442\n",
        "r3: "
       ]
      },
      {
       "output_type": "stream",
       "stream": "stdout",
       "text": [
        "\n",
        "delta_i: -15800028.3933\n",
        "r3: "
       ]
      },
      {
       "output_type": "stream",
       "stream": "stdout",
       "text": [
        "\n",
        "delta_i: -17775031.9425\n",
        "r3: "
       ]
      },
      {
       "output_type": "stream",
       "stream": "stdout",
       "text": [
        "\n",
        "inside model\n",
        "t_excitation: \n",
        "delta_list: 20\n",
        "delta_i: 19938724.9644\n",
        "r3: "
       ]
      },
      {
       "output_type": "stream",
       "stream": "stdout",
       "text": [
        "\n",
        "delta_i: 17944852.468\n",
        "r3: "
       ]
      },
      {
       "output_type": "stream",
       "stream": "stdout",
       "text": [
        "\n",
        "delta_i: 15950979.9716\n",
        "r3: "
       ]
      },
      {
       "output_type": "stream",
       "stream": "stdout",
       "text": [
        "\n",
        "delta_i: 13957107.4751\n",
        "r3: "
       ]
      },
      {
       "output_type": "stream",
       "stream": "stdout",
       "text": [
        "\n",
        "delta_i: 11963234.9787\n",
        "r3: "
       ]
      },
      {
       "output_type": "stream",
       "stream": "stdout",
       "text": [
        "\n",
        "delta_i: 9969362.48222\n",
        "r3: "
       ]
      },
      {
       "output_type": "stream",
       "stream": "stdout",
       "text": [
        "\n",
        "delta_i: 7975489.98578\n",
        "r3: \n",
        "delta_i: 5981617.48933\n",
        "r3: "
       ]
      },
      {
       "output_type": "stream",
       "stream": "stdout",
       "text": [
        "\n",
        "delta_i: 3987744.99289\n",
        "r3: \n",
        "delta_i: 1993872.49644\n",
        "r3: \n",
        "delta_i: -7.45058059692e-09\n",
        "r3: \n",
        "delta_i: -1993872.49644\n",
        "r3: "
       ]
      },
      {
       "output_type": "stream",
       "stream": "stdout",
       "text": [
        "\n",
        "delta_i: -3987744.99289\n",
        "r3: \n",
        "delta_i: -5981617.48933\n",
        "r3: "
       ]
      },
      {
       "output_type": "stream",
       "stream": "stdout",
       "text": [
        "\n",
        "delta_i: -7975489.98578\n",
        "r3: \n",
        "delta_i: -9969362.48222\n",
        "r3: "
       ]
      },
      {
       "output_type": "stream",
       "stream": "stdout",
       "text": [
        "\n",
        "delta_i: -11963234.9787\n",
        "r3: "
       ]
      },
      {
       "output_type": "stream",
       "stream": "stdout",
       "text": [
        "\n",
        "delta_i: -13957107.4751\n",
        "r3: "
       ]
      },
      {
       "output_type": "stream",
       "stream": "stdout",
       "text": [
        "\n",
        "delta_i: -15950979.9716\n",
        "r3: "
       ]
      },
      {
       "output_type": "stream",
       "stream": "stdout",
       "text": [
        "\n",
        "delta_i: -17944852.468\n",
        "r3: "
       ]
      },
      {
       "output_type": "stream",
       "stream": "stdout",
       "text": [
        "\n",
        "inside model\n",
        "t_excitation: \n",
        "delta_list: 20\n",
        "delta_i: 19793046.1031\n",
        "r3: "
       ]
      },
      {
       "output_type": "stream",
       "stream": "stdout",
       "text": [
        "\n",
        "delta_i: 17813741.4928\n",
        "r3: "
       ]
      },
      {
       "output_type": "stream",
       "stream": "stdout",
       "text": [
        "\n",
        "delta_i: 15834436.8825\n",
        "r3: "
       ]
      },
      {
       "output_type": "stream",
       "stream": "stdout",
       "text": [
        "\n",
        "delta_i: 13855132.2722\n",
        "r3: "
       ]
      },
      {
       "output_type": "stream",
       "stream": "stdout",
       "text": [
        "\n",
        "delta_i: 11875827.6619\n",
        "r3: "
       ]
      },
      {
       "output_type": "stream",
       "stream": "stdout",
       "text": [
        "\n",
        "delta_i: 9896523.05156\n",
        "r3: "
       ]
      },
      {
       "output_type": "stream",
       "stream": "stdout",
       "text": [
        "\n",
        "delta_i: 7917218.44125\n",
        "r3: \n",
        "delta_i: 5937913.83094\n",
        "r3: "
       ]
      },
      {
       "output_type": "stream",
       "stream": "stdout",
       "text": [
        "\n",
        "delta_i: 3958609.22063\n",
        "r3: \n",
        "delta_i: 1979304.61031\n",
        "r3: \n",
        "delta_i: 1.49011611938e-08\n",
        "r3: \n",
        "delta_i: -1979304.61031\n",
        "r3: "
       ]
      },
      {
       "output_type": "stream",
       "stream": "stdout",
       "text": [
        "\n",
        "delta_i: -3958609.22063\n",
        "r3: \n",
        "delta_i: -5937913.83094\n",
        "r3: "
       ]
      },
      {
       "output_type": "stream",
       "stream": "stdout",
       "text": [
        "\n",
        "delta_i: -7917218.44125\n",
        "r3: "
       ]
      },
      {
       "output_type": "stream",
       "stream": "stdout",
       "text": [
        "\n",
        "delta_i: -9896523.05156\n",
        "r3: "
       ]
      },
      {
       "output_type": "stream",
       "stream": "stdout",
       "text": [
        "\n",
        "delta_i: -11875827.6619\n",
        "r3: "
       ]
      },
      {
       "output_type": "stream",
       "stream": "stdout",
       "text": [
        "\n",
        "delta_i: -13855132.2722\n",
        "r3: "
       ]
      },
      {
       "output_type": "stream",
       "stream": "stdout",
       "text": [
        "\n",
        "delta_i: -15834436.8825\n",
        "r3: "
       ]
      },
      {
       "output_type": "stream",
       "stream": "stdout",
       "text": [
        "\n",
        "delta_i: -17813741.4928\n",
        "r3: "
       ]
      },
      {
       "output_type": "stream",
       "stream": "stdout",
       "text": [
        "\n",
        "inside model\n",
        "t_excitation: \n",
        "delta_list: 20\n",
        "delta_i: 19793046.1031\n",
        "r3: "
       ]
      },
      {
       "output_type": "stream",
       "stream": "stdout",
       "text": [
        "\n",
        "delta_i: 17813741.4928\n",
        "r3: "
       ]
      },
      {
       "output_type": "stream",
       "stream": "stdout",
       "text": [
        "\n",
        "delta_i: 15834436.8825\n",
        "r3: "
       ]
      },
      {
       "output_type": "stream",
       "stream": "stdout",
       "text": [
        "\n",
        "delta_i: 13855132.2722\n",
        "r3: "
       ]
      },
      {
       "output_type": "stream",
       "stream": "stdout",
       "text": [
        "\n",
        "delta_i: 11875827.6619\n",
        "r3: "
       ]
      },
      {
       "output_type": "stream",
       "stream": "stdout",
       "text": [
        "\n",
        "delta_i: 9896523.05156\n",
        "r3: "
       ]
      },
      {
       "output_type": "stream",
       "stream": "stdout",
       "text": [
        "\n",
        "delta_i: 7917218.44125\n",
        "r3: \n",
        "delta_i: 5937913.83094\n",
        "r3: "
       ]
      },
      {
       "output_type": "stream",
       "stream": "stdout",
       "text": [
        "\n",
        "delta_i: 3958609.22063\n",
        "r3: \n",
        "delta_i: 1979304.61031\n",
        "r3: \n",
        "delta_i: 1.49011611938e-08\n",
        "r3: \n",
        "delta_i: -1979304.61031\n",
        "r3: "
       ]
      },
      {
       "output_type": "stream",
       "stream": "stdout",
       "text": [
        "\n",
        "delta_i: -3958609.22063\n",
        "r3: \n",
        "delta_i: -5937913.83094\n",
        "r3: "
       ]
      },
      {
       "output_type": "stream",
       "stream": "stdout",
       "text": [
        "\n",
        "delta_i: -7917218.44125\n",
        "r3: "
       ]
      },
      {
       "output_type": "stream",
       "stream": "stdout",
       "text": [
        "\n",
        "delta_i: -9896523.05156\n",
        "r3: "
       ]
      },
      {
       "output_type": "stream",
       "stream": "stdout",
       "text": [
        "\n",
        "delta_i: -11875827.6619\n",
        "r3: "
       ]
      },
      {
       "output_type": "stream",
       "stream": "stdout",
       "text": [
        "\n",
        "delta_i: -13855132.2722\n",
        "r3: "
       ]
      },
      {
       "output_type": "stream",
       "stream": "stdout",
       "text": [
        "\n",
        "delta_i: -15834436.8825\n",
        "r3: "
       ]
      },
      {
       "output_type": "stream",
       "stream": "stdout",
       "text": [
        "\n",
        "delta_i: -17813741.4928\n",
        "r3: "
       ]
      },
      {
       "output_type": "stream",
       "stream": "stdout",
       "text": [
        "\n",
        "inside model\n",
        "t_excitation: \n",
        "delta_list: 20\n",
        "delta_i: 19793046.1031\n",
        "r3: "
       ]
      },
      {
       "output_type": "stream",
       "stream": "stdout",
       "text": [
        "\n",
        "delta_i: 17813741.4928\n",
        "r3: "
       ]
      },
      {
       "output_type": "stream",
       "stream": "stdout",
       "text": [
        "\n",
        "delta_i: 15834436.8825\n",
        "r3: "
       ]
      },
      {
       "output_type": "stream",
       "stream": "stdout",
       "text": [
        "\n",
        "delta_i: 13855132.2722\n",
        "r3: "
       ]
      },
      {
       "output_type": "stream",
       "stream": "stdout",
       "text": [
        "\n",
        "delta_i: 11875827.6619\n",
        "r3: "
       ]
      },
      {
       "output_type": "stream",
       "stream": "stdout",
       "text": [
        "\n",
        "delta_i: 9896523.05156\n",
        "r3: "
       ]
      },
      {
       "output_type": "stream",
       "stream": "stdout",
       "text": [
        "\n",
        "delta_i: 7917218.44125\n",
        "r3: \n",
        "delta_i: 5937913.83094\n",
        "r3: "
       ]
      },
      {
       "output_type": "stream",
       "stream": "stdout",
       "text": [
        "\n",
        "delta_i: 3958609.22063\n",
        "r3: \n",
        "delta_i: 1979304.61031\n",
        "r3: \n",
        "delta_i: 1.49011611938e-08\n",
        "r3: \n",
        "delta_i: -1979304.61031\n",
        "r3: "
       ]
      },
      {
       "output_type": "stream",
       "stream": "stdout",
       "text": [
        "\n",
        "delta_i: -3958609.22063\n",
        "r3: \n",
        "delta_i: -5937913.83094\n",
        "r3: "
       ]
      },
      {
       "output_type": "stream",
       "stream": "stdout",
       "text": [
        "\n",
        "delta_i: -7917218.44125\n",
        "r3: \n",
        "delta_i: -9896523.05156\n",
        "r3: "
       ]
      },
      {
       "output_type": "stream",
       "stream": "stdout",
       "text": [
        "\n",
        "delta_i: -11875827.6619\n",
        "r3: "
       ]
      },
      {
       "output_type": "stream",
       "stream": "stdout",
       "text": [
        "\n",
        "delta_i: -13855132.2722\n",
        "r3: "
       ]
      },
      {
       "output_type": "stream",
       "stream": "stdout",
       "text": [
        "\n",
        "delta_i: -15834436.8825\n",
        "r3: "
       ]
      },
      {
       "output_type": "stream",
       "stream": "stdout",
       "text": [
        "\n",
        "delta_i: -17813741.4928\n",
        "r3: "
       ]
      },
      {
       "output_type": "stream",
       "stream": "stdout",
       "text": [
        "\n",
        "inside model\n",
        "t_excitation: \n",
        "delta_list: 20\n",
        "delta_i: 19793046.1031\n",
        "r3: "
       ]
      },
      {
       "output_type": "stream",
       "stream": "stdout",
       "text": [
        "\n",
        "delta_i: 17813741.4928\n",
        "r3: "
       ]
      },
      {
       "output_type": "stream",
       "stream": "stdout",
       "text": [
        "\n",
        "delta_i: 15834436.8825\n",
        "r3: "
       ]
      },
      {
       "output_type": "stream",
       "stream": "stdout",
       "text": [
        "\n",
        "delta_i: 13855132.2722\n",
        "r3: "
       ]
      },
      {
       "output_type": "stream",
       "stream": "stdout",
       "text": [
        "\n",
        "delta_i: 11875827.6619\n",
        "r3: "
       ]
      },
      {
       "output_type": "stream",
       "stream": "stdout",
       "text": [
        "\n",
        "delta_i: 9896523.05156\n",
        "r3: "
       ]
      },
      {
       "output_type": "stream",
       "stream": "stdout",
       "text": [
        "\n",
        "delta_i: 7917218.44125\n",
        "r3: \n",
        "delta_i: 5937913.83094\n",
        "r3: "
       ]
      },
      {
       "output_type": "stream",
       "stream": "stdout",
       "text": [
        "\n",
        "delta_i: 3958609.22063\n",
        "r3: \n",
        "delta_i: 1979304.61031\n",
        "r3: "
       ]
      },
      {
       "output_type": "stream",
       "stream": "stdout",
       "text": [
        "\n",
        "delta_i: 1.49011611938e-08\n",
        "r3: \n",
        "delta_i: -1979304.61031\n",
        "r3: \n",
        "delta_i: -3958609.22063\n",
        "r3: "
       ]
      },
      {
       "output_type": "stream",
       "stream": "stdout",
       "text": [
        "\n",
        "delta_i: -5937913.83094\n",
        "r3: \n",
        "delta_i: -7917218.44125\n",
        "r3: "
       ]
      },
      {
       "output_type": "stream",
       "stream": "stdout",
       "text": [
        "\n",
        "delta_i: -9896523.05156\n",
        "r3: "
       ]
      },
      {
       "output_type": "stream",
       "stream": "stdout",
       "text": [
        "\n",
        "delta_i: -11875827.6619\n",
        "r3: "
       ]
      },
      {
       "output_type": "stream",
       "stream": "stdout",
       "text": [
        "\n",
        "delta_i: -13855132.2722\n",
        "r3: "
       ]
      },
      {
       "output_type": "stream",
       "stream": "stdout",
       "text": [
        "\n",
        "delta_i: -15834436.8825\n",
        "r3: "
       ]
      },
      {
       "output_type": "stream",
       "stream": "stdout",
       "text": [
        "\n",
        "delta_i: -17813741.4928\n",
        "r3: "
       ]
      },
      {
       "output_type": "stream",
       "stream": "stdout",
       "text": [
        "\n",
        "inside model\n",
        "t_excitation: \n",
        "delta_list: 20\n",
        "delta_i: 19793045.8082\n",
        "r3: "
       ]
      },
      {
       "output_type": "stream",
       "stream": "stdout",
       "text": [
        "\n",
        "delta_i: 17813741.2274\n",
        "r3: "
       ]
      },
      {
       "output_type": "stream",
       "stream": "stdout",
       "text": [
        "\n",
        "delta_i: 15834436.6466\n",
        "r3: "
       ]
      },
      {
       "output_type": "stream",
       "stream": "stdout",
       "text": [
        "\n",
        "delta_i: 13855132.0657\n",
        "r3: "
       ]
      },
      {
       "output_type": "stream",
       "stream": "stdout",
       "text": [
        "\n",
        "delta_i: 11875827.4849\n",
        "r3: "
       ]
      },
      {
       "output_type": "stream",
       "stream": "stdout",
       "text": [
        "\n",
        "delta_i: 9896522.90409\n",
        "r3: "
       ]
      },
      {
       "output_type": "stream",
       "stream": "stdout",
       "text": [
        "\n",
        "delta_i: 7917218.32328\n",
        "r3: \n",
        "delta_i: 5937913.74246\n",
        "r3: "
       ]
      },
      {
       "output_type": "stream",
       "stream": "stdout",
       "text": [
        "\n",
        "delta_i: 3958609.16164\n",
        "r3: \n",
        "delta_i: 1979304.58082\n",
        "r3: \n",
        "delta_i: 0.0\n",
        "r3: \n",
        "delta_i: -1979304.58082\n",
        "r3: "
       ]
      },
      {
       "output_type": "stream",
       "stream": "stdout",
       "text": [
        "\n",
        "delta_i: -3958609.16164\n",
        "r3: \n",
        "delta_i: -5937913.74246\n",
        "r3: "
       ]
      },
      {
       "output_type": "stream",
       "stream": "stdout",
       "text": [
        "\n",
        "delta_i: -7917218.32328\n",
        "r3: \n",
        "delta_i: -9896522.90409\n",
        "r3: "
       ]
      },
      {
       "output_type": "stream",
       "stream": "stdout",
       "text": [
        "\n",
        "delta_i: -11875827.4849\n",
        "r3: "
       ]
      },
      {
       "output_type": "stream",
       "stream": "stdout",
       "text": [
        "\n",
        "delta_i: -13855132.0657\n",
        "r3: "
       ]
      },
      {
       "output_type": "stream",
       "stream": "stdout",
       "text": [
        "\n",
        "delta_i: -15834436.6466\n",
        "r3: "
       ]
      },
      {
       "output_type": "stream",
       "stream": "stdout",
       "text": [
        "\n",
        "delta_i: -17813741.2274\n",
        "r3: "
       ]
      },
      {
       "output_type": "stream",
       "stream": "stdout",
       "text": [
        "\n",
        "inside model\n",
        "t_excitation: \n",
        "delta_list: 20\n",
        "delta_i: 19793046.1031\n",
        "r3: "
       ]
      },
      {
       "output_type": "stream",
       "stream": "stdout",
       "text": [
        "\n",
        "delta_i: 17813741.4928\n",
        "r3: "
       ]
      },
      {
       "output_type": "stream",
       "stream": "stdout",
       "text": [
        "\n",
        "delta_i: 15834436.8825\n",
        "r3: "
       ]
      },
      {
       "output_type": "stream",
       "stream": "stdout",
       "text": [
        "\n",
        "delta_i: 13855132.2722\n",
        "r3: "
       ]
      },
      {
       "output_type": "stream",
       "stream": "stdout",
       "text": [
        "\n",
        "delta_i: 11875827.6619\n",
        "r3: "
       ]
      },
      {
       "output_type": "stream",
       "stream": "stdout",
       "text": [
        "\n",
        "delta_i: 9896523.05156\n",
        "r3: "
       ]
      },
      {
       "output_type": "stream",
       "stream": "stdout",
       "text": [
        "\n",
        "delta_i: 7917218.44125\n",
        "r3: \n",
        "delta_i: 5937913.83094\n",
        "r3: "
       ]
      },
      {
       "output_type": "stream",
       "stream": "stdout",
       "text": [
        "\n",
        "delta_i: 3958609.22063\n",
        "r3: \n",
        "delta_i: 1979304.61031\n",
        "r3: \n",
        "delta_i: 1.49011611938e-08\n",
        "r3: \n",
        "delta_i: -1979304.61031\n",
        "r3: \n",
        "delta_i: -3958609.22063\n",
        "r3: "
       ]
      },
      {
       "output_type": "stream",
       "stream": "stdout",
       "text": [
        "\n",
        "delta_i: -5937913.83094\n",
        "r3: \n",
        "delta_i: -7917218.44125\n",
        "r3: "
       ]
      },
      {
       "output_type": "stream",
       "stream": "stdout",
       "text": [
        "\n",
        "delta_i: -9896523.05156\n",
        "r3: "
       ]
      },
      {
       "output_type": "stream",
       "stream": "stdout",
       "text": [
        "\n",
        "delta_i: -11875827.6619\n",
        "r3: "
       ]
      },
      {
       "output_type": "stream",
       "stream": "stdout",
       "text": [
        "\n",
        "delta_i: -13855132.2722\n",
        "r3: "
       ]
      },
      {
       "output_type": "stream",
       "stream": "stdout",
       "text": [
        "\n",
        "delta_i: -15834436.8825\n",
        "r3: "
       ]
      },
      {
       "output_type": "stream",
       "stream": "stdout",
       "text": [
        "\n",
        "delta_i: -17813741.4928\n",
        "r3: "
       ]
      },
      {
       "output_type": "stream",
       "stream": "stdout",
       "text": [
        "\n",
        "inside model\n",
        "t_excitation: \n",
        "delta_list: 20\n",
        "delta_i: 19772269.881\n",
        "r3: "
       ]
      },
      {
       "output_type": "stream",
       "stream": "stdout",
       "text": [
        "\n",
        "delta_i: 17795042.8929\n",
        "r3: "
       ]
      },
      {
       "output_type": "stream",
       "stream": "stdout",
       "text": [
        "\n",
        "delta_i: 15817815.9048\n",
        "r3: "
       ]
      },
      {
       "output_type": "stream",
       "stream": "stdout",
       "text": [
        "\n",
        "delta_i: 13840588.9167\n",
        "r3: "
       ]
      },
      {
       "output_type": "stream",
       "stream": "stdout",
       "text": [
        "\n",
        "delta_i: 11863361.9286\n",
        "r3: "
       ]
      },
      {
       "output_type": "stream",
       "stream": "stdout",
       "text": [
        "\n",
        "delta_i: 9886134.9405\n",
        "r3: \n",
        "delta_i: 7908907.9524\n",
        "r3: "
       ]
      },
      {
       "output_type": "stream",
       "stream": "stdout",
       "text": [
        "\n",
        "delta_i: 5931680.9643\n",
        "r3: \n",
        "delta_i: 3954453.9762\n",
        "r3: "
       ]
      },
      {
       "output_type": "stream",
       "stream": "stdout",
       "text": [
        "\n",
        "delta_i: 1977226.9881\n",
        "r3: \n",
        "delta_i: -3.72529029846e-09\n",
        "r3: \n",
        "delta_i: -1977226.9881\n",
        "r3: \n",
        "delta_i: -3954453.9762\n",
        "r3: "
       ]
      },
      {
       "output_type": "stream",
       "stream": "stdout",
       "text": [
        "\n",
        "delta_i: -5931680.9643\n",
        "r3: "
       ]
      },
      {
       "output_type": "stream",
       "stream": "stdout",
       "text": [
        "\n",
        "delta_i: -7908907.9524\n",
        "r3: "
       ]
      },
      {
       "output_type": "stream",
       "stream": "stdout",
       "text": [
        "\n",
        "delta_i: -9886134.9405\n",
        "r3: "
       ]
      },
      {
       "output_type": "stream",
       "stream": "stdout",
       "text": [
        "\n",
        "delta_i: -11863361.9286\n",
        "r3: "
       ]
      },
      {
       "output_type": "stream",
       "stream": "stdout",
       "text": [
        "\n",
        "delta_i: -13840588.9167\n",
        "r3: "
       ]
      },
      {
       "output_type": "stream",
       "stream": "stdout",
       "text": [
        "\n",
        "delta_i: -15817815.9048\n",
        "r3: "
       ]
      },
      {
       "output_type": "stream",
       "stream": "stdout",
       "text": [
        "\n",
        "delta_i: -17795042.8929\n",
        "r3: "
       ]
      },
      {
       "output_type": "stream",
       "stream": "stdout",
       "text": [
        "\n",
        "inside model\n",
        "t_excitation: \n",
        "delta_list: 20\n",
        "delta_i: 19772269.881\n",
        "r3: "
       ]
      },
      {
       "output_type": "stream",
       "stream": "stdout",
       "text": [
        "\n",
        "delta_i: 17795042.8929\n",
        "r3: "
       ]
      },
      {
       "output_type": "stream",
       "stream": "stdout",
       "text": [
        "\n",
        "delta_i: 15817815.9048\n",
        "r3: "
       ]
      },
      {
       "output_type": "stream",
       "stream": "stdout",
       "text": [
        "\n",
        "delta_i: 13840588.9167\n",
        "r3: "
       ]
      },
      {
       "output_type": "stream",
       "stream": "stdout",
       "text": [
        "\n",
        "delta_i: 11863361.9286\n",
        "r3: "
       ]
      },
      {
       "output_type": "stream",
       "stream": "stdout",
       "text": [
        "\n",
        "delta_i: 9886134.9405\n",
        "r3: "
       ]
      },
      {
       "output_type": "stream",
       "stream": "stdout",
       "text": [
        "\n",
        "delta_i: 7908907.9524\n",
        "r3: "
       ]
      },
      {
       "output_type": "stream",
       "stream": "stdout",
       "text": [
        "\n",
        "delta_i: 5931680.9643\n",
        "r3: \n",
        "delta_i: 3954453.9762\n",
        "r3: "
       ]
      },
      {
       "output_type": "stream",
       "stream": "stdout",
       "text": [
        "\n",
        "delta_i: 1977226.9881\n",
        "r3: \n",
        "delta_i: -3.72529029846e-09\n",
        "r3: \n",
        "delta_i: -1977226.9881\n",
        "r3: \n",
        "delta_i: -3954453.9762\n",
        "r3: "
       ]
      },
      {
       "output_type": "stream",
       "stream": "stdout",
       "text": [
        "\n",
        "delta_i: -5931680.9643\n",
        "r3: \n",
        "delta_i: -7908907.9524\n",
        "r3: "
       ]
      },
      {
       "output_type": "stream",
       "stream": "stdout",
       "text": [
        "\n",
        "delta_i: -9886134.9405\n",
        "r3: "
       ]
      },
      {
       "output_type": "stream",
       "stream": "stdout",
       "text": [
        "\n",
        "delta_i: -11863361.9286\n",
        "r3: "
       ]
      },
      {
       "output_type": "stream",
       "stream": "stdout",
       "text": [
        "\n",
        "delta_i: -13840588.9167\n",
        "r3: "
       ]
      },
      {
       "output_type": "stream",
       "stream": "stdout",
       "text": [
        "\n",
        "delta_i: -15817815.9048\n",
        "r3: "
       ]
      },
      {
       "output_type": "stream",
       "stream": "stdout",
       "text": [
        "\n",
        "delta_i: -17795042.8929\n",
        "r3: "
       ]
      },
      {
       "output_type": "stream",
       "stream": "stdout",
       "text": [
        "\n",
        "inside model\n",
        "t_excitation: \n",
        "delta_list: 20\n",
        "delta_i: 19772269.881\n",
        "r3: "
       ]
      },
      {
       "output_type": "stream",
       "stream": "stdout",
       "text": [
        "\n",
        "delta_i: 17795042.8929\n",
        "r3: "
       ]
      },
      {
       "output_type": "stream",
       "stream": "stdout",
       "text": [
        "\n",
        "delta_i: 15817815.9048\n",
        "r3: "
       ]
      },
      {
       "output_type": "stream",
       "stream": "stdout",
       "text": [
        "\n",
        "delta_i: 13840588.9167\n",
        "r3: "
       ]
      },
      {
       "output_type": "stream",
       "stream": "stdout",
       "text": [
        "\n",
        "delta_i: 11863361.9286\n",
        "r3: "
       ]
      },
      {
       "output_type": "stream",
       "stream": "stdout",
       "text": [
        "\n",
        "delta_i: 9886134.9405\n",
        "r3: "
       ]
      },
      {
       "output_type": "stream",
       "stream": "stdout",
       "text": [
        "\n",
        "delta_i: 7908907.9524\n",
        "r3: \n",
        "delta_i: 5931680.9643\n",
        "r3: "
       ]
      },
      {
       "output_type": "stream",
       "stream": "stdout",
       "text": [
        "\n",
        "delta_i: 3954453.9762\n",
        "r3: \n",
        "delta_i: 1977226.9881\n",
        "r3: \n",
        "delta_i: -3.72529029846e-09\n",
        "r3: \n",
        "delta_i: -1977226.9881\n",
        "r3: \n",
        "delta_i: -3954453.9762\n",
        "r3: "
       ]
      },
      {
       "output_type": "stream",
       "stream": "stdout",
       "text": [
        "\n",
        "delta_i: -5931680.9643\n",
        "r3: \n",
        "delta_i: -7908907.9524\n",
        "r3: "
       ]
      },
      {
       "output_type": "stream",
       "stream": "stdout",
       "text": [
        "\n",
        "delta_i: -9886134.9405\n",
        "r3: \n"
       ]
      },
      {
       "output_type": "stream",
       "stream": "stdout",
       "text": [
        "delta_i: -11863361.9286\n",
        "r3: "
       ]
      },
      {
       "output_type": "stream",
       "stream": "stdout",
       "text": [
        "\n",
        "delta_i: -13840588.9167\n",
        "r3: "
       ]
      },
      {
       "output_type": "stream",
       "stream": "stdout",
       "text": [
        "\n",
        "delta_i: -15817815.9048\n",
        "r3: "
       ]
      },
      {
       "output_type": "stream",
       "stream": "stdout",
       "text": [
        "\n",
        "delta_i: -17795042.8929\n",
        "r3: "
       ]
      },
      {
       "output_type": "stream",
       "stream": "stdout",
       "text": [
        "\n",
        "inside model\n",
        "t_excitation: \n",
        "delta_list: 20\n",
        "delta_i: 19772269.881\n",
        "r3: "
       ]
      },
      {
       "output_type": "stream",
       "stream": "stdout",
       "text": [
        "\n",
        "delta_i: 17795042.8929\n",
        "r3: "
       ]
      },
      {
       "output_type": "stream",
       "stream": "stdout",
       "text": [
        "\n",
        "delta_i: 15817815.9048\n",
        "r3: "
       ]
      },
      {
       "output_type": "stream",
       "stream": "stdout",
       "text": [
        "\n",
        "delta_i: 13840588.9167\n",
        "r3: "
       ]
      },
      {
       "output_type": "stream",
       "stream": "stdout",
       "text": [
        "\n",
        "delta_i: 11863361.9286\n",
        "r3: "
       ]
      },
      {
       "output_type": "stream",
       "stream": "stdout",
       "text": [
        "\n",
        "delta_i: 9886134.9405\n",
        "r3: "
       ]
      },
      {
       "output_type": "stream",
       "stream": "stdout",
       "text": [
        "\n",
        "delta_i: 7908907.9524\n",
        "r3: "
       ]
      },
      {
       "output_type": "stream",
       "stream": "stdout",
       "text": [
        "\n",
        "delta_i: 5931680.9643\n",
        "r3: \n",
        "delta_i: 3954453.9762\n",
        "r3: "
       ]
      },
      {
       "output_type": "stream",
       "stream": "stdout",
       "text": [
        "\n",
        "delta_i: 1977226.9881\n",
        "r3: \n",
        "delta_i: -3.72529029846e-09\n",
        "r3: \n",
        "delta_i: -1977226.9881\n",
        "r3: \n",
        "delta_i: -3954453.9762\n",
        "r3: "
       ]
      },
      {
       "output_type": "stream",
       "stream": "stdout",
       "text": [
        "\n",
        "delta_i: -5931680.9643\n",
        "r3: \n",
        "delta_i: -7908907.9524\n",
        "r3: "
       ]
      },
      {
       "output_type": "stream",
       "stream": "stdout",
       "text": [
        "\n",
        "delta_i: -9886134.9405\n",
        "r3: "
       ]
      },
      {
       "output_type": "stream",
       "stream": "stdout",
       "text": [
        "\n",
        "delta_i: -11863361.9286\n",
        "r3: "
       ]
      },
      {
       "output_type": "stream",
       "stream": "stdout",
       "text": [
        "\n",
        "delta_i: -13840588.9167\n",
        "r3: "
       ]
      },
      {
       "output_type": "stream",
       "stream": "stdout",
       "text": [
        "\n",
        "delta_i: -15817815.9048\n",
        "r3: "
       ]
      },
      {
       "output_type": "stream",
       "stream": "stdout",
       "text": [
        "\n",
        "delta_i: -17795042.8929\n",
        "r3: "
       ]
      },
      {
       "output_type": "stream",
       "stream": "stdout",
       "text": [
        "\n",
        "inside model\n",
        "t_excitation: \n",
        "delta_list: 20\n",
        "delta_i: 19772269.5864\n",
        "r3: "
       ]
      },
      {
       "output_type": "stream",
       "stream": "stdout",
       "text": [
        "\n",
        "delta_i: 17795042.6277\n",
        "r3: "
       ]
      },
      {
       "output_type": "stream",
       "stream": "stdout",
       "text": [
        "\n",
        "delta_i: 15817815.6691\n",
        "r3: "
       ]
      },
      {
       "output_type": "stream",
       "stream": "stdout",
       "text": [
        "\n",
        "delta_i: 13840588.7105\n",
        "r3: "
       ]
      },
      {
       "output_type": "stream",
       "stream": "stdout",
       "text": [
        "\n",
        "delta_i: 11863361.7518\n",
        "r3: "
       ]
      },
      {
       "output_type": "stream",
       "stream": "stdout",
       "text": [
        "\n",
        "delta_i: 9886134.79319\n",
        "r3: "
       ]
      },
      {
       "output_type": "stream",
       "stream": "stdout",
       "text": [
        "\n",
        "delta_i: 7908907.83455\n",
        "r3: \n",
        "delta_i: 5931680.87591\n",
        "r3: "
       ]
      },
      {
       "output_type": "stream",
       "stream": "stdout",
       "text": [
        "\n",
        "delta_i: 3954453.91728\n",
        "r3: \n",
        "delta_i: 1977226.95864\n",
        "r3: \n",
        "delta_i: -3.72529029846e-09\n",
        "r3: \n",
        "delta_i: -1977226.95864\n",
        "r3: "
       ]
      },
      {
       "output_type": "stream",
       "stream": "stdout",
       "text": [
        "\n",
        "delta_i: -3954453.91728\n",
        "r3: \n",
        "delta_i: -5931680.87591\n",
        "r3: "
       ]
      },
      {
       "output_type": "stream",
       "stream": "stdout",
       "text": [
        "\n",
        "delta_i: -7908907.83455\n",
        "r3: "
       ]
      },
      {
       "output_type": "stream",
       "stream": "stdout",
       "text": [
        "\n",
        "delta_i: -9886134.79319\n",
        "r3: "
       ]
      },
      {
       "output_type": "stream",
       "stream": "stdout",
       "text": [
        "\n",
        "delta_i: -11863361.7518\n",
        "r3: "
       ]
      },
      {
       "output_type": "stream",
       "stream": "stdout",
       "text": [
        "\n",
        "delta_i: -13840588.7105\n",
        "r3: "
       ]
      },
      {
       "output_type": "stream",
       "stream": "stdout",
       "text": [
        "\n",
        "delta_i: -15817815.6691\n",
        "r3: "
       ]
      },
      {
       "output_type": "stream",
       "stream": "stdout",
       "text": [
        "\n",
        "delta_i: -17795042.6277\n",
        "r3: "
       ]
      },
      {
       "output_type": "stream",
       "stream": "stdout",
       "text": [
        "\n",
        "inside model\n",
        "t_excitation: \n",
        "delta_list: 20\n",
        "delta_i: 19772269.881\n",
        "r3: "
       ]
      },
      {
       "output_type": "stream",
       "stream": "stdout",
       "text": [
        "\n",
        "delta_i: 17795042.8929\n",
        "r3: "
       ]
      },
      {
       "output_type": "stream",
       "stream": "stdout",
       "text": [
        "\n",
        "delta_i: 15817815.9048\n",
        "r3: "
       ]
      },
      {
       "output_type": "stream",
       "stream": "stdout",
       "text": [
        "\n",
        "delta_i: 13840588.9167\n",
        "r3: "
       ]
      },
      {
       "output_type": "stream",
       "stream": "stdout",
       "text": [
        "\n",
        "delta_i: 11863361.9286\n",
        "r3: "
       ]
      },
      {
       "output_type": "stream",
       "stream": "stdout",
       "text": [
        "\n",
        "delta_i: 9886134.9405\n",
        "r3: "
       ]
      },
      {
       "output_type": "stream",
       "stream": "stdout",
       "text": [
        "\n",
        "delta_i: 7908907.9524\n",
        "r3: \n",
        "delta_i: 5931680.9643\n",
        "r3: "
       ]
      },
      {
       "output_type": "stream",
       "stream": "stdout",
       "text": [
        "\n",
        "delta_i: 3954453.9762\n",
        "r3: \n",
        "delta_i: 1977226.9881\n",
        "r3: \n",
        "delta_i: -3.72529029846e-09\n",
        "r3: \n",
        "delta_i: -1977226.9881\n",
        "r3: "
       ]
      },
      {
       "output_type": "stream",
       "stream": "stdout",
       "text": [
        "\n",
        "delta_i: -3954453.9762\n",
        "r3: \n",
        "delta_i: -5931680.9643\n",
        "r3: "
       ]
      },
      {
       "output_type": "stream",
       "stream": "stdout",
       "text": [
        "\n",
        "delta_i: -7908907.9524\n",
        "r3: "
       ]
      },
      {
       "output_type": "stream",
       "stream": "stdout",
       "text": [
        "\n",
        "delta_i: -9886134.9405\n",
        "r3: "
       ]
      },
      {
       "output_type": "stream",
       "stream": "stdout",
       "text": [
        "\n",
        "delta_i: -11863361.9286\n",
        "r3: "
       ]
      },
      {
       "output_type": "stream",
       "stream": "stdout",
       "text": [
        "\n",
        "delta_i: -13840588.9167\n",
        "r3: "
       ]
      },
      {
       "output_type": "stream",
       "stream": "stdout",
       "text": [
        "\n",
        "delta_i: -15817815.9048\n",
        "r3: "
       ]
      },
      {
       "output_type": "stream",
       "stream": "stdout",
       "text": [
        "\n",
        "delta_i: -17795042.8929\n",
        "r3: "
       ]
      },
      {
       "output_type": "stream",
       "stream": "stdout",
       "text": [
        "\n",
        "inside model\n",
        "t_excitation: \n",
        "delta_list: 20\n",
        "delta_i: 19793302.3035\n",
        "r3: "
       ]
      },
      {
       "output_type": "stream",
       "stream": "stdout",
       "text": [
        "\n",
        "delta_i: 17813972.0732\n",
        "r3: "
       ]
      },
      {
       "output_type": "stream",
       "stream": "stdout",
       "text": [
        "\n",
        "delta_i: 15834641.8428\n",
        "r3: "
       ]
      },
      {
       "output_type": "stream",
       "stream": "stdout",
       "text": [
        "\n",
        "delta_i: 13855311.6125\n",
        "r3: "
       ]
      },
      {
       "output_type": "stream",
       "stream": "stdout",
       "text": [
        "\n",
        "delta_i: 11875981.3821\n",
        "r3: "
       ]
      },
      {
       "output_type": "stream",
       "stream": "stdout",
       "text": [
        "\n",
        "delta_i: 9896651.15176\n",
        "r3: "
       ]
      },
      {
       "output_type": "stream",
       "stream": "stdout",
       "text": [
        "\n",
        "delta_i: 7917320.92141\n",
        "r3: \n",
        "delta_i: 5937990.69106\n",
        "r3: "
       ]
      },
      {
       "output_type": "stream",
       "stream": "stdout",
       "text": [
        "\n",
        "delta_i: 3958660.4607\n",
        "r3: \n",
        "delta_i: 1979330.23035\n",
        "r3: \n",
        "delta_i: -3.72529029846e-09\n",
        "r3: \n",
        "delta_i: -1979330.23035\n",
        "r3: "
       ]
      },
      {
       "output_type": "stream",
       "stream": "stdout",
       "text": [
        "\n",
        "delta_i: -3958660.4607\n",
        "r3: \n",
        "delta_i: -5937990.69106\n",
        "r3: "
       ]
      },
      {
       "output_type": "stream",
       "stream": "stdout",
       "text": [
        "\n",
        "delta_i: -7917320.92141\n",
        "r3: "
       ]
      },
      {
       "output_type": "stream",
       "stream": "stdout",
       "text": [
        "\n",
        "delta_i: -9896651.15176\n",
        "r3: "
       ]
      },
      {
       "output_type": "stream",
       "stream": "stdout",
       "text": [
        "\n",
        "delta_i: -11875981.3821\n",
        "r3: "
       ]
      },
      {
       "output_type": "stream",
       "stream": "stdout",
       "text": [
        "\n",
        "delta_i: -13855311.6125\n",
        "r3: "
       ]
      },
      {
       "output_type": "stream",
       "stream": "stdout",
       "text": [
        "\n",
        "delta_i: -15834641.8428\n",
        "r3: "
       ]
      },
      {
       "output_type": "stream",
       "stream": "stdout",
       "text": [
        "\n",
        "delta_i: -17813972.0732\n",
        "r3: "
       ]
      },
      {
       "output_type": "stream",
       "stream": "stdout",
       "text": [
        "\n",
        "inside model\n",
        "t_excitation: \n",
        "delta_list: 20\n",
        "delta_i: 19793302.3035\n",
        "r3: "
       ]
      },
      {
       "output_type": "stream",
       "stream": "stdout",
       "text": [
        "\n",
        "delta_i: 17813972.0732\n",
        "r3: "
       ]
      },
      {
       "output_type": "stream",
       "stream": "stdout",
       "text": [
        "\n",
        "delta_i: 15834641.8428\n",
        "r3: "
       ]
      },
      {
       "output_type": "stream",
       "stream": "stdout",
       "text": [
        "\n",
        "delta_i: 13855311.6125\n",
        "r3: "
       ]
      },
      {
       "output_type": "stream",
       "stream": "stdout",
       "text": [
        "\n",
        "delta_i: 11875981.3821\n",
        "r3: "
       ]
      },
      {
       "output_type": "stream",
       "stream": "stdout",
       "text": [
        "\n",
        "delta_i: 9896651.15176\n",
        "r3: "
       ]
      },
      {
       "output_type": "stream",
       "stream": "stdout",
       "text": [
        "\n",
        "delta_i: 7917320.92141\n",
        "r3: \n",
        "delta_i: 5937990.69106\n",
        "r3: "
       ]
      },
      {
       "output_type": "stream",
       "stream": "stdout",
       "text": [
        "\n",
        "delta_i: 3958660.4607\n",
        "r3: \n",
        "delta_i: 1979330.23035\n",
        "r3: \n",
        "delta_i: -3.72529029846e-09\n",
        "r3: \n",
        "delta_i: -1979330.23035\n",
        "r3: "
       ]
      },
      {
       "output_type": "stream",
       "stream": "stdout",
       "text": [
        "\n",
        "delta_i: -3958660.4607\n",
        "r3: \n",
        "delta_i: -5937990.69106\n",
        "r3: "
       ]
      },
      {
       "output_type": "stream",
       "stream": "stdout",
       "text": [
        "\n",
        "delta_i: -7917320.92141\n",
        "r3: \n",
        "delta_i: -9896651.15176\n",
        "r3: "
       ]
      },
      {
       "output_type": "stream",
       "stream": "stdout",
       "text": [
        "\n",
        "delta_i: -11875981.3821\n",
        "r3: "
       ]
      },
      {
       "output_type": "stream",
       "stream": "stdout",
       "text": [
        "\n",
        "delta_i: -13855311.6125\n",
        "r3: "
       ]
      },
      {
       "output_type": "stream",
       "stream": "stdout",
       "text": [
        "\n",
        "delta_i: -15834641.8428\n",
        "r3: "
       ]
      },
      {
       "output_type": "stream",
       "stream": "stdout",
       "text": [
        "\n",
        "delta_i: -17813972.0732\n",
        "r3: "
       ]
      },
      {
       "output_type": "stream",
       "stream": "stdout",
       "text": [
        "\n",
        "inside model\n",
        "t_excitation: \n",
        "delta_list: 20\n",
        "delta_i: 19793302.3035\n",
        "r3: "
       ]
      },
      {
       "output_type": "stream",
       "stream": "stdout",
       "text": [
        "\n",
        "delta_i: 17813972.0732\n",
        "r3: "
       ]
      },
      {
       "output_type": "stream",
       "stream": "stdout",
       "text": [
        "\n",
        "delta_i: 15834641.8428\n",
        "r3: "
       ]
      },
      {
       "output_type": "stream",
       "stream": "stdout",
       "text": [
        "\n",
        "delta_i: 13855311.6125\n",
        "r3: "
       ]
      },
      {
       "output_type": "stream",
       "stream": "stdout",
       "text": [
        "\n",
        "delta_i: 11875981.3821\n",
        "r3: "
       ]
      },
      {
       "output_type": "stream",
       "stream": "stdout",
       "text": [
        "\n",
        "delta_i: 9896651.15176\n",
        "r3: "
       ]
      },
      {
       "output_type": "stream",
       "stream": "stdout",
       "text": [
        "\n",
        "delta_i: 7917320.92141\n",
        "r3: \n",
        "delta_i: 5937990.69106\n",
        "r3: "
       ]
      },
      {
       "output_type": "stream",
       "stream": "stdout",
       "text": [
        "\n",
        "delta_i: 3958660.4607\n",
        "r3: \n",
        "delta_i: 1979330.23035\n",
        "r3: \n",
        "delta_i: -3.72529029846e-09\n",
        "r3: \n",
        "delta_i: -1979330.23035\n",
        "r3: "
       ]
      },
      {
       "output_type": "stream",
       "stream": "stdout",
       "text": [
        "\n",
        "delta_i: -3958660.4607\n",
        "r3: \n",
        "delta_i: -5937990.69106\n",
        "r3: "
       ]
      },
      {
       "output_type": "stream",
       "stream": "stdout",
       "text": [
        "\n",
        "delta_i: -7917320.92141\n",
        "r3: \n",
        "delta_i: -9896651.15176\n",
        "r3: "
       ]
      },
      {
       "output_type": "stream",
       "stream": "stdout",
       "text": [
        "\n",
        "delta_i: -11875981.3821\n",
        "r3: "
       ]
      },
      {
       "output_type": "stream",
       "stream": "stdout",
       "text": [
        "\n",
        "delta_i: -13855311.6125\n",
        "r3: "
       ]
      },
      {
       "output_type": "stream",
       "stream": "stdout",
       "text": [
        "\n",
        "delta_i: -15834641.8428\n",
        "r3: "
       ]
      },
      {
       "output_type": "stream",
       "stream": "stdout",
       "text": [
        "\n",
        "delta_i: -17813972.0732\n",
        "r3: "
       ]
      },
      {
       "output_type": "stream",
       "stream": "stdout",
       "text": [
        "\n",
        "inside model\n",
        "t_excitation: \n",
        "delta_list: 20\n",
        "delta_i: 19793302.3035\n",
        "r3: "
       ]
      },
      {
       "output_type": "stream",
       "stream": "stdout",
       "text": [
        "\n",
        "delta_i: 17813972.0732\n",
        "r3: "
       ]
      },
      {
       "output_type": "stream",
       "stream": "stdout",
       "text": [
        "\n",
        "delta_i: 15834641.8428\n",
        "r3: "
       ]
      },
      {
       "output_type": "stream",
       "stream": "stdout",
       "text": [
        "\n",
        "delta_i: 13855311.6125\n",
        "r3: "
       ]
      },
      {
       "output_type": "stream",
       "stream": "stdout",
       "text": [
        "\n",
        "delta_i: 11875981.3821\n",
        "r3: "
       ]
      },
      {
       "output_type": "stream",
       "stream": "stdout",
       "text": [
        "\n",
        "delta_i: 9896651.15176\n",
        "r3: "
       ]
      },
      {
       "output_type": "stream",
       "stream": "stdout",
       "text": [
        "\n",
        "delta_i: 7917320.92141\n",
        "r3: \n",
        "delta_i: 5937990.69106\n",
        "r3: "
       ]
      },
      {
       "output_type": "stream",
       "stream": "stdout",
       "text": [
        "\n",
        "delta_i: 3958660.4607\n",
        "r3: \n",
        "delta_i: 1979330.23035\n",
        "r3: \n",
        "delta_i: -3.72529029846e-09\n",
        "r3: \n",
        "delta_i: -1979330.23035\n",
        "r3: \n",
        "delta_i: -3958660.4607\n",
        "r3: "
       ]
      },
      {
       "output_type": "stream",
       "stream": "stdout",
       "text": [
        "\n",
        "delta_i: -5937990.69106\n",
        "r3: \n",
        "delta_i: -7917320.92141\n",
        "r3: "
       ]
      },
      {
       "output_type": "stream",
       "stream": "stdout",
       "text": [
        "\n",
        "delta_i: -9896651.15176\n",
        "r3: "
       ]
      },
      {
       "output_type": "stream",
       "stream": "stdout",
       "text": [
        "\n",
        "delta_i: -11875981.3821\n",
        "r3: "
       ]
      },
      {
       "output_type": "stream",
       "stream": "stdout",
       "text": [
        "\n",
        "delta_i: -13855311.6125\n",
        "r3: "
       ]
      },
      {
       "output_type": "stream",
       "stream": "stdout",
       "text": [
        "\n",
        "delta_i: -15834641.8428\n",
        "r3: "
       ]
      },
      {
       "output_type": "stream",
       "stream": "stdout",
       "text": [
        "\n",
        "delta_i: -17813972.0732\n",
        "r3: "
       ]
      },
      {
       "output_type": "stream",
       "stream": "stdout",
       "text": [
        "\n",
        "inside model\n",
        "t_excitation: \n",
        "delta_list: 20\n",
        "delta_i: 19793302.0086\n",
        "r3: "
       ]
      },
      {
       "output_type": "stream",
       "stream": "stdout",
       "text": [
        "\n",
        "delta_i: 17813971.8077\n",
        "r3: "
       ]
      },
      {
       "output_type": "stream",
       "stream": "stdout",
       "text": [
        "\n",
        "delta_i: 15834641.6069\n",
        "r3: "
       ]
      },
      {
       "output_type": "stream",
       "stream": "stdout",
       "text": [
        "\n",
        "delta_i: 13855311.406\n",
        "r3: "
       ]
      },
      {
       "output_type": "stream",
       "stream": "stdout",
       "text": [
        "\n",
        "delta_i: 11875981.2051\n",
        "r3: "
       ]
      },
      {
       "output_type": "stream",
       "stream": "stdout",
       "text": [
        "\n",
        "delta_i: 9896651.00429\n",
        "r3: "
       ]
      },
      {
       "output_type": "stream",
       "stream": "stdout",
       "text": [
        "\n",
        "delta_i: 7917320.80343\n",
        "r3: "
       ]
      },
      {
       "output_type": "stream",
       "stream": "stdout",
       "text": [
        "\n",
        "delta_i: 5937990.60257\n",
        "r3: "
       ]
      },
      {
       "output_type": "stream",
       "stream": "stdout",
       "text": [
        "\n",
        "delta_i: 3958660.40171\n",
        "r3: \n",
        "delta_i: 1979330.20086\n",
        "r3: \n",
        "delta_i: 0.0\n",
        "r3: \n",
        "delta_i: -1979330.20086\n",
        "r3: "
       ]
      },
      {
       "output_type": "stream",
       "stream": "stdout",
       "text": [
        "\n",
        "delta_i: -3958660.40171\n",
        "r3: \n",
        "delta_i: -5937990.60257\n",
        "r3: "
       ]
      },
      {
       "output_type": "stream",
       "stream": "stdout",
       "text": [
        "\n",
        "delta_i: -7917320.80343\n",
        "r3: \n",
        "delta_i: -9896651.00429\n",
        "r3: "
       ]
      },
      {
       "output_type": "stream",
       "stream": "stdout",
       "text": [
        "\n",
        "delta_i: -11875981.2051\n",
        "r3: "
       ]
      },
      {
       "output_type": "stream",
       "stream": "stdout",
       "text": [
        "\n",
        "delta_i: -13855311.406\n",
        "r3: "
       ]
      },
      {
       "output_type": "stream",
       "stream": "stdout",
       "text": [
        "\n",
        "delta_i: -15834641.6069\n",
        "r3: "
       ]
      },
      {
       "output_type": "stream",
       "stream": "stdout",
       "text": [
        "\n",
        "delta_i: -17813971.8077\n",
        "r3: "
       ]
      },
      {
       "output_type": "stream",
       "stream": "stdout",
       "text": [
        "\n",
        "inside model\n",
        "t_excitation: \n",
        "delta_list: 20\n",
        "delta_i: 19793302.3035\n",
        "r3: "
       ]
      },
      {
       "output_type": "stream",
       "stream": "stdout",
       "text": [
        "\n",
        "delta_i: 17813972.0732\n",
        "r3: "
       ]
      },
      {
       "output_type": "stream",
       "stream": "stdout",
       "text": [
        "\n",
        "delta_i: 15834641.8428\n",
        "r3: "
       ]
      },
      {
       "output_type": "stream",
       "stream": "stdout",
       "text": [
        "\n",
        "delta_i: 13855311.6125\n",
        "r3: "
       ]
      },
      {
       "output_type": "stream",
       "stream": "stdout",
       "text": [
        "\n",
        "delta_i: 11875981.3821\n",
        "r3: "
       ]
      },
      {
       "output_type": "stream",
       "stream": "stdout",
       "text": [
        "\n",
        "delta_i: 9896651.15176\n",
        "r3: "
       ]
      },
      {
       "output_type": "stream",
       "stream": "stdout",
       "text": [
        "\n",
        "delta_i: 7917320.92141\n",
        "r3: \n",
        "delta_i: 5937990.69106\n",
        "r3: "
       ]
      },
      {
       "output_type": "stream",
       "stream": "stdout",
       "text": [
        "\n",
        "delta_i: 3958660.4607\n",
        "r3: \n",
        "delta_i: 1979330.23035\n",
        "r3: \n",
        "delta_i: -3.72529029846e-09\n",
        "r3: \n",
        "delta_i: -1979330.23035\n",
        "r3: \n",
        "delta_i: -3958660.4607\n",
        "r3: "
       ]
      },
      {
       "output_type": "stream",
       "stream": "stdout",
       "text": [
        "\n",
        "delta_i: -5937990.69106\n",
        "r3: \n",
        "delta_i: -7917320.92141\n",
        "r3: "
       ]
      },
      {
       "output_type": "stream",
       "stream": "stdout",
       "text": [
        "\n",
        "delta_i: -9896651.15176\n",
        "r3: \n",
        "delta_i: -11875981.3821\n",
        "r3: "
       ]
      },
      {
       "output_type": "stream",
       "stream": "stdout",
       "text": [
        "\n",
        "delta_i: -13855311.6125\n",
        "r3: "
       ]
      },
      {
       "output_type": "stream",
       "stream": "stdout",
       "text": [
        "\n",
        "delta_i: -15834641.8428\n",
        "r3: "
       ]
      },
      {
       "output_type": "stream",
       "stream": "stdout",
       "text": [
        "\n",
        "delta_i: -17813972.0732\n",
        "r3: "
       ]
      },
      {
       "output_type": "stream",
       "stream": "stdout",
       "text": [
        "\n",
        "inside model\n",
        "t_excitation: \n",
        "delta_list: 20\n",
        "delta_i: 19809009.6093\n",
        "r3: "
       ]
      },
      {
       "output_type": "stream",
       "stream": "stdout",
       "text": [
        "\n",
        "delta_i: 17828108.6483\n",
        "r3: "
       ]
      },
      {
       "output_type": "stream",
       "stream": "stdout",
       "text": [
        "\n",
        "delta_i: 15847207.6874\n",
        "r3: "
       ]
      },
      {
       "output_type": "stream",
       "stream": "stdout",
       "text": [
        "\n",
        "delta_i: 13866306.7265\n",
        "r3: "
       ]
      },
      {
       "output_type": "stream",
       "stream": "stdout",
       "text": [
        "\n",
        "delta_i: 11885405.7656\n",
        "r3: "
       ]
      },
      {
       "output_type": "stream",
       "stream": "stdout",
       "text": [
        "\n",
        "delta_i: 9904504.80463\n",
        "r3: "
       ]
      },
      {
       "output_type": "stream",
       "stream": "stdout",
       "text": [
        "\n",
        "delta_i: 7923603.84371\n",
        "r3: "
       ]
      },
      {
       "output_type": "stream",
       "stream": "stdout",
       "text": [
        "\n",
        "delta_i: 5942702.88278\n",
        "r3: "
       ]
      },
      {
       "output_type": "stream",
       "stream": "stdout",
       "text": [
        "\n",
        "delta_i: 3961801.92185\n",
        "r3: \n",
        "delta_i: 1980900.96093\n",
        "r3: \n",
        "delta_i: 1.49011611938e-08\n",
        "r3: \n",
        "delta_i: -1980900.96093\n",
        "r3: "
       ]
      },
      {
       "output_type": "stream",
       "stream": "stdout",
       "text": [
        "\n",
        "delta_i: -3961801.92185\n",
        "r3: \n",
        "delta_i: -5942702.88278\n",
        "r3: "
       ]
      },
      {
       "output_type": "stream",
       "stream": "stdout",
       "text": [
        "\n",
        "delta_i: -7923603.84371\n",
        "r3: "
       ]
      },
      {
       "output_type": "stream",
       "stream": "stdout",
       "text": [
        "\n",
        "delta_i: -9904504.80463\n",
        "r3: "
       ]
      },
      {
       "output_type": "stream",
       "stream": "stdout",
       "text": [
        "\n",
        "delta_i: -11885405.7656\n",
        "r3: "
       ]
      },
      {
       "output_type": "stream",
       "stream": "stdout",
       "text": [
        "\n",
        "delta_i: -13866306.7265\n",
        "r3: "
       ]
      },
      {
       "output_type": "stream",
       "stream": "stdout",
       "text": [
        "\n",
        "delta_i: -15847207.6874\n",
        "r3: "
       ]
      },
      {
       "output_type": "stream",
       "stream": "stdout",
       "text": [
        "\n",
        "delta_i: -17828108.6483\n",
        "r3: "
       ]
      },
      {
       "output_type": "stream",
       "stream": "stdout",
       "text": [
        "\n",
        "inside model\n",
        "t_excitation: \n",
        "delta_list: 20\n",
        "delta_i: 19809009.6093\n",
        "r3: "
       ]
      },
      {
       "output_type": "stream",
       "stream": "stdout",
       "text": [
        "\n",
        "delta_i: 17828108.6483\n",
        "r3: "
       ]
      },
      {
       "output_type": "stream",
       "stream": "stdout",
       "text": [
        "\n",
        "delta_i: 15847207.6874\n",
        "r3: "
       ]
      },
      {
       "output_type": "stream",
       "stream": "stdout",
       "text": [
        "\n",
        "delta_i: 13866306.7265\n",
        "r3: "
       ]
      },
      {
       "output_type": "stream",
       "stream": "stdout",
       "text": [
        "\n",
        "delta_i: 11885405.7656\n",
        "r3: "
       ]
      },
      {
       "output_type": "stream",
       "stream": "stdout",
       "text": [
        "\n",
        "delta_i: 9904504.80463\n",
        "r3: \n",
        "delta_i: 7923603.84371\n",
        "r3: "
       ]
      },
      {
       "output_type": "stream",
       "stream": "stdout",
       "text": [
        "\n",
        "delta_i: 5942702.88278\n",
        "r3: \n",
        "delta_i: 3961801.92185\n",
        "r3: "
       ]
      },
      {
       "output_type": "stream",
       "stream": "stdout",
       "text": [
        "\n",
        "delta_i: 1980900.96093\n",
        "r3: \n",
        "delta_i: 1.49011611938e-08\n",
        "r3: \n",
        "delta_i: -1980900.96093\n",
        "r3: \n",
        "delta_i: -3961801.92185\n",
        "r3: \n",
        "delta_i: -5942702.88278\n",
        "r3: "
       ]
      },
      {
       "output_type": "stream",
       "stream": "stdout",
       "text": [
        "\n",
        "delta_i: -7923603.84371\n",
        "r3: "
       ]
      },
      {
       "output_type": "stream",
       "stream": "stdout",
       "text": [
        "\n",
        "delta_i: -9904504.80463\n",
        "r3: "
       ]
      },
      {
       "output_type": "stream",
       "stream": "stdout",
       "text": [
        "\n",
        "delta_i: -11885405.7656\n",
        "r3: "
       ]
      },
      {
       "output_type": "stream",
       "stream": "stdout",
       "text": [
        "\n",
        "delta_i: -13866306.7265\n",
        "r3: "
       ]
      },
      {
       "output_type": "stream",
       "stream": "stdout",
       "text": [
        "\n",
        "delta_i: -15847207.6874\n",
        "r3: "
       ]
      },
      {
       "output_type": "stream",
       "stream": "stdout",
       "text": [
        "\n",
        "delta_i: -17828108.6483\n",
        "r3: "
       ]
      },
      {
       "output_type": "stream",
       "stream": "stdout",
       "text": [
        "\n",
        "inside model\n",
        "t_excitation: \n",
        "delta_list: 20\n",
        "delta_i: 19809009.6093\n",
        "r3: "
       ]
      },
      {
       "output_type": "stream",
       "stream": "stdout",
       "text": [
        "\n",
        "delta_i: 17828108.6483\n",
        "r3: "
       ]
      },
      {
       "output_type": "stream",
       "stream": "stdout",
       "text": [
        "\n",
        "delta_i: 15847207.6874\n",
        "r3: "
       ]
      },
      {
       "output_type": "stream",
       "stream": "stdout",
       "text": [
        "\n",
        "delta_i: 13866306.7265\n",
        "r3: "
       ]
      },
      {
       "output_type": "stream",
       "stream": "stdout",
       "text": [
        "\n",
        "delta_i: 11885405.7656\n",
        "r3: "
       ]
      },
      {
       "output_type": "stream",
       "stream": "stdout",
       "text": [
        "\n",
        "delta_i: 9904504.80463\n",
        "r3: "
       ]
      },
      {
       "output_type": "stream",
       "stream": "stdout",
       "text": [
        "\n",
        "delta_i: 7923603.84371\n",
        "r3: \n",
        "delta_i: 5942702.88278\n",
        "r3: "
       ]
      },
      {
       "output_type": "stream",
       "stream": "stdout",
       "text": [
        "\n",
        "delta_i: 3961801.92185\n",
        "r3: \n",
        "delta_i: 1980900.96093\n",
        "r3: \n",
        "delta_i: 1.49011611938e-08\n",
        "r3: \n",
        "delta_i: -1980900.96093\n",
        "r3: "
       ]
      },
      {
       "output_type": "stream",
       "stream": "stdout",
       "text": [
        "\n",
        "delta_i: -3961801.92185\n",
        "r3: \n",
        "delta_i: -5942702.88278\n",
        "r3: "
       ]
      },
      {
       "output_type": "stream",
       "stream": "stdout",
       "text": [
        "\n",
        "delta_i: -7923603.84371\n",
        "r3: \n",
        "delta_i: -9904504.80463\n",
        "r3: "
       ]
      },
      {
       "output_type": "stream",
       "stream": "stdout",
       "text": [
        "\n",
        "delta_i: -11885405.7656\n",
        "r3: "
       ]
      },
      {
       "output_type": "stream",
       "stream": "stdout",
       "text": [
        "\n",
        "delta_i: -13866306.7265\n",
        "r3: "
       ]
      },
      {
       "output_type": "stream",
       "stream": "stdout",
       "text": [
        "\n",
        "delta_i: -15847207.6874\n",
        "r3: "
       ]
      },
      {
       "output_type": "stream",
       "stream": "stdout",
       "text": [
        "\n",
        "delta_i: -17828108.6483\n",
        "r3: "
       ]
      },
      {
       "output_type": "stream",
       "stream": "stdout",
       "text": [
        "\n",
        "inside model\n",
        "t_excitation: \n",
        "delta_list: 20\n",
        "delta_i: 19809009.6093\n",
        "r3: "
       ]
      },
      {
       "output_type": "stream",
       "stream": "stdout",
       "text": [
        "\n",
        "delta_i: 17828108.6483\n",
        "r3: "
       ]
      },
      {
       "output_type": "stream",
       "stream": "stdout",
       "text": [
        "\n",
        "delta_i: 15847207.6874\n",
        "r3: "
       ]
      },
      {
       "output_type": "stream",
       "stream": "stdout",
       "text": [
        "\n",
        "delta_i: 13866306.7265\n",
        "r3: "
       ]
      },
      {
       "output_type": "stream",
       "stream": "stdout",
       "text": [
        "\n",
        "delta_i: 11885405.7656\n",
        "r3: "
       ]
      },
      {
       "output_type": "stream",
       "stream": "stdout",
       "text": [
        "\n",
        "delta_i: 9904504.80463\n",
        "r3: "
       ]
      },
      {
       "output_type": "stream",
       "stream": "stdout",
       "text": [
        "\n",
        "delta_i: 7923603.84371\n",
        "r3: \n",
        "delta_i: 5942702.88278\n",
        "r3: "
       ]
      },
      {
       "output_type": "stream",
       "stream": "stdout",
       "text": [
        "\n",
        "delta_i: 3961801.92185\n",
        "r3: \n",
        "delta_i: 1980900.96093\n",
        "r3: \n",
        "delta_i: 1.49011611938e-08\n",
        "r3: \n",
        "delta_i: -1980900.96093\n",
        "r3: \n",
        "delta_i: -3961801.92185\n",
        "r3: "
       ]
      },
      {
       "output_type": "stream",
       "stream": "stdout",
       "text": [
        "\n",
        "delta_i: -5942702.88278\n",
        "r3: \n",
        "delta_i: -7923603.84371\n",
        "r3: "
       ]
      },
      {
       "output_type": "stream",
       "stream": "stdout",
       "text": [
        "\n",
        "delta_i: -9904504.80463\n",
        "r3: \n",
        "delta_i: -11885405.7656\n",
        "r3: "
       ]
      },
      {
       "output_type": "stream",
       "stream": "stdout",
       "text": [
        "\n",
        "delta_i: -13866306.7265\n",
        "r3: "
       ]
      },
      {
       "output_type": "stream",
       "stream": "stdout",
       "text": [
        "\n",
        "delta_i: -15847207.6874\n",
        "r3: "
       ]
      },
      {
       "output_type": "stream",
       "stream": "stdout",
       "text": [
        "\n",
        "delta_i: -17828108.6483\n",
        "r3: "
       ]
      },
      {
       "output_type": "stream",
       "stream": "stdout",
       "text": [
        "\n",
        "inside model\n",
        "t_excitation: \n",
        "delta_list: 20\n",
        "delta_i: 19809009.3141\n",
        "r3: "
       ]
      },
      {
       "output_type": "stream",
       "stream": "stdout",
       "text": [
        "\n",
        "delta_i: 17828108.3827\n",
        "r3: "
       ]
      },
      {
       "output_type": "stream",
       "stream": "stdout",
       "text": [
        "\n",
        "delta_i: 15847207.4513\n",
        "r3: "
       ]
      },
      {
       "output_type": "stream",
       "stream": "stdout",
       "text": [
        "\n",
        "delta_i: 13866306.5199\n",
        "r3: "
       ]
      },
      {
       "output_type": "stream",
       "stream": "stdout",
       "text": [
        "\n",
        "delta_i: 11885405.5885\n",
        "r3: "
       ]
      },
      {
       "output_type": "stream",
       "stream": "stdout",
       "text": [
        "\n",
        "delta_i: 9904504.65704\n",
        "r3: "
       ]
      },
      {
       "output_type": "stream",
       "stream": "stdout",
       "text": [
        "\n",
        "delta_i: 7923603.72564\n",
        "r3: \n",
        "delta_i: 5942702.79423\n",
        "r3: "
       ]
      },
      {
       "output_type": "stream",
       "stream": "stdout",
       "text": [
        "\n",
        "delta_i: 3961801.86282\n",
        "r3: \n",
        "delta_i: 1980900.93141\n",
        "r3: \n",
        "delta_i: -1.49011611938e-08\n",
        "r3: \n",
        "delta_i: -1980900.93141\n",
        "r3: \n",
        "delta_i: -3961801.86282\n",
        "r3: "
       ]
      },
      {
       "output_type": "stream",
       "stream": "stdout",
       "text": [
        "\n",
        "delta_i: -5942702.79423\n",
        "r3: \n",
        "delta_i: -7923603.72564\n",
        "r3: "
       ]
      },
      {
       "output_type": "stream",
       "stream": "stdout",
       "text": [
        "\n",
        "delta_i: -9904504.65704\n",
        "r3: \n",
        "delta_i: -11885405.5885\n",
        "r3: "
       ]
      },
      {
       "output_type": "stream",
       "stream": "stdout",
       "text": [
        "\n",
        "delta_i: -13866306.5199\n",
        "r3: "
       ]
      },
      {
       "output_type": "stream",
       "stream": "stdout",
       "text": [
        "\n",
        "delta_i: -15847207.4513\n",
        "r3: "
       ]
      },
      {
       "output_type": "stream",
       "stream": "stdout",
       "text": [
        "\n",
        "delta_i: -17828108.3827\n",
        "r3: "
       ]
      },
      {
       "output_type": "stream",
       "stream": "stdout",
       "text": [
        "\n",
        "inside model\n",
        "t_excitation: \n",
        "delta_list: 20\n",
        "delta_i: 19809009.6093\n",
        "r3: "
       ]
      },
      {
       "output_type": "stream",
       "stream": "stdout",
       "text": [
        "\n",
        "delta_i: 17828108.6483\n",
        "r3: "
       ]
      },
      {
       "output_type": "stream",
       "stream": "stdout",
       "text": [
        "\n",
        "delta_i: 15847207.6874\n",
        "r3: "
       ]
      },
      {
       "output_type": "stream",
       "stream": "stdout",
       "text": [
        "\n",
        "delta_i: 13866306.7265\n",
        "r3: "
       ]
      },
      {
       "output_type": "stream",
       "stream": "stdout",
       "text": [
        "\n",
        "delta_i: 11885405.7656\n",
        "r3: "
       ]
      },
      {
       "output_type": "stream",
       "stream": "stdout",
       "text": [
        "\n",
        "delta_i: 9904504.80463\n",
        "r3: \n",
        "delta_i: 7923603.84371\n",
        "r3: "
       ]
      },
      {
       "output_type": "stream",
       "stream": "stdout",
       "text": [
        "\n",
        "delta_i: 5942702.88278\n",
        "r3: \n",
        "delta_i: 3961801.92185\n",
        "r3: "
       ]
      },
      {
       "output_type": "stream",
       "stream": "stdout",
       "text": [
        "\n",
        "delta_i: 1980900.96093\n",
        "r3: \n",
        "delta_i: 1.49011611938e-08\n",
        "r3: \n",
        "delta_i: -1980900.96093\n",
        "r3: \n",
        "delta_i: -3961801.92185\n",
        "r3: \n",
        "delta_i: -5942702.88278\n",
        "r3: "
       ]
      },
      {
       "output_type": "stream",
       "stream": "stdout",
       "text": [
        "\n",
        "delta_i: -7923603.84371\n",
        "r3: \n",
        "delta_i: -9904504.80463\n",
        "r3: "
       ]
      },
      {
       "output_type": "stream",
       "stream": "stdout",
       "text": [
        "\n",
        "delta_i: -11885405.7656\n",
        "r3: "
       ]
      },
      {
       "output_type": "stream",
       "stream": "stdout",
       "text": [
        "\n",
        "delta_i: -13866306.7265\n",
        "r3: "
       ]
      },
      {
       "output_type": "stream",
       "stream": "stdout",
       "text": [
        "\n",
        "delta_i: -15847207.6874\n",
        "r3: "
       ]
      },
      {
       "output_type": "stream",
       "stream": "stdout",
       "text": [
        "\n",
        "delta_i: -17828108.6483\n",
        "r3: "
       ]
      },
      {
       "output_type": "stream",
       "stream": "stdout",
       "text": [
        "\n",
        "inside model\n",
        "t_excitation: \n",
        "delta_list: 20\n",
        "delta_i: 19796251.6348\n",
        "r3: "
       ]
      },
      {
       "output_type": "stream",
       "stream": "stdout",
       "text": [
        "\n",
        "delta_i: 17816626.4714\n",
        "r3: "
       ]
      },
      {
       "output_type": "stream",
       "stream": "stdout",
       "text": [
        "\n",
        "delta_i: 15837001.3079\n",
        "r3: "
       ]
      },
      {
       "output_type": "stream",
       "stream": "stdout",
       "text": [
        "\n",
        "delta_i: 13857376.1444\n",
        "r3: "
       ]
      },
      {
       "output_type": "stream",
       "stream": "stdout",
       "text": [
        "\n",
        "delta_i: 11877750.9809\n",
        "r3: "
       ]
      },
      {
       "output_type": "stream",
       "stream": "stdout",
       "text": [
        "\n",
        "delta_i: 9898125.81742\n",
        "r3: \n",
        "delta_i: 7918500.65394\n",
        "r3: "
       ]
      },
      {
       "output_type": "stream",
       "stream": "stdout",
       "text": [
        "\n",
        "delta_i: 5938875.49045\n",
        "r3: \n",
        "delta_i: 3959250.32697\n",
        "r3: "
       ]
      },
      {
       "output_type": "stream",
       "stream": "stdout",
       "text": [
        "\n",
        "delta_i: 1979625.16348\n",
        "r3: \n",
        "delta_i: 1.86264514923e-08\n",
        "r3: \n",
        "delta_i: -1979625.16348\n",
        "r3: \n",
        "delta_i: -3959250.32697\n",
        "r3: \n",
        "delta_i: -5938875.49045\n",
        "r3: "
       ]
      },
      {
       "output_type": "stream",
       "stream": "stdout",
       "text": [
        "\n",
        "delta_i: -7918500.65394\n",
        "r3: \n",
        "delta_i: -9898125.81742\n",
        "r3: "
       ]
      },
      {
       "output_type": "stream",
       "stream": "stdout",
       "text": [
        "\n",
        "delta_i: -11877750.9809\n",
        "r3: "
       ]
      },
      {
       "output_type": "stream",
       "stream": "stdout",
       "text": [
        "\n",
        "delta_i: -13857376.1444\n",
        "r3: "
       ]
      },
      {
       "output_type": "stream",
       "stream": "stdout",
       "text": [
        "\n",
        "delta_i: -15837001.3079\n",
        "r3: "
       ]
      },
      {
       "output_type": "stream",
       "stream": "stdout",
       "text": [
        "\n",
        "delta_i: -17816626.4714\n",
        "r3: "
       ]
      },
      {
       "output_type": "stream",
       "stream": "stdout",
       "text": [
        "\n",
        "inside model\n",
        "t_excitation: \n",
        "delta_list: 20\n",
        "delta_i: 19796251.6348\n",
        "r3: "
       ]
      },
      {
       "output_type": "stream",
       "stream": "stdout",
       "text": [
        "\n",
        "delta_i: 17816626.4714\n",
        "r3: "
       ]
      },
      {
       "output_type": "stream",
       "stream": "stdout",
       "text": [
        "\n",
        "delta_i: 15837001.3079\n",
        "r3: "
       ]
      },
      {
       "output_type": "stream",
       "stream": "stdout",
       "text": [
        "\n",
        "delta_i: 13857376.1444\n",
        "r3: "
       ]
      },
      {
       "output_type": "stream",
       "stream": "stdout",
       "text": [
        "\n",
        "delta_i: 11877750.9809\n",
        "r3: "
       ]
      },
      {
       "output_type": "stream",
       "stream": "stdout",
       "text": [
        "\n",
        "delta_i: 9898125.81742\n",
        "r3: \n",
        "delta_i: 7918500.65394\n",
        "r3: "
       ]
      },
      {
       "output_type": "stream",
       "stream": "stdout",
       "text": [
        "\n",
        "delta_i: 5938875.49045\n",
        "r3: \n",
        "delta_i: 3959250.32697\n",
        "r3: "
       ]
      },
      {
       "output_type": "stream",
       "stream": "stdout",
       "text": [
        "\n",
        "delta_i: 1979625.16348\n",
        "r3: \n",
        "delta_i: 1.86264514923e-08\n",
        "r3: \n",
        "delta_i: -1979625.16348\n",
        "r3: \n",
        "delta_i: -3959250.32697\n",
        "r3: \n",
        "delta_i: -5938875.49045\n",
        "r3: "
       ]
      },
      {
       "output_type": "stream",
       "stream": "stdout",
       "text": [
        "\n",
        "delta_i: -7918500.65394\n",
        "r3: \n",
        "delta_i: -9898125.81742\n",
        "r3: "
       ]
      },
      {
       "output_type": "stream",
       "stream": "stdout",
       "text": [
        "\n",
        "delta_i: -11877750.9809\n",
        "r3: "
       ]
      },
      {
       "output_type": "stream",
       "stream": "stdout",
       "text": [
        "\n",
        "delta_i: -13857376.1444\n",
        "r3: "
       ]
      },
      {
       "output_type": "stream",
       "stream": "stdout",
       "text": [
        "\n",
        "delta_i: -15837001.3079\n",
        "r3: "
       ]
      },
      {
       "output_type": "stream",
       "stream": "stdout",
       "text": [
        "\n",
        "delta_i: -17816626.4714\n",
        "r3: "
       ]
      },
      {
       "output_type": "stream",
       "stream": "stdout",
       "text": [
        "\n",
        "inside model\n",
        "t_excitation: \n",
        "delta_list: 20\n",
        "delta_i: 19796251.6348\n",
        "r3: "
       ]
      },
      {
       "output_type": "stream",
       "stream": "stdout",
       "text": [
        "\n",
        "delta_i: 17816626.4714\n",
        "r3: "
       ]
      },
      {
       "output_type": "stream",
       "stream": "stdout",
       "text": [
        "\n",
        "delta_i: 15837001.3079\n",
        "r3: "
       ]
      },
      {
       "output_type": "stream",
       "stream": "stdout",
       "text": [
        "\n",
        "delta_i: 13857376.1444\n",
        "r3: "
       ]
      },
      {
       "output_type": "stream",
       "stream": "stdout",
       "text": [
        "\n",
        "delta_i: 11877750.9809\n",
        "r3: "
       ]
      },
      {
       "output_type": "stream",
       "stream": "stdout",
       "text": [
        "\n",
        "delta_i: 9898125.81742\n",
        "r3: "
       ]
      },
      {
       "output_type": "stream",
       "stream": "stdout",
       "text": [
        "\n",
        "delta_i: 7918500.65394\n",
        "r3: "
       ]
      },
      {
       "output_type": "stream",
       "stream": "stdout",
       "text": [
        "\n",
        "delta_i: 5938875.49045\n",
        "r3: \n",
        "delta_i: 3959250.32697\n",
        "r3: "
       ]
      },
      {
       "output_type": "stream",
       "stream": "stdout",
       "text": [
        "\n",
        "delta_i: 1979625.16348\n",
        "r3: \n",
        "delta_i: 1.86264514923e-08\n",
        "r3: \n",
        "delta_i: -1979625.16348\n",
        "r3: \n",
        "delta_i: -3959250.32697\n",
        "r3: \n",
        "delta_i: -5938875.49045\n",
        "r3: "
       ]
      },
      {
       "output_type": "stream",
       "stream": "stdout",
       "text": [
        "\n",
        "delta_i: -7918500.65394\n",
        "r3: \n",
        "delta_i: -9898125.81742\n",
        "r3: "
       ]
      },
      {
       "output_type": "stream",
       "stream": "stdout",
       "text": [
        "\n",
        "delta_i: -11877750.9809\n",
        "r3: "
       ]
      },
      {
       "output_type": "stream",
       "stream": "stdout",
       "text": [
        "\n",
        "delta_i: -13857376.1444\n",
        "r3: "
       ]
      },
      {
       "output_type": "stream",
       "stream": "stdout",
       "text": [
        "\n",
        "delta_i: -15837001.3079\n",
        "r3: "
       ]
      },
      {
       "output_type": "stream",
       "stream": "stdout",
       "text": [
        "\n",
        "delta_i: -17816626.4714\n",
        "r3: "
       ]
      },
      {
       "output_type": "stream",
       "stream": "stdout",
       "text": [
        "\n",
        "inside model\n",
        "t_excitation: \n",
        "delta_list: 20\n",
        "delta_i: 19796251.6348\n",
        "r3: "
       ]
      },
      {
       "output_type": "stream",
       "stream": "stdout",
       "text": [
        "\n",
        "delta_i: 17816626.4714\n",
        "r3: "
       ]
      },
      {
       "output_type": "stream",
       "stream": "stdout",
       "text": [
        "\n",
        "delta_i: 15837001.3079\n",
        "r3: "
       ]
      },
      {
       "output_type": "stream",
       "stream": "stdout",
       "text": [
        "\n",
        "delta_i: 13857376.1444\n",
        "r3: "
       ]
      },
      {
       "output_type": "stream",
       "stream": "stdout",
       "text": [
        "\n",
        "delta_i: 11877750.9809\n",
        "r3: "
       ]
      },
      {
       "output_type": "stream",
       "stream": "stdout",
       "text": [
        "\n",
        "delta_i: 9898125.81742\n",
        "r3: "
       ]
      },
      {
       "output_type": "stream",
       "stream": "stdout",
       "text": [
        "\n",
        "delta_i: 7918500.65394\n",
        "r3: \n",
        "delta_i: 5938875.49045\n",
        "r3: "
       ]
      },
      {
       "output_type": "stream",
       "stream": "stdout",
       "text": [
        "\n",
        "delta_i: 3959250.32697\n",
        "r3: \n",
        "delta_i: 1979625.16348\n",
        "r3: \n",
        "delta_i: 1.86264514923e-08\n",
        "r3: \n",
        "delta_i: -1979625.16348\n",
        "r3: \n",
        "delta_i: -3959250.32697\n",
        "r3: "
       ]
      },
      {
       "output_type": "stream",
       "stream": "stdout",
       "text": [
        "\n",
        "delta_i: -5938875.49045\n",
        "r3: \n",
        "delta_i: -7918500.65394\n",
        "r3: "
       ]
      },
      {
       "output_type": "stream",
       "stream": "stdout",
       "text": [
        "\n",
        "delta_i: -9898125.81742\n",
        "r3: \n",
        "delta_i: -11877750.9809\n",
        "r3: "
       ]
      },
      {
       "output_type": "stream",
       "stream": "stdout",
       "text": [
        "\n",
        "delta_i: -13857376.1444\n",
        "r3: "
       ]
      },
      {
       "output_type": "stream",
       "stream": "stdout",
       "text": [
        "\n",
        "delta_i: -15837001.3079\n",
        "r3: "
       ]
      },
      {
       "output_type": "stream",
       "stream": "stdout",
       "text": [
        "\n",
        "delta_i: -17816626.4714\n",
        "r3: "
       ]
      },
      {
       "output_type": "stream",
       "stream": "stdout",
       "text": [
        "\n",
        "inside model\n",
        "t_excitation: \n",
        "delta_list: 20\n",
        "delta_i: 19796251.3399\n",
        "r3: "
       ]
      },
      {
       "output_type": "stream",
       "stream": "stdout",
       "text": [
        "\n",
        "delta_i: 17816626.2059\n",
        "r3: "
       ]
      },
      {
       "output_type": "stream",
       "stream": "stdout",
       "text": [
        "\n",
        "delta_i: 15837001.0719\n",
        "r3: "
       ]
      },
      {
       "output_type": "stream",
       "stream": "stdout",
       "text": [
        "\n",
        "delta_i: 13857375.9379\n",
        "r3: "
       ]
      },
      {
       "output_type": "stream",
       "stream": "stdout",
       "text": [
        "\n",
        "delta_i: 11877750.8039\n",
        "r3: "
       ]
      },
      {
       "output_type": "stream",
       "stream": "stdout",
       "text": [
        "\n",
        "delta_i: 9898125.66993\n",
        "r3: "
       ]
      },
      {
       "output_type": "stream",
       "stream": "stdout",
       "text": [
        "\n",
        "delta_i: 7918500.53594\n",
        "r3: \n",
        "delta_i: 5938875.40196\n",
        "r3: "
       ]
      },
      {
       "output_type": "stream",
       "stream": "stdout",
       "text": [
        "\n",
        "delta_i: 3959250.26797\n",
        "r3: \n",
        "delta_i: 1979625.13399\n",
        "r3: \n",
        "delta_i: -3.72529029846e-09\n",
        "r3: \n",
        "delta_i: -1979625.13399\n",
        "r3: \n",
        "delta_i: -3959250.26797\n",
        "r3: "
       ]
      },
      {
       "output_type": "stream",
       "stream": "stdout",
       "text": [
        "\n",
        "delta_i: -5938875.40196\n",
        "r3: \n",
        "delta_i: -7918500.53594\n",
        "r3: "
       ]
      },
      {
       "output_type": "stream",
       "stream": "stdout",
       "text": [
        "\n",
        "delta_i: -9898125.66993\n",
        "r3: \n",
        "delta_i: -11877750.8039\n",
        "r3: "
       ]
      },
      {
       "output_type": "stream",
       "stream": "stdout",
       "text": [
        "\n",
        "delta_i: -13857375.9379\n",
        "r3: "
       ]
      },
      {
       "output_type": "stream",
       "stream": "stdout",
       "text": [
        "\n",
        "delta_i: -15837001.0719\n",
        "r3: "
       ]
      },
      {
       "output_type": "stream",
       "stream": "stdout",
       "text": [
        "\n",
        "delta_i: -17816626.2059\n",
        "r3: "
       ]
      },
      {
       "output_type": "stream",
       "stream": "stdout",
       "text": [
        "\n",
        "inside model\n",
        "t_excitation: \n",
        "delta_list: 20\n",
        "delta_i: 19796251.6348\n",
        "r3: "
       ]
      },
      {
       "output_type": "stream",
       "stream": "stdout",
       "text": [
        "\n",
        "delta_i: 17816626.4714\n",
        "r3: "
       ]
      },
      {
       "output_type": "stream",
       "stream": "stdout",
       "text": [
        "\n",
        "delta_i: 15837001.3079\n",
        "r3: "
       ]
      },
      {
       "output_type": "stream",
       "stream": "stdout",
       "text": [
        "\n",
        "delta_i: 13857376.1444\n",
        "r3: "
       ]
      },
      {
       "output_type": "stream",
       "stream": "stdout",
       "text": [
        "\n",
        "delta_i: 11877750.9809\n",
        "r3: "
       ]
      },
      {
       "output_type": "stream",
       "stream": "stdout",
       "text": [
        "\n",
        "delta_i: 9898125.81742\n",
        "r3: "
       ]
      },
      {
       "output_type": "stream",
       "stream": "stdout",
       "text": [
        "\n",
        "delta_i: 7918500.65394\n",
        "r3: \n",
        "delta_i: 5938875.49045\n",
        "r3: "
       ]
      },
      {
       "output_type": "stream",
       "stream": "stdout",
       "text": [
        "\n",
        "delta_i: 3959250.32697\n",
        "r3: \n",
        "delta_i: 1979625.16348\n",
        "r3: \n",
        "delta_i: 1.86264514923e-08\n",
        "r3: \n",
        "delta_i: -1979625.16348\n",
        "r3: \n",
        "delta_i: -3959250.32697\n",
        "r3: "
       ]
      },
      {
       "output_type": "stream",
       "stream": "stdout",
       "text": [
        "\n",
        "delta_i: -5938875.49045\n",
        "r3: \n",
        "delta_i: -7918500.65394\n",
        "r3: "
       ]
      },
      {
       "output_type": "stream",
       "stream": "stdout",
       "text": [
        "\n",
        "delta_i: -9898125.81742\n",
        "r3: "
       ]
      },
      {
       "output_type": "stream",
       "stream": "stdout",
       "text": [
        "\n",
        "delta_i: -11877750.9809\n",
        "r3: "
       ]
      },
      {
       "output_type": "stream",
       "stream": "stdout",
       "text": [
        "\n",
        "delta_i: -13857376.1444\n",
        "r3: "
       ]
      },
      {
       "output_type": "stream",
       "stream": "stdout",
       "text": [
        "\n",
        "delta_i: -15837001.3079\n",
        "r3: "
       ]
      },
      {
       "output_type": "stream",
       "stream": "stdout",
       "text": [
        "\n",
        "delta_i: -17816626.4714\n",
        "r3: "
       ]
      },
      {
       "output_type": "stream",
       "stream": "stdout",
       "text": [
        "\n",
        "inside model\n",
        "t_excitation: \n",
        "delta_list: 20\n",
        "delta_i: 19806757.0277\n",
        "r3: "
       ]
      },
      {
       "output_type": "stream",
       "stream": "stdout",
       "text": [
        "\n",
        "delta_i: 17826081.325\n",
        "r3: "
       ]
      },
      {
       "output_type": "stream",
       "stream": "stdout",
       "text": [
        "\n",
        "delta_i: 15845405.6222\n",
        "r3: "
       ]
      },
      {
       "output_type": "stream",
       "stream": "stdout",
       "text": [
        "\n",
        "delta_i: 13864729.9194\n",
        "r3: "
       ]
      },
      {
       "output_type": "stream",
       "stream": "stdout",
       "text": [
        "\n",
        "delta_i: 11884054.2166\n",
        "r3: "
       ]
      },
      {
       "output_type": "stream",
       "stream": "stdout",
       "text": [
        "\n",
        "delta_i: 9903378.51386\n",
        "r3: "
       ]
      },
      {
       "output_type": "stream",
       "stream": "stdout",
       "text": [
        "\n",
        "delta_i: 7922702.81109\n",
        "r3: \n",
        "delta_i: 5942027.10832\n",
        "r3: "
       ]
      },
      {
       "output_type": "stream",
       "stream": "stdout",
       "text": [
        "\n",
        "delta_i: 3961351.40554\n",
        "r3: \n",
        "delta_i: 1980675.70277\n",
        "r3: \n",
        "delta_i: -1.49011611938e-08\n",
        "r3: "
       ]
      },
      {
       "output_type": "stream",
       "stream": "stdout",
       "text": [
        "\n",
        "delta_i: -1980675.70277\n",
        "r3: \n",
        "delta_i: -3961351.40554\n",
        "r3: \n",
        "delta_i: -5942027.10832\n",
        "r3: "
       ]
      },
      {
       "output_type": "stream",
       "stream": "stdout",
       "text": [
        "\n",
        "delta_i: -7922702.81109\n",
        "r3: \n",
        "delta_i: -9903378.51386\n",
        "r3: "
       ]
      },
      {
       "output_type": "stream",
       "stream": "stdout",
       "text": [
        "\n",
        "delta_i: -11884054.2166\n",
        "r3: "
       ]
      },
      {
       "output_type": "stream",
       "stream": "stdout",
       "text": [
        "\n",
        "delta_i: -13864729.9194\n",
        "r3: "
       ]
      },
      {
       "output_type": "stream",
       "stream": "stdout",
       "text": [
        "\n",
        "delta_i: -15845405.6222\n",
        "r3: "
       ]
      },
      {
       "output_type": "stream",
       "stream": "stdout",
       "text": [
        "\n",
        "delta_i: -17826081.325\n",
        "r3: "
       ]
      },
      {
       "output_type": "stream",
       "stream": "stdout",
       "text": [
        "\n",
        "inside model\n",
        "t_excitation: \n",
        "delta_list: 20\n",
        "delta_i: 19806757.0277\n",
        "r3: "
       ]
      },
      {
       "output_type": "stream",
       "stream": "stdout",
       "text": [
        "\n",
        "delta_i: 17826081.325\n",
        "r3: "
       ]
      },
      {
       "output_type": "stream",
       "stream": "stdout",
       "text": [
        "\n",
        "delta_i: 15845405.6222\n",
        "r3: "
       ]
      },
      {
       "output_type": "stream",
       "stream": "stdout",
       "text": [
        "\n",
        "delta_i: 13864729.9194\n",
        "r3: "
       ]
      },
      {
       "output_type": "stream",
       "stream": "stdout",
       "text": [
        "\n",
        "delta_i: 11884054.2166\n",
        "r3: "
       ]
      },
      {
       "output_type": "stream",
       "stream": "stdout",
       "text": [
        "\n",
        "delta_i: 9903378.51386\n",
        "r3: \n",
        "delta_i: 7922702.81109\n",
        "r3: "
       ]
      },
      {
       "output_type": "stream",
       "stream": "stdout",
       "text": [
        "\n",
        "delta_i: 5942027.10832\n",
        "r3: \n",
        "delta_i: 3961351.40554\n",
        "r3: "
       ]
      },
      {
       "output_type": "stream",
       "stream": "stdout",
       "text": [
        "\n",
        "delta_i: 1980675.70277\n",
        "r3: \n",
        "delta_i: -1.49011611938e-08\n",
        "r3: \n",
        "delta_i: -1980675.70277\n",
        "r3: \n",
        "delta_i: -3961351.40554\n",
        "r3: \n",
        "delta_i: -5942027.10832\n",
        "r3: "
       ]
      },
      {
       "output_type": "stream",
       "stream": "stdout",
       "text": [
        "\n",
        "delta_i: -7922702.81109\n",
        "r3: \n",
        "delta_i: -9903378.51386\n",
        "r3: "
       ]
      },
      {
       "output_type": "stream",
       "stream": "stdout",
       "text": [
        "\n",
        "delta_i: -11884054.2166\n",
        "r3: "
       ]
      },
      {
       "output_type": "stream",
       "stream": "stdout",
       "text": [
        "\n",
        "delta_i: -13864729.9194\n",
        "r3: "
       ]
      },
      {
       "output_type": "stream",
       "stream": "stdout",
       "text": [
        "\n",
        "delta_i: -15845405.6222\n",
        "r3: "
       ]
      },
      {
       "output_type": "stream",
       "stream": "stdout",
       "text": [
        "\n",
        "delta_i: -17826081.325\n",
        "r3: "
       ]
      },
      {
       "output_type": "stream",
       "stream": "stdout",
       "text": [
        "\n",
        "inside model\n",
        "t_excitation: \n",
        "delta_list: 20\n",
        "delta_i: 19806757.0277\n",
        "r3: "
       ]
      },
      {
       "output_type": "stream",
       "stream": "stdout",
       "text": [
        "\n",
        "delta_i: 17826081.325\n",
        "r3: "
       ]
      },
      {
       "output_type": "stream",
       "stream": "stdout",
       "text": [
        "\n",
        "delta_i: 15845405.6222\n",
        "r3: "
       ]
      },
      {
       "output_type": "stream",
       "stream": "stdout",
       "text": [
        "\n",
        "delta_i: 13864729.9194\n",
        "r3: "
       ]
      },
      {
       "output_type": "stream",
       "stream": "stdout",
       "text": [
        "\n",
        "delta_i: 11884054.2166\n",
        "r3: "
       ]
      },
      {
       "output_type": "stream",
       "stream": "stdout",
       "text": [
        "\n",
        "delta_i: 9903378.51386\n",
        "r3: \n",
        "delta_i: 7922702.81109\n",
        "r3: "
       ]
      },
      {
       "output_type": "stream",
       "stream": "stdout",
       "text": [
        "\n",
        "delta_i: 5942027.10832\n",
        "r3: \n",
        "delta_i: 3961351.40554\n",
        "r3: "
       ]
      },
      {
       "output_type": "stream",
       "stream": "stdout",
       "text": [
        "\n",
        "delta_i: 1980675.70277\n",
        "r3: \n",
        "delta_i: -1.49011611938e-08\n",
        "r3: \n",
        "delta_i: -1980675.70277\n",
        "r3: \n",
        "delta_i: -3961351.40554\n",
        "r3: \n",
        "delta_i: -5942027.10832\n",
        "r3: "
       ]
      },
      {
       "output_type": "stream",
       "stream": "stdout",
       "text": [
        "\n",
        "delta_i: -7922702.81109\n",
        "r3: \n",
        "delta_i: -9903378.51386\n",
        "r3: "
       ]
      },
      {
       "output_type": "stream",
       "stream": "stdout",
       "text": [
        "\n",
        "delta_i: -11884054.2166\n",
        "r3: "
       ]
      },
      {
       "output_type": "stream",
       "stream": "stdout",
       "text": [
        "\n",
        "delta_i: -13864729.9194\n",
        "r3: "
       ]
      },
      {
       "output_type": "stream",
       "stream": "stdout",
       "text": [
        "\n",
        "delta_i: -15845405.6222\n",
        "r3: "
       ]
      },
      {
       "output_type": "stream",
       "stream": "stdout",
       "text": [
        "\n",
        "delta_i: -17826081.325\n",
        "r3: "
       ]
      },
      {
       "output_type": "stream",
       "stream": "stdout",
       "text": [
        "\n",
        "inside model\n",
        "t_excitation: \n",
        "delta_list: 20\n",
        "delta_i: 19806757.0277\n",
        "r3: "
       ]
      },
      {
       "output_type": "stream",
       "stream": "stdout",
       "text": [
        "\n",
        "delta_i: 17826081.325\n",
        "r3: "
       ]
      },
      {
       "output_type": "stream",
       "stream": "stdout",
       "text": [
        "\n",
        "delta_i: 15845405.6222\n",
        "r3: "
       ]
      },
      {
       "output_type": "stream",
       "stream": "stdout",
       "text": [
        "\n",
        "delta_i: 13864729.9194\n",
        "r3: "
       ]
      },
      {
       "output_type": "stream",
       "stream": "stdout",
       "text": [
        "\n",
        "delta_i: 11884054.2166\n",
        "r3: "
       ]
      },
      {
       "output_type": "stream",
       "stream": "stdout",
       "text": [
        "\n",
        "delta_i: 9903378.51386\n",
        "r3: \n",
        "delta_i: 7922702.81109\n",
        "r3: "
       ]
      },
      {
       "output_type": "stream",
       "stream": "stdout",
       "text": [
        "\n",
        "delta_i: 5942027.10832\n",
        "r3: \n",
        "delta_i: 3961351.40554\n",
        "r3: "
       ]
      },
      {
       "output_type": "stream",
       "stream": "stdout",
       "text": [
        "\n",
        "delta_i: 1980675.70277\n",
        "r3: \n",
        "delta_i: -1.49011611938e-08\n",
        "r3: \n",
        "delta_i: -1980675.70277\n",
        "r3: \n",
        "delta_i: -3961351.40554\n",
        "r3: "
       ]
      },
      {
       "output_type": "stream",
       "stream": "stdout",
       "text": [
        "\n",
        "delta_i: -5942027.10832\n",
        "r3: \n",
        "delta_i: -7922702.81109\n",
        "r3: "
       ]
      },
      {
       "output_type": "stream",
       "stream": "stdout",
       "text": [
        "\n",
        "delta_i: -9903378.51386\n",
        "r3: \n",
        "delta_i: -11884054.2166\n",
        "r3: "
       ]
      },
      {
       "output_type": "stream",
       "stream": "stdout",
       "text": [
        "\n",
        "delta_i: -13864729.9194\n",
        "r3: "
       ]
      },
      {
       "output_type": "stream",
       "stream": "stdout",
       "text": [
        "\n",
        "delta_i: -15845405.6222\n",
        "r3: "
       ]
      },
      {
       "output_type": "stream",
       "stream": "stdout",
       "text": [
        "\n",
        "delta_i: -17826081.325\n",
        "r3: "
       ]
      },
      {
       "output_type": "stream",
       "stream": "stdout",
       "text": [
        "\n",
        "inside model\n",
        "t_excitation: \n",
        "delta_list: 20\n",
        "delta_i: 19806756.7326\n",
        "r3: "
       ]
      },
      {
       "output_type": "stream",
       "stream": "stdout",
       "text": [
        "\n",
        "delta_i: 17826081.0593\n",
        "r3: "
       ]
      },
      {
       "output_type": "stream",
       "stream": "stdout",
       "text": [
        "\n",
        "delta_i: 15845405.3861\n",
        "r3: "
       ]
      },
      {
       "output_type": "stream",
       "stream": "stdout",
       "text": [
        "\n",
        "delta_i: 13864729.7128\n",
        "r3: "
       ]
      },
      {
       "output_type": "stream",
       "stream": "stdout",
       "text": [
        "\n",
        "delta_i: 11884054.0395\n",
        "r3: "
       ]
      },
      {
       "output_type": "stream",
       "stream": "stdout",
       "text": [
        "\n",
        "delta_i: 9903378.36629\n",
        "r3: \n",
        "delta_i: 7922702.69303\n",
        "r3: "
       ]
      },
      {
       "output_type": "stream",
       "stream": "stdout",
       "text": [
        "\n",
        "delta_i: 5942027.01977\n",
        "r3: \n",
        "delta_i: 3961351.34652\n",
        "r3: "
       ]
      },
      {
       "output_type": "stream",
       "stream": "stdout",
       "text": [
        "\n",
        "delta_i: 1980675.67326\n",
        "r3: \n",
        "delta_i: -7.45058059692e-09\n",
        "r3: \n",
        "delta_i: -1980675.67326\n",
        "r3: \n",
        "delta_i: -3961351.34652\n",
        "r3: "
       ]
      },
      {
       "output_type": "stream",
       "stream": "stdout",
       "text": [
        "\n",
        "delta_i: -5942027.01977\n",
        "r3: \n",
        "delta_i: -7922702.69303\n",
        "r3: "
       ]
      },
      {
       "output_type": "stream",
       "stream": "stdout",
       "text": [
        "\n",
        "delta_i: -9903378.36629\n",
        "r3: \n",
        "delta_i: -11884054.0395\n",
        "r3: "
       ]
      },
      {
       "output_type": "stream",
       "stream": "stdout",
       "text": [
        "\n",
        "delta_i: -13864729.7128\n",
        "r3: "
       ]
      },
      {
       "output_type": "stream",
       "stream": "stdout",
       "text": [
        "\n",
        "delta_i: -15845405.3861\n",
        "r3: "
       ]
      },
      {
       "output_type": "stream",
       "stream": "stdout",
       "text": [
        "\n",
        "delta_i: -17826081.0593\n",
        "r3: "
       ]
      },
      {
       "output_type": "stream",
       "stream": "stdout",
       "text": [
        "\n",
        "inside model\n",
        "t_excitation: \n",
        "delta_list: 20\n",
        "delta_i: 19806757.0277\n",
        "r3: "
       ]
      },
      {
       "output_type": "stream",
       "stream": "stdout",
       "text": [
        "\n",
        "delta_i: 17826081.325\n",
        "r3: "
       ]
      },
      {
       "output_type": "stream",
       "stream": "stdout",
       "text": [
        "\n",
        "delta_i: 15845405.6222\n",
        "r3: "
       ]
      },
      {
       "output_type": "stream",
       "stream": "stdout",
       "text": [
        "\n",
        "delta_i: 13864729.9194\n",
        "r3: "
       ]
      },
      {
       "output_type": "stream",
       "stream": "stdout",
       "text": [
        "\n",
        "delta_i: 11884054.2166\n",
        "r3: "
       ]
      },
      {
       "output_type": "stream",
       "stream": "stdout",
       "text": [
        "\n",
        "delta_i: 9903378.51386\n",
        "r3: \n",
        "delta_i: 7922702.81109\n",
        "r3: "
       ]
      },
      {
       "output_type": "stream",
       "stream": "stdout",
       "text": [
        "\n",
        "delta_i: 5942027.10832\n",
        "r3: \n",
        "delta_i: 3961351.40554\n",
        "r3: "
       ]
      },
      {
       "output_type": "stream",
       "stream": "stdout",
       "text": [
        "\n",
        "delta_i: 1980675.70277\n",
        "r3: \n",
        "delta_i: -1.49011611938e-08\n",
        "r3: \n",
        "delta_i: -1980675.70277\n",
        "r3: \n",
        "delta_i: -3961351.40554\n",
        "r3: \n",
        "delta_i: -5942027.10832\n",
        "r3: "
       ]
      },
      {
       "output_type": "stream",
       "stream": "stdout",
       "text": [
        "\n",
        "delta_i: -7922702.81109\n",
        "r3: \n",
        "delta_i: -9903378.51386\n",
        "r3: "
       ]
      },
      {
       "output_type": "stream",
       "stream": "stdout",
       "text": [
        "\n",
        "delta_i: -11884054.2166\n",
        "r3: "
       ]
      },
      {
       "output_type": "stream",
       "stream": "stdout",
       "text": [
        "\n",
        "delta_i: -13864729.9194\n",
        "r3: "
       ]
      },
      {
       "output_type": "stream",
       "stream": "stdout",
       "text": [
        "\n",
        "delta_i: -15845405.6222\n",
        "r3: "
       ]
      },
      {
       "output_type": "stream",
       "stream": "stdout",
       "text": [
        "\n",
        "delta_i: -17826081.325\n",
        "r3: "
       ]
      },
      {
       "output_type": "stream",
       "stream": "stdout",
       "text": [
        "\n",
        "inside model\n",
        "t_excitation: \n",
        "delta_list: 20\n",
        "delta_i: 19815127.9955\n",
        "r3: "
       ]
      },
      {
       "output_type": "stream",
       "stream": "stdout",
       "text": [
        "\n",
        "delta_i: 17833615.196\n",
        "r3: "
       ]
      },
      {
       "output_type": "stream",
       "stream": "stdout",
       "text": [
        "\n",
        "delta_i: 15852102.3964\n",
        "r3: "
       ]
      },
      {
       "output_type": "stream",
       "stream": "stdout",
       "text": [
        "\n",
        "delta_i: 13870589.5969\n",
        "r3: "
       ]
      },
      {
       "output_type": "stream",
       "stream": "stdout",
       "text": [
        "\n",
        "delta_i: 11889076.7973\n",
        "r3: "
       ]
      },
      {
       "output_type": "stream",
       "stream": "stdout",
       "text": [
        "\n",
        "delta_i: 9907563.99776\n",
        "r3: "
       ]
      },
      {
       "output_type": "stream",
       "stream": "stdout",
       "text": [
        "\n",
        "delta_i: 7926051.19821\n",
        "r3: \n",
        "delta_i: 5944538.39866\n",
        "r3: "
       ]
      },
      {
       "output_type": "stream",
       "stream": "stdout",
       "text": [
        "\n",
        "delta_i: 3963025.59911\n",
        "r3: \n",
        "delta_i: 1981512.79955\n",
        "r3: \n",
        "delta_i: 3.72529029846e-09\n",
        "r3: \n",
        "delta_i: -1981512.79955\n",
        "r3: "
       ]
      },
      {
       "output_type": "stream",
       "stream": "stdout",
       "text": [
        "\n",
        "delta_i: -3963025.59911\n",
        "r3: \n",
        "delta_i: -5944538.39866\n",
        "r3: "
       ]
      },
      {
       "output_type": "stream",
       "stream": "stdout",
       "text": [
        "\n",
        "delta_i: -7926051.19821\n",
        "r3: "
       ]
      },
      {
       "output_type": "stream",
       "stream": "stdout",
       "text": [
        "\n",
        "delta_i: -9907563.99776\n",
        "r3: "
       ]
      },
      {
       "output_type": "stream",
       "stream": "stdout",
       "text": [
        "\n",
        "delta_i: -11889076.7973\n",
        "r3: "
       ]
      },
      {
       "output_type": "stream",
       "stream": "stdout",
       "text": [
        "\n",
        "delta_i: -13870589.5969\n",
        "r3: "
       ]
      },
      {
       "output_type": "stream",
       "stream": "stdout",
       "text": [
        "\n",
        "delta_i: -15852102.3964\n",
        "r3: "
       ]
      },
      {
       "output_type": "stream",
       "stream": "stdout",
       "text": [
        "\n",
        "delta_i: -17833615.196\n",
        "r3: "
       ]
      },
      {
       "output_type": "stream",
       "stream": "stdout",
       "text": [
        "\n",
        "inside model\n",
        "t_excitation: \n",
        "delta_list: 1999\n",
        "delta_i: 19815127.9955\n",
        "r3: "
       ]
      },
      {
       "output_type": "stream",
       "stream": "stdout",
       "text": [
        "\n",
        "delta_i: 19795302.955\n",
        "r3: "
       ]
      },
      {
       "output_type": "stream",
       "stream": "stdout",
       "text": [
        "\n",
        "delta_i: 19775477.9145\n",
        "r3: "
       ]
      },
      {
       "output_type": "stream",
       "stream": "stdout",
       "text": [
        "\n",
        "delta_i: 19755652.874\n",
        "r3: "
       ]
      },
      {
       "output_type": "stream",
       "stream": "stdout",
       "text": [
        "\n",
        "delta_i: 19735827.8335\n",
        "r3: "
       ]
      },
      {
       "output_type": "stream",
       "stream": "stdout",
       "text": [
        "\n",
        "delta_i: 19716002.7929\n",
        "r3: "
       ]
      },
      {
       "output_type": "stream",
       "stream": "stdout",
       "text": [
        "\n",
        "delta_i: 19696177.7524\n",
        "r3: "
       ]
      },
      {
       "output_type": "stream",
       "stream": "stdout",
       "text": [
        "\n",
        "delta_i: 19676352.7119\n",
        "r3: "
       ]
      },
      {
       "output_type": "stream",
       "stream": "stdout",
       "text": [
        "\n",
        "delta_i: 19656527.6714\n",
        "r3: "
       ]
      },
      {
       "output_type": "stream",
       "stream": "stdout",
       "text": [
        "\n",
        "delta_i: 19636702.6309\n",
        "r3: "
       ]
      },
      {
       "output_type": "stream",
       "stream": "stdout",
       "text": [
        "\n",
        "delta_i: 19616877.5904\n",
        "r3: "
       ]
      },
      {
       "output_type": "stream",
       "stream": "stdout",
       "text": [
        "\n",
        "delta_i: 19597052.5499\n",
        "r3: "
       ]
      },
      {
       "output_type": "stream",
       "stream": "stdout",
       "text": [
        "\n",
        "delta_i: 19577227.5093\n",
        "r3: "
       ]
      },
      {
       "output_type": "stream",
       "stream": "stdout",
       "text": [
        "\n",
        "delta_i: 19557402.4688\n",
        "r3: "
       ]
      },
      {
       "output_type": "stream",
       "stream": "stdout",
       "text": [
        "\n",
        "delta_i: 19537577.4283\n",
        "r3: "
       ]
      },
      {
       "output_type": "stream",
       "stream": "stdout",
       "text": [
        "\n",
        "delta_i: 19517752.3878\n",
        "r3: "
       ]
      },
      {
       "output_type": "stream",
       "stream": "stdout",
       "text": [
        "\n",
        "delta_i: 19497927.3473\n",
        "r3: "
       ]
      },
      {
       "output_type": "stream",
       "stream": "stdout",
       "text": [
        "\n",
        "delta_i: 19478102.3068\n",
        "r3: "
       ]
      },
      {
       "output_type": "stream",
       "stream": "stdout",
       "text": [
        "\n",
        "delta_i: 19458277.2662\n",
        "r3: "
       ]
      },
      {
       "output_type": "stream",
       "stream": "stdout",
       "text": [
        "\n",
        "delta_i: 19438452.2257\n",
        "r3: "
       ]
      },
      {
       "output_type": "stream",
       "stream": "stdout",
       "text": [
        "\n",
        "delta_i: 19418627.1852\n",
        "r3: "
       ]
      },
      {
       "output_type": "stream",
       "stream": "stdout",
       "text": [
        "\n",
        "delta_i: 19398802.1447\n",
        "r3: "
       ]
      },
      {
       "output_type": "stream",
       "stream": "stdout",
       "text": [
        "\n",
        "delta_i: 19378977.1042\n",
        "r3: "
       ]
      },
      {
       "output_type": "stream",
       "stream": "stdout",
       "text": [
        "\n",
        "delta_i: 19359152.0637\n",
        "r3: "
       ]
      },
      {
       "output_type": "stream",
       "stream": "stdout",
       "text": [
        "\n",
        "delta_i: 19339327.0231\n",
        "r3: "
       ]
      },
      {
       "output_type": "stream",
       "stream": "stdout",
       "text": [
        "\n",
        "delta_i: 19319501.9826\n",
        "r3: "
       ]
      },
      {
       "output_type": "stream",
       "stream": "stdout",
       "text": [
        "\n",
        "delta_i: 19299676.9421\n",
        "r3: "
       ]
      },
      {
       "output_type": "stream",
       "stream": "stdout",
       "text": [
        "\n",
        "delta_i: 19279851.9016\n",
        "r3: "
       ]
      },
      {
       "output_type": "stream",
       "stream": "stdout",
       "text": [
        "\n",
        "delta_i: 19260026.8611\n",
        "r3: "
       ]
      },
      {
       "output_type": "stream",
       "stream": "stdout",
       "text": [
        "\n",
        "delta_i: 19240201.8206\n",
        "r3: "
       ]
      },
      {
       "output_type": "stream",
       "stream": "stdout",
       "text": [
        "\n",
        "delta_i: 19220376.7801\n",
        "r3: "
       ]
      },
      {
       "output_type": "stream",
       "stream": "stdout",
       "text": [
        "\n",
        "delta_i: 19200551.7395\n",
        "r3: "
       ]
      },
      {
       "output_type": "stream",
       "stream": "stdout",
       "text": [
        "\n",
        "delta_i: 19180726.699\n",
        "r3: "
       ]
      },
      {
       "output_type": "stream",
       "stream": "stdout",
       "text": [
        "\n",
        "delta_i: 19160901.6585\n",
        "r3: "
       ]
      },
      {
       "output_type": "stream",
       "stream": "stdout",
       "text": [
        "\n",
        "delta_i: 19141076.618\n",
        "r3: "
       ]
      },
      {
       "output_type": "stream",
       "stream": "stdout",
       "text": [
        "\n",
        "delta_i: 19121251.5775\n",
        "r3: "
       ]
      },
      {
       "output_type": "stream",
       "stream": "stdout",
       "text": [
        "\n",
        "delta_i: 19101426.537\n",
        "r3: "
       ]
      },
      {
       "output_type": "stream",
       "stream": "stdout",
       "text": [
        "\n",
        "delta_i: 19081601.4964\n",
        "r3: "
       ]
      },
      {
       "output_type": "stream",
       "stream": "stdout",
       "text": [
        "\n",
        "delta_i: 19061776.4559\n",
        "r3: "
       ]
      },
      {
       "output_type": "stream",
       "stream": "stdout",
       "text": [
        "\n",
        "delta_i: 19041951.4154\n",
        "r3: "
       ]
      },
      {
       "output_type": "stream",
       "stream": "stdout",
       "text": [
        "\n",
        "delta_i: 19022126.3749\n",
        "r3: "
       ]
      },
      {
       "output_type": "stream",
       "stream": "stdout",
       "text": [
        "\n",
        "delta_i: 19002301.3344\n",
        "r3: "
       ]
      },
      {
       "output_type": "stream",
       "stream": "stdout",
       "text": [
        "\n",
        "delta_i: 18982476.2939\n",
        "r3: "
       ]
      },
      {
       "output_type": "stream",
       "stream": "stdout",
       "text": [
        "\n",
        "delta_i: 18962651.2533\n",
        "r3: "
       ]
      },
      {
       "output_type": "stream",
       "stream": "stdout",
       "text": [
        "\n",
        "delta_i: 18942826.2128\n",
        "r3: "
       ]
      },
      {
       "output_type": "stream",
       "stream": "stdout",
       "text": [
        "\n",
        "delta_i: 18923001.1723\n",
        "r3: "
       ]
      },
      {
       "output_type": "stream",
       "stream": "stdout",
       "text": [
        "\n",
        "delta_i: 18903176.1318\n",
        "r3: "
       ]
      },
      {
       "output_type": "stream",
       "stream": "stdout",
       "text": [
        "\n",
        "delta_i: 18883351.0913\n",
        "r3: "
       ]
      },
      {
       "output_type": "stream",
       "stream": "stdout",
       "text": [
        "\n",
        "delta_i: 18863526.0508\n",
        "r3: "
       ]
      },
      {
       "output_type": "stream",
       "stream": "stdout",
       "text": [
        "\n",
        "delta_i: 18843701.0103\n",
        "r3: "
       ]
      },
      {
       "output_type": "stream",
       "stream": "stdout",
       "text": [
        "\n",
        "delta_i: 18823875.9697\n",
        "r3: "
       ]
      },
      {
       "output_type": "stream",
       "stream": "stdout",
       "text": [
        "\n",
        "delta_i: 18804050.9292\n",
        "r3: "
       ]
      },
      {
       "output_type": "stream",
       "stream": "stdout",
       "text": [
        "\n",
        "delta_i: 18784225.8887\n",
        "r3: "
       ]
      },
      {
       "output_type": "stream",
       "stream": "stdout",
       "text": [
        "\n",
        "delta_i: 18764400.8482\n",
        "r3: "
       ]
      },
      {
       "output_type": "stream",
       "stream": "stdout",
       "text": [
        "\n",
        "delta_i: 18744575.8077\n",
        "r3: "
       ]
      },
      {
       "output_type": "stream",
       "stream": "stdout",
       "text": [
        "\n",
        "delta_i: 18724750.7672\n",
        "r3: "
       ]
      },
      {
       "output_type": "stream",
       "stream": "stdout",
       "text": [
        "\n",
        "delta_i: 18704925.7266\n",
        "r3: "
       ]
      },
      {
       "output_type": "stream",
       "stream": "stdout",
       "text": [
        "\n",
        "delta_i: 18685100.6861\n",
        "r3: "
       ]
      },
      {
       "output_type": "stream",
       "stream": "stdout",
       "text": [
        "\n",
        "delta_i: 18665275.6456\n",
        "r3: "
       ]
      },
      {
       "output_type": "stream",
       "stream": "stdout",
       "text": [
        "\n",
        "delta_i: 18645450.6051\n",
        "r3: "
       ]
      },
      {
       "output_type": "stream",
       "stream": "stdout",
       "text": [
        "\n",
        "delta_i: 18625625.5646\n",
        "r3: "
       ]
      },
      {
       "output_type": "stream",
       "stream": "stdout",
       "text": [
        "\n",
        "delta_i: 18605800.5241\n",
        "r3: "
       ]
      },
      {
       "output_type": "stream",
       "stream": "stdout",
       "text": [
        "\n",
        "delta_i: 18585975.4835\n",
        "r3: "
       ]
      },
      {
       "output_type": "stream",
       "stream": "stdout",
       "text": [
        "\n",
        "delta_i: 18566150.443\n",
        "r3: "
       ]
      },
      {
       "output_type": "stream",
       "stream": "stdout",
       "text": [
        "\n",
        "delta_i: 18546325.4025\n",
        "r3: "
       ]
      },
      {
       "output_type": "stream",
       "stream": "stdout",
       "text": [
        "\n",
        "delta_i: 18526500.362\n",
        "r3: "
       ]
      },
      {
       "output_type": "stream",
       "stream": "stdout",
       "text": [
        "\n",
        "delta_i: 18506675.3215\n",
        "r3: "
       ]
      },
      {
       "output_type": "stream",
       "stream": "stdout",
       "text": [
        "\n",
        "delta_i: 18486850.281\n",
        "r3: "
       ]
      },
      {
       "output_type": "stream",
       "stream": "stdout",
       "text": [
        "\n",
        "delta_i: 18467025.2405\n",
        "r3: "
       ]
      },
      {
       "output_type": "stream",
       "stream": "stdout",
       "text": [
        "\n",
        "delta_i: 18447200.1999\n",
        "r3: "
       ]
      },
      {
       "output_type": "stream",
       "stream": "stdout",
       "text": [
        "\n",
        "delta_i: 18427375.1594\n",
        "r3: "
       ]
      },
      {
       "output_type": "stream",
       "stream": "stdout",
       "text": [
        "\n",
        "delta_i: 18407550.1189\n",
        "r3: "
       ]
      },
      {
       "output_type": "stream",
       "stream": "stdout",
       "text": [
        "\n",
        "delta_i: 18387725.0784\n",
        "r3: "
       ]
      },
      {
       "output_type": "stream",
       "stream": "stdout",
       "text": [
        "\n",
        "delta_i: 18367900.0379\n",
        "r3: "
       ]
      },
      {
       "output_type": "stream",
       "stream": "stdout",
       "text": [
        "\n",
        "delta_i: 18348074.9974\n",
        "r3: "
       ]
      },
      {
       "output_type": "stream",
       "stream": "stdout",
       "text": [
        "\n",
        "delta_i: 18328249.9568\n",
        "r3: "
       ]
      },
      {
       "output_type": "stream",
       "stream": "stdout",
       "text": [
        "\n",
        "delta_i: 18308424.9163\n",
        "r3: "
       ]
      },
      {
       "output_type": "stream",
       "stream": "stdout",
       "text": [
        "\n",
        "delta_i: 18288599.8758\n",
        "r3: "
       ]
      },
      {
       "output_type": "stream",
       "stream": "stdout",
       "text": [
        "\n",
        "delta_i: 18268774.8353\n",
        "r3: "
       ]
      },
      {
       "output_type": "stream",
       "stream": "stdout",
       "text": [
        "\n",
        "delta_i: 18248949.7948\n",
        "r3: "
       ]
      },
      {
       "output_type": "stream",
       "stream": "stdout",
       "text": [
        "\n",
        "delta_i: 18229124.7543\n",
        "r3: "
       ]
      },
      {
       "output_type": "stream",
       "stream": "stdout",
       "text": [
        "\n",
        "delta_i: 18209299.7137\n",
        "r3: "
       ]
      },
      {
       "output_type": "stream",
       "stream": "stdout",
       "text": [
        "\n",
        "delta_i: 18189474.6732\n",
        "r3: "
       ]
      },
      {
       "output_type": "stream",
       "stream": "stdout",
       "text": [
        "\n",
        "delta_i: 18169649.6327\n",
        "r3: "
       ]
      },
      {
       "output_type": "stream",
       "stream": "stdout",
       "text": [
        "\n",
        "delta_i: 18149824.5922\n",
        "r3: "
       ]
      },
      {
       "output_type": "stream",
       "stream": "stdout",
       "text": [
        "\n",
        "delta_i: 18129999.5517\n",
        "r3: "
       ]
      },
      {
       "output_type": "stream",
       "stream": "stdout",
       "text": [
        "\n",
        "delta_i: 18110174.5112\n",
        "r3: "
       ]
      },
      {
       "output_type": "stream",
       "stream": "stdout",
       "text": [
        "\n",
        "delta_i: 18090349.4707\n",
        "r3: "
       ]
      },
      {
       "output_type": "stream",
       "stream": "stdout",
       "text": [
        "\n",
        "delta_i: 18070524.4301\n",
        "r3: "
       ]
      },
      {
       "output_type": "stream",
       "stream": "stdout",
       "text": [
        "\n",
        "delta_i: 18050699.3896\n",
        "r3: "
       ]
      },
      {
       "output_type": "stream",
       "stream": "stdout",
       "text": [
        "\n",
        "delta_i: 18030874.3491\n",
        "r3: "
       ]
      },
      {
       "output_type": "stream",
       "stream": "stdout",
       "text": [
        "\n",
        "delta_i: 18011049.3086\n",
        "r3: "
       ]
      },
      {
       "output_type": "stream",
       "stream": "stdout",
       "text": [
        "\n",
        "delta_i: 17991224.2681\n",
        "r3: "
       ]
      },
      {
       "output_type": "stream",
       "stream": "stdout",
       "text": [
        "\n",
        "delta_i: 17971399.2276\n",
        "r3: "
       ]
      },
      {
       "output_type": "stream",
       "stream": "stdout",
       "text": [
        "\n",
        "delta_i: 17951574.187\n",
        "r3: "
       ]
      },
      {
       "output_type": "stream",
       "stream": "stdout",
       "text": [
        "\n",
        "delta_i: 17931749.1465\n",
        "r3: "
       ]
      },
      {
       "output_type": "stream",
       "stream": "stdout",
       "text": [
        "\n",
        "delta_i: 17911924.106\n",
        "r3: "
       ]
      },
      {
       "output_type": "stream",
       "stream": "stdout",
       "text": [
        "\n",
        "delta_i: 17892099.0655\n",
        "r3: "
       ]
      },
      {
       "output_type": "stream",
       "stream": "stdout",
       "text": [
        "\n",
        "delta_i: 17872274.025\n",
        "r3: "
       ]
      },
      {
       "output_type": "stream",
       "stream": "stdout",
       "text": [
        "\n",
        "delta_i: 17852448.9845\n",
        "r3: "
       ]
      },
      {
       "output_type": "stream",
       "stream": "stdout",
       "text": [
        "\n",
        "delta_i: 17832623.9439\n",
        "r3: "
       ]
      },
      {
       "output_type": "stream",
       "stream": "stdout",
       "text": [
        "\n",
        "delta_i: 17812798.9034\n",
        "r3: "
       ]
      },
      {
       "output_type": "stream",
       "stream": "stdout",
       "text": [
        "\n",
        "delta_i: 17792973.8629\n",
        "r3: "
       ]
      },
      {
       "output_type": "stream",
       "stream": "stdout",
       "text": [
        "\n",
        "delta_i: 17773148.8224\n",
        "r3: "
       ]
      },
      {
       "output_type": "stream",
       "stream": "stdout",
       "text": [
        "\n",
        "delta_i: 17753323.7819\n",
        "r3: "
       ]
      },
      {
       "output_type": "stream",
       "stream": "stdout",
       "text": [
        "\n",
        "delta_i: 17733498.7414\n",
        "r3: "
       ]
      },
      {
       "output_type": "stream",
       "stream": "stdout",
       "text": [
        "\n",
        "delta_i: 17713673.7009\n",
        "r3: "
       ]
      },
      {
       "output_type": "stream",
       "stream": "stdout",
       "text": [
        "\n",
        "delta_i: 17693848.6603\n",
        "r3: "
       ]
      },
      {
       "output_type": "stream",
       "stream": "stdout",
       "text": [
        "\n",
        "delta_i: 17674023.6198\n",
        "r3: "
       ]
      },
      {
       "output_type": "stream",
       "stream": "stdout",
       "text": [
        "\n",
        "delta_i: 17654198.5793\n",
        "r3: "
       ]
      },
      {
       "output_type": "stream",
       "stream": "stdout",
       "text": [
        "\n",
        "delta_i: 17634373.5388\n",
        "r3: "
       ]
      },
      {
       "output_type": "stream",
       "stream": "stdout",
       "text": [
        "\n",
        "delta_i: 17614548.4983\n",
        "r3: "
       ]
      },
      {
       "output_type": "stream",
       "stream": "stdout",
       "text": [
        "\n",
        "delta_i: 17594723.4578\n",
        "r3: "
       ]
      },
      {
       "output_type": "stream",
       "stream": "stdout",
       "text": [
        "\n",
        "delta_i: 17574898.4172\n",
        "r3: "
       ]
      },
      {
       "output_type": "stream",
       "stream": "stdout",
       "text": [
        "\n",
        "delta_i: 17555073.3767\n",
        "r3: "
       ]
      },
      {
       "output_type": "stream",
       "stream": "stdout",
       "text": [
        "\n",
        "delta_i: 17535248.3362\n",
        "r3: "
       ]
      },
      {
       "output_type": "stream",
       "stream": "stdout",
       "text": [
        "\n",
        "delta_i: 17515423.2957\n",
        "r3: "
       ]
      },
      {
       "output_type": "stream",
       "stream": "stdout",
       "text": [
        "\n",
        "delta_i: 17495598.2552\n",
        "r3: "
       ]
      },
      {
       "output_type": "stream",
       "stream": "stdout",
       "text": [
        "\n",
        "delta_i: 17475773.2147\n",
        "r3: "
       ]
      },
      {
       "output_type": "stream",
       "stream": "stdout",
       "text": [
        "\n",
        "delta_i: 17455948.1741\n",
        "r3: "
       ]
      },
      {
       "output_type": "stream",
       "stream": "stdout",
       "text": [
        "\n",
        "delta_i: 17436123.1336\n",
        "r3: "
       ]
      },
      {
       "output_type": "stream",
       "stream": "stdout",
       "text": [
        "\n",
        "delta_i: 17416298.0931\n",
        "r3: "
       ]
      },
      {
       "output_type": "stream",
       "stream": "stdout",
       "text": [
        "\n",
        "delta_i: 17396473.0526\n",
        "r3: "
       ]
      },
      {
       "output_type": "stream",
       "stream": "stdout",
       "text": [
        "\n",
        "delta_i: 17376648.0121\n",
        "r3: "
       ]
      },
      {
       "output_type": "stream",
       "stream": "stdout",
       "text": [
        "\n",
        "delta_i: 17356822.9716\n",
        "r3: "
       ]
      },
      {
       "output_type": "stream",
       "stream": "stdout",
       "text": [
        "\n",
        "delta_i: 17336997.9311\n",
        "r3: "
       ]
      },
      {
       "output_type": "stream",
       "stream": "stdout",
       "text": [
        "\n",
        "delta_i: 17317172.8905\n",
        "r3: "
       ]
      },
      {
       "output_type": "stream",
       "stream": "stdout",
       "text": [
        "\n",
        "delta_i: 17297347.85\n",
        "r3: "
       ]
      },
      {
       "output_type": "stream",
       "stream": "stdout",
       "text": [
        "\n",
        "delta_i: 17277522.8095\n",
        "r3: "
       ]
      },
      {
       "output_type": "stream",
       "stream": "stdout",
       "text": [
        "\n",
        "delta_i: 17257697.769\n",
        "r3: "
       ]
      },
      {
       "output_type": "stream",
       "stream": "stdout",
       "text": [
        "\n",
        "delta_i: 17237872.7285\n",
        "r3: "
       ]
      },
      {
       "output_type": "stream",
       "stream": "stdout",
       "text": [
        "\n",
        "delta_i: 17218047.688\n",
        "r3: "
       ]
      },
      {
       "output_type": "stream",
       "stream": "stdout",
       "text": [
        "\n",
        "delta_i: 17198222.6474\n",
        "r3: "
       ]
      },
      {
       "output_type": "stream",
       "stream": "stdout",
       "text": [
        "\n",
        "delta_i: 17178397.6069\n",
        "r3: "
       ]
      },
      {
       "output_type": "stream",
       "stream": "stdout",
       "text": [
        "\n",
        "delta_i: 17158572.5664\n",
        "r3: "
       ]
      },
      {
       "output_type": "stream",
       "stream": "stdout",
       "text": [
        "\n",
        "delta_i: 17138747.5259\n",
        "r3: "
       ]
      },
      {
       "output_type": "stream",
       "stream": "stdout",
       "text": [
        "\n",
        "delta_i: 17118922.4854\n",
        "r3: "
       ]
      },
      {
       "output_type": "stream",
       "stream": "stdout",
       "text": [
        "\n",
        "delta_i: 17099097.4449\n",
        "r3: "
       ]
      },
      {
       "output_type": "stream",
       "stream": "stdout",
       "text": [
        "\n",
        "delta_i: 17079272.4043\n",
        "r3: "
       ]
      },
      {
       "output_type": "stream",
       "stream": "stdout",
       "text": [
        "\n",
        "delta_i: 17059447.3638\n",
        "r3: "
       ]
      },
      {
       "output_type": "stream",
       "stream": "stdout",
       "text": [
        "\n",
        "delta_i: 17039622.3233\n",
        "r3: "
       ]
      },
      {
       "output_type": "stream",
       "stream": "stdout",
       "text": [
        "\n",
        "delta_i: 17019797.2828\n",
        "r3: "
       ]
      },
      {
       "output_type": "stream",
       "stream": "stdout",
       "text": [
        "\n",
        "delta_i: 16999972.2423\n",
        "r3: "
       ]
      },
      {
       "output_type": "stream",
       "stream": "stdout",
       "text": [
        "\n",
        "delta_i: 16980147.2018\n",
        "r3: "
       ]
      },
      {
       "output_type": "stream",
       "stream": "stdout",
       "text": [
        "\n",
        "delta_i: 16960322.1613\n",
        "r3: "
       ]
      },
      {
       "output_type": "stream",
       "stream": "stdout",
       "text": [
        "\n",
        "delta_i: 16940497.1207\n",
        "r3: "
       ]
      },
      {
       "output_type": "stream",
       "stream": "stdout",
       "text": [
        "\n",
        "delta_i: 16920672.0802\n",
        "r3: "
       ]
      },
      {
       "output_type": "stream",
       "stream": "stdout",
       "text": [
        "\n",
        "delta_i: 16900847.0397\n",
        "r3: "
       ]
      },
      {
       "output_type": "stream",
       "stream": "stdout",
       "text": [
        "\n",
        "delta_i: 16881021.9992\n",
        "r3: "
       ]
      },
      {
       "output_type": "stream",
       "stream": "stdout",
       "text": [
        "\n",
        "delta_i: 16861196.9587\n",
        "r3: "
       ]
      },
      {
       "output_type": "stream",
       "stream": "stdout",
       "text": [
        "\n",
        "delta_i: 16841371.9182\n",
        "r3: "
       ]
      },
      {
       "output_type": "stream",
       "stream": "stdout",
       "text": [
        "\n",
        "delta_i: 16821546.8776\n",
        "r3: "
       ]
      },
      {
       "output_type": "stream",
       "stream": "stdout",
       "text": [
        "\n",
        "delta_i: 16801721.8371\n",
        "r3: "
       ]
      },
      {
       "output_type": "stream",
       "stream": "stdout",
       "text": [
        "\n",
        "delta_i: 16781896.7966\n",
        "r3: "
       ]
      },
      {
       "output_type": "stream",
       "stream": "stdout",
       "text": [
        "\n",
        "delta_i: 16762071.7561\n",
        "r3: "
       ]
      },
      {
       "output_type": "stream",
       "stream": "stdout",
       "text": [
        "\n",
        "delta_i: 16742246.7156\n",
        "r3: "
       ]
      },
      {
       "output_type": "stream",
       "stream": "stdout",
       "text": [
        "\n",
        "delta_i: 16722421.6751\n",
        "r3: "
       ]
      },
      {
       "output_type": "stream",
       "stream": "stdout",
       "text": [
        "\n",
        "delta_i: 16702596.6345\n",
        "r3: "
       ]
      },
      {
       "output_type": "stream",
       "stream": "stdout",
       "text": [
        "\n",
        "delta_i: 16682771.594\n",
        "r3: "
       ]
      },
      {
       "output_type": "stream",
       "stream": "stdout",
       "text": [
        "\n",
        "delta_i: 16662946.5535\n",
        "r3: "
       ]
      },
      {
       "output_type": "stream",
       "stream": "stdout",
       "text": [
        "\n",
        "delta_i: 16643121.513\n",
        "r3: "
       ]
      },
      {
       "output_type": "stream",
       "stream": "stdout",
       "text": [
        "\n",
        "delta_i: 16623296.4725\n",
        "r3: "
       ]
      },
      {
       "output_type": "stream",
       "stream": "stdout",
       "text": [
        "\n",
        "delta_i: 16603471.432\n",
        "r3: "
       ]
      },
      {
       "output_type": "stream",
       "stream": "stdout",
       "text": [
        "\n",
        "delta_i: 16583646.3915\n",
        "r3: "
       ]
      },
      {
       "output_type": "stream",
       "stream": "stdout",
       "text": [
        "\n",
        "delta_i: 16563821.3509\n",
        "r3: "
       ]
      },
      {
       "output_type": "stream",
       "stream": "stdout",
       "text": [
        "\n",
        "delta_i: 16543996.3104\n",
        "r3: "
       ]
      },
      {
       "output_type": "stream",
       "stream": "stdout",
       "text": [
        "\n",
        "delta_i: 16524171.2699\n",
        "r3: "
       ]
      },
      {
       "output_type": "stream",
       "stream": "stdout",
       "text": [
        "\n",
        "delta_i: 16504346.2294\n",
        "r3: "
       ]
      },
      {
       "output_type": "stream",
       "stream": "stdout",
       "text": [
        "\n",
        "delta_i: 16484521.1889\n",
        "r3: "
       ]
      },
      {
       "output_type": "stream",
       "stream": "stdout",
       "text": [
        "\n",
        "delta_i: 16464696.1484\n",
        "r3: "
       ]
      },
      {
       "output_type": "stream",
       "stream": "stdout",
       "text": [
        "\n",
        "delta_i: 16444871.1078\n",
        "r3: "
       ]
      },
      {
       "output_type": "stream",
       "stream": "stdout",
       "text": [
        "\n",
        "delta_i: 16425046.0673\n",
        "r3: "
       ]
      },
      {
       "output_type": "stream",
       "stream": "stdout",
       "text": [
        "\n",
        "delta_i: 16405221.0268\n",
        "r3: "
       ]
      },
      {
       "output_type": "stream",
       "stream": "stdout",
       "text": [
        "\n",
        "delta_i: 16385395.9863\n",
        "r3: "
       ]
      },
      {
       "output_type": "stream",
       "stream": "stdout",
       "text": [
        "\n",
        "delta_i: 16365570.9458\n",
        "r3: "
       ]
      },
      {
       "output_type": "stream",
       "stream": "stdout",
       "text": [
        "\n",
        "delta_i: 16345745.9053\n",
        "r3: "
       ]
      },
      {
       "output_type": "stream",
       "stream": "stdout",
       "text": [
        "\n",
        "delta_i: 16325920.8647\n",
        "r3: "
       ]
      },
      {
       "output_type": "stream",
       "stream": "stdout",
       "text": [
        "\n",
        "delta_i: 16306095.8242\n",
        "r3: "
       ]
      },
      {
       "output_type": "stream",
       "stream": "stdout",
       "text": [
        "\n",
        "delta_i: 16286270.7837\n",
        "r3: "
       ]
      },
      {
       "output_type": "stream",
       "stream": "stdout",
       "text": [
        "\n",
        "delta_i: 16266445.7432\n",
        "r3: "
       ]
      },
      {
       "output_type": "stream",
       "stream": "stdout",
       "text": [
        "\n",
        "delta_i: 16246620.7027\n",
        "r3: "
       ]
      },
      {
       "output_type": "stream",
       "stream": "stdout",
       "text": [
        "\n",
        "delta_i: 16226795.6622\n",
        "r3: "
       ]
      },
      {
       "output_type": "stream",
       "stream": "stdout",
       "text": [
        "\n",
        "delta_i: 16206970.6217\n",
        "r3: "
       ]
      },
      {
       "output_type": "stream",
       "stream": "stdout",
       "text": [
        "\n",
        "delta_i: 16187145.5811\n",
        "r3: "
       ]
      },
      {
       "output_type": "stream",
       "stream": "stdout",
       "text": [
        "\n",
        "delta_i: 16167320.5406\n",
        "r3: "
       ]
      },
      {
       "output_type": "stream",
       "stream": "stdout",
       "text": [
        "\n",
        "delta_i: 16147495.5001\n",
        "r3: "
       ]
      },
      {
       "output_type": "stream",
       "stream": "stdout",
       "text": [
        "\n",
        "delta_i: 16127670.4596\n",
        "r3: "
       ]
      },
      {
       "output_type": "stream",
       "stream": "stdout",
       "text": [
        "\n",
        "delta_i: 16107845.4191\n",
        "r3: "
       ]
      },
      {
       "output_type": "stream",
       "stream": "stdout",
       "text": [
        "\n",
        "delta_i: 16088020.3786\n",
        "r3: "
       ]
      },
      {
       "output_type": "stream",
       "stream": "stdout",
       "text": [
        "\n",
        "delta_i: 16068195.338\n",
        "r3: "
       ]
      },
      {
       "output_type": "stream",
       "stream": "stdout",
       "text": [
        "\n",
        "delta_i: 16048370.2975\n",
        "r3: "
       ]
      },
      {
       "output_type": "stream",
       "stream": "stdout",
       "text": [
        "\n",
        "delta_i: 16028545.257\n",
        "r3: "
       ]
      },
      {
       "output_type": "stream",
       "stream": "stdout",
       "text": [
        "\n",
        "delta_i: 16008720.2165\n",
        "r3: "
       ]
      },
      {
       "output_type": "stream",
       "stream": "stdout",
       "text": [
        "\n",
        "delta_i: 15988895.176\n",
        "r3: "
       ]
      },
      {
       "output_type": "stream",
       "stream": "stdout",
       "text": [
        "\n",
        "delta_i: 15969070.1355\n",
        "r3: "
       ]
      },
      {
       "output_type": "stream",
       "stream": "stdout",
       "text": [
        "\n",
        "delta_i: 15949245.0949\n",
        "r3: "
       ]
      },
      {
       "output_type": "stream",
       "stream": "stdout",
       "text": [
        "\n",
        "delta_i: 15929420.0544\n",
        "r3: "
       ]
      },
      {
       "output_type": "stream",
       "stream": "stdout",
       "text": [
        "\n",
        "delta_i: 15909595.0139\n",
        "r3: "
       ]
      },
      {
       "output_type": "stream",
       "stream": "stdout",
       "text": [
        "\n",
        "delta_i: 15889769.9734\n",
        "r3: "
       ]
      },
      {
       "output_type": "stream",
       "stream": "stdout",
       "text": [
        "\n",
        "delta_i: 15869944.9329\n",
        "r3: "
       ]
      },
      {
       "output_type": "stream",
       "stream": "stdout",
       "text": [
        "\n",
        "delta_i: 15850119.8924\n",
        "r3: "
       ]
      },
      {
       "output_type": "stream",
       "stream": "stdout",
       "text": [
        "\n",
        "delta_i: 15830294.8519\n",
        "r3: "
       ]
      },
      {
       "output_type": "stream",
       "stream": "stdout",
       "text": [
        "\n",
        "delta_i: 15810469.8113\n",
        "r3: "
       ]
      },
      {
       "output_type": "stream",
       "stream": "stdout",
       "text": [
        "\n",
        "delta_i: 15790644.7708\n",
        "r3: "
       ]
      },
      {
       "output_type": "stream",
       "stream": "stdout",
       "text": [
        "\n",
        "delta_i: 15770819.7303\n",
        "r3: "
       ]
      },
      {
       "output_type": "stream",
       "stream": "stdout",
       "text": [
        "\n",
        "delta_i: 15750994.6898\n",
        "r3: "
       ]
      },
      {
       "output_type": "stream",
       "stream": "stdout",
       "text": [
        "\n",
        "delta_i: 15731169.6493\n",
        "r3: "
       ]
      },
      {
       "output_type": "stream",
       "stream": "stdout",
       "text": [
        "\n",
        "delta_i: 15711344.6088\n",
        "r3: "
       ]
      },
      {
       "output_type": "stream",
       "stream": "stdout",
       "text": [
        "\n",
        "delta_i: 15691519.5682\n",
        "r3: "
       ]
      },
      {
       "output_type": "stream",
       "stream": "stdout",
       "text": [
        "\n",
        "delta_i: 15671694.5277\n",
        "r3: "
       ]
      },
      {
       "output_type": "stream",
       "stream": "stdout",
       "text": [
        "\n",
        "delta_i: 15651869.4872\n",
        "r3: "
       ]
      },
      {
       "output_type": "stream",
       "stream": "stdout",
       "text": [
        "\n",
        "delta_i: 15632044.4467\n",
        "r3: "
       ]
      },
      {
       "output_type": "stream",
       "stream": "stdout",
       "text": [
        "\n",
        "delta_i: 15612219.4062\n",
        "r3: "
       ]
      },
      {
       "output_type": "stream",
       "stream": "stdout",
       "text": [
        "\n",
        "delta_i: 15592394.3657\n",
        "r3: "
       ]
      },
      {
       "output_type": "stream",
       "stream": "stdout",
       "text": [
        "\n",
        "delta_i: 15572569.3251\n",
        "r3: "
       ]
      },
      {
       "output_type": "stream",
       "stream": "stdout",
       "text": [
        "\n",
        "delta_i: 15552744.2846\n",
        "r3: "
       ]
      },
      {
       "output_type": "stream",
       "stream": "stdout",
       "text": [
        "\n",
        "delta_i: 15532919.2441\n",
        "r3: "
       ]
      },
      {
       "output_type": "stream",
       "stream": "stdout",
       "text": [
        "\n",
        "delta_i: 15513094.2036\n",
        "r3: "
       ]
      },
      {
       "output_type": "stream",
       "stream": "stdout",
       "text": [
        "\n",
        "delta_i: 15493269.1631\n",
        "r3: "
       ]
      },
      {
       "output_type": "stream",
       "stream": "stdout",
       "text": [
        "\n",
        "delta_i: 15473444.1226\n",
        "r3: "
       ]
      },
      {
       "output_type": "stream",
       "stream": "stdout",
       "text": [
        "\n",
        "delta_i: 15453619.0821\n",
        "r3: "
       ]
      },
      {
       "output_type": "stream",
       "stream": "stdout",
       "text": [
        "\n",
        "delta_i: 15433794.0415\n",
        "r3: "
       ]
      },
      {
       "output_type": "stream",
       "stream": "stdout",
       "text": [
        "\n",
        "delta_i: 15413969.001\n",
        "r3: "
       ]
      },
      {
       "output_type": "stream",
       "stream": "stdout",
       "text": [
        "\n",
        "delta_i: 15394143.9605\n",
        "r3: "
       ]
      },
      {
       "output_type": "stream",
       "stream": "stdout",
       "text": [
        "\n",
        "delta_i: 15374318.92\n",
        "r3: "
       ]
      },
      {
       "output_type": "stream",
       "stream": "stdout",
       "text": [
        "\n",
        "delta_i: 15354493.8795\n",
        "r3: "
       ]
      },
      {
       "output_type": "stream",
       "stream": "stdout",
       "text": [
        "\n",
        "delta_i: 15334668.839\n",
        "r3: "
       ]
      },
      {
       "output_type": "stream",
       "stream": "stdout",
       "text": [
        "\n",
        "delta_i: 15314843.7984\n",
        "r3: "
       ]
      },
      {
       "output_type": "stream",
       "stream": "stdout",
       "text": [
        "\n",
        "delta_i: 15295018.7579\n",
        "r3: "
       ]
      },
      {
       "output_type": "stream",
       "stream": "stdout",
       "text": [
        "\n",
        "delta_i: 15275193.7174\n",
        "r3: "
       ]
      },
      {
       "output_type": "stream",
       "stream": "stdout",
       "text": [
        "\n",
        "delta_i: 15255368.6769\n",
        "r3: "
       ]
      },
      {
       "output_type": "stream",
       "stream": "stdout",
       "text": [
        "\n",
        "delta_i: 15235543.6364\n",
        "r3: "
       ]
      },
      {
       "output_type": "stream",
       "stream": "stdout",
       "text": [
        "\n",
        "delta_i: 15215718.5959\n",
        "r3: "
       ]
      },
      {
       "output_type": "stream",
       "stream": "stdout",
       "text": [
        "\n",
        "delta_i: 15195893.5553\n",
        "r3: "
       ]
      },
      {
       "output_type": "stream",
       "stream": "stdout",
       "text": [
        "\n",
        "delta_i: 15176068.5148\n",
        "r3: "
       ]
      },
      {
       "output_type": "stream",
       "stream": "stdout",
       "text": [
        "\n",
        "delta_i: 15156243.4743\n",
        "r3: "
       ]
      },
      {
       "output_type": "stream",
       "stream": "stdout",
       "text": [
        "\n",
        "delta_i: 15136418.4338\n",
        "r3: "
       ]
      },
      {
       "output_type": "stream",
       "stream": "stdout",
       "text": [
        "\n",
        "delta_i: 15116593.3933\n",
        "r3: "
       ]
      },
      {
       "output_type": "stream",
       "stream": "stdout",
       "text": [
        "\n",
        "delta_i: 15096768.3528\n",
        "r3: "
       ]
      },
      {
       "output_type": "stream",
       "stream": "stdout",
       "text": [
        "\n",
        "delta_i: 15076943.3123\n",
        "r3: "
       ]
      },
      {
       "output_type": "stream",
       "stream": "stdout",
       "text": [
        "\n",
        "delta_i: 15057118.2717\n",
        "r3: "
       ]
      },
      {
       "output_type": "stream",
       "stream": "stdout",
       "text": [
        "\n",
        "delta_i: 15037293.2312\n",
        "r3: "
       ]
      },
      {
       "output_type": "stream",
       "stream": "stdout",
       "text": [
        "\n",
        "delta_i: 15017468.1907\n",
        "r3: "
       ]
      },
      {
       "output_type": "stream",
       "stream": "stdout",
       "text": [
        "\n",
        "delta_i: 14997643.1502\n",
        "r3: "
       ]
      },
      {
       "output_type": "stream",
       "stream": "stdout",
       "text": [
        "\n",
        "delta_i: 14977818.1097\n",
        "r3: "
       ]
      },
      {
       "output_type": "stream",
       "stream": "stdout",
       "text": [
        "\n",
        "delta_i: 14957993.0692\n",
        "r3: "
       ]
      },
      {
       "output_type": "stream",
       "stream": "stdout",
       "text": [
        "\n",
        "delta_i: 14938168.0286\n",
        "r3: "
       ]
      },
      {
       "output_type": "stream",
       "stream": "stdout",
       "text": [
        "\n",
        "delta_i: 14918342.9881\n",
        "r3: "
       ]
      },
      {
       "output_type": "stream",
       "stream": "stdout",
       "text": [
        "\n",
        "delta_i: 14898517.9476\n",
        "r3: "
       ]
      },
      {
       "output_type": "stream",
       "stream": "stdout",
       "text": [
        "\n",
        "delta_i: 14878692.9071\n",
        "r3: "
       ]
      },
      {
       "output_type": "stream",
       "stream": "stdout",
       "text": [
        "\n",
        "delta_i: 14858867.8666\n",
        "r3: "
       ]
      },
      {
       "output_type": "stream",
       "stream": "stdout",
       "text": [
        "\n",
        "delta_i: 14839042.8261\n",
        "r3: "
       ]
      },
      {
       "output_type": "stream",
       "stream": "stdout",
       "text": [
        "\n",
        "delta_i: 14819217.7855\n",
        "r3: "
       ]
      },
      {
       "output_type": "stream",
       "stream": "stdout",
       "text": [
        "\n",
        "delta_i: 14799392.745\n",
        "r3: "
       ]
      },
      {
       "output_type": "stream",
       "stream": "stdout",
       "text": [
        "\n",
        "delta_i: 14779567.7045\n",
        "r3: "
       ]
      },
      {
       "output_type": "stream",
       "stream": "stdout",
       "text": [
        "\n",
        "delta_i: 14759742.664\n",
        "r3: "
       ]
      },
      {
       "output_type": "stream",
       "stream": "stdout",
       "text": [
        "\n",
        "delta_i: 14739917.6235\n",
        "r3: "
       ]
      },
      {
       "output_type": "stream",
       "stream": "stdout",
       "text": [
        "\n",
        "delta_i: 14720092.583\n",
        "r3: "
       ]
      },
      {
       "output_type": "stream",
       "stream": "stdout",
       "text": [
        "\n",
        "delta_i: 14700267.5425\n",
        "r3: "
       ]
      },
      {
       "output_type": "stream",
       "stream": "stdout",
       "text": [
        "\n",
        "delta_i: 14680442.5019\n",
        "r3: "
       ]
      },
      {
       "output_type": "stream",
       "stream": "stdout",
       "text": [
        "\n",
        "delta_i: 14660617.4614\n",
        "r3: "
       ]
      },
      {
       "output_type": "stream",
       "stream": "stdout",
       "text": [
        "\n",
        "delta_i: 14640792.4209\n",
        "r3: "
       ]
      },
      {
       "output_type": "stream",
       "stream": "stdout",
       "text": [
        "\n",
        "delta_i: 14620967.3804\n",
        "r3: "
       ]
      },
      {
       "output_type": "stream",
       "stream": "stdout",
       "text": [
        "\n",
        "delta_i: 14601142.3399\n",
        "r3: "
       ]
      },
      {
       "output_type": "stream",
       "stream": "stdout",
       "text": [
        "\n",
        "delta_i: 14581317.2994\n",
        "r3: "
       ]
      },
      {
       "output_type": "stream",
       "stream": "stdout",
       "text": [
        "\n",
        "delta_i: 14561492.2588\n",
        "r3: "
       ]
      },
      {
       "output_type": "stream",
       "stream": "stdout",
       "text": [
        "\n",
        "delta_i: 14541667.2183\n",
        "r3: "
       ]
      },
      {
       "output_type": "stream",
       "stream": "stdout",
       "text": [
        "\n",
        "delta_i: 14521842.1778\n",
        "r3: "
       ]
      },
      {
       "output_type": "stream",
       "stream": "stdout",
       "text": [
        "\n",
        "delta_i: 14502017.1373\n",
        "r3: "
       ]
      },
      {
       "output_type": "stream",
       "stream": "stdout",
       "text": [
        "\n",
        "delta_i: 14482192.0968\n",
        "r3: "
       ]
      },
      {
       "output_type": "stream",
       "stream": "stdout",
       "text": [
        "\n",
        "delta_i: 14462367.0563\n",
        "r3: "
       ]
      },
      {
       "output_type": "stream",
       "stream": "stdout",
       "text": [
        "\n",
        "delta_i: 14442542.0157\n",
        "r3: "
       ]
      },
      {
       "output_type": "stream",
       "stream": "stdout",
       "text": [
        "\n",
        "delta_i: 14422716.9752\n",
        "r3: "
       ]
      },
      {
       "output_type": "stream",
       "stream": "stdout",
       "text": [
        "\n",
        "delta_i: 14402891.9347\n",
        "r3: "
       ]
      },
      {
       "output_type": "stream",
       "stream": "stdout",
       "text": [
        "\n",
        "delta_i: 14383066.8942\n",
        "r3: "
       ]
      },
      {
       "output_type": "stream",
       "stream": "stdout",
       "text": [
        "\n",
        "delta_i: 14363241.8537\n",
        "r3: "
       ]
      },
      {
       "output_type": "stream",
       "stream": "stdout",
       "text": [
        "\n",
        "delta_i: 14343416.8132\n",
        "r3: "
       ]
      },
      {
       "output_type": "stream",
       "stream": "stdout",
       "text": [
        "\n",
        "delta_i: 14323591.7727\n",
        "r3: "
       ]
      },
      {
       "output_type": "stream",
       "stream": "stdout",
       "text": [
        "\n",
        "delta_i: 14303766.7321\n",
        "r3: "
       ]
      },
      {
       "output_type": "stream",
       "stream": "stdout",
       "text": [
        "\n",
        "delta_i: 14283941.6916\n",
        "r3: "
       ]
      },
      {
       "output_type": "stream",
       "stream": "stdout",
       "text": [
        "\n",
        "delta_i: 14264116.6511\n",
        "r3: "
       ]
      },
      {
       "output_type": "stream",
       "stream": "stdout",
       "text": [
        "\n",
        "delta_i: 14244291.6106\n",
        "r3: "
       ]
      },
      {
       "output_type": "stream",
       "stream": "stdout",
       "text": [
        "\n",
        "delta_i: 14224466.5701\n",
        "r3: "
       ]
      },
      {
       "output_type": "stream",
       "stream": "stdout",
       "text": [
        "\n",
        "delta_i: 14204641.5296\n",
        "r3: "
       ]
      },
      {
       "output_type": "stream",
       "stream": "stdout",
       "text": [
        "\n",
        "delta_i: 14184816.489\n",
        "r3: "
       ]
      },
      {
       "output_type": "stream",
       "stream": "stdout",
       "text": [
        "\n",
        "delta_i: 14164991.4485\n",
        "r3: "
       ]
      },
      {
       "output_type": "stream",
       "stream": "stdout",
       "text": [
        "\n",
        "delta_i: 14145166.408\n",
        "r3: "
       ]
      },
      {
       "output_type": "stream",
       "stream": "stdout",
       "text": [
        "\n",
        "delta_i: 14125341.3675\n",
        "r3: "
       ]
      },
      {
       "output_type": "stream",
       "stream": "stdout",
       "text": [
        "\n",
        "delta_i: 14105516.327\n",
        "r3: "
       ]
      },
      {
       "output_type": "stream",
       "stream": "stdout",
       "text": [
        "\n",
        "delta_i: 14085691.2865\n",
        "r3: "
       ]
      },
      {
       "output_type": "stream",
       "stream": "stdout",
       "text": [
        "\n",
        "delta_i: 14065866.2459\n",
        "r3: "
       ]
      },
      {
       "output_type": "stream",
       "stream": "stdout",
       "text": [
        "\n",
        "delta_i: 14046041.2054\n",
        "r3: "
       ]
      },
      {
       "output_type": "stream",
       "stream": "stdout",
       "text": [
        "\n",
        "delta_i: 14026216.1649\n",
        "r3: "
       ]
      },
      {
       "output_type": "stream",
       "stream": "stdout",
       "text": [
        "\n",
        "delta_i: 14006391.1244\n",
        "r3: "
       ]
      },
      {
       "output_type": "stream",
       "stream": "stdout",
       "text": [
        "\n",
        "delta_i: 13986566.0839\n",
        "r3: "
       ]
      },
      {
       "output_type": "stream",
       "stream": "stdout",
       "text": [
        "\n",
        "delta_i: 13966741.0434\n",
        "r3: "
       ]
      },
      {
       "output_type": "stream",
       "stream": "stdout",
       "text": [
        "\n",
        "delta_i: 13946916.0029\n",
        "r3: "
       ]
      },
      {
       "output_type": "stream",
       "stream": "stdout",
       "text": [
        "\n",
        "delta_i: 13927090.9623\n",
        "r3: "
       ]
      },
      {
       "output_type": "stream",
       "stream": "stdout",
       "text": [
        "\n",
        "delta_i: 13907265.9218\n",
        "r3: "
       ]
      },
      {
       "output_type": "stream",
       "stream": "stdout",
       "text": [
        "\n",
        "delta_i: 13887440.8813\n",
        "r3: "
       ]
      },
      {
       "output_type": "stream",
       "stream": "stdout",
       "text": [
        "\n",
        "delta_i: 13867615.8408\n",
        "r3: "
       ]
      },
      {
       "output_type": "stream",
       "stream": "stdout",
       "text": [
        "\n",
        "delta_i: 13847790.8003\n",
        "r3: "
       ]
      },
      {
       "output_type": "stream",
       "stream": "stdout",
       "text": [
        "\n",
        "delta_i: 13827965.7598\n",
        "r3: "
       ]
      },
      {
       "output_type": "stream",
       "stream": "stdout",
       "text": [
        "\n",
        "delta_i: 13808140.7192\n",
        "r3: "
       ]
      },
      {
       "output_type": "stream",
       "stream": "stdout",
       "text": [
        "\n",
        "delta_i: 13788315.6787\n",
        "r3: "
       ]
      },
      {
       "output_type": "stream",
       "stream": "stdout",
       "text": [
        "\n",
        "delta_i: 13768490.6382\n",
        "r3: "
       ]
      },
      {
       "output_type": "stream",
       "stream": "stdout",
       "text": [
        "\n",
        "delta_i: 13748665.5977\n",
        "r3: "
       ]
      },
      {
       "output_type": "stream",
       "stream": "stdout",
       "text": [
        "\n",
        "delta_i: 13728840.5572\n",
        "r3: "
       ]
      },
      {
       "output_type": "stream",
       "stream": "stdout",
       "text": [
        "\n",
        "delta_i: 13709015.5167\n",
        "r3: "
       ]
      },
      {
       "output_type": "stream",
       "stream": "stdout",
       "text": [
        "\n",
        "delta_i: 13689190.4761\n",
        "r3: "
       ]
      },
      {
       "output_type": "stream",
       "stream": "stdout",
       "text": [
        "\n",
        "delta_i: 13669365.4356\n",
        "r3: "
       ]
      },
      {
       "output_type": "stream",
       "stream": "stdout",
       "text": [
        "\n",
        "delta_i: 13649540.3951\n",
        "r3: "
       ]
      },
      {
       "output_type": "stream",
       "stream": "stdout",
       "text": [
        "\n",
        "delta_i: 13629715.3546\n",
        "r3: "
       ]
      },
      {
       "output_type": "stream",
       "stream": "stdout",
       "text": [
        "\n",
        "delta_i: 13609890.3141\n",
        "r3: "
       ]
      },
      {
       "output_type": "stream",
       "stream": "stdout",
       "text": [
        "\n",
        "delta_i: 13590065.2736\n",
        "r3: "
       ]
      },
      {
       "output_type": "stream",
       "stream": "stdout",
       "text": [
        "\n",
        "delta_i: 13570240.2331\n",
        "r3: "
       ]
      },
      {
       "output_type": "stream",
       "stream": "stdout",
       "text": [
        "\n",
        "delta_i: 13550415.1925\n",
        "r3: "
       ]
      },
      {
       "output_type": "stream",
       "stream": "stdout",
       "text": [
        "\n",
        "delta_i: 13530590.152\n",
        "r3: "
       ]
      },
      {
       "output_type": "stream",
       "stream": "stdout",
       "text": [
        "\n",
        "delta_i: 13510765.1115\n",
        "r3: "
       ]
      },
      {
       "output_type": "stream",
       "stream": "stdout",
       "text": [
        "\n",
        "delta_i: 13490940.071\n",
        "r3: "
       ]
      },
      {
       "output_type": "stream",
       "stream": "stdout",
       "text": [
        "\n",
        "delta_i: 13471115.0305\n",
        "r3: "
       ]
      },
      {
       "output_type": "stream",
       "stream": "stdout",
       "text": [
        "\n",
        "delta_i: 13451289.99\n",
        "r3: "
       ]
      },
      {
       "output_type": "stream",
       "stream": "stdout",
       "text": [
        "\n",
        "delta_i: 13431464.9494\n",
        "r3: "
       ]
      },
      {
       "output_type": "stream",
       "stream": "stdout",
       "text": [
        "\n",
        "delta_i: 13411639.9089\n",
        "r3: "
       ]
      },
      {
       "output_type": "stream",
       "stream": "stdout",
       "text": [
        "\n",
        "delta_i: 13391814.8684\n",
        "r3: "
       ]
      },
      {
       "output_type": "stream",
       "stream": "stdout",
       "text": [
        "\n",
        "delta_i: 13371989.8279\n",
        "r3: "
       ]
      },
      {
       "output_type": "stream",
       "stream": "stdout",
       "text": [
        "\n",
        "delta_i: 13352164.7874\n",
        "r3: "
       ]
      },
      {
       "output_type": "stream",
       "stream": "stdout",
       "text": [
        "\n",
        "delta_i: 13332339.7469\n",
        "r3: "
       ]
      },
      {
       "output_type": "stream",
       "stream": "stdout",
       "text": [
        "\n",
        "delta_i: 13312514.7063\n",
        "r3: "
       ]
      },
      {
       "output_type": "stream",
       "stream": "stdout",
       "text": [
        "\n",
        "delta_i: 13292689.6658\n",
        "r3: "
       ]
      },
      {
       "output_type": "stream",
       "stream": "stdout",
       "text": [
        "\n",
        "delta_i: 13272864.6253\n",
        "r3: "
       ]
      },
      {
       "output_type": "stream",
       "stream": "stdout",
       "text": [
        "\n",
        "delta_i: 13253039.5848\n",
        "r3: "
       ]
      },
      {
       "output_type": "stream",
       "stream": "stdout",
       "text": [
        "\n",
        "delta_i: 13233214.5443\n",
        "r3: "
       ]
      },
      {
       "output_type": "stream",
       "stream": "stdout",
       "text": [
        "\n",
        "delta_i: 13213389.5038\n",
        "r3: "
       ]
      },
      {
       "output_type": "stream",
       "stream": "stdout",
       "text": [
        "\n",
        "delta_i: 13193564.4633\n",
        "r3: "
       ]
      },
      {
       "output_type": "stream",
       "stream": "stdout",
       "text": [
        "\n",
        "delta_i: 13173739.4227\n",
        "r3: "
       ]
      },
      {
       "output_type": "stream",
       "stream": "stdout",
       "text": [
        "\n",
        "delta_i: 13153914.3822\n",
        "r3: "
       ]
      },
      {
       "output_type": "stream",
       "stream": "stdout",
       "text": [
        "\n",
        "delta_i: 13134089.3417\n",
        "r3: "
       ]
      },
      {
       "output_type": "stream",
       "stream": "stdout",
       "text": [
        "\n",
        "delta_i: 13114264.3012\n",
        "r3: "
       ]
      },
      {
       "output_type": "stream",
       "stream": "stdout",
       "text": [
        "\n",
        "delta_i: 13094439.2607\n",
        "r3: "
       ]
      },
      {
       "output_type": "stream",
       "stream": "stdout",
       "text": [
        "\n",
        "delta_i: 13074614.2202\n",
        "r3: "
       ]
      },
      {
       "output_type": "stream",
       "stream": "stdout",
       "text": [
        "\n",
        "delta_i: 13054789.1796\n",
        "r3: "
       ]
      },
      {
       "output_type": "stream",
       "stream": "stdout",
       "text": [
        "\n",
        "delta_i: 13034964.1391\n",
        "r3: "
       ]
      },
      {
       "output_type": "stream",
       "stream": "stdout",
       "text": [
        "\n",
        "delta_i: 13015139.0986\n",
        "r3: "
       ]
      },
      {
       "output_type": "stream",
       "stream": "stdout",
       "text": [
        "\n",
        "delta_i: 12995314.0581\n",
        "r3: "
       ]
      },
      {
       "output_type": "stream",
       "stream": "stdout",
       "text": [
        "\n",
        "delta_i: 12975489.0176\n",
        "r3: "
       ]
      },
      {
       "output_type": "stream",
       "stream": "stdout",
       "text": [
        "\n",
        "delta_i: 12955663.9771\n",
        "r3: "
       ]
      },
      {
       "output_type": "stream",
       "stream": "stdout",
       "text": [
        "\n",
        "delta_i: 12935838.9365\n",
        "r3: "
       ]
      },
      {
       "output_type": "stream",
       "stream": "stdout",
       "text": [
        "\n",
        "delta_i: 12916013.896\n",
        "r3: "
       ]
      },
      {
       "output_type": "stream",
       "stream": "stdout",
       "text": [
        "\n",
        "delta_i: 12896188.8555\n",
        "r3: "
       ]
      },
      {
       "output_type": "stream",
       "stream": "stdout",
       "text": [
        "\n",
        "delta_i: 12876363.815\n",
        "r3: "
       ]
      },
      {
       "output_type": "stream",
       "stream": "stdout",
       "text": [
        "\n",
        "delta_i: 12856538.7745\n",
        "r3: "
       ]
      },
      {
       "output_type": "stream",
       "stream": "stdout",
       "text": [
        "\n",
        "delta_i: 12836713.734\n",
        "r3: "
       ]
      },
      {
       "output_type": "stream",
       "stream": "stdout",
       "text": [
        "\n",
        "delta_i: 12816888.6935\n",
        "r3: "
       ]
      },
      {
       "output_type": "stream",
       "stream": "stdout",
       "text": [
        "\n",
        "delta_i: 12797063.6529\n",
        "r3: "
       ]
      },
      {
       "output_type": "stream",
       "stream": "stdout",
       "text": [
        "\n",
        "delta_i: 12777238.6124\n",
        "r3: "
       ]
      },
      {
       "output_type": "stream",
       "stream": "stdout",
       "text": [
        "\n",
        "delta_i: 12757413.5719\n",
        "r3: "
       ]
      },
      {
       "output_type": "stream",
       "stream": "stdout",
       "text": [
        "\n",
        "delta_i: 12737588.5314\n",
        "r3: "
       ]
      },
      {
       "output_type": "stream",
       "stream": "stdout",
       "text": [
        "\n",
        "delta_i: 12717763.4909\n",
        "r3: "
       ]
      },
      {
       "output_type": "stream",
       "stream": "stdout",
       "text": [
        "\n",
        "delta_i: 12697938.4504\n",
        "r3: "
       ]
      },
      {
       "output_type": "stream",
       "stream": "stdout",
       "text": [
        "\n",
        "delta_i: 12678113.4098\n",
        "r3: "
       ]
      },
      {
       "output_type": "stream",
       "stream": "stdout",
       "text": [
        "\n",
        "delta_i: 12658288.3693\n",
        "r3: "
       ]
      },
      {
       "output_type": "stream",
       "stream": "stdout",
       "text": [
        "\n",
        "delta_i: 12638463.3288\n",
        "r3: "
       ]
      },
      {
       "output_type": "stream",
       "stream": "stdout",
       "text": [
        "\n",
        "delta_i: 12618638.2883\n",
        "r3: "
       ]
      },
      {
       "output_type": "stream",
       "stream": "stdout",
       "text": [
        "\n",
        "delta_i: 12598813.2478\n",
        "r3: "
       ]
      },
      {
       "output_type": "stream",
       "stream": "stdout",
       "text": [
        "\n",
        "delta_i: 12578988.2073\n",
        "r3: "
       ]
      },
      {
       "output_type": "stream",
       "stream": "stdout",
       "text": [
        "\n",
        "delta_i: 12559163.1667\n",
        "r3: "
       ]
      },
      {
       "output_type": "stream",
       "stream": "stdout",
       "text": [
        "\n",
        "delta_i: 12539338.1262\n",
        "r3: "
       ]
      },
      {
       "output_type": "stream",
       "stream": "stdout",
       "text": [
        "\n",
        "delta_i: 12519513.0857\n",
        "r3: "
       ]
      },
      {
       "output_type": "stream",
       "stream": "stdout",
       "text": [
        "\n",
        "delta_i: 12499688.0452\n",
        "r3: "
       ]
      },
      {
       "output_type": "stream",
       "stream": "stdout",
       "text": [
        "\n",
        "delta_i: 12479863.0047\n",
        "r3: "
       ]
      },
      {
       "output_type": "stream",
       "stream": "stdout",
       "text": [
        "\n",
        "delta_i: 12460037.9642\n",
        "r3: "
       ]
      },
      {
       "output_type": "stream",
       "stream": "stdout",
       "text": [
        "\n",
        "delta_i: 12440212.9237\n",
        "r3: "
       ]
      },
      {
       "output_type": "stream",
       "stream": "stdout",
       "text": [
        "\n",
        "delta_i: 12420387.8831\n",
        "r3: "
       ]
      },
      {
       "output_type": "stream",
       "stream": "stdout",
       "text": [
        "\n",
        "delta_i: 12400562.8426\n",
        "r3: "
       ]
      },
      {
       "output_type": "stream",
       "stream": "stdout",
       "text": [
        "\n",
        "delta_i: 12380737.8021\n",
        "r3: "
       ]
      },
      {
       "output_type": "stream",
       "stream": "stdout",
       "text": [
        "\n",
        "delta_i: 12360912.7616\n",
        "r3: "
       ]
      },
      {
       "output_type": "stream",
       "stream": "stdout",
       "text": [
        "\n",
        "delta_i: 12341087.7211\n",
        "r3: "
       ]
      },
      {
       "output_type": "stream",
       "stream": "stdout",
       "text": [
        "\n",
        "delta_i: 12321262.6806\n",
        "r3: "
       ]
      },
      {
       "output_type": "stream",
       "stream": "stdout",
       "text": [
        "\n",
        "delta_i: 12301437.64\n",
        "r3: "
       ]
      },
      {
       "output_type": "stream",
       "stream": "stdout",
       "text": [
        "\n",
        "delta_i: 12281612.5995\n",
        "r3: "
       ]
      },
      {
       "output_type": "stream",
       "stream": "stdout",
       "text": [
        "\n",
        "delta_i: 12261787.559\n",
        "r3: "
       ]
      },
      {
       "output_type": "stream",
       "stream": "stdout",
       "text": [
        "\n",
        "delta_i: 12241962.5185\n",
        "r3: "
       ]
      },
      {
       "output_type": "stream",
       "stream": "stdout",
       "text": [
        "\n",
        "delta_i: 12222137.478\n",
        "r3: "
       ]
      },
      {
       "output_type": "stream",
       "stream": "stdout",
       "text": [
        "\n",
        "delta_i: 12202312.4375\n",
        "r3: "
       ]
      },
      {
       "output_type": "stream",
       "stream": "stdout",
       "text": [
        "\n",
        "delta_i: 12182487.3969\n",
        "r3: "
       ]
      },
      {
       "output_type": "stream",
       "stream": "stdout",
       "text": [
        "\n",
        "delta_i: 12162662.3564\n",
        "r3: "
       ]
      },
      {
       "output_type": "stream",
       "stream": "stdout",
       "text": [
        "\n",
        "delta_i: 12142837.3159\n",
        "r3: "
       ]
      },
      {
       "output_type": "stream",
       "stream": "stdout",
       "text": [
        "\n",
        "delta_i: 12123012.2754\n",
        "r3: "
       ]
      },
      {
       "output_type": "stream",
       "stream": "stdout",
       "text": [
        "\n",
        "delta_i: 12103187.2349\n",
        "r3: "
       ]
      },
      {
       "output_type": "stream",
       "stream": "stdout",
       "text": [
        "\n",
        "delta_i: 12083362.1944\n",
        "r3: "
       ]
      },
      {
       "output_type": "stream",
       "stream": "stdout",
       "text": [
        "\n",
        "delta_i: 12063537.1539\n",
        "r3: "
       ]
      },
      {
       "output_type": "stream",
       "stream": "stdout",
       "text": [
        "\n",
        "delta_i: 12043712.1133\n",
        "r3: "
       ]
      },
      {
       "output_type": "stream",
       "stream": "stdout",
       "text": [
        "\n",
        "delta_i: 12023887.0728\n",
        "r3: "
       ]
      },
      {
       "output_type": "stream",
       "stream": "stdout",
       "text": [
        "\n",
        "delta_i: 12004062.0323\n",
        "r3: "
       ]
      },
      {
       "output_type": "stream",
       "stream": "stdout",
       "text": [
        "\n",
        "delta_i: 11984236.9918\n",
        "r3: "
       ]
      },
      {
       "output_type": "stream",
       "stream": "stdout",
       "text": [
        "\n",
        "delta_i: 11964411.9513\n",
        "r3: "
       ]
      },
      {
       "output_type": "stream",
       "stream": "stdout",
       "text": [
        "\n",
        "delta_i: 11944586.9108\n",
        "r3: "
       ]
      },
      {
       "output_type": "stream",
       "stream": "stdout",
       "text": [
        "\n",
        "delta_i: 11924761.8702\n",
        "r3: "
       ]
      },
      {
       "output_type": "stream",
       "stream": "stdout",
       "text": [
        "\n",
        "delta_i: 11904936.8297\n",
        "r3: "
       ]
      },
      {
       "output_type": "stream",
       "stream": "stdout",
       "text": [
        "\n",
        "delta_i: 11885111.7892\n",
        "r3: "
       ]
      },
      {
       "output_type": "stream",
       "stream": "stdout",
       "text": [
        "\n",
        "delta_i: 11865286.7487\n",
        "r3: "
       ]
      },
      {
       "output_type": "stream",
       "stream": "stdout",
       "text": [
        "\n",
        "delta_i: 11845461.7082\n",
        "r3: "
       ]
      },
      {
       "output_type": "stream",
       "stream": "stdout",
       "text": [
        "\n",
        "delta_i: 11825636.6677\n",
        "r3: "
       ]
      },
      {
       "output_type": "stream",
       "stream": "stdout",
       "text": [
        "\n",
        "delta_i: 11805811.6271\n",
        "r3: "
       ]
      },
      {
       "output_type": "stream",
       "stream": "stdout",
       "text": [
        "\n",
        "delta_i: 11785986.5866\n",
        "r3: "
       ]
      },
      {
       "output_type": "stream",
       "stream": "stdout",
       "text": [
        "\n",
        "delta_i: 11766161.5461\n",
        "r3: "
       ]
      },
      {
       "output_type": "stream",
       "stream": "stdout",
       "text": [
        "\n",
        "delta_i: 11746336.5056\n",
        "r3: "
       ]
      },
      {
       "output_type": "stream",
       "stream": "stdout",
       "text": [
        "\n",
        "delta_i: 11726511.4651\n",
        "r3: "
       ]
      },
      {
       "output_type": "stream",
       "stream": "stdout",
       "text": [
        "\n",
        "delta_i: 11706686.4246\n",
        "r3: "
       ]
      },
      {
       "output_type": "stream",
       "stream": "stdout",
       "text": [
        "\n",
        "delta_i: 11686861.3841\n",
        "r3: "
       ]
      },
      {
       "output_type": "stream",
       "stream": "stdout",
       "text": [
        "\n",
        "delta_i: 11667036.3435\n",
        "r3: "
       ]
      },
      {
       "output_type": "stream",
       "stream": "stdout",
       "text": [
        "\n",
        "delta_i: 11647211.303\n",
        "r3: "
       ]
      },
      {
       "output_type": "stream",
       "stream": "stdout",
       "text": [
        "\n",
        "delta_i: 11627386.2625\n",
        "r3: "
       ]
      },
      {
       "output_type": "stream",
       "stream": "stdout",
       "text": [
        "\n",
        "delta_i: 11607561.222\n",
        "r3: "
       ]
      },
      {
       "output_type": "stream",
       "stream": "stdout",
       "text": [
        "\n",
        "delta_i: 11587736.1815\n",
        "r3: "
       ]
      },
      {
       "output_type": "stream",
       "stream": "stdout",
       "text": [
        "\n",
        "delta_i: 11567911.141\n",
        "r3: "
       ]
      },
      {
       "output_type": "stream",
       "stream": "stdout",
       "text": [
        "\n",
        "delta_i: 11548086.1004\n",
        "r3: "
       ]
      },
      {
       "output_type": "stream",
       "stream": "stdout",
       "text": [
        "\n",
        "delta_i: 11528261.0599\n",
        "r3: "
       ]
      },
      {
       "output_type": "stream",
       "stream": "stdout",
       "text": [
        "\n",
        "delta_i: 11508436.0194\n",
        "r3: "
       ]
      },
      {
       "output_type": "stream",
       "stream": "stdout",
       "text": [
        "\n",
        "delta_i: 11488610.9789\n",
        "r3: "
       ]
      },
      {
       "output_type": "stream",
       "stream": "stdout",
       "text": [
        "\n",
        "delta_i: 11468785.9384\n",
        "r3: "
       ]
      },
      {
       "output_type": "stream",
       "stream": "stdout",
       "text": [
        "\n",
        "delta_i: 11448960.8979\n",
        "r3: "
       ]
      },
      {
       "output_type": "stream",
       "stream": "stdout",
       "text": [
        "\n",
        "delta_i: 11429135.8573\n",
        "r3: "
       ]
      },
      {
       "output_type": "stream",
       "stream": "stdout",
       "text": [
        "\n",
        "delta_i: 11409310.8168\n",
        "r3: "
       ]
      },
      {
       "output_type": "stream",
       "stream": "stdout",
       "text": [
        "\n",
        "delta_i: 11389485.7763\n",
        "r3: "
       ]
      },
      {
       "output_type": "stream",
       "stream": "stdout",
       "text": [
        "\n",
        "delta_i: 11369660.7358\n",
        "r3: "
       ]
      },
      {
       "output_type": "stream",
       "stream": "stdout",
       "text": [
        "\n",
        "delta_i: 11349835.6953\n",
        "r3: "
       ]
      },
      {
       "output_type": "stream",
       "stream": "stdout",
       "text": [
        "\n",
        "delta_i: 11330010.6548\n",
        "r3: "
       ]
      },
      {
       "output_type": "stream",
       "stream": "stdout",
       "text": [
        "\n",
        "delta_i: 11310185.6143\n",
        "r3: "
       ]
      },
      {
       "output_type": "stream",
       "stream": "stdout",
       "text": [
        "\n",
        "delta_i: 11290360.5737\n",
        "r3: "
       ]
      },
      {
       "output_type": "stream",
       "stream": "stdout",
       "text": [
        "\n",
        "delta_i: 11270535.5332\n",
        "r3: "
       ]
      },
      {
       "output_type": "stream",
       "stream": "stdout",
       "text": [
        "\n",
        "delta_i: 11250710.4927\n",
        "r3: "
       ]
      },
      {
       "output_type": "stream",
       "stream": "stdout",
       "text": [
        "\n",
        "delta_i: 11230885.4522\n",
        "r3: "
       ]
      },
      {
       "output_type": "stream",
       "stream": "stdout",
       "text": [
        "\n",
        "delta_i: 11211060.4117\n",
        "r3: "
       ]
      },
      {
       "output_type": "stream",
       "stream": "stdout",
       "text": [
        "\n",
        "delta_i: 11191235.3712\n",
        "r3: "
       ]
      },
      {
       "output_type": "stream",
       "stream": "stdout",
       "text": [
        "\n",
        "delta_i: 11171410.3306\n",
        "r3: "
       ]
      },
      {
       "output_type": "stream",
       "stream": "stdout",
       "text": [
        "\n",
        "delta_i: 11151585.2901\n",
        "r3: "
       ]
      },
      {
       "output_type": "stream",
       "stream": "stdout",
       "text": [
        "\n",
        "delta_i: 11131760.2496\n",
        "r3: "
       ]
      },
      {
       "output_type": "stream",
       "stream": "stdout",
       "text": [
        "\n",
        "delta_i: 11111935.2091\n",
        "r3: "
       ]
      },
      {
       "output_type": "stream",
       "stream": "stdout",
       "text": [
        "\n",
        "delta_i: 11092110.1686\n",
        "r3: "
       ]
      },
      {
       "output_type": "stream",
       "stream": "stdout",
       "text": [
        "\n",
        "delta_i: 11072285.1281\n",
        "r3: "
       ]
      },
      {
       "output_type": "stream",
       "stream": "stdout",
       "text": [
        "\n",
        "delta_i: 11052460.0875\n",
        "r3: "
       ]
      },
      {
       "output_type": "stream",
       "stream": "stdout",
       "text": [
        "\n",
        "delta_i: 11032635.047\n",
        "r3: "
       ]
      },
      {
       "output_type": "stream",
       "stream": "stdout",
       "text": [
        "\n",
        "delta_i: 11012810.0065\n",
        "r3: "
       ]
      },
      {
       "output_type": "stream",
       "stream": "stdout",
       "text": [
        "\n",
        "delta_i: 10992984.966\n",
        "r3: "
       ]
      },
      {
       "output_type": "stream",
       "stream": "stdout",
       "text": [
        "\n",
        "delta_i: 10973159.9255\n",
        "r3: "
       ]
      },
      {
       "output_type": "stream",
       "stream": "stdout",
       "text": [
        "\n",
        "delta_i: 10953334.885\n",
        "r3: "
       ]
      },
      {
       "output_type": "stream",
       "stream": "stdout",
       "text": [
        "\n",
        "delta_i: 10933509.8445\n",
        "r3: "
       ]
      },
      {
       "output_type": "stream",
       "stream": "stdout",
       "text": [
        "\n",
        "delta_i: 10913684.8039\n",
        "r3: "
       ]
      },
      {
       "output_type": "stream",
       "stream": "stdout",
       "text": [
        "\n",
        "delta_i: 10893859.7634\n",
        "r3: "
       ]
      },
      {
       "output_type": "stream",
       "stream": "stdout",
       "text": [
        "\n",
        "delta_i: 10874034.7229\n",
        "r3: "
       ]
      },
      {
       "output_type": "stream",
       "stream": "stdout",
       "text": [
        "\n",
        "delta_i: 10854209.6824\n",
        "r3: "
       ]
      },
      {
       "output_type": "stream",
       "stream": "stdout",
       "text": [
        "\n",
        "delta_i: 10834384.6419\n",
        "r3: "
       ]
      },
      {
       "output_type": "stream",
       "stream": "stdout",
       "text": [
        "\n",
        "delta_i: 10814559.6014\n",
        "r3: "
       ]
      },
      {
       "output_type": "stream",
       "stream": "stdout",
       "text": [
        "\n",
        "delta_i: 10794734.5608\n",
        "r3: "
       ]
      },
      {
       "output_type": "stream",
       "stream": "stdout",
       "text": [
        "\n",
        "delta_i: 10774909.5203\n",
        "r3: "
       ]
      },
      {
       "output_type": "stream",
       "stream": "stdout",
       "text": [
        "\n",
        "delta_i: 10755084.4798\n",
        "r3: "
       ]
      },
      {
       "output_type": "stream",
       "stream": "stdout",
       "text": [
        "\n",
        "delta_i: 10735259.4393\n",
        "r3: "
       ]
      },
      {
       "output_type": "stream",
       "stream": "stdout",
       "text": [
        "\n",
        "delta_i: 10715434.3988\n",
        "r3: "
       ]
      },
      {
       "output_type": "stream",
       "stream": "stdout",
       "text": [
        "\n",
        "delta_i: 10695609.3583\n",
        "r3: "
       ]
      },
      {
       "output_type": "stream",
       "stream": "stdout",
       "text": [
        "\n",
        "delta_i: 10675784.3177\n",
        "r3: "
       ]
      },
      {
       "output_type": "stream",
       "stream": "stdout",
       "text": [
        "\n",
        "delta_i: 10655959.2772\n",
        "r3: "
       ]
      },
      {
       "output_type": "stream",
       "stream": "stdout",
       "text": [
        "\n",
        "delta_i: 10636134.2367\n",
        "r3: "
       ]
      },
      {
       "output_type": "stream",
       "stream": "stdout",
       "text": [
        "\n",
        "delta_i: 10616309.1962\n",
        "r3: "
       ]
      },
      {
       "output_type": "stream",
       "stream": "stdout",
       "text": [
        "\n",
        "delta_i: 10596484.1557\n",
        "r3: "
       ]
      },
      {
       "output_type": "stream",
       "stream": "stdout",
       "text": [
        "\n",
        "delta_i: 10576659.1152\n",
        "r3: "
       ]
      },
      {
       "output_type": "stream",
       "stream": "stdout",
       "text": [
        "\n",
        "delta_i: 10556834.0747\n",
        "r3: "
       ]
      },
      {
       "output_type": "stream",
       "stream": "stdout",
       "text": [
        "\n",
        "delta_i: 10537009.0341\n",
        "r3: "
       ]
      },
      {
       "output_type": "stream",
       "stream": "stdout",
       "text": [
        "\n",
        "delta_i: 10517183.9936\n",
        "r3: "
       ]
      },
      {
       "output_type": "stream",
       "stream": "stdout",
       "text": [
        "\n",
        "delta_i: 10497358.9531\n",
        "r3: "
       ]
      },
      {
       "output_type": "stream",
       "stream": "stdout",
       "text": [
        "\n",
        "delta_i: 10477533.9126\n",
        "r3: "
       ]
      },
      {
       "output_type": "stream",
       "stream": "stdout",
       "text": [
        "\n",
        "delta_i: 10457708.8721\n",
        "r3: "
       ]
      },
      {
       "output_type": "stream",
       "stream": "stdout",
       "text": [
        "\n",
        "delta_i: 10437883.8316\n",
        "r3: "
       ]
      },
      {
       "output_type": "stream",
       "stream": "stdout",
       "text": [
        "\n",
        "delta_i: 10418058.791\n",
        "r3: "
       ]
      },
      {
       "output_type": "stream",
       "stream": "stdout",
       "text": [
        "\n",
        "delta_i: 10398233.7505\n",
        "r3: "
       ]
      },
      {
       "output_type": "stream",
       "stream": "stdout",
       "text": [
        "\n",
        "delta_i: 10378408.71\n",
        "r3: "
       ]
      },
      {
       "output_type": "stream",
       "stream": "stdout",
       "text": [
        "\n",
        "delta_i: 10358583.6695\n",
        "r3: "
       ]
      },
      {
       "output_type": "stream",
       "stream": "stdout",
       "text": [
        "\n",
        "delta_i: 10338758.629\n",
        "r3: "
       ]
      },
      {
       "output_type": "stream",
       "stream": "stdout",
       "text": [
        "\n",
        "delta_i: 10318933.5885\n",
        "r3: "
       ]
      },
      {
       "output_type": "stream",
       "stream": "stdout",
       "text": [
        "\n",
        "delta_i: 10299108.5479\n",
        "r3: "
       ]
      },
      {
       "output_type": "stream",
       "stream": "stdout",
       "text": [
        "\n",
        "delta_i: 10279283.5074\n",
        "r3: \n",
        "delta_i: 10259458.4669\n",
        "r3: "
       ]
      },
      {
       "output_type": "stream",
       "stream": "stdout",
       "text": [
        "\n",
        "delta_i: 10239633.4264\n",
        "r3: "
       ]
      },
      {
       "output_type": "stream",
       "stream": "stdout",
       "text": [
        "\n",
        "delta_i: 10219808.3859\n",
        "r3: "
       ]
      },
      {
       "output_type": "stream",
       "stream": "stdout",
       "text": [
        "\n",
        "delta_i: 10199983.3454\n",
        "r3: \n",
        "delta_i: 10180158.3049\n",
        "r3: "
       ]
      },
      {
       "output_type": "stream",
       "stream": "stdout",
       "text": [
        "\n",
        "delta_i: 10160333.2643\n",
        "r3: "
       ]
      },
      {
       "output_type": "stream",
       "stream": "stdout",
       "text": [
        "\n",
        "delta_i: 10140508.2238\n",
        "r3: "
       ]
      },
      {
       "output_type": "stream",
       "stream": "stdout",
       "text": [
        "\n",
        "delta_i: 10120683.1833\n",
        "r3: "
       ]
      },
      {
       "output_type": "stream",
       "stream": "stdout",
       "text": [
        "\n",
        "delta_i: 10100858.1428\n",
        "r3: "
       ]
      },
      {
       "output_type": "stream",
       "stream": "stdout",
       "text": [
        "\n",
        "delta_i: 10081033.1023\n",
        "r3: \n",
        "delta_i: 10061208.0618\n",
        "r3: "
       ]
      },
      {
       "output_type": "stream",
       "stream": "stdout",
       "text": [
        "\n",
        "delta_i: 10041383.0212\n",
        "r3: "
       ]
      },
      {
       "output_type": "stream",
       "stream": "stdout",
       "text": [
        "\n",
        "delta_i: 10021557.9807\n",
        "r3: \n",
        "delta_i: 10001732.9402\n",
        "r3: "
       ]
      },
      {
       "output_type": "stream",
       "stream": "stdout",
       "text": [
        "\n",
        "delta_i: 9981907.8997\n",
        "r3: "
       ]
      },
      {
       "output_type": "stream",
       "stream": "stdout",
       "text": [
        "\n",
        "delta_i: 9962082.85918\n",
        "r3: "
       ]
      },
      {
       "output_type": "stream",
       "stream": "stdout",
       "text": [
        "\n",
        "delta_i: 9942257.81867\n",
        "r3: "
       ]
      },
      {
       "output_type": "stream",
       "stream": "stdout",
       "text": [
        "\n",
        "delta_i: 9922432.77815\n",
        "r3: "
       ]
      },
      {
       "output_type": "stream",
       "stream": "stdout",
       "text": [
        "\n",
        "delta_i: 9902607.73763\n",
        "r3: \n",
        "delta_i: 9882782.69712\n",
        "r3: "
       ]
      },
      {
       "output_type": "stream",
       "stream": "stdout",
       "text": [
        "\n",
        "delta_i: 9862957.6566\n",
        "r3: "
       ]
      },
      {
       "output_type": "stream",
       "stream": "stdout",
       "text": [
        "\n",
        "delta_i: 9843132.61609\n",
        "r3: \n",
        "delta_i: 9823307.57557\n",
        "r3: "
       ]
      },
      {
       "output_type": "stream",
       "stream": "stdout",
       "text": [
        "\n",
        "delta_i: 9803482.53505\n",
        "r3: "
       ]
      },
      {
       "output_type": "stream",
       "stream": "stdout",
       "text": [
        "\n",
        "delta_i: 9783657.49454\n",
        "r3: "
       ]
      },
      {
       "output_type": "stream",
       "stream": "stdout",
       "text": [
        "\n",
        "delta_i: 9763832.45402\n",
        "r3: "
       ]
      },
      {
       "output_type": "stream",
       "stream": "stdout",
       "text": [
        "\n",
        "delta_i: 9744007.41351\n",
        "r3: "
       ]
      },
      {
       "output_type": "stream",
       "stream": "stdout",
       "text": [
        "\n",
        "delta_i: 9724182.37299\n",
        "r3: "
       ]
      },
      {
       "output_type": "stream",
       "stream": "stdout",
       "text": [
        "\n",
        "delta_i: 9704357.33248\n",
        "r3: "
       ]
      },
      {
       "output_type": "stream",
       "stream": "stdout",
       "text": [
        "\n",
        "delta_i: 9684532.29196\n",
        "r3: "
       ]
      },
      {
       "output_type": "stream",
       "stream": "stdout",
       "text": [
        "\n",
        "delta_i: 9664707.25144\n",
        "r3: "
       ]
      },
      {
       "output_type": "stream",
       "stream": "stdout",
       "text": [
        "\n",
        "delta_i: 9644882.21093\n",
        "r3: "
       ]
      },
      {
       "output_type": "stream",
       "stream": "stdout",
       "text": [
        "\n",
        "delta_i: 9625057.17041\n",
        "r3: \n",
        "delta_i: 9605232.1299\n",
        "r3: "
       ]
      },
      {
       "output_type": "stream",
       "stream": "stdout",
       "text": [
        "\n",
        "delta_i: 9585407.08938\n",
        "r3: "
       ]
      },
      {
       "output_type": "stream",
       "stream": "stdout",
       "text": [
        "\n",
        "delta_i: 9565582.04887\n",
        "r3: \n",
        "delta_i: 9545757.00835\n",
        "r3: "
       ]
      },
      {
       "output_type": "stream",
       "stream": "stdout",
       "text": [
        "\n",
        "delta_i: 9525931.96783\n",
        "r3: "
       ]
      },
      {
       "output_type": "stream",
       "stream": "stdout",
       "text": [
        "\n",
        "delta_i: 9506106.92732\n",
        "r3: \n",
        "delta_i: 9486281.8868\n",
        "r3: "
       ]
      },
      {
       "output_type": "stream",
       "stream": "stdout",
       "text": [
        "\n",
        "delta_i: 9466456.84629\n",
        "r3: "
       ]
      },
      {
       "output_type": "stream",
       "stream": "stdout",
       "text": [
        "\n",
        "delta_i: 9446631.80577\n",
        "r3: \n",
        "delta_i: 9426806.76525\n",
        "r3: "
       ]
      },
      {
       "output_type": "stream",
       "stream": "stdout",
       "text": [
        "\n",
        "delta_i: 9406981.72474\n",
        "r3: "
       ]
      },
      {
       "output_type": "stream",
       "stream": "stdout",
       "text": [
        "\n",
        "delta_i: 9387156.68422\n",
        "r3: \n",
        "delta_i: 9367331.64371\n",
        "r3: "
       ]
      },
      {
       "output_type": "stream",
       "stream": "stdout",
       "text": [
        "\n",
        "delta_i: 9347506.60319\n",
        "r3: \n",
        "delta_i: 9327681.56268\n",
        "r3: "
       ]
      },
      {
       "output_type": "stream",
       "stream": "stdout",
       "text": [
        "\n",
        "delta_i: 9307856.52216\n",
        "r3: "
       ]
      },
      {
       "output_type": "stream",
       "stream": "stdout",
       "text": [
        "\n",
        "delta_i: 9288031.48164\n",
        "r3: "
       ]
      },
      {
       "output_type": "stream",
       "stream": "stdout",
       "text": [
        "\n",
        "delta_i: 9268206.44113\n",
        "r3: "
       ]
      },
      {
       "output_type": "stream",
       "stream": "stdout",
       "text": [
        "\n",
        "delta_i: 9248381.40061\n",
        "r3: \n",
        "delta_i: 9228556.3601\n",
        "r3: "
       ]
      },
      {
       "output_type": "stream",
       "stream": "stdout",
       "text": [
        "\n",
        "delta_i: 9208731.31958\n",
        "r3: \n",
        "delta_i: 9188906.27907\n",
        "r3: "
       ]
      },
      {
       "output_type": "stream",
       "stream": "stdout",
       "text": [
        "\n",
        "delta_i: 9169081.23855\n",
        "r3: "
       ]
      },
      {
       "output_type": "stream",
       "stream": "stdout",
       "text": [
        "\n",
        "delta_i: 9149256.19803\n",
        "r3: \n",
        "delta_i: 9129431.15752\n",
        "r3: "
       ]
      },
      {
       "output_type": "stream",
       "stream": "stdout",
       "text": [
        "\n",
        "delta_i: 9109606.117\n",
        "r3: \n",
        "delta_i: 9089781.07649\n",
        "r3: "
       ]
      },
      {
       "output_type": "stream",
       "stream": "stdout",
       "text": [
        "\n",
        "delta_i: 9069956.03597\n",
        "r3: \n",
        "delta_i: 9050130.99545\n",
        "r3: "
       ]
      },
      {
       "output_type": "stream",
       "stream": "stdout",
       "text": [
        "\n",
        "delta_i: 9030305.95494\n",
        "r3: "
       ]
      },
      {
       "output_type": "stream",
       "stream": "stdout",
       "text": [
        "\n",
        "delta_i: 9010480.91442\n",
        "r3: \n",
        "delta_i: 8990655.87391\n",
        "r3: "
       ]
      },
      {
       "output_type": "stream",
       "stream": "stdout",
       "text": [
        "\n",
        "delta_i: 8970830.83339\n",
        "r3: \n",
        "delta_i: 8951005.79288\n",
        "r3: "
       ]
      },
      {
       "output_type": "stream",
       "stream": "stdout",
       "text": [
        "\n",
        "delta_i: 8931180.75236\n",
        "r3: "
       ]
      },
      {
       "output_type": "stream",
       "stream": "stdout",
       "text": [
        "\n",
        "delta_i: 8911355.71184\n",
        "r3: "
       ]
      },
      {
       "output_type": "stream",
       "stream": "stdout",
       "text": [
        "\n",
        "delta_i: 8891530.67133\n",
        "r3: \n",
        "delta_i: 8871705.63081\n",
        "r3: "
       ]
      },
      {
       "output_type": "stream",
       "stream": "stdout",
       "text": [
        "\n",
        "delta_i: 8851880.5903\n",
        "r3: \n",
        "delta_i: 8832055.54978\n",
        "r3: "
       ]
      },
      {
       "output_type": "stream",
       "stream": "stdout",
       "text": [
        "\n",
        "delta_i: 8812230.50927\n",
        "r3: \n",
        "delta_i: 8792405.46875\n",
        "r3: "
       ]
      },
      {
       "output_type": "stream",
       "stream": "stdout",
       "text": [
        "\n",
        "delta_i: 8772580.42823\n",
        "r3: \n",
        "delta_i: 8752755.38772\n",
        "r3: "
       ]
      },
      {
       "output_type": "stream",
       "stream": "stdout",
       "text": [
        "\n",
        "delta_i: 8732930.3472\n",
        "r3: \n",
        "delta_i: 8713105.30669\n",
        "r3: "
       ]
      },
      {
       "output_type": "stream",
       "stream": "stdout",
       "text": [
        "\n",
        "delta_i: 8693280.26617\n",
        "r3: \n",
        "delta_i: 8673455.22565\n",
        "r3: "
       ]
      },
      {
       "output_type": "stream",
       "stream": "stdout",
       "text": [
        "\n",
        "delta_i: 8653630.18514\n",
        "r3: \n",
        "delta_i: 8633805.14462\n",
        "r3: "
       ]
      },
      {
       "output_type": "stream",
       "stream": "stdout",
       "text": [
        "\n",
        "delta_i: 8613980.10411\n",
        "r3: "
       ]
      },
      {
       "output_type": "stream",
       "stream": "stdout",
       "text": [
        "\n",
        "delta_i: 8594155.06359\n",
        "r3: "
       ]
      },
      {
       "output_type": "stream",
       "stream": "stdout",
       "text": [
        "\n",
        "delta_i: 8574330.02308\n",
        "r3: "
       ]
      },
      {
       "output_type": "stream",
       "stream": "stdout",
       "text": [
        "\n",
        "delta_i: 8554504.98256\n",
        "r3: "
       ]
      },
      {
       "output_type": "stream",
       "stream": "stdout",
       "text": [
        "\n",
        "delta_i: 8534679.94204\n",
        "r3: "
       ]
      },
      {
       "output_type": "stream",
       "stream": "stdout",
       "text": [
        "\n",
        "delta_i: 8514854.90153\n",
        "r3: "
       ]
      },
      {
       "output_type": "stream",
       "stream": "stdout",
       "text": [
        "\n",
        "delta_i: 8495029.86101\n",
        "r3: "
       ]
      },
      {
       "output_type": "stream",
       "stream": "stdout",
       "text": [
        "\n",
        "delta_i: 8475204.8205\n",
        "r3: \n",
        "delta_i: 8455379.77998\n",
        "r3: "
       ]
      },
      {
       "output_type": "stream",
       "stream": "stdout",
       "text": [
        "\n",
        "delta_i: 8435554.73947\n",
        "r3: "
       ]
      },
      {
       "output_type": "stream",
       "stream": "stdout",
       "text": [
        "\n",
        "delta_i: 8415729.69895\n",
        "r3: \n",
        "delta_i: 8395904.65843\n",
        "r3: "
       ]
      },
      {
       "output_type": "stream",
       "stream": "stdout",
       "text": [
        "\n",
        "delta_i: 8376079.61792\n",
        "r3: \n",
        "delta_i: 8356254.5774\n",
        "r3: "
       ]
      },
      {
       "output_type": "stream",
       "stream": "stdout",
       "text": [
        "\n",
        "delta_i: 8336429.53689\n",
        "r3: \n",
        "delta_i: 8316604.49637\n",
        "r3: "
       ]
      },
      {
       "output_type": "stream",
       "stream": "stdout",
       "text": [
        "\n",
        "delta_i: 8296779.45585\n",
        "r3: \n",
        "delta_i: 8276954.41534\n",
        "r3: "
       ]
      },
      {
       "output_type": "stream",
       "stream": "stdout",
       "text": [
        "\n",
        "delta_i: 8257129.37482\n",
        "r3: \n",
        "delta_i: 8237304.33431\n",
        "r3: "
       ]
      },
      {
       "output_type": "stream",
       "stream": "stdout",
       "text": [
        "\n",
        "delta_i: 8217479.29379\n",
        "r3: \n",
        "delta_i: 8197654.25328\n",
        "r3: "
       ]
      },
      {
       "output_type": "stream",
       "stream": "stdout",
       "text": [
        "\n",
        "delta_i: 8177829.21276\n",
        "r3: \n",
        "delta_i: 8158004.17224\n",
        "r3: "
       ]
      },
      {
       "output_type": "stream",
       "stream": "stdout",
       "text": [
        "\n",
        "delta_i: 8138179.13173\n",
        "r3: \n",
        "delta_i: 8118354.09121\n",
        "r3: "
       ]
      },
      {
       "output_type": "stream",
       "stream": "stdout",
       "text": [
        "\n",
        "delta_i: 8098529.0507\n",
        "r3: \n",
        "delta_i: 8078704.01018\n",
        "r3: "
       ]
      },
      {
       "output_type": "stream",
       "stream": "stdout",
       "text": [
        "\n",
        "delta_i: 8058878.96967\n",
        "r3: \n",
        "delta_i: 8039053.92915\n",
        "r3: "
       ]
      },
      {
       "output_type": "stream",
       "stream": "stdout",
       "text": [
        "\n",
        "delta_i: 8019228.88863\n",
        "r3: \n",
        "delta_i: 7999403.84812\n",
        "r3: "
       ]
      },
      {
       "output_type": "stream",
       "stream": "stdout",
       "text": [
        "\n",
        "delta_i: 7979578.8076\n",
        "r3: \n",
        "delta_i: 7959753.76709\n",
        "r3: "
       ]
      },
      {
       "output_type": "stream",
       "stream": "stdout",
       "text": [
        "\n",
        "delta_i: 7939928.72657\n",
        "r3: "
       ]
      },
      {
       "output_type": "stream",
       "stream": "stdout",
       "text": [
        "\n",
        "delta_i: 7920103.68606\n",
        "r3: \n",
        "delta_i: 7900278.64554\n",
        "r3: "
       ]
      },
      {
       "output_type": "stream",
       "stream": "stdout",
       "text": [
        "\n",
        "delta_i: 7880453.60502\n",
        "r3: \n",
        "delta_i: 7860628.56451\n",
        "r3: "
       ]
      },
      {
       "output_type": "stream",
       "stream": "stdout",
       "text": [
        "\n",
        "delta_i: 7840803.52399\n",
        "r3: \n",
        "delta_i: 7820978.48348\n",
        "r3: "
       ]
      },
      {
       "output_type": "stream",
       "stream": "stdout",
       "text": [
        "\n",
        "delta_i: 7801153.44296\n",
        "r3: \n",
        "delta_i: 7781328.40244\n",
        "r3: "
       ]
      },
      {
       "output_type": "stream",
       "stream": "stdout",
       "text": [
        "\n",
        "delta_i: 7761503.36193\n",
        "r3: \n",
        "delta_i: 7741678.32141\n",
        "r3: "
       ]
      },
      {
       "output_type": "stream",
       "stream": "stdout",
       "text": [
        "\n",
        "delta_i: 7721853.2809\n",
        "r3: \n",
        "delta_i: 7702028.24038\n",
        "r3: "
       ]
      },
      {
       "output_type": "stream",
       "stream": "stdout",
       "text": [
        "\n",
        "delta_i: 7682203.19987\n",
        "r3: \n",
        "delta_i: 7662378.15935\n",
        "r3: "
       ]
      },
      {
       "output_type": "stream",
       "stream": "stdout",
       "text": [
        "\n",
        "delta_i: 7642553.11883\n",
        "r3: "
       ]
      },
      {
       "output_type": "stream",
       "stream": "stdout",
       "text": [
        "\n",
        "delta_i: 7622728.07832\n",
        "r3: "
       ]
      },
      {
       "output_type": "stream",
       "stream": "stdout",
       "text": [
        "\n",
        "delta_i: 7602903.0378\n",
        "r3: \n",
        "delta_i: 7583077.99729\n",
        "r3: "
       ]
      },
      {
       "output_type": "stream",
       "stream": "stdout",
       "text": [
        "\n",
        "delta_i: 7563252.95677\n",
        "r3: \n",
        "delta_i: 7543427.91626\n",
        "r3: "
       ]
      },
      {
       "output_type": "stream",
       "stream": "stdout",
       "text": [
        "\n",
        "delta_i: 7523602.87574\n",
        "r3: \n",
        "delta_i: 7503777.83522\n",
        "r3: "
       ]
      },
      {
       "output_type": "stream",
       "stream": "stdout",
       "text": [
        "\n",
        "delta_i: 7483952.79471\n",
        "r3: \n",
        "delta_i: 7464127.75419\n",
        "r3: "
       ]
      },
      {
       "output_type": "stream",
       "stream": "stdout",
       "text": [
        "\n",
        "delta_i: 7444302.71368\n",
        "r3: \n",
        "delta_i: 7424477.67316\n",
        "r3: "
       ]
      },
      {
       "output_type": "stream",
       "stream": "stdout",
       "text": [
        "\n",
        "delta_i: 7404652.63264\n",
        "r3: "
       ]
      },
      {
       "output_type": "stream",
       "stream": "stdout",
       "text": [
        "\n",
        "delta_i: 7384827.59213\n",
        "r3: "
       ]
      },
      {
       "output_type": "stream",
       "stream": "stdout",
       "text": [
        "\n",
        "delta_i: 7365002.55161\n",
        "r3: \n",
        "delta_i: 7345177.5111\n",
        "r3: "
       ]
      },
      {
       "output_type": "stream",
       "stream": "stdout",
       "text": [
        "\n",
        "delta_i: 7325352.47058\n",
        "r3: \n",
        "delta_i: 7305527.43007\n",
        "r3: "
       ]
      },
      {
       "output_type": "stream",
       "stream": "stdout",
       "text": [
        "\n",
        "delta_i: 7285702.38955\n",
        "r3: \n",
        "delta_i: 7265877.34903\n",
        "r3: "
       ]
      },
      {
       "output_type": "stream",
       "stream": "stdout",
       "text": [
        "\n",
        "delta_i: 7246052.30852\n",
        "r3: "
       ]
      },
      {
       "output_type": "stream",
       "stream": "stdout",
       "text": [
        "\n",
        "delta_i: 7226227.268\n",
        "r3: \n",
        "delta_i: 7206402.22749\n",
        "r3: "
       ]
      },
      {
       "output_type": "stream",
       "stream": "stdout",
       "text": [
        "\n",
        "delta_i: 7186577.18697\n",
        "r3: \n",
        "delta_i: 7166752.14646\n",
        "r3: "
       ]
      },
      {
       "output_type": "stream",
       "stream": "stdout",
       "text": [
        "\n",
        "delta_i: 7146927.10594\n",
        "r3: "
       ]
      },
      {
       "output_type": "stream",
       "stream": "stdout",
       "text": [
        "\n",
        "delta_i: 7127102.06542\n",
        "r3: \n",
        "delta_i: 7107277.02491\n",
        "r3: "
       ]
      },
      {
       "output_type": "stream",
       "stream": "stdout",
       "text": [
        "\n",
        "delta_i: 7087451.98439\n",
        "r3: \n",
        "delta_i: 7067626.94388\n",
        "r3: "
       ]
      },
      {
       "output_type": "stream",
       "stream": "stdout",
       "text": [
        "\n",
        "delta_i: 7047801.90336\n",
        "r3: \n",
        "delta_i: 7027976.86284\n",
        "r3: "
       ]
      },
      {
       "output_type": "stream",
       "stream": "stdout",
       "text": [
        "\n",
        "delta_i: 7008151.82233\n",
        "r3: "
       ]
      },
      {
       "output_type": "stream",
       "stream": "stdout",
       "text": [
        "\n",
        "delta_i: 6988326.78181\n",
        "r3: \n",
        "delta_i: 6968501.7413\n",
        "r3: "
       ]
      },
      {
       "output_type": "stream",
       "stream": "stdout",
       "text": [
        "\n",
        "delta_i: 6948676.70078\n",
        "r3: \n",
        "delta_i: 6928851.66027\n",
        "r3: "
       ]
      },
      {
       "output_type": "stream",
       "stream": "stdout",
       "text": [
        "\n",
        "delta_i: 6909026.61975\n",
        "r3: \n",
        "delta_i: 6889201.57923\n",
        "r3: "
       ]
      },
      {
       "output_type": "stream",
       "stream": "stdout",
       "text": [
        "\n",
        "delta_i: 6869376.53872\n",
        "r3: \n",
        "delta_i: 6849551.4982\n",
        "r3: "
       ]
      },
      {
       "output_type": "stream",
       "stream": "stdout",
       "text": [
        "\n",
        "delta_i: 6829726.45769\n",
        "r3: \n",
        "delta_i: 6809901.41717\n",
        "r3: "
       ]
      },
      {
       "output_type": "stream",
       "stream": "stdout",
       "text": [
        "\n",
        "delta_i: 6790076.37666\n",
        "r3: \n",
        "delta_i: 6770251.33614\n",
        "r3: "
       ]
      },
      {
       "output_type": "stream",
       "stream": "stdout",
       "text": [
        "\n",
        "delta_i: 6750426.29562\n",
        "r3: \n",
        "delta_i: 6730601.25511\n",
        "r3: "
       ]
      },
      {
       "output_type": "stream",
       "stream": "stdout",
       "text": [
        "\n",
        "delta_i: 6710776.21459\n",
        "r3: \n",
        "delta_i: 6690951.17408\n",
        "r3: "
       ]
      },
      {
       "output_type": "stream",
       "stream": "stdout",
       "text": [
        "\n",
        "delta_i: 6671126.13356\n",
        "r3: \n",
        "delta_i: 6651301.09304\n",
        "r3: "
       ]
      },
      {
       "output_type": "stream",
       "stream": "stdout",
       "text": [
        "\n",
        "delta_i: 6631476.05253\n",
        "r3: \n",
        "delta_i: 6611651.01201\n",
        "r3: "
       ]
      },
      {
       "output_type": "stream",
       "stream": "stdout",
       "text": [
        "\n",
        "delta_i: 6591825.9715\n",
        "r3: "
       ]
      },
      {
       "output_type": "stream",
       "stream": "stdout",
       "text": [
        "\n",
        "delta_i: 6572000.93098\n",
        "r3: \n",
        "delta_i: 6552175.89047\n",
        "r3: "
       ]
      },
      {
       "output_type": "stream",
       "stream": "stdout",
       "text": [
        "\n",
        "delta_i: 6532350.84995\n",
        "r3: \n",
        "delta_i: 6512525.80943\n",
        "r3: "
       ]
      },
      {
       "output_type": "stream",
       "stream": "stdout",
       "text": [
        "\n",
        "delta_i: 6492700.76892\n",
        "r3: \n",
        "delta_i: 6472875.7284\n",
        "r3: "
       ]
      },
      {
       "output_type": "stream",
       "stream": "stdout",
       "text": [
        "\n",
        "delta_i: 6453050.68789\n",
        "r3: \n",
        "delta_i: 6433225.64737\n",
        "r3: "
       ]
      },
      {
       "output_type": "stream",
       "stream": "stdout",
       "text": [
        "\n",
        "delta_i: 6413400.60686\n",
        "r3: \n",
        "delta_i: 6393575.56634\n",
        "r3: "
       ]
      },
      {
       "output_type": "stream",
       "stream": "stdout",
       "text": [
        "\n",
        "delta_i: 6373750.52582\n",
        "r3: \n",
        "delta_i: 6353925.48531\n",
        "r3: "
       ]
      },
      {
       "output_type": "stream",
       "stream": "stdout",
       "text": [
        "\n",
        "delta_i: 6334100.44479\n",
        "r3: \n",
        "delta_i: 6314275.40428\n",
        "r3: "
       ]
      },
      {
       "output_type": "stream",
       "stream": "stdout",
       "text": [
        "\n",
        "delta_i: 6294450.36376\n",
        "r3: \n",
        "delta_i: 6274625.32325\n",
        "r3: "
       ]
      },
      {
       "output_type": "stream",
       "stream": "stdout",
       "text": [
        "\n",
        "delta_i: 6254800.28273\n",
        "r3: \n",
        "delta_i: 6234975.24221\n",
        "r3: "
       ]
      },
      {
       "output_type": "stream",
       "stream": "stdout",
       "text": [
        "\n",
        "delta_i: 6215150.2017\n",
        "r3: \n",
        "delta_i: 6195325.16118\n",
        "r3: "
       ]
      },
      {
       "output_type": "stream",
       "stream": "stdout",
       "text": [
        "\n",
        "delta_i: 6175500.12067\n",
        "r3: \n",
        "delta_i: 6155675.08015\n",
        "r3: "
       ]
      },
      {
       "output_type": "stream",
       "stream": "stdout",
       "text": [
        "\n",
        "delta_i: 6135850.03963\n",
        "r3: \n",
        "delta_i: 6116024.99912\n",
        "r3: "
       ]
      },
      {
       "output_type": "stream",
       "stream": "stdout",
       "text": [
        "\n",
        "delta_i: 6096199.9586\n",
        "r3: \n",
        "delta_i: 6076374.91809\n",
        "r3: "
       ]
      },
      {
       "output_type": "stream",
       "stream": "stdout",
       "text": [
        "\n",
        "delta_i: 6056549.87757\n",
        "r3: \n",
        "delta_i: 6036724.83706\n",
        "r3: "
       ]
      },
      {
       "output_type": "stream",
       "stream": "stdout",
       "text": [
        "\n",
        "delta_i: 6016899.79654\n",
        "r3: \n",
        "delta_i: 5997074.75602\n",
        "r3: "
       ]
      },
      {
       "output_type": "stream",
       "stream": "stdout",
       "text": [
        "\n",
        "delta_i: 5977249.71551\n",
        "r3: \n",
        "delta_i: 5957424.67499\n",
        "r3: "
       ]
      },
      {
       "output_type": "stream",
       "stream": "stdout",
       "text": [
        "\n",
        "delta_i: 5937599.63448\n",
        "r3: \n",
        "delta_i: 5917774.59396\n",
        "r3: "
       ]
      },
      {
       "output_type": "stream",
       "stream": "stdout",
       "text": [
        "\n",
        "delta_i: 5897949.55345\n",
        "r3: "
       ]
      },
      {
       "output_type": "stream",
       "stream": "stdout",
       "text": [
        "\n",
        "delta_i: 5878124.51293\n",
        "r3: \n",
        "delta_i: 5858299.47241\n",
        "r3: "
       ]
      },
      {
       "output_type": "stream",
       "stream": "stdout",
       "text": [
        "\n",
        "delta_i: 5838474.4319\n",
        "r3: \n",
        "delta_i: 5818649.39138\n",
        "r3: "
       ]
      },
      {
       "output_type": "stream",
       "stream": "stdout",
       "text": [
        "\n",
        "delta_i: 5798824.35087\n",
        "r3: \n",
        "delta_i: 5778999.31035\n",
        "r3: "
       ]
      },
      {
       "output_type": "stream",
       "stream": "stdout",
       "text": [
        "\n",
        "delta_i: 5759174.26983\n",
        "r3: \n",
        "delta_i: 5739349.22932\n",
        "r3: "
       ]
      },
      {
       "output_type": "stream",
       "stream": "stdout",
       "text": [
        "\n",
        "delta_i: 5719524.1888\n",
        "r3: \n",
        "delta_i: 5699699.14829\n",
        "r3: "
       ]
      },
      {
       "output_type": "stream",
       "stream": "stdout",
       "text": [
        "\n",
        "delta_i: 5679874.10777\n",
        "r3: "
       ]
      },
      {
       "output_type": "stream",
       "stream": "stdout",
       "text": [
        "\n",
        "delta_i: 5660049.06726\n",
        "r3: "
       ]
      },
      {
       "output_type": "stream",
       "stream": "stdout",
       "text": [
        "\n",
        "delta_i: 5640224.02674\n",
        "r3: \n",
        "delta_i: 5620398.98622\n",
        "r3: "
       ]
      },
      {
       "output_type": "stream",
       "stream": "stdout",
       "text": [
        "\n",
        "delta_i: 5600573.94571\n",
        "r3: \n",
        "delta_i: 5580748.90519\n",
        "r3: "
       ]
      },
      {
       "output_type": "stream",
       "stream": "stdout",
       "text": [
        "\n",
        "delta_i: 5560923.86468\n",
        "r3: \n",
        "delta_i: 5541098.82416\n",
        "r3: "
       ]
      },
      {
       "output_type": "stream",
       "stream": "stdout",
       "text": [
        "\n",
        "delta_i: 5521273.78365\n",
        "r3: \n",
        "delta_i: 5501448.74313\n",
        "r3: "
       ]
      },
      {
       "output_type": "stream",
       "stream": "stdout",
       "text": [
        "\n",
        "delta_i: 5481623.70261\n",
        "r3: \n",
        "delta_i: 5461798.6621\n",
        "r3: "
       ]
      },
      {
       "output_type": "stream",
       "stream": "stdout",
       "text": [
        "\n",
        "delta_i: 5441973.62158\n",
        "r3: \n",
        "delta_i: 5422148.58107\n",
        "r3: "
       ]
      },
      {
       "output_type": "stream",
       "stream": "stdout",
       "text": [
        "\n",
        "delta_i: 5402323.54055\n",
        "r3: \n",
        "delta_i: 5382498.50003\n",
        "r3: "
       ]
      },
      {
       "output_type": "stream",
       "stream": "stdout",
       "text": [
        "\n",
        "delta_i: 5362673.45952\n",
        "r3: \n",
        "delta_i: 5342848.419\n",
        "r3: "
       ]
      },
      {
       "output_type": "stream",
       "stream": "stdout",
       "text": [
        "\n",
        "delta_i: 5323023.37849\n",
        "r3: "
       ]
      },
      {
       "output_type": "stream",
       "stream": "stdout",
       "text": [
        "\n",
        "delta_i: 5303198.33797\n",
        "r3: "
       ]
      },
      {
       "output_type": "stream",
       "stream": "stdout",
       "text": [
        "\n",
        "delta_i: 5283373.29746\n",
        "r3: \n",
        "delta_i: 5263548.25694\n",
        "r3: "
       ]
      },
      {
       "output_type": "stream",
       "stream": "stdout",
       "text": [
        "\n",
        "delta_i: 5243723.21642\n",
        "r3: \n",
        "delta_i: 5223898.17591\n",
        "r3: "
       ]
      },
      {
       "output_type": "stream",
       "stream": "stdout",
       "text": [
        "\n",
        "delta_i: 5204073.13539\n",
        "r3: \n",
        "delta_i: 5184248.09488\n",
        "r3: "
       ]
      },
      {
       "output_type": "stream",
       "stream": "stdout",
       "text": [
        "\n",
        "delta_i: 5164423.05436\n",
        "r3: "
       ]
      },
      {
       "output_type": "stream",
       "stream": "stdout",
       "text": [
        "\n",
        "delta_i: 5144598.01385\n",
        "r3: \n",
        "delta_i: 5124772.97333\n",
        "r3: "
       ]
      },
      {
       "output_type": "stream",
       "stream": "stdout",
       "text": [
        "\n",
        "delta_i: 5104947.93281\n",
        "r3: \n",
        "delta_i: 5085122.8923\n",
        "r3: "
       ]
      },
      {
       "output_type": "stream",
       "stream": "stdout",
       "text": [
        "\n",
        "delta_i: 5065297.85178\n",
        "r3: "
       ]
      },
      {
       "output_type": "stream",
       "stream": "stdout",
       "text": [
        "\n",
        "delta_i: 5045472.81127\n",
        "r3: \n",
        "delta_i: 5025647.77075\n",
        "r3: "
       ]
      },
      {
       "output_type": "stream",
       "stream": "stdout",
       "text": [
        "\n",
        "delta_i: 5005822.73023\n",
        "r3: "
       ]
      },
      {
       "output_type": "stream",
       "stream": "stdout",
       "text": [
        "\n",
        "delta_i: 4985997.68972\n",
        "r3: \n",
        "delta_i: 4966172.6492\n",
        "r3: "
       ]
      },
      {
       "output_type": "stream",
       "stream": "stdout",
       "text": [
        "\n",
        "delta_i: 4946347.60869\n",
        "r3: \n",
        "delta_i: 4926522.56817\n",
        "r3: "
       ]
      },
      {
       "output_type": "stream",
       "stream": "stdout",
       "text": [
        "\n",
        "delta_i: 4906697.52766\n",
        "r3: "
       ]
      },
      {
       "output_type": "stream",
       "stream": "stdout",
       "text": [
        "\n",
        "delta_i: 4886872.48714\n",
        "r3: "
       ]
      },
      {
       "output_type": "stream",
       "stream": "stdout",
       "text": [
        "\n",
        "delta_i: 4867047.44662\n",
        "r3: "
       ]
      },
      {
       "output_type": "stream",
       "stream": "stdout",
       "text": [
        "\n",
        "delta_i: 4847222.40611\n",
        "r3: \n",
        "delta_i: 4827397.36559\n",
        "r3: "
       ]
      },
      {
       "output_type": "stream",
       "stream": "stdout",
       "text": [
        "\n",
        "delta_i: 4807572.32508\n",
        "r3: \n",
        "delta_i: 4787747.28456\n",
        "r3: "
       ]
      },
      {
       "output_type": "stream",
       "stream": "stdout",
       "text": [
        "\n",
        "delta_i: 4767922.24405\n",
        "r3: \n",
        "delta_i: 4748097.20353\n",
        "r3: "
       ]
      },
      {
       "output_type": "stream",
       "stream": "stdout",
       "text": [
        "\n",
        "delta_i: 4728272.16301\n",
        "r3: \n",
        "delta_i: 4708447.1225\n",
        "r3: "
       ]
      },
      {
       "output_type": "stream",
       "stream": "stdout",
       "text": [
        "\n",
        "delta_i: 4688622.08198\n",
        "r3: \n",
        "delta_i: 4668797.04147\n",
        "r3: "
       ]
      },
      {
       "output_type": "stream",
       "stream": "stdout",
       "text": [
        "\n",
        "delta_i: 4648972.00095\n",
        "r3: \n",
        "delta_i: 4629146.96043\n",
        "r3: "
       ]
      },
      {
       "output_type": "stream",
       "stream": "stdout",
       "text": [
        "\n",
        "delta_i: 4609321.91992\n",
        "r3: \n",
        "delta_i: 4589496.8794\n",
        "r3: "
       ]
      },
      {
       "output_type": "stream",
       "stream": "stdout",
       "text": [
        "\n",
        "delta_i: 4569671.83889\n",
        "r3: \n",
        "delta_i: 4549846.79837\n",
        "r3: "
       ]
      },
      {
       "output_type": "stream",
       "stream": "stdout",
       "text": [
        "\n",
        "delta_i: 4530021.75786\n",
        "r3: \n",
        "delta_i: 4510196.71734\n",
        "r3: "
       ]
      },
      {
       "output_type": "stream",
       "stream": "stdout",
       "text": [
        "\n",
        "delta_i: 4490371.67682\n",
        "r3: \n",
        "delta_i: 4470546.63631\n",
        "r3: "
       ]
      },
      {
       "output_type": "stream",
       "stream": "stdout",
       "text": [
        "\n",
        "delta_i: 4450721.59579\n",
        "r3: \n",
        "delta_i: 4430896.55528\n",
        "r3: "
       ]
      },
      {
       "output_type": "stream",
       "stream": "stdout",
       "text": [
        "\n",
        "delta_i: 4411071.51476\n",
        "r3: \n",
        "delta_i: 4391246.47425\n",
        "r3: "
       ]
      },
      {
       "output_type": "stream",
       "stream": "stdout",
       "text": [
        "\n",
        "delta_i: 4371421.43373\n",
        "r3: \n",
        "delta_i: 4351596.39321\n",
        "r3: "
       ]
      },
      {
       "output_type": "stream",
       "stream": "stdout",
       "text": [
        "\n",
        "delta_i: 4331771.3527\n",
        "r3: \n",
        "delta_i: 4311946.31218\n",
        "r3: "
       ]
      },
      {
       "output_type": "stream",
       "stream": "stdout",
       "text": [
        "\n",
        "delta_i: 4292121.27167\n",
        "r3: \n",
        "delta_i: 4272296.23115\n",
        "r3: "
       ]
      },
      {
       "output_type": "stream",
       "stream": "stdout",
       "text": [
        "\n",
        "delta_i: 4252471.19064\n",
        "r3: \n",
        "delta_i: 4232646.15012\n",
        "r3: "
       ]
      },
      {
       "output_type": "stream",
       "stream": "stdout",
       "text": [
        "\n",
        "delta_i: 4212821.1096\n",
        "r3: \n",
        "delta_i: 4192996.06909\n",
        "r3: \n",
        "delta_i: 4173171.02857\n",
        "r3: "
       ]
      },
      {
       "output_type": "stream",
       "stream": "stdout",
       "text": [
        "\n",
        "delta_i: 4153345.98806\n",
        "r3: \n",
        "delta_i: 4133520.94754\n",
        "r3: "
       ]
      },
      {
       "output_type": "stream",
       "stream": "stdout",
       "text": [
        "\n",
        "delta_i: 4113695.90702\n",
        "r3: \n",
        "delta_i: 4093870.86651\n",
        "r3: "
       ]
      },
      {
       "output_type": "stream",
       "stream": "stdout",
       "text": [
        "\n",
        "delta_i: 4074045.82599\n",
        "r3: \n",
        "delta_i: 4054220.78548\n",
        "r3: "
       ]
      },
      {
       "output_type": "stream",
       "stream": "stdout",
       "text": [
        "\n",
        "delta_i: 4034395.74496\n",
        "r3: \n",
        "delta_i: 4014570.70445\n",
        "r3: "
       ]
      },
      {
       "output_type": "stream",
       "stream": "stdout",
       "text": [
        "\n",
        "delta_i: 3994745.66393\n",
        "r3: \n",
        "delta_i: 3974920.62341\n",
        "r3: "
       ]
      },
      {
       "output_type": "stream",
       "stream": "stdout",
       "text": [
        "\n",
        "delta_i: 3955095.5829\n",
        "r3: \n",
        "delta_i: 3935270.54238\n",
        "r3: "
       ]
      },
      {
       "output_type": "stream",
       "stream": "stdout",
       "text": [
        "\n",
        "delta_i: 3915445.50187\n",
        "r3: \n",
        "delta_i: 3895620.46135\n",
        "r3: "
       ]
      },
      {
       "output_type": "stream",
       "stream": "stdout",
       "text": [
        "\n",
        "delta_i: 3875795.42084\n",
        "r3: \n",
        "delta_i: 3855970.38032\n",
        "r3: "
       ]
      },
      {
       "output_type": "stream",
       "stream": "stdout",
       "text": [
        "\n",
        "delta_i: 3836145.3398\n",
        "r3: \n",
        "delta_i: 3816320.29929\n",
        "r3: "
       ]
      },
      {
       "output_type": "stream",
       "stream": "stdout",
       "text": [
        "\n",
        "delta_i: 3796495.25877\n",
        "r3: \n",
        "delta_i: 3776670.21826\n",
        "r3: "
       ]
      },
      {
       "output_type": "stream",
       "stream": "stdout",
       "text": [
        "\n",
        "delta_i: 3756845.17774\n",
        "r3: \n",
        "delta_i: 3737020.13722\n",
        "r3: \n",
        "delta_i: 3717195.09671\n",
        "r3: "
       ]
      },
      {
       "output_type": "stream",
       "stream": "stdout",
       "text": [
        "\n",
        "delta_i: 3697370.05619\n",
        "r3: \n",
        "delta_i: 3677545.01568\n",
        "r3: \n",
        "delta_i: 3657719.97516\n",
        "r3: "
       ]
      },
      {
       "output_type": "stream",
       "stream": "stdout",
       "text": [
        "\n",
        "delta_i: 3637894.93465\n",
        "r3: \n",
        "delta_i: 3618069.89413\n",
        "r3: \n",
        "delta_i: 3598244.85361\n",
        "r3: "
       ]
      },
      {
       "output_type": "stream",
       "stream": "stdout",
       "text": [
        "\n",
        "delta_i: 3578419.8131\n",
        "r3: \n",
        "delta_i: 3558594.77258\n",
        "r3: \n",
        "delta_i: 3538769.73207\n",
        "r3: "
       ]
      },
      {
       "output_type": "stream",
       "stream": "stdout",
       "text": [
        "\n",
        "delta_i: 3518944.69155\n",
        "r3: \n",
        "delta_i: 3499119.65104\n",
        "r3: \n",
        "delta_i: 3479294.61052\n",
        "r3: "
       ]
      },
      {
       "output_type": "stream",
       "stream": "stdout",
       "text": [
        "\n",
        "delta_i: 3459469.57\n",
        "r3: \n",
        "delta_i: 3439644.52949\n",
        "r3: \n",
        "delta_i: 3419819.48897\n",
        "r3: "
       ]
      },
      {
       "output_type": "stream",
       "stream": "stdout",
       "text": [
        "\n",
        "delta_i: 3399994.44846\n",
        "r3: \n",
        "delta_i: 3380169.40794\n",
        "r3: "
       ]
      },
      {
       "output_type": "stream",
       "stream": "stdout",
       "text": [
        "\n",
        "delta_i: 3360344.36742\n",
        "r3: \n",
        "delta_i: 3340519.32691\n",
        "r3: \n",
        "delta_i: 3320694.28639\n",
        "r3: "
       ]
      },
      {
       "output_type": "stream",
       "stream": "stdout",
       "text": [
        "\n",
        "delta_i: 3300869.24588\n",
        "r3: \n",
        "delta_i: 3281044.20536\n",
        "r3: \n",
        "delta_i: 3261219.16485\n",
        "r3: "
       ]
      },
      {
       "output_type": "stream",
       "stream": "stdout",
       "text": [
        "\n",
        "delta_i: 3241394.12433\n",
        "r3: \n",
        "delta_i: 3221569.08381\n",
        "r3: \n",
        "delta_i: 3201744.0433\n",
        "r3: "
       ]
      },
      {
       "output_type": "stream",
       "stream": "stdout",
       "text": [
        "\n",
        "delta_i: 3181919.00278\n",
        "r3: \n",
        "delta_i: 3162093.96227\n",
        "r3: "
       ]
      },
      {
       "output_type": "stream",
       "stream": "stdout",
       "text": [
        "\n",
        "delta_i: 3142268.92175\n",
        "r3: \n",
        "delta_i: 3122443.88124\n",
        "r3: \n",
        "delta_i: 3102618.84072\n",
        "r3: "
       ]
      },
      {
       "output_type": "stream",
       "stream": "stdout",
       "text": [
        "\n",
        "delta_i: 3082793.8002\n",
        "r3: \n",
        "delta_i: 3062968.75969\n",
        "r3: \n",
        "delta_i: 3043143.71917\n",
        "r3: "
       ]
      },
      {
       "output_type": "stream",
       "stream": "stdout",
       "text": [
        "\n",
        "delta_i: 3023318.67866\n",
        "r3: \n",
        "delta_i: 3003493.63814\n",
        "r3: \n",
        "delta_i: 2983668.59762\n",
        "r3: "
       ]
      },
      {
       "output_type": "stream",
       "stream": "stdout",
       "text": [
        "\n",
        "delta_i: 2963843.55711\n",
        "r3: \n",
        "delta_i: 2944018.51659\n",
        "r3: \n",
        "delta_i: 2924193.47608\n",
        "r3: "
       ]
      },
      {
       "output_type": "stream",
       "stream": "stdout",
       "text": [
        "\n",
        "delta_i: 2904368.43556\n",
        "r3: \n",
        "delta_i: 2884543.39505\n",
        "r3: \n",
        "delta_i: 2864718.35453\n",
        "r3: "
       ]
      },
      {
       "output_type": "stream",
       "stream": "stdout",
       "text": [
        "\n",
        "delta_i: 2844893.31401\n",
        "r3: \n",
        "delta_i: 2825068.2735\n",
        "r3: \n",
        "delta_i: 2805243.23298\n",
        "r3: \n",
        "delta_i: 2785418.19247\n",
        "r3: "
       ]
      },
      {
       "output_type": "stream",
       "stream": "stdout",
       "text": [
        "\n",
        "delta_i: 2765593.15195\n",
        "r3: \n",
        "delta_i: 2745768.11144\n",
        "r3: \n",
        "delta_i: 2725943.07092\n",
        "r3: "
       ]
      },
      {
       "output_type": "stream",
       "stream": "stdout",
       "text": [
        "\n",
        "delta_i: 2706118.0304\n",
        "r3: \n",
        "delta_i: 2686292.98989\n",
        "r3: \n",
        "delta_i: 2666467.94937\n",
        "r3: "
       ]
      },
      {
       "output_type": "stream",
       "stream": "stdout",
       "text": [
        "\n",
        "delta_i: 2646642.90886\n",
        "r3: \n",
        "delta_i: 2626817.86834\n",
        "r3: \n",
        "delta_i: 2606992.82782\n",
        "r3: "
       ]
      },
      {
       "output_type": "stream",
       "stream": "stdout",
       "text": [
        "\n",
        "delta_i: 2587167.78731\n",
        "r3: \n",
        "delta_i: 2567342.74679\n",
        "r3: \n",
        "delta_i: 2547517.70628\n",
        "r3: "
       ]
      },
      {
       "output_type": "stream",
       "stream": "stdout",
       "text": [
        "\n",
        "delta_i: 2527692.66576\n",
        "r3: \n",
        "delta_i: 2507867.62525\n",
        "r3: \n",
        "delta_i: 2488042.58473\n",
        "r3: "
       ]
      },
      {
       "output_type": "stream",
       "stream": "stdout",
       "text": [
        "\n",
        "delta_i: 2468217.54421\n",
        "r3: \n",
        "delta_i: 2448392.5037\n",
        "r3: \n",
        "delta_i: 2428567.46318\n",
        "r3: "
       ]
      },
      {
       "output_type": "stream",
       "stream": "stdout",
       "text": [
        "\n",
        "delta_i: 2408742.42267\n",
        "r3: \n",
        "delta_i: 2388917.38215\n",
        "r3: \n",
        "delta_i: 2369092.34164\n",
        "r3: \n",
        "delta_i: 2349267.30112\n",
        "r3: "
       ]
      },
      {
       "output_type": "stream",
       "stream": "stdout",
       "text": [
        "\n",
        "delta_i: 2329442.2606\n",
        "r3: \n",
        "delta_i: 2309617.22009\n",
        "r3: \n",
        "delta_i: 2289792.17957\n",
        "r3: "
       ]
      },
      {
       "output_type": "stream",
       "stream": "stdout",
       "text": [
        "\n",
        "delta_i: 2269967.13906\n",
        "r3: \n",
        "delta_i: 2250142.09854\n",
        "r3: \n",
        "delta_i: 2230317.05803\n",
        "r3: \n",
        "delta_i: 2210492.01751\n",
        "r3: "
       ]
      },
      {
       "output_type": "stream",
       "stream": "stdout",
       "text": [
        "\n",
        "delta_i: 2190666.97699\n",
        "r3: \n",
        "delta_i: 2170841.93648\n",
        "r3: \n",
        "delta_i: 2151016.89596\n",
        "r3: \n",
        "delta_i: 2131191.85545\n",
        "r3: "
       ]
      },
      {
       "output_type": "stream",
       "stream": "stdout",
       "text": [
        "\n",
        "delta_i: 2111366.81493\n",
        "r3: \n",
        "delta_i: 2091541.77441\n",
        "r3: \n",
        "delta_i: 2071716.7339\n",
        "r3: \n",
        "delta_i: 2051891.69338\n",
        "r3: "
       ]
      },
      {
       "output_type": "stream",
       "stream": "stdout",
       "text": [
        "\n",
        "delta_i: 2032066.65287\n",
        "r3: \n",
        "delta_i: 2012241.61235\n",
        "r3: \n",
        "delta_i: 1992416.57184\n",
        "r3: "
       ]
      },
      {
       "output_type": "stream",
       "stream": "stdout",
       "text": [
        "\n",
        "delta_i: 1972591.53132\n",
        "r3: \n",
        "delta_i: 1952766.4908\n",
        "r3: \n",
        "delta_i: 1932941.45029\n",
        "r3: \n",
        "delta_i: 1913116.40977\n",
        "r3: "
       ]
      },
      {
       "output_type": "stream",
       "stream": "stdout",
       "text": [
        "\n",
        "delta_i: 1893291.36926\n",
        "r3: \n",
        "delta_i: 1873466.32874\n",
        "r3: \n",
        "delta_i: 1853641.28823\n",
        "r3: \n",
        "delta_i: 1833816.24771\n",
        "r3: \n",
        "delta_i: 1813991.20719\n",
        "r3: "
       ]
      },
      {
       "output_type": "stream",
       "stream": "stdout",
       "text": [
        "\n",
        "delta_i: 1794166.16668\n",
        "r3: \n",
        "delta_i: 1774341.12616\n",
        "r3: \n",
        "delta_i: 1754516.08565\n",
        "r3: \n",
        "delta_i: 1734691.04513\n",
        "r3: \n",
        "delta_i: 1714866.00461\n",
        "r3: "
       ]
      },
      {
       "output_type": "stream",
       "stream": "stdout",
       "text": [
        "\n",
        "delta_i: 1695040.9641\n",
        "r3: \n",
        "delta_i: 1675215.92358\n",
        "r3: \n",
        "delta_i: 1655390.88307\n",
        "r3: \n",
        "delta_i: 1635565.84255\n",
        "r3: \n",
        "delta_i: 1615740.80204\n",
        "r3: "
       ]
      },
      {
       "output_type": "stream",
       "stream": "stdout",
       "text": [
        "\n",
        "delta_i: 1595915.76152\n",
        "r3: \n",
        "delta_i: 1576090.721\n",
        "r3: \n",
        "delta_i: 1556265.68049\n",
        "r3: \n",
        "delta_i: 1536440.63997\n",
        "r3: \n",
        "delta_i: 1516615.59946\n",
        "r3: "
       ]
      },
      {
       "output_type": "stream",
       "stream": "stdout",
       "text": [
        "\n",
        "delta_i: 1496790.55894\n",
        "r3: \n",
        "delta_i: 1476965.51843\n",
        "r3: \n",
        "delta_i: 1457140.47791\n",
        "r3: \n",
        "delta_i: 1437315.43739\n",
        "r3: \n",
        "delta_i: 1417490.39688\n",
        "r3: "
       ]
      },
      {
       "output_type": "stream",
       "stream": "stdout",
       "text": [
        "\n",
        "delta_i: 1397665.35636\n",
        "r3: \n",
        "delta_i: 1377840.31585\n",
        "r3: \n",
        "delta_i: 1358015.27533\n",
        "r3: \n",
        "delta_i: 1338190.23481\n",
        "r3: \n",
        "delta_i: 1318365.1943\n",
        "r3: "
       ]
      },
      {
       "output_type": "stream",
       "stream": "stdout",
       "text": [
        "\n",
        "delta_i: 1298540.15378\n",
        "r3: \n",
        "delta_i: 1278715.11327\n",
        "r3: \n",
        "delta_i: 1258890.07275\n",
        "r3: \n",
        "delta_i: 1239065.03224\n",
        "r3: "
       ]
      },
      {
       "output_type": "stream",
       "stream": "stdout",
       "text": [
        "\n",
        "delta_i: 1219239.99172\n",
        "r3: \n",
        "delta_i: 1199414.9512\n",
        "r3: \n",
        "delta_i: 1179589.91069\n",
        "r3: \n",
        "delta_i: 1159764.87017\n",
        "r3: \n",
        "delta_i: 1139939.82966\n",
        "r3: \n",
        "delta_i: 1120114.78914\n",
        "r3: "
       ]
      },
      {
       "output_type": "stream",
       "stream": "stdout",
       "text": [
        "\n",
        "delta_i: 1100289.74863\n",
        "r3: \n",
        "delta_i: 1080464.70811\n",
        "r3: \n",
        "delta_i: 1060639.66759\n",
        "r3: \n",
        "delta_i: 1040814.62708\n",
        "r3: \n",
        "delta_i: 1020989.58656\n",
        "r3: \n",
        "delta_i: 1001164.54605\n",
        "r3: "
       ]
      },
      {
       "output_type": "stream",
       "stream": "stdout",
       "text": [
        "\n",
        "delta_i: 981339.505531\n",
        "r3: \n",
        "delta_i: 961514.465015\n",
        "r3: \n",
        "delta_i: 941689.424499\n",
        "r3: \n",
        "delta_i: 921864.383983\n",
        "r3: \n",
        "delta_i: 902039.343468\n",
        "r3: "
       ]
      },
      {
       "output_type": "stream",
       "stream": "stdout",
       "text": [
        "\n",
        "delta_i: 882214.302952\n",
        "r3: \n",
        "delta_i: 862389.262436\n",
        "r3: \n",
        "delta_i: 842564.22192\n",
        "r3: \n",
        "delta_i: 822739.181404\n",
        "r3: \n",
        "delta_i: 802914.140889\n",
        "r3: \n",
        "delta_i: 783089.100373\n",
        "r3: \n",
        "delta_i: 763264.059857\n",
        "r3: \n",
        "delta_i: 743439.019341\n",
        "r3: "
       ]
      },
      {
       "output_type": "stream",
       "stream": "stdout",
       "text": [
        "\n",
        "delta_i: 723613.978825\n",
        "r3: \n",
        "delta_i: 703788.93831\n",
        "r3: \n",
        "delta_i: 683963.897794\n",
        "r3: \n",
        "delta_i: 664138.857278\n",
        "r3: \n",
        "delta_i: 644313.816762\n",
        "r3: \n",
        "delta_i: 624488.776247\n",
        "r3: \n",
        "delta_i: 604663.735731\n",
        "r3: \n",
        "delta_i: 584838.695215\n",
        "r3: "
       ]
      },
      {
       "output_type": "stream",
       "stream": "stdout",
       "text": [
        "\n",
        "delta_i: 565013.654699\n",
        "r3: \n",
        "delta_i: 545188.614183\n",
        "r3: \n",
        "delta_i: 525363.573668\n",
        "r3: \n",
        "delta_i: 505538.533152\n",
        "r3: \n",
        "delta_i: 485713.492636\n",
        "r3: \n",
        "delta_i: 465888.45212\n",
        "r3: \n",
        "delta_i: 446063.411604\n",
        "r3: \n",
        "delta_i: 426238.371089\n",
        "r3: \n",
        "delta_i: 406413.330573\n",
        "r3: \n",
        "delta_i: 386588.290057\n",
        "r3: \n",
        "delta_i: 366763.249541\n",
        "r3: \n",
        "delta_i: 346938.209026\n",
        "r3: "
       ]
      },
      {
       "output_type": "stream",
       "stream": "stdout",
       "text": [
        "\n",
        "delta_i: 327113.16851\n",
        "r3: \n",
        "delta_i: 307288.127994\n",
        "r3: \n",
        "delta_i: 287463.087478\n",
        "r3: \n",
        "delta_i: 267638.046962\n",
        "r3: \n",
        "delta_i: 247813.006447\n",
        "r3: \n",
        "delta_i: 227987.965931\n",
        "r3: \n",
        "delta_i: 208162.925415\n",
        "r3: \n",
        "delta_i: 188337.884899\n",
        "r3: \n",
        "delta_i: 168512.844383\n",
        "r3: \n",
        "delta_i: 148687.803868\n",
        "r3: \n",
        "delta_i: 128862.763352\n",
        "r3: \n",
        "delta_i: 109037.722836\n",
        "r3: \n",
        "delta_i: 89212.6823203\n",
        "r3: \n",
        "delta_i: 69387.6418046\n",
        "r3: \n",
        "delta_i: 49562.6012888\n",
        "r3: "
       ]
      },
      {
       "output_type": "stream",
       "stream": "stdout",
       "text": [
        "\n",
        "delta_i: 29737.560773\n",
        "r3: \n",
        "delta_i: 9912.52025721\n",
        "r3: \n",
        "delta_i: -9912.52025857\n",
        "r3: \n",
        "delta_i: -29737.5607744\n",
        "r3: \n",
        "delta_i: -49562.6012901\n",
        "r3: \n",
        "delta_i: -69387.6418059\n",
        "r3: \n",
        "delta_i: -89212.6823217\n",
        "r3: \n",
        "delta_i: -109037.722837\n",
        "r3: \n",
        "delta_i: -128862.763353\n",
        "r3: \n",
        "delta_i: -148687.803869\n",
        "r3: \n",
        "delta_i: -168512.844385\n",
        "r3: \n",
        "delta_i: -188337.884901\n",
        "r3: \n",
        "delta_i: -208162.925416\n",
        "r3: \n",
        "delta_i: -227987.965932\n",
        "r3: \n",
        "delta_i: -247813.006448\n",
        "r3: \n",
        "delta_i: -267638.046964\n",
        "r3: \n",
        "delta_i: -287463.08748\n",
        "r3: \n",
        "delta_i: -307288.127995\n",
        "r3: \n",
        "delta_i: -327113.168511\n",
        "r3: \n",
        "delta_i: -346938.209027\n",
        "r3: \n",
        "delta_i: -366763.249543\n",
        "r3: \n",
        "delta_i: -386588.290058\n",
        "r3: \n",
        "delta_i: -406413.330574\n",
        "r3: \n",
        "delta_i: -426238.37109\n",
        "r3: \n",
        "delta_i: -446063.411606\n",
        "r3: "
       ]
      },
      {
       "output_type": "stream",
       "stream": "stdout",
       "text": [
        "\n",
        "delta_i: -465888.452122\n",
        "r3: \n",
        "delta_i: -485713.492637\n",
        "r3: \n",
        "delta_i: -505538.533153\n",
        "r3: \n",
        "delta_i: -525363.573669\n",
        "r3: \n",
        "delta_i: -545188.614185\n",
        "r3: \n",
        "delta_i: -565013.654701\n",
        "r3: \n",
        "delta_i: -584838.695216\n",
        "r3: \n",
        "delta_i: -604663.735732\n",
        "r3: \n",
        "delta_i: -624488.776248\n",
        "r3: \n",
        "delta_i: -644313.816764\n",
        "r3: "
       ]
      },
      {
       "output_type": "stream",
       "stream": "stdout",
       "text": [
        "\n",
        "delta_i: -664138.857279\n",
        "r3: \n",
        "delta_i: -683963.897795\n",
        "r3: \n",
        "delta_i: -703788.938311\n",
        "r3: \n",
        "delta_i: -723613.978827\n",
        "r3: \n",
        "delta_i: -743439.019343\n",
        "r3: \n",
        "delta_i: -763264.059858\n",
        "r3: \n",
        "delta_i: -783089.100374\n",
        "r3: \n",
        "delta_i: -802914.14089\n",
        "r3: "
       ]
      },
      {
       "output_type": "stream",
       "stream": "stdout",
       "text": [
        "\n",
        "delta_i: -822739.181406\n",
        "r3: \n",
        "delta_i: -842564.221922\n",
        "r3: \n",
        "delta_i: -862389.262437\n",
        "r3: \n",
        "delta_i: -882214.302953\n",
        "r3: \n",
        "delta_i: -902039.343469\n",
        "r3: \n",
        "delta_i: -921864.383985\n",
        "r3: \n",
        "delta_i: -941689.4245\n",
        "r3: "
       ]
      },
      {
       "output_type": "stream",
       "stream": "stdout",
       "text": [
        "\n",
        "delta_i: -961514.465016\n",
        "r3: \n",
        "delta_i: -981339.505532\n",
        "r3: \n",
        "delta_i: -1001164.54605\n",
        "r3: \n",
        "delta_i: -1020989.58656\n",
        "r3: \n",
        "delta_i: -1040814.62708\n",
        "r3: \n",
        "delta_i: -1060639.6676\n",
        "r3: \n",
        "delta_i: -1080464.70811\n",
        "r3: "
       ]
      },
      {
       "output_type": "stream",
       "stream": "stdout",
       "text": [
        "\n",
        "delta_i: -1100289.74863\n",
        "r3: \n",
        "delta_i: -1120114.78914\n",
        "r3: \n",
        "delta_i: -1139939.82966\n",
        "r3: \n",
        "delta_i: -1159764.87017\n",
        "r3: \n",
        "delta_i: -1179589.91069\n",
        "r3: \n",
        "delta_i: -1199414.95121\n",
        "r3: "
       ]
      },
      {
       "output_type": "stream",
       "stream": "stdout",
       "text": [
        "\n",
        "delta_i: -1219239.99172\n",
        "r3: \n",
        "delta_i: -1239065.03224\n",
        "r3: \n",
        "delta_i: -1258890.07275\n",
        "r3: \n",
        "delta_i: -1278715.11327\n",
        "r3: \n",
        "delta_i: -1298540.15378\n",
        "r3: \n",
        "delta_i: -1318365.1943\n",
        "r3: \n",
        "delta_i: -1338190.23482\n",
        "r3: "
       ]
      },
      {
       "output_type": "stream",
       "stream": "stdout",
       "text": [
        "\n",
        "delta_i: -1358015.27533\n",
        "r3: \n",
        "delta_i: -1377840.31585\n",
        "r3: \n",
        "delta_i: -1397665.35636\n",
        "r3: \n",
        "delta_i: -1417490.39688\n",
        "r3: \n",
        "delta_i: -1437315.4374\n",
        "r3: \n",
        "delta_i: -1457140.47791\n",
        "r3: "
       ]
      },
      {
       "output_type": "stream",
       "stream": "stdout",
       "text": [
        "\n",
        "delta_i: -1476965.51843\n",
        "r3: \n",
        "delta_i: -1496790.55894\n",
        "r3: \n",
        "delta_i: -1516615.59946\n",
        "r3: \n",
        "delta_i: -1536440.63997\n",
        "r3: \n",
        "delta_i: -1556265.68049\n",
        "r3: \n",
        "delta_i: -1576090.72101\n",
        "r3: "
       ]
      },
      {
       "output_type": "stream",
       "stream": "stdout",
       "text": [
        "\n",
        "delta_i: -1595915.76152\n",
        "r3: \n",
        "delta_i: -1615740.80204\n",
        "r3: \n",
        "delta_i: -1635565.84255\n",
        "r3: \n",
        "delta_i: -1655390.88307\n",
        "r3: \n",
        "delta_i: -1675215.92358\n",
        "r3: "
       ]
      },
      {
       "output_type": "stream",
       "stream": "stdout",
       "text": [
        "\n",
        "delta_i: -1695040.9641\n",
        "r3: \n",
        "delta_i: -1714866.00462\n",
        "r3: \n",
        "delta_i: -1734691.04513\n",
        "r3: "
       ]
      },
      {
       "output_type": "stream",
       "stream": "stdout",
       "text": [
        "\n",
        "delta_i: -1754516.08565\n",
        "r3: \n",
        "delta_i: -1774341.12616\n",
        "r3: \n",
        "delta_i: -1794166.16668\n",
        "r3: \n",
        "delta_i: -1813991.20719\n",
        "r3: "
       ]
      },
      {
       "output_type": "stream",
       "stream": "stdout",
       "text": [
        "\n",
        "delta_i: -1833816.24771\n",
        "r3: \n",
        "delta_i: -1853641.28823\n",
        "r3: \n",
        "delta_i: -1873466.32874\n",
        "r3: \n",
        "delta_i: -1893291.36926\n",
        "r3: "
       ]
      },
      {
       "output_type": "stream",
       "stream": "stdout",
       "text": [
        "\n",
        "delta_i: -1913116.40977\n",
        "r3: \n",
        "delta_i: -1932941.45029\n",
        "r3: \n",
        "delta_i: -1952766.49081\n",
        "r3: "
       ]
      },
      {
       "output_type": "stream",
       "stream": "stdout",
       "text": [
        "\n",
        "delta_i: -1972591.53132\n",
        "r3: \n",
        "delta_i: -1992416.57184\n",
        "r3: "
       ]
      },
      {
       "output_type": "stream",
       "stream": "stdout",
       "text": [
        "\n",
        "delta_i: -2012241.61235\n",
        "r3: \n",
        "delta_i: -2032066.65287\n",
        "r3: "
       ]
      },
      {
       "output_type": "stream",
       "stream": "stdout",
       "text": [
        "\n",
        "delta_i: -2051891.69338\n",
        "r3: \n",
        "delta_i: -2071716.7339\n",
        "r3: \n",
        "delta_i: -2091541.77442\n",
        "r3: \n",
        "delta_i: -2111366.81493\n",
        "r3: "
       ]
      },
      {
       "output_type": "stream",
       "stream": "stdout",
       "text": [
        "\n",
        "delta_i: -2131191.85545\n",
        "r3: \n",
        "delta_i: -2151016.89596\n",
        "r3: \n",
        "delta_i: -2170841.93648\n",
        "r3: "
       ]
      },
      {
       "output_type": "stream",
       "stream": "stdout",
       "text": [
        "\n",
        "delta_i: -2190666.97699\n",
        "r3: \n",
        "delta_i: -2210492.01751\n",
        "r3: \n",
        "delta_i: -2230317.05803\n",
        "r3: "
       ]
      },
      {
       "output_type": "stream",
       "stream": "stdout",
       "text": [
        "\n",
        "delta_i: -2250142.09854\n",
        "r3: \n",
        "delta_i: -2269967.13906\n",
        "r3: \n",
        "delta_i: -2289792.17957\n",
        "r3: "
       ]
      },
      {
       "output_type": "stream",
       "stream": "stdout",
       "text": [
        "\n",
        "delta_i: -2309617.22009\n",
        "r3: \n",
        "delta_i: -2329442.26061\n",
        "r3: \n",
        "delta_i: -2349267.30112\n",
        "r3: "
       ]
      },
      {
       "output_type": "stream",
       "stream": "stdout",
       "text": [
        "\n",
        "delta_i: -2369092.34164\n",
        "r3: \n",
        "delta_i: -2388917.38215\n",
        "r3: \n",
        "delta_i: -2408742.42267\n",
        "r3: "
       ]
      },
      {
       "output_type": "stream",
       "stream": "stdout",
       "text": [
        "\n",
        "delta_i: -2428567.46318\n",
        "r3: \n",
        "delta_i: -2448392.5037\n",
        "r3: \n",
        "delta_i: -2468217.54422\n",
        "r3: "
       ]
      },
      {
       "output_type": "stream",
       "stream": "stdout",
       "text": [
        "\n",
        "delta_i: -2488042.58473\n",
        "r3: \n",
        "delta_i: -2507867.62525\n",
        "r3: \n",
        "delta_i: -2527692.66576\n",
        "r3: "
       ]
      },
      {
       "output_type": "stream",
       "stream": "stdout",
       "text": [
        "\n",
        "delta_i: -2547517.70628\n",
        "r3: \n",
        "delta_i: -2567342.74679\n",
        "r3: \n",
        "delta_i: -2587167.78731\n",
        "r3: "
       ]
      },
      {
       "output_type": "stream",
       "stream": "stdout",
       "text": [
        "\n",
        "delta_i: -2606992.82783\n",
        "r3: \n",
        "delta_i: -2626817.86834\n",
        "r3: \n",
        "delta_i: -2646642.90886\n",
        "r3: "
       ]
      },
      {
       "output_type": "stream",
       "stream": "stdout",
       "text": [
        "\n",
        "delta_i: -2666467.94937\n",
        "r3: \n",
        "delta_i: -2686292.98989\n",
        "r3: \n",
        "delta_i: -2706118.03041\n",
        "r3: "
       ]
      },
      {
       "output_type": "stream",
       "stream": "stdout",
       "text": [
        "\n",
        "delta_i: -2725943.07092\n",
        "r3: \n",
        "delta_i: -2745768.11144\n",
        "r3: "
       ]
      },
      {
       "output_type": "stream",
       "stream": "stdout",
       "text": [
        "\n",
        "delta_i: -2765593.15195\n",
        "r3: \n",
        "delta_i: -2785418.19247\n",
        "r3: "
       ]
      },
      {
       "output_type": "stream",
       "stream": "stdout",
       "text": [
        "\n",
        "delta_i: -2805243.23298\n",
        "r3: \n",
        "delta_i: -2825068.2735\n",
        "r3: \n",
        "delta_i: -2844893.31402\n",
        "r3: "
       ]
      },
      {
       "output_type": "stream",
       "stream": "stdout",
       "text": [
        "\n",
        "delta_i: -2864718.35453\n",
        "r3: \n",
        "delta_i: -2884543.39505\n",
        "r3: "
       ]
      },
      {
       "output_type": "stream",
       "stream": "stdout",
       "text": [
        "\n",
        "delta_i: -2904368.43556\n",
        "r3: \n",
        "delta_i: -2924193.47608\n",
        "r3: \n",
        "delta_i: -2944018.51659\n",
        "r3: "
       ]
      },
      {
       "output_type": "stream",
       "stream": "stdout",
       "text": [
        "\n",
        "delta_i: -2963843.55711\n",
        "r3: \n",
        "delta_i: -2983668.59763\n",
        "r3: "
       ]
      },
      {
       "output_type": "stream",
       "stream": "stdout",
       "text": [
        "\n",
        "delta_i: -3003493.63814\n",
        "r3: \n",
        "delta_i: -3023318.67866\n",
        "r3: "
       ]
      },
      {
       "output_type": "stream",
       "stream": "stdout",
       "text": [
        "\n",
        "delta_i: -3043143.71917\n",
        "r3: \n",
        "delta_i: -3062968.75969\n",
        "r3: "
       ]
      },
      {
       "output_type": "stream",
       "stream": "stdout",
       "text": [
        "\n",
        "delta_i: -3082793.80021\n",
        "r3: \n",
        "delta_i: -3102618.84072\n",
        "r3: \n",
        "delta_i: -3122443.88124\n",
        "r3: "
       ]
      },
      {
       "output_type": "stream",
       "stream": "stdout",
       "text": [
        "\n",
        "delta_i: -3142268.92175\n",
        "r3: \n",
        "delta_i: -3162093.96227\n",
        "r3: "
       ]
      },
      {
       "output_type": "stream",
       "stream": "stdout",
       "text": [
        "\n",
        "delta_i: -3181919.00278\n",
        "r3: \n",
        "delta_i: -3201744.0433\n",
        "r3: \n",
        "delta_i: -3221569.08382\n",
        "r3: "
       ]
      },
      {
       "output_type": "stream",
       "stream": "stdout",
       "text": [
        "\n",
        "delta_i: -3241394.12433\n",
        "r3: \n",
        "delta_i: -3261219.16485\n",
        "r3: "
       ]
      },
      {
       "output_type": "stream",
       "stream": "stdout",
       "text": [
        "\n",
        "delta_i: -3281044.20536\n",
        "r3: \n",
        "delta_i: -3300869.24588\n",
        "r3: "
       ]
      },
      {
       "output_type": "stream",
       "stream": "stdout",
       "text": [
        "\n",
        "delta_i: -3320694.28639\n",
        "r3: \n",
        "delta_i: -3340519.32691\n",
        "r3: \n",
        "delta_i: -3360344.36743\n",
        "r3: "
       ]
      },
      {
       "output_type": "stream",
       "stream": "stdout",
       "text": [
        "\n",
        "delta_i: -3380169.40794\n",
        "r3: \n",
        "delta_i: -3399994.44846\n",
        "r3: \n",
        "delta_i: -3419819.48897\n",
        "r3: "
       ]
      },
      {
       "output_type": "stream",
       "stream": "stdout",
       "text": [
        "\n",
        "delta_i: -3439644.52949\n",
        "r3: \n",
        "delta_i: -3459469.57001\n",
        "r3: \n",
        "delta_i: -3479294.61052\n",
        "r3: "
       ]
      },
      {
       "output_type": "stream",
       "stream": "stdout",
       "text": [
        "\n",
        "delta_i: -3499119.65104\n",
        "r3: \n",
        "delta_i: -3518944.69155\n",
        "r3: \n",
        "delta_i: -3538769.73207\n",
        "r3: "
       ]
      },
      {
       "output_type": "stream",
       "stream": "stdout",
       "text": [
        "\n",
        "delta_i: -3558594.77258\n",
        "r3: \n",
        "delta_i: -3578419.8131\n",
        "r3: \n",
        "delta_i: -3598244.85362\n",
        "r3: "
       ]
      },
      {
       "output_type": "stream",
       "stream": "stdout",
       "text": [
        "\n",
        "delta_i: -3618069.89413\n",
        "r3: \n",
        "delta_i: -3637894.93465\n",
        "r3: "
       ]
      },
      {
       "output_type": "stream",
       "stream": "stdout",
       "text": [
        "\n",
        "delta_i: -3657719.97516\n",
        "r3: \n",
        "delta_i: -3677545.01568\n",
        "r3: "
       ]
      },
      {
       "output_type": "stream",
       "stream": "stdout",
       "text": [
        "\n",
        "delta_i: -3697370.05619\n",
        "r3: \n",
        "delta_i: -3717195.09671\n",
        "r3: "
       ]
      },
      {
       "output_type": "stream",
       "stream": "stdout",
       "text": [
        "\n",
        "delta_i: -3737020.13723\n",
        "r3: \n",
        "delta_i: -3756845.17774\n",
        "r3: "
       ]
      },
      {
       "output_type": "stream",
       "stream": "stdout",
       "text": [
        "\n",
        "delta_i: -3776670.21826\n",
        "r3: \n",
        "delta_i: -3796495.25877\n",
        "r3: "
       ]
      },
      {
       "output_type": "stream",
       "stream": "stdout",
       "text": [
        "\n",
        "delta_i: -3816320.29929\n",
        "r3: \n",
        "delta_i: -3836145.3398\n",
        "r3: "
       ]
      },
      {
       "output_type": "stream",
       "stream": "stdout",
       "text": [
        "\n",
        "delta_i: -3855970.38032\n",
        "r3: \n",
        "delta_i: -3875795.42084\n",
        "r3: "
       ]
      },
      {
       "output_type": "stream",
       "stream": "stdout",
       "text": [
        "\n",
        "delta_i: -3895620.46135\n",
        "r3: \n",
        "delta_i: -3915445.50187\n",
        "r3: "
       ]
      },
      {
       "output_type": "stream",
       "stream": "stdout",
       "text": [
        "\n",
        "delta_i: -3935270.54238\n",
        "r3: \n",
        "delta_i: -3955095.5829\n",
        "r3: "
       ]
      },
      {
       "output_type": "stream",
       "stream": "stdout",
       "text": [
        "\n",
        "delta_i: -3974920.62342\n",
        "r3: \n",
        "delta_i: -3994745.66393\n",
        "r3: "
       ]
      },
      {
       "output_type": "stream",
       "stream": "stdout",
       "text": [
        "\n",
        "delta_i: -4014570.70445\n",
        "r3: \n",
        "delta_i: -4034395.74496\n",
        "r3: "
       ]
      },
      {
       "output_type": "stream",
       "stream": "stdout",
       "text": [
        "\n",
        "delta_i: -4054220.78548\n",
        "r3: \n",
        "delta_i: -4074045.82599\n",
        "r3: \n",
        "delta_i: -4093870.86651\n",
        "r3: "
       ]
      },
      {
       "output_type": "stream",
       "stream": "stdout",
       "text": [
        "\n",
        "delta_i: -4113695.90703\n",
        "r3: \n",
        "delta_i: -4133520.94754\n",
        "r3: \n",
        "delta_i: -4153345.98806\n",
        "r3: "
       ]
      },
      {
       "output_type": "stream",
       "stream": "stdout",
       "text": [
        "\n",
        "delta_i: -4173171.02857\n",
        "r3: \n",
        "delta_i: -4192996.06909\n",
        "r3: "
       ]
      },
      {
       "output_type": "stream",
       "stream": "stdout",
       "text": [
        "\n",
        "delta_i: -4212821.1096\n",
        "r3: \n",
        "delta_i: -4232646.15012\n",
        "r3: \n",
        "delta_i: -4252471.19064\n",
        "r3: "
       ]
      },
      {
       "output_type": "stream",
       "stream": "stdout",
       "text": [
        "\n",
        "delta_i: -4272296.23115\n",
        "r3: \n",
        "delta_i: -4292121.27167\n",
        "r3: "
       ]
      },
      {
       "output_type": "stream",
       "stream": "stdout",
       "text": [
        "\n",
        "delta_i: -4311946.31218\n",
        "r3: \n",
        "delta_i: -4331771.3527\n",
        "r3: "
       ]
      },
      {
       "output_type": "stream",
       "stream": "stdout",
       "text": [
        "\n",
        "delta_i: -4351596.39322\n",
        "r3: \n",
        "delta_i: -4371421.43373\n",
        "r3: "
       ]
      },
      {
       "output_type": "stream",
       "stream": "stdout",
       "text": [
        "\n",
        "delta_i: -4391246.47425\n",
        "r3: \n",
        "delta_i: -4411071.51476\n",
        "r3: "
       ]
      },
      {
       "output_type": "stream",
       "stream": "stdout",
       "text": [
        "\n",
        "delta_i: -4430896.55528\n",
        "r3: \n",
        "delta_i: -4450721.59579\n",
        "r3: "
       ]
      },
      {
       "output_type": "stream",
       "stream": "stdout",
       "text": [
        "\n",
        "delta_i: -4470546.63631\n",
        "r3: \n",
        "delta_i: -4490371.67683\n",
        "r3: "
       ]
      },
      {
       "output_type": "stream",
       "stream": "stdout",
       "text": [
        "\n",
        "delta_i: -4510196.71734\n",
        "r3: \n",
        "delta_i: -4530021.75786\n",
        "r3: "
       ]
      },
      {
       "output_type": "stream",
       "stream": "stdout",
       "text": [
        "\n",
        "delta_i: -4549846.79837\n",
        "r3: \n",
        "delta_i: -4569671.83889\n",
        "r3: "
       ]
      },
      {
       "output_type": "stream",
       "stream": "stdout",
       "text": [
        "\n",
        "delta_i: -4589496.8794\n",
        "r3: \n",
        "delta_i: -4609321.91992\n",
        "r3: "
       ]
      },
      {
       "output_type": "stream",
       "stream": "stdout",
       "text": [
        "\n",
        "delta_i: -4629146.96044\n",
        "r3: \n",
        "delta_i: -4648972.00095\n",
        "r3: "
       ]
      },
      {
       "output_type": "stream",
       "stream": "stdout",
       "text": [
        "\n",
        "delta_i: -4668797.04147\n",
        "r3: \n",
        "delta_i: -4688622.08198\n",
        "r3: "
       ]
      },
      {
       "output_type": "stream",
       "stream": "stdout",
       "text": [
        "\n",
        "delta_i: -4708447.1225\n",
        "r3: \n",
        "delta_i: -4728272.16302\n",
        "r3: "
       ]
      },
      {
       "output_type": "stream",
       "stream": "stdout",
       "text": [
        "\n",
        "delta_i: -4748097.20353\n",
        "r3: \n",
        "delta_i: -4767922.24405\n",
        "r3: "
       ]
      },
      {
       "output_type": "stream",
       "stream": "stdout",
       "text": [
        "\n",
        "delta_i: -4787747.28456\n",
        "r3: \n",
        "delta_i: -4807572.32508\n",
        "r3: "
       ]
      },
      {
       "output_type": "stream",
       "stream": "stdout",
       "text": [
        "\n",
        "delta_i: -4827397.36559\n",
        "r3: \n",
        "delta_i: -4847222.40611\n",
        "r3: "
       ]
      },
      {
       "output_type": "stream",
       "stream": "stdout",
       "text": [
        "\n",
        "delta_i: -4867047.44663\n",
        "r3: \n",
        "delta_i: -4886872.48714\n",
        "r3: "
       ]
      },
      {
       "output_type": "stream",
       "stream": "stdout",
       "text": [
        "\n",
        "delta_i: -4906697.52766\n",
        "r3: "
       ]
      },
      {
       "output_type": "stream",
       "stream": "stdout",
       "text": [
        "\n",
        "delta_i: -4926522.56817\n",
        "r3: \n",
        "delta_i: -4946347.60869\n",
        "r3: "
       ]
      },
      {
       "output_type": "stream",
       "stream": "stdout",
       "text": [
        "\n",
        "delta_i: -4966172.6492\n",
        "r3: \n",
        "delta_i: -4985997.68972\n",
        "r3: "
       ]
      },
      {
       "output_type": "stream",
       "stream": "stdout",
       "text": [
        "\n",
        "delta_i: -5005822.73024\n",
        "r3: \n",
        "delta_i: -5025647.77075\n",
        "r3: "
       ]
      },
      {
       "output_type": "stream",
       "stream": "stdout",
       "text": [
        "\n",
        "delta_i: -5045472.81127\n",
        "r3: "
       ]
      },
      {
       "output_type": "stream",
       "stream": "stdout",
       "text": [
        "\n",
        "delta_i: -5065297.85178\n",
        "r3: \n",
        "delta_i: -5085122.8923\n",
        "r3: "
       ]
      },
      {
       "output_type": "stream",
       "stream": "stdout",
       "text": [
        "\n",
        "delta_i: -5104947.93282\n",
        "r3: \n",
        "delta_i: -5124772.97333\n",
        "r3: "
       ]
      },
      {
       "output_type": "stream",
       "stream": "stdout",
       "text": [
        "\n",
        "delta_i: -5144598.01385\n",
        "r3: \n",
        "delta_i: -5164423.05436\n",
        "r3: "
       ]
      },
      {
       "output_type": "stream",
       "stream": "stdout",
       "text": [
        "\n",
        "delta_i: -5184248.09488\n",
        "r3: \n",
        "delta_i: -5204073.13539\n",
        "r3: "
       ]
      },
      {
       "output_type": "stream",
       "stream": "stdout",
       "text": [
        "\n",
        "delta_i: -5223898.17591\n",
        "r3: \n",
        "delta_i: -5243723.21643\n",
        "r3: "
       ]
      },
      {
       "output_type": "stream",
       "stream": "stdout",
       "text": [
        "\n",
        "delta_i: -5263548.25694\n",
        "r3: \n",
        "delta_i: -5283373.29746\n",
        "r3: "
       ]
      },
      {
       "output_type": "stream",
       "stream": "stdout",
       "text": [
        "\n",
        "delta_i: -5303198.33797\n",
        "r3: \n",
        "delta_i: -5323023.37849\n",
        "r3: "
       ]
      },
      {
       "output_type": "stream",
       "stream": "stdout",
       "text": [
        "\n",
        "delta_i: -5342848.419\n",
        "r3: \n",
        "delta_i: -5362673.45952\n",
        "r3: "
       ]
      },
      {
       "output_type": "stream",
       "stream": "stdout",
       "text": [
        "\n",
        "delta_i: -5382498.50004\n",
        "r3: \n",
        "delta_i: -5402323.54055\n",
        "r3: "
       ]
      },
      {
       "output_type": "stream",
       "stream": "stdout",
       "text": [
        "\n",
        "delta_i: -5422148.58107\n",
        "r3: \n",
        "delta_i: -5441973.62158\n",
        "r3: "
       ]
      },
      {
       "output_type": "stream",
       "stream": "stdout",
       "text": [
        "\n",
        "delta_i: -5461798.6621\n",
        "r3: \n",
        "delta_i: -5481623.70262\n",
        "r3: "
       ]
      },
      {
       "output_type": "stream",
       "stream": "stdout",
       "text": [
        "\n",
        "delta_i: -5501448.74313\n",
        "r3: \n",
        "delta_i: -5521273.78365\n",
        "r3: "
       ]
      },
      {
       "output_type": "stream",
       "stream": "stdout",
       "text": [
        "\n",
        "delta_i: -5541098.82416\n",
        "r3: \n",
        "delta_i: -5560923.86468\n",
        "r3: "
       ]
      },
      {
       "output_type": "stream",
       "stream": "stdout",
       "text": [
        "\n",
        "delta_i: -5580748.90519\n",
        "r3: \n",
        "delta_i: -5600573.94571\n",
        "r3: "
       ]
      },
      {
       "output_type": "stream",
       "stream": "stdout",
       "text": [
        "\n",
        "delta_i: -5620398.98623\n",
        "r3: \n",
        "delta_i: -5640224.02674\n",
        "r3: "
       ]
      },
      {
       "output_type": "stream",
       "stream": "stdout",
       "text": [
        "\n",
        "delta_i: -5660049.06726\n",
        "r3: \n",
        "delta_i: -5679874.10777\n",
        "r3: "
       ]
      },
      {
       "output_type": "stream",
       "stream": "stdout",
       "text": [
        "\n",
        "delta_i: -5699699.14829\n",
        "r3: "
       ]
      },
      {
       "output_type": "stream",
       "stream": "stdout",
       "text": [
        "\n",
        "delta_i: -5719524.1888\n",
        "r3: \n",
        "delta_i: -5739349.22932\n",
        "r3: "
       ]
      },
      {
       "output_type": "stream",
       "stream": "stdout",
       "text": [
        "\n",
        "delta_i: -5759174.26984\n",
        "r3: \n",
        "delta_i: -5778999.31035\n",
        "r3: "
       ]
      },
      {
       "output_type": "stream",
       "stream": "stdout",
       "text": [
        "\n",
        "delta_i: -5798824.35087\n",
        "r3: \n",
        "delta_i: -5818649.39138\n",
        "r3: "
       ]
      },
      {
       "output_type": "stream",
       "stream": "stdout",
       "text": [
        "\n",
        "delta_i: -5838474.4319\n",
        "r3: \n",
        "delta_i: -5858299.47241\n",
        "r3: "
       ]
      },
      {
       "output_type": "stream",
       "stream": "stdout",
       "text": [
        "\n",
        "delta_i: -5878124.51293\n",
        "r3: \n",
        "delta_i: -5897949.55345\n",
        "r3: "
       ]
      },
      {
       "output_type": "stream",
       "stream": "stdout",
       "text": [
        "\n",
        "delta_i: -5917774.59396\n",
        "r3: \n",
        "delta_i: -5937599.63448\n",
        "r3: "
       ]
      },
      {
       "output_type": "stream",
       "stream": "stdout",
       "text": [
        "\n",
        "delta_i: -5957424.67499\n",
        "r3: \n",
        "delta_i: -5977249.71551\n",
        "r3: "
       ]
      },
      {
       "output_type": "stream",
       "stream": "stdout",
       "text": [
        "\n",
        "delta_i: -5997074.75603\n",
        "r3: \n",
        "delta_i: -6016899.79654\n",
        "r3: "
       ]
      },
      {
       "output_type": "stream",
       "stream": "stdout",
       "text": [
        "\n",
        "delta_i: -6036724.83706\n",
        "r3: \n",
        "delta_i: -6056549.87757\n",
        "r3: "
       ]
      },
      {
       "output_type": "stream",
       "stream": "stdout",
       "text": [
        "\n",
        "delta_i: -6076374.91809\n",
        "r3: "
       ]
      },
      {
       "output_type": "stream",
       "stream": "stdout",
       "text": [
        "\n",
        "delta_i: -6096199.9586\n",
        "r3: \n",
        "delta_i: -6116024.99912\n",
        "r3: "
       ]
      },
      {
       "output_type": "stream",
       "stream": "stdout",
       "text": [
        "\n",
        "delta_i: -6135850.03964\n",
        "r3: \n",
        "delta_i: -6155675.08015\n",
        "r3: "
       ]
      },
      {
       "output_type": "stream",
       "stream": "stdout",
       "text": [
        "\n",
        "delta_i: -6175500.12067\n",
        "r3: \n",
        "delta_i: -6195325.16118\n",
        "r3: "
       ]
      },
      {
       "output_type": "stream",
       "stream": "stdout",
       "text": [
        "\n",
        "delta_i: -6215150.2017\n",
        "r3: \n",
        "delta_i: -6234975.24221\n",
        "r3: "
       ]
      },
      {
       "output_type": "stream",
       "stream": "stdout",
       "text": [
        "\n",
        "delta_i: -6254800.28273\n",
        "r3: "
       ]
      },
      {
       "output_type": "stream",
       "stream": "stdout",
       "text": [
        "\n",
        "delta_i: -6274625.32325\n",
        "r3: "
       ]
      },
      {
       "output_type": "stream",
       "stream": "stdout",
       "text": [
        "\n",
        "delta_i: -6294450.36376\n",
        "r3: \n",
        "delta_i: -6314275.40428\n",
        "r3: "
       ]
      },
      {
       "output_type": "stream",
       "stream": "stdout",
       "text": [
        "\n",
        "delta_i: -6334100.44479\n",
        "r3: \n",
        "delta_i: -6353925.48531\n",
        "r3: "
       ]
      },
      {
       "output_type": "stream",
       "stream": "stdout",
       "text": [
        "\n",
        "delta_i: -6373750.52583\n",
        "r3: \n",
        "delta_i: -6393575.56634\n",
        "r3: "
       ]
      },
      {
       "output_type": "stream",
       "stream": "stdout",
       "text": [
        "\n",
        "delta_i: -6413400.60686\n",
        "r3: \n",
        "delta_i: -6433225.64737\n",
        "r3: "
       ]
      },
      {
       "output_type": "stream",
       "stream": "stdout",
       "text": [
        "\n",
        "delta_i: -6453050.68789\n",
        "r3: \n",
        "delta_i: -6472875.7284\n",
        "r3: "
       ]
      },
      {
       "output_type": "stream",
       "stream": "stdout",
       "text": [
        "\n",
        "delta_i: -6492700.76892\n",
        "r3: \n",
        "delta_i: -6512525.80944\n",
        "r3: "
       ]
      },
      {
       "output_type": "stream",
       "stream": "stdout",
       "text": [
        "\n",
        "delta_i: -6532350.84995\n",
        "r3: \n",
        "delta_i: -6552175.89047\n",
        "r3: "
       ]
      },
      {
       "output_type": "stream",
       "stream": "stdout",
       "text": [
        "\n",
        "delta_i: -6572000.93098\n",
        "r3: "
       ]
      },
      {
       "output_type": "stream",
       "stream": "stdout",
       "text": [
        "\n",
        "delta_i: -6591825.9715\n",
        "r3: "
       ]
      },
      {
       "output_type": "stream",
       "stream": "stdout",
       "text": [
        "\n",
        "delta_i: -6611651.01201\n",
        "r3: \n",
        "delta_i: -6631476.05253\n",
        "r3: "
       ]
      },
      {
       "output_type": "stream",
       "stream": "stdout",
       "text": [
        "\n",
        "delta_i: -6651301.09305\n",
        "r3: "
       ]
      },
      {
       "output_type": "stream",
       "stream": "stdout",
       "text": [
        "\n",
        "delta_i: -6671126.13356\n",
        "r3: \n",
        "delta_i: -6690951.17408\n",
        "r3: "
       ]
      },
      {
       "output_type": "stream",
       "stream": "stdout",
       "text": [
        "\n",
        "delta_i: -6710776.21459\n",
        "r3: "
       ]
      },
      {
       "output_type": "stream",
       "stream": "stdout",
       "text": [
        "\n",
        "delta_i: -6730601.25511\n",
        "r3: \n",
        "delta_i: -6750426.29563\n",
        "r3: "
       ]
      },
      {
       "output_type": "stream",
       "stream": "stdout",
       "text": [
        "\n",
        "delta_i: -6770251.33614\n",
        "r3: \n",
        "delta_i: -6790076.37666\n",
        "r3: "
       ]
      },
      {
       "output_type": "stream",
       "stream": "stdout",
       "text": [
        "\n",
        "delta_i: -6809901.41717\n",
        "r3: "
       ]
      },
      {
       "output_type": "stream",
       "stream": "stdout",
       "text": [
        "\n",
        "delta_i: -6829726.45769\n",
        "r3: \n",
        "delta_i: -6849551.4982\n",
        "r3: "
       ]
      },
      {
       "output_type": "stream",
       "stream": "stdout",
       "text": [
        "\n",
        "delta_i: -6869376.53872\n",
        "r3: "
       ]
      },
      {
       "output_type": "stream",
       "stream": "stdout",
       "text": [
        "\n",
        "delta_i: -6889201.57924\n",
        "r3: \n",
        "delta_i: -6909026.61975\n",
        "r3: "
       ]
      },
      {
       "output_type": "stream",
       "stream": "stdout",
       "text": [
        "\n",
        "delta_i: -6928851.66027\n",
        "r3: \n",
        "delta_i: -6948676.70078"
       ]
      },
      {
       "output_type": "stream",
       "stream": "stdout",
       "text": [
        "\n",
        "r3: \n",
        "delta_i: -6968501.7413\n",
        "r3: "
       ]
      },
      {
       "output_type": "stream",
       "stream": "stdout",
       "text": [
        "\n",
        "delta_i: -6988326.78181\n",
        "r3: \n",
        "delta_i: -7008151.82233\n",
        "r3: "
       ]
      },
      {
       "output_type": "stream",
       "stream": "stdout",
       "text": [
        "\n",
        "delta_i: -7027976.86285\n",
        "r3: \n",
        "delta_i: -7047801.90336\n",
        "r3: "
       ]
      },
      {
       "output_type": "stream",
       "stream": "stdout",
       "text": [
        "\n",
        "delta_i: -7067626.94388\n",
        "r3: \n",
        "delta_i: -7087451.98439\n",
        "r3: "
       ]
      },
      {
       "output_type": "stream",
       "stream": "stdout",
       "text": [
        "\n",
        "delta_i: -7107277.02491\n",
        "r3: \n",
        "delta_i: -7127102.06543\n",
        "r3: "
       ]
      },
      {
       "output_type": "stream",
       "stream": "stdout",
       "text": [
        "\n",
        "delta_i: -7146927.10594\n",
        "r3: "
       ]
      },
      {
       "output_type": "stream",
       "stream": "stdout",
       "text": [
        "\n",
        "delta_i: -7166752.14646\n",
        "r3: \n",
        "delta_i: -7186577.18697\n",
        "r3: "
       ]
      },
      {
       "output_type": "stream",
       "stream": "stdout",
       "text": [
        "\n",
        "delta_i: -7206402.22749\n",
        "r3: \n",
        "delta_i: -7226227.268\n",
        "r3: "
       ]
      },
      {
       "output_type": "stream",
       "stream": "stdout",
       "text": [
        "\n",
        "delta_i: -7246052.30852\n",
        "r3: \n",
        "delta_i: -7265877.34904\n",
        "r3: "
       ]
      },
      {
       "output_type": "stream",
       "stream": "stdout",
       "text": [
        "\n",
        "delta_i: -7285702.38955\n",
        "r3: \n",
        "delta_i: -7305527.43007\n",
        "r3: "
       ]
      },
      {
       "output_type": "stream",
       "stream": "stdout",
       "text": [
        "\n",
        "delta_i: -7325352.47058\n",
        "r3: \n",
        "delta_i: -7345177.5111\n",
        "r3: "
       ]
      },
      {
       "output_type": "stream",
       "stream": "stdout",
       "text": [
        "\n",
        "delta_i: -7365002.55161\n",
        "r3: \n",
        "delta_i: -7384827.59213\n",
        "r3: "
       ]
      },
      {
       "output_type": "stream",
       "stream": "stdout",
       "text": [
        "\n",
        "delta_i: -7404652.63265\n",
        "r3: "
       ]
      },
      {
       "output_type": "stream",
       "stream": "stdout",
       "text": [
        "\n",
        "delta_i: -7424477.67316\n",
        "r3: "
       ]
      },
      {
       "output_type": "stream",
       "stream": "stdout",
       "text": [
        "\n",
        "delta_i: -7444302.71368\n",
        "r3: "
       ]
      },
      {
       "output_type": "stream",
       "stream": "stdout",
       "text": [
        "\n",
        "delta_i: -7464127.75419\n",
        "r3: "
       ]
      },
      {
       "output_type": "stream",
       "stream": "stdout",
       "text": [
        "\n",
        "delta_i: -7483952.79471\n",
        "r3: "
       ]
      },
      {
       "output_type": "stream",
       "stream": "stdout",
       "text": [
        "\n",
        "delta_i: -7503777.83522\n",
        "r3: "
       ]
      },
      {
       "output_type": "stream",
       "stream": "stdout",
       "text": [
        "\n",
        "delta_i: -7523602.87574\n",
        "r3: \n",
        "delta_i: -7543427.91626\n",
        "r3: "
       ]
      },
      {
       "output_type": "stream",
       "stream": "stdout",
       "text": [
        "\n",
        "delta_i: -7563252.95677\n",
        "r3: \n",
        "delta_i: -7583077.99729\n",
        "r3: "
       ]
      },
      {
       "output_type": "stream",
       "stream": "stdout",
       "text": [
        "\n",
        "delta_i: -7602903.0378\n",
        "r3: \n",
        "delta_i: -7622728.07832\n",
        "r3: "
       ]
      },
      {
       "output_type": "stream",
       "stream": "stdout",
       "text": [
        "\n",
        "delta_i: -7642553.11884\n",
        "r3: "
       ]
      },
      {
       "output_type": "stream",
       "stream": "stdout",
       "text": [
        "\n",
        "delta_i: -7662378.15935\n",
        "r3: \n",
        "delta_i: -7682203.19987\n",
        "r3: "
       ]
      },
      {
       "output_type": "stream",
       "stream": "stdout",
       "text": [
        "\n",
        "delta_i: -7702028.24038\n",
        "r3: \n",
        "delta_i: -7721853.2809\n",
        "r3: "
       ]
      },
      {
       "output_type": "stream",
       "stream": "stdout",
       "text": [
        "\n",
        "delta_i: -7741678.32141\n",
        "r3: "
       ]
      },
      {
       "output_type": "stream",
       "stream": "stdout",
       "text": [
        "\n",
        "delta_i: -7761503.36193\n",
        "r3: \n",
        "delta_i: -7781328.40245\n",
        "r3: "
       ]
      },
      {
       "output_type": "stream",
       "stream": "stdout",
       "text": [
        "\n",
        "delta_i: -7801153.44296\n",
        "r3: \n",
        "delta_i: -7820978.48348\n",
        "r3: "
       ]
      },
      {
       "output_type": "stream",
       "stream": "stdout",
       "text": [
        "\n",
        "delta_i: -7840803.52399\n",
        "r3: "
       ]
      },
      {
       "output_type": "stream",
       "stream": "stdout",
       "text": [
        "\n",
        "delta_i: -7860628.56451\n",
        "r3: \n",
        "delta_i: -7880453.60502\n",
        "r3: "
       ]
      },
      {
       "output_type": "stream",
       "stream": "stdout",
       "text": [
        "\n",
        "delta_i: -7900278.64554\n",
        "r3: "
       ]
      },
      {
       "output_type": "stream",
       "stream": "stdout",
       "text": [
        "\n",
        "delta_i: -7920103.68606\n",
        "r3: \n",
        "delta_i: -7939928.72657\n",
        "r3: "
       ]
      },
      {
       "output_type": "stream",
       "stream": "stdout",
       "text": [
        "\n",
        "delta_i: -7959753.76709\n",
        "r3: \n",
        "delta_i: -7979578.8076\n",
        "r3: "
       ]
      },
      {
       "output_type": "stream",
       "stream": "stdout",
       "text": [
        "\n",
        "delta_i: -7999403.84812\n",
        "r3: \n",
        "delta_i: -8019228.88864\n",
        "r3: "
       ]
      },
      {
       "output_type": "stream",
       "stream": "stdout",
       "text": [
        "\n",
        "delta_i: -8039053.92915\n",
        "r3: \n",
        "delta_i: -8058878.96967\n",
        "r3: "
       ]
      },
      {
       "output_type": "stream",
       "stream": "stdout",
       "text": [
        "\n",
        "delta_i: -8078704.01018\n",
        "r3: \n",
        "delta_i: -8098529.0507\n",
        "r3: "
       ]
      },
      {
       "output_type": "stream",
       "stream": "stdout",
       "text": [
        "\n",
        "delta_i: -8118354.09121\n",
        "r3: \n",
        "delta_i: -8138179.13173\n",
        "r3: "
       ]
      },
      {
       "output_type": "stream",
       "stream": "stdout",
       "text": [
        "\n",
        "delta_i: -8158004.17225\n",
        "r3: \n",
        "delta_i: -8177829.21276\n",
        "r3: "
       ]
      },
      {
       "output_type": "stream",
       "stream": "stdout",
       "text": [
        "\n",
        "delta_i: -8197654.25328\n",
        "r3: \n",
        "delta_i: -8217479.29379\n",
        "r3: "
       ]
      },
      {
       "output_type": "stream",
       "stream": "stdout",
       "text": [
        "\n",
        "delta_i: -8237304.33431\n",
        "r3: \n",
        "delta_i: -8257129.37482\n",
        "r3: "
       ]
      },
      {
       "output_type": "stream",
       "stream": "stdout",
       "text": [
        "\n",
        "delta_i: -8276954.41534\n",
        "r3: \n",
        "delta_i: -8296779.45586\n",
        "r3: "
       ]
      },
      {
       "output_type": "stream",
       "stream": "stdout",
       "text": [
        "\n",
        "delta_i: -8316604.49637\n",
        "r3: \n",
        "delta_i: -8336429.53689\n",
        "r3: "
       ]
      },
      {
       "output_type": "stream",
       "stream": "stdout",
       "text": [
        "\n",
        "delta_i: -8356254.5774\n",
        "r3: "
       ]
      },
      {
       "output_type": "stream",
       "stream": "stdout",
       "text": [
        "\n",
        "delta_i: -8376079.61792\n",
        "r3: "
       ]
      },
      {
       "output_type": "stream",
       "stream": "stdout",
       "text": [
        "\n",
        "delta_i: -8395904.65844\n",
        "r3: "
       ]
      },
      {
       "output_type": "stream",
       "stream": "stdout",
       "text": [
        "\n",
        "delta_i: -8415729.69895\n",
        "r3: "
       ]
      },
      {
       "output_type": "stream",
       "stream": "stdout",
       "text": [
        "\n",
        "delta_i: -8435554.73947\n",
        "r3: "
       ]
      },
      {
       "output_type": "stream",
       "stream": "stdout",
       "text": [
        "\n",
        "delta_i: -8455379.77998\n",
        "r3: "
       ]
      },
      {
       "output_type": "stream",
       "stream": "stdout",
       "text": [
        "\n",
        "delta_i: -8475204.8205\n",
        "r3: \n",
        "delta_i: -8495029.86101\n",
        "r3: "
       ]
      },
      {
       "output_type": "stream",
       "stream": "stdout",
       "text": [
        "\n",
        "delta_i: -8514854.90153\n",
        "r3: \n",
        "delta_i: -8534679.94205\n",
        "r3: "
       ]
      },
      {
       "output_type": "stream",
       "stream": "stdout",
       "text": [
        "\n",
        "delta_i: -8554504.98256\n",
        "r3: \n",
        "delta_i: -8574330.02308\n",
        "r3: "
       ]
      },
      {
       "output_type": "stream",
       "stream": "stdout",
       "text": [
        "\n",
        "delta_i: -8594155.06359\n",
        "r3: \n",
        "delta_i: -8613980.10411\n",
        "r3: "
       ]
      },
      {
       "output_type": "stream",
       "stream": "stdout",
       "text": [
        "\n",
        "delta_i: -8633805.14462\n",
        "r3: \n",
        "delta_i: -8653630.18514\n",
        "r3: "
       ]
      },
      {
       "output_type": "stream",
       "stream": "stdout",
       "text": [
        "\n",
        "delta_i: -8673455.22566\n",
        "r3: "
       ]
      },
      {
       "output_type": "stream",
       "stream": "stdout",
       "text": [
        "\n",
        "delta_i: -8693280.26617\n",
        "r3: \n",
        "delta_i: -8713105.30669\n",
        "r3: "
       ]
      },
      {
       "output_type": "stream",
       "stream": "stdout",
       "text": [
        "\n",
        "delta_i: -8732930.3472\n",
        "r3: "
       ]
      },
      {
       "output_type": "stream",
       "stream": "stdout",
       "text": [
        "\n",
        "delta_i: -8752755.38772\n",
        "r3: "
       ]
      },
      {
       "output_type": "stream",
       "stream": "stdout",
       "text": [
        "\n",
        "delta_i: -8772580.42824\n",
        "r3: "
       ]
      },
      {
       "output_type": "stream",
       "stream": "stdout",
       "text": [
        "\n",
        "delta_i: -8792405.46875\n",
        "r3: \n",
        "delta_i: -8812230.50927\n",
        "r3: "
       ]
      },
      {
       "output_type": "stream",
       "stream": "stdout",
       "text": [
        "\n",
        "delta_i: -8832055.54978\n",
        "r3: "
       ]
      },
      {
       "output_type": "stream",
       "stream": "stdout",
       "text": [
        "\n",
        "delta_i: -8851880.5903\n",
        "r3: \n",
        "delta_i: -8871705.63081\n",
        "r3: "
       ]
      },
      {
       "output_type": "stream",
       "stream": "stdout",
       "text": [
        "\n",
        "delta_i: -8891530.67133\n",
        "r3: "
       ]
      },
      {
       "output_type": "stream",
       "stream": "stdout",
       "text": [
        "\n",
        "delta_i: -8911355.71185\n",
        "r3: \n",
        "delta_i: -8931180.75236\n",
        "r3: "
       ]
      },
      {
       "output_type": "stream",
       "stream": "stdout",
       "text": [
        "\n",
        "delta_i: -8951005.79288\n",
        "r3: \n",
        "delta_i: -8970830.83339\n",
        "r3: "
       ]
      },
      {
       "output_type": "stream",
       "stream": "stdout",
       "text": [
        "\n",
        "delta_i: -8990655.87391\n",
        "r3: \n",
        "delta_i: -9010480.91442\n",
        "r3: "
       ]
      },
      {
       "output_type": "stream",
       "stream": "stdout",
       "text": [
        "\n",
        "delta_i: -9030305.95494\n",
        "r3: \n",
        "delta_i: -9050130.99546\n",
        "r3: "
       ]
      },
      {
       "output_type": "stream",
       "stream": "stdout",
       "text": [
        "\n",
        "delta_i: -9069956.03597\n",
        "r3: \n",
        "delta_i: -9089781.07649\n",
        "r3: "
       ]
      },
      {
       "output_type": "stream",
       "stream": "stdout",
       "text": [
        "\n",
        "delta_i: -9109606.117\n",
        "r3: "
       ]
      },
      {
       "output_type": "stream",
       "stream": "stdout",
       "text": [
        "\n",
        "delta_i: -9129431.15752\n",
        "r3: \n",
        "delta_i: -9149256.19804\n",
        "r3: "
       ]
      },
      {
       "output_type": "stream",
       "stream": "stdout",
       "text": [
        "\n",
        "delta_i: -9169081.23855\n",
        "r3: "
       ]
      },
      {
       "output_type": "stream",
       "stream": "stdout",
       "text": [
        "\n",
        "delta_i: -9188906.27907\n",
        "r3: "
       ]
      },
      {
       "output_type": "stream",
       "stream": "stdout",
       "text": [
        "\n",
        "delta_i: -9208731.31958\n",
        "r3: "
       ]
      },
      {
       "output_type": "stream",
       "stream": "stdout",
       "text": [
        "\n",
        "delta_i: -9228556.3601\n",
        "r3: "
       ]
      },
      {
       "output_type": "stream",
       "stream": "stdout",
       "text": [
        "\n",
        "delta_i: -9248381.40061\n",
        "r3: \n",
        "delta_i: -9268206.44113\n",
        "r3: "
       ]
      },
      {
       "output_type": "stream",
       "stream": "stdout",
       "text": [
        "\n",
        "delta_i: -9288031.48165\n",
        "r3: \n",
        "delta_i: -9307856.52216\n",
        "r3: "
       ]
      },
      {
       "output_type": "stream",
       "stream": "stdout",
       "text": [
        "\n",
        "delta_i: -9327681.56268\n",
        "r3: \n",
        "delta_i: -9347506.60319\n",
        "r3: "
       ]
      },
      {
       "output_type": "stream",
       "stream": "stdout",
       "text": [
        "\n",
        "delta_i: -9367331.64371\n",
        "r3: \n",
        "delta_i: -9387156.68422\n",
        "r3: "
       ]
      },
      {
       "output_type": "stream",
       "stream": "stdout",
       "text": [
        "\n",
        "delta_i: -9406981.72474\n",
        "r3: \n",
        "delta_i: -9426806.76526\n",
        "r3: "
       ]
      },
      {
       "output_type": "stream",
       "stream": "stdout",
       "text": [
        "\n",
        "delta_i: -9446631.80577\n",
        "r3: \n",
        "delta_i: -9466456.84629\n",
        "r3: "
       ]
      },
      {
       "output_type": "stream",
       "stream": "stdout",
       "text": [
        "\n",
        "delta_i: -9486281.8868\n",
        "r3: \n",
        "delta_i: -9506106.92732\n",
        "r3: "
       ]
      },
      {
       "output_type": "stream",
       "stream": "stdout",
       "text": [
        "\n",
        "delta_i: -9525931.96783\n",
        "r3: \n",
        "delta_i: -9545757.00835\n",
        "r3: "
       ]
      },
      {
       "output_type": "stream",
       "stream": "stdout",
       "text": [
        "\n",
        "delta_i: -9565582.04887\n",
        "r3: \n",
        "delta_i: -9585407.08938\n",
        "r3: "
       ]
      },
      {
       "output_type": "stream",
       "stream": "stdout",
       "text": [
        "\n",
        "delta_i: -9605232.1299\n",
        "r3: "
       ]
      },
      {
       "output_type": "stream",
       "stream": "stdout",
       "text": [
        "\n",
        "delta_i: -9625057.17041\n",
        "r3: "
       ]
      },
      {
       "output_type": "stream",
       "stream": "stdout",
       "text": [
        "\n",
        "delta_i: -9644882.21093\n",
        "r3: \n",
        "delta_i: -9664707.25145\n",
        "r3: "
       ]
      },
      {
       "output_type": "stream",
       "stream": "stdout",
       "text": [
        "\n",
        "delta_i: -9684532.29196\n",
        "r3: "
       ]
      },
      {
       "output_type": "stream",
       "stream": "stdout",
       "text": [
        "\n",
        "delta_i: -9704357.33248\n",
        "r3: "
       ]
      },
      {
       "output_type": "stream",
       "stream": "stdout",
       "text": [
        "\n",
        "delta_i: -9724182.37299\n",
        "r3: "
       ]
      },
      {
       "output_type": "stream",
       "stream": "stdout",
       "text": [
        "\n",
        "delta_i: -9744007.41351\n",
        "r3: \n",
        "delta_i: -9763832.45402\n",
        "r3: "
       ]
      },
      {
       "output_type": "stream",
       "stream": "stdout",
       "text": [
        "\n",
        "delta_i: -9783657.49454\n",
        "r3: "
       ]
      },
      {
       "output_type": "stream",
       "stream": "stdout",
       "text": [
        "\n",
        "delta_i: -9803482.53506\n",
        "r3: "
       ]
      },
      {
       "output_type": "stream",
       "stream": "stdout",
       "text": [
        "\n",
        "delta_i: -9823307.57557\n",
        "r3: "
       ]
      },
      {
       "output_type": "stream",
       "stream": "stdout",
       "text": [
        "\n",
        "delta_i: -9843132.61609\n",
        "r3: "
       ]
      },
      {
       "output_type": "stream",
       "stream": "stdout",
       "text": [
        "\n",
        "delta_i: -9862957.6566\n",
        "r3: "
       ]
      },
      {
       "output_type": "stream",
       "stream": "stdout",
       "text": [
        "\n",
        "delta_i: -9882782.69712\n",
        "r3: "
       ]
      },
      {
       "output_type": "stream",
       "stream": "stdout",
       "text": [
        "\n",
        "delta_i: -9902607.73763\n",
        "r3: "
       ]
      },
      {
       "output_type": "stream",
       "stream": "stdout",
       "text": [
        "\n",
        "delta_i: -9922432.77815\n",
        "r3: "
       ]
      },
      {
       "output_type": "stream",
       "stream": "stdout",
       "text": [
        "\n",
        "delta_i: -9942257.81867\n",
        "r3: "
       ]
      },
      {
       "output_type": "stream",
       "stream": "stdout",
       "text": [
        "\n",
        "delta_i: -9962082.85918\n",
        "r3: \n",
        "delta_i: -9981907.8997\n",
        "r3: "
       ]
      },
      {
       "output_type": "stream",
       "stream": "stdout",
       "text": [
        "\n",
        "delta_i: -10001732.9402\n",
        "r3: "
       ]
      },
      {
       "output_type": "stream",
       "stream": "stdout",
       "text": [
        "\n",
        "delta_i: -10021557.9807\n",
        "r3: "
       ]
      },
      {
       "output_type": "stream",
       "stream": "stdout",
       "text": [
        "\n",
        "delta_i: -10041383.0212\n",
        "r3: "
       ]
      },
      {
       "output_type": "stream",
       "stream": "stdout",
       "text": [
        "\n",
        "delta_i: -10061208.0618\n",
        "r3: "
       ]
      },
      {
       "output_type": "stream",
       "stream": "stdout",
       "text": [
        "\n",
        "delta_i: -10081033.1023\n",
        "r3: "
       ]
      },
      {
       "output_type": "stream",
       "stream": "stdout",
       "text": [
        "\n",
        "delta_i: -10100858.1428\n",
        "r3: "
       ]
      },
      {
       "output_type": "stream",
       "stream": "stdout",
       "text": [
        "\n",
        "delta_i: -10120683.1833\n",
        "r3: "
       ]
      },
      {
       "output_type": "stream",
       "stream": "stdout",
       "text": [
        "\n",
        "delta_i: -10140508.2238\n",
        "r3: "
       ]
      },
      {
       "output_type": "stream",
       "stream": "stdout",
       "text": [
        "\n",
        "delta_i: -10160333.2643\n",
        "r3: "
       ]
      },
      {
       "output_type": "stream",
       "stream": "stdout",
       "text": [
        "\n",
        "delta_i: -10180158.3049\n",
        "r3: \n",
        "delta_i: -10199983.3454\n",
        "r3: "
       ]
      },
      {
       "output_type": "stream",
       "stream": "stdout",
       "text": [
        "\n",
        "delta_i: -10219808.3859\n",
        "r3: "
       ]
      },
      {
       "output_type": "stream",
       "stream": "stdout",
       "text": [
        "\n",
        "delta_i: -10239633.4264\n",
        "r3: "
       ]
      },
      {
       "output_type": "stream",
       "stream": "stdout",
       "text": [
        "\n",
        "delta_i: -10259458.4669\n",
        "r3: "
       ]
      },
      {
       "output_type": "stream",
       "stream": "stdout",
       "text": [
        "\n",
        "delta_i: -10279283.5074\n",
        "r3: "
       ]
      },
      {
       "output_type": "stream",
       "stream": "stdout",
       "text": [
        "\n",
        "delta_i: -10299108.548\n",
        "r3: "
       ]
      },
      {
       "output_type": "stream",
       "stream": "stdout",
       "text": [
        "\n",
        "delta_i: -10318933.5885\n",
        "r3: "
       ]
      },
      {
       "output_type": "stream",
       "stream": "stdout",
       "text": [
        "\n",
        "delta_i: -10338758.629\n",
        "r3: "
       ]
      },
      {
       "output_type": "stream",
       "stream": "stdout",
       "text": [
        "\n",
        "delta_i: -10358583.6695\n",
        "r3: "
       ]
      },
      {
       "output_type": "stream",
       "stream": "stdout",
       "text": [
        "\n",
        "delta_i: -10378408.71\n",
        "r3: "
       ]
      },
      {
       "output_type": "stream",
       "stream": "stdout",
       "text": [
        "\n",
        "delta_i: -10398233.7505\n",
        "r3: "
       ]
      },
      {
       "output_type": "stream",
       "stream": "stdout",
       "text": [
        "\n",
        "delta_i: -10418058.791\n",
        "r3: "
       ]
      },
      {
       "output_type": "stream",
       "stream": "stdout",
       "text": [
        "\n",
        "delta_i: -10437883.8316\n",
        "r3: "
       ]
      },
      {
       "output_type": "stream",
       "stream": "stdout",
       "text": [
        "\n",
        "delta_i: -10457708.8721\n",
        "r3: "
       ]
      },
      {
       "output_type": "stream",
       "stream": "stdout",
       "text": [
        "\n",
        "delta_i: -10477533.9126\n",
        "r3: "
       ]
      },
      {
       "output_type": "stream",
       "stream": "stdout",
       "text": [
        "\n",
        "delta_i: -10497358.9531\n",
        "r3: "
       ]
      },
      {
       "output_type": "stream",
       "stream": "stdout",
       "text": [
        "\n",
        "delta_i: -10517183.9936\n",
        "r3: "
       ]
      },
      {
       "output_type": "stream",
       "stream": "stdout",
       "text": [
        "\n",
        "delta_i: -10537009.0341\n",
        "r3: "
       ]
      },
      {
       "output_type": "stream",
       "stream": "stdout",
       "text": [
        "\n",
        "delta_i: -10556834.0747\n",
        "r3: "
       ]
      },
      {
       "output_type": "stream",
       "stream": "stdout",
       "text": [
        "\n",
        "delta_i: -10576659.1152\n",
        "r3: "
       ]
      },
      {
       "output_type": "stream",
       "stream": "stdout",
       "text": [
        "\n",
        "delta_i: -10596484.1557\n",
        "r3: "
       ]
      },
      {
       "output_type": "stream",
       "stream": "stdout",
       "text": [
        "\n",
        "delta_i: -10616309.1962\n",
        "r3: "
       ]
      },
      {
       "output_type": "stream",
       "stream": "stdout",
       "text": [
        "\n",
        "delta_i: -10636134.2367\n",
        "r3: "
       ]
      },
      {
       "output_type": "stream",
       "stream": "stdout",
       "text": [
        "\n",
        "delta_i: -10655959.2772\n",
        "r3: "
       ]
      },
      {
       "output_type": "stream",
       "stream": "stdout",
       "text": [
        "\n",
        "delta_i: -10675784.3178\n",
        "r3: "
       ]
      },
      {
       "output_type": "stream",
       "stream": "stdout",
       "text": [
        "\n",
        "delta_i: -10695609.3583\n",
        "r3: "
       ]
      },
      {
       "output_type": "stream",
       "stream": "stdout",
       "text": [
        "\n",
        "delta_i: -10715434.3988\n",
        "r3: "
       ]
      },
      {
       "output_type": "stream",
       "stream": "stdout",
       "text": [
        "\n",
        "delta_i: -10735259.4393\n",
        "r3: "
       ]
      },
      {
       "output_type": "stream",
       "stream": "stdout",
       "text": [
        "\n",
        "delta_i: -10755084.4798\n",
        "r3: "
       ]
      },
      {
       "output_type": "stream",
       "stream": "stdout",
       "text": [
        "\n",
        "delta_i: -10774909.5203\n",
        "r3: "
       ]
      },
      {
       "output_type": "stream",
       "stream": "stdout",
       "text": [
        "\n",
        "delta_i: -10794734.5608\n",
        "r3: "
       ]
      },
      {
       "output_type": "stream",
       "stream": "stdout",
       "text": [
        "\n",
        "delta_i: -10814559.6014\n",
        "r3: "
       ]
      },
      {
       "output_type": "stream",
       "stream": "stdout",
       "text": [
        "\n",
        "delta_i: -10834384.6419\n",
        "r3: "
       ]
      },
      {
       "output_type": "stream",
       "stream": "stdout",
       "text": [
        "\n",
        "delta_i: -10854209.6824\n",
        "r3: "
       ]
      },
      {
       "output_type": "stream",
       "stream": "stdout",
       "text": [
        "\n",
        "delta_i: -10874034.7229\n",
        "r3: "
       ]
      },
      {
       "output_type": "stream",
       "stream": "stdout",
       "text": [
        "\n",
        "delta_i: -10893859.7634\n",
        "r3: "
       ]
      },
      {
       "output_type": "stream",
       "stream": "stdout",
       "text": [
        "\n",
        "delta_i: -10913684.8039\n",
        "r3: "
       ]
      },
      {
       "output_type": "stream",
       "stream": "stdout",
       "text": [
        "\n",
        "delta_i: -10933509.8445\n",
        "r3: "
       ]
      },
      {
       "output_type": "stream",
       "stream": "stdout",
       "text": [
        "\n",
        "delta_i: -10953334.885\n",
        "r3: "
       ]
      },
      {
       "output_type": "stream",
       "stream": "stdout",
       "text": [
        "\n",
        "delta_i: -10973159.9255\n",
        "r3: "
       ]
      },
      {
       "output_type": "stream",
       "stream": "stdout",
       "text": [
        "\n",
        "delta_i: -10992984.966\n",
        "r3: "
       ]
      },
      {
       "output_type": "stream",
       "stream": "stdout",
       "text": [
        "\n",
        "delta_i: -11012810.0065\n",
        "r3: "
       ]
      },
      {
       "output_type": "stream",
       "stream": "stdout",
       "text": [
        "\n",
        "delta_i: -11032635.047\n",
        "r3: "
       ]
      },
      {
       "output_type": "stream",
       "stream": "stdout",
       "text": [
        "\n",
        "delta_i: -11052460.0876\n",
        "r3: "
       ]
      },
      {
       "output_type": "stream",
       "stream": "stdout",
       "text": [
        "\n",
        "delta_i: -11072285.1281\n",
        "r3: "
       ]
      },
      {
       "output_type": "stream",
       "stream": "stdout",
       "text": [
        "\n",
        "delta_i: -11092110.1686\n",
        "r3: "
       ]
      },
      {
       "output_type": "stream",
       "stream": "stdout",
       "text": [
        "\n",
        "delta_i: -11111935.2091\n",
        "r3: "
       ]
      },
      {
       "output_type": "stream",
       "stream": "stdout",
       "text": [
        "\n",
        "delta_i: -11131760.2496\n",
        "r3: "
       ]
      },
      {
       "output_type": "stream",
       "stream": "stdout",
       "text": [
        "\n",
        "delta_i: -11151585.2901\n",
        "r3: "
       ]
      },
      {
       "output_type": "stream",
       "stream": "stdout",
       "text": [
        "\n",
        "delta_i: -11171410.3306\n",
        "r3: "
       ]
      },
      {
       "output_type": "stream",
       "stream": "stdout",
       "text": [
        "\n",
        "delta_i: -11191235.3712\n",
        "r3: "
       ]
      },
      {
       "output_type": "stream",
       "stream": "stdout",
       "text": [
        "\n",
        "delta_i: -11211060.4117\n",
        "r3: "
       ]
      },
      {
       "output_type": "stream",
       "stream": "stdout",
       "text": [
        "\n",
        "delta_i: -11230885.4522\n",
        "r3: "
       ]
      },
      {
       "output_type": "stream",
       "stream": "stdout",
       "text": [
        "\n",
        "delta_i: -11250710.4927\n",
        "r3: "
       ]
      },
      {
       "output_type": "stream",
       "stream": "stdout",
       "text": [
        "\n",
        "delta_i: -11270535.5332\n",
        "r3: "
       ]
      },
      {
       "output_type": "stream",
       "stream": "stdout",
       "text": [
        "\n",
        "delta_i: -11290360.5737\n",
        "r3: "
       ]
      },
      {
       "output_type": "stream",
       "stream": "stdout",
       "text": [
        "\n",
        "delta_i: -11310185.6143\n",
        "r3: "
       ]
      },
      {
       "output_type": "stream",
       "stream": "stdout",
       "text": [
        "\n",
        "delta_i: -11330010.6548\n",
        "r3: "
       ]
      },
      {
       "output_type": "stream",
       "stream": "stdout",
       "text": [
        "\n",
        "delta_i: -11349835.6953\n",
        "r3: "
       ]
      },
      {
       "output_type": "stream",
       "stream": "stdout",
       "text": [
        "\n",
        "delta_i: -11369660.7358\n",
        "r3: "
       ]
      },
      {
       "output_type": "stream",
       "stream": "stdout",
       "text": [
        "\n",
        "delta_i: -11389485.7763\n",
        "r3: "
       ]
      },
      {
       "output_type": "stream",
       "stream": "stdout",
       "text": [
        "\n",
        "delta_i: -11409310.8168\n",
        "r3: "
       ]
      },
      {
       "output_type": "stream",
       "stream": "stdout",
       "text": [
        "\n",
        "delta_i: -11429135.8574\n",
        "r3: "
       ]
      },
      {
       "output_type": "stream",
       "stream": "stdout",
       "text": [
        "\n",
        "delta_i: -11448960.8979\n",
        "r3: "
       ]
      },
      {
       "output_type": "stream",
       "stream": "stdout",
       "text": [
        "\n",
        "delta_i: -11468785.9384\n",
        "r3: "
       ]
      },
      {
       "output_type": "stream",
       "stream": "stdout",
       "text": [
        "\n",
        "delta_i: -11488610.9789\n",
        "r3: "
       ]
      },
      {
       "output_type": "stream",
       "stream": "stdout",
       "text": [
        "\n",
        "delta_i: -11508436.0194\n",
        "r3: "
       ]
      },
      {
       "output_type": "stream",
       "stream": "stdout",
       "text": [
        "\n",
        "delta_i: -11528261.0599\n",
        "r3: "
       ]
      },
      {
       "output_type": "stream",
       "stream": "stdout",
       "text": [
        "\n",
        "delta_i: -11548086.1004\n",
        "r3: "
       ]
      },
      {
       "output_type": "stream",
       "stream": "stdout",
       "text": [
        "\n",
        "delta_i: -11567911.141\n",
        "r3: "
       ]
      },
      {
       "output_type": "stream",
       "stream": "stdout",
       "text": [
        "\n",
        "delta_i: -11587736.1815\n",
        "r3: "
       ]
      },
      {
       "output_type": "stream",
       "stream": "stdout",
       "text": [
        "\n",
        "delta_i: -11607561.222\n",
        "r3: "
       ]
      },
      {
       "output_type": "stream",
       "stream": "stdout",
       "text": [
        "\n",
        "delta_i: -11627386.2625\n",
        "r3: "
       ]
      },
      {
       "output_type": "stream",
       "stream": "stdout",
       "text": [
        "\n",
        "delta_i: -11647211.303\n",
        "r3: "
       ]
      },
      {
       "output_type": "stream",
       "stream": "stdout",
       "text": [
        "\n",
        "delta_i: -11667036.3435\n",
        "r3: "
       ]
      },
      {
       "output_type": "stream",
       "stream": "stdout",
       "text": [
        "\n",
        "delta_i: -11686861.3841\n",
        "r3: "
       ]
      },
      {
       "output_type": "stream",
       "stream": "stdout",
       "text": [
        "\n",
        "delta_i: -11706686.4246\n",
        "r3: "
       ]
      },
      {
       "output_type": "stream",
       "stream": "stdout",
       "text": [
        "\n",
        "delta_i: -11726511.4651\n",
        "r3: "
       ]
      },
      {
       "output_type": "stream",
       "stream": "stdout",
       "text": [
        "\n",
        "delta_i: -11746336.5056\n",
        "r3: "
       ]
      },
      {
       "output_type": "stream",
       "stream": "stdout",
       "text": [
        "\n",
        "delta_i: -11766161.5461\n",
        "r3: "
       ]
      },
      {
       "output_type": "stream",
       "stream": "stdout",
       "text": [
        "\n",
        "delta_i: -11785986.5866\n",
        "r3: "
       ]
      },
      {
       "output_type": "stream",
       "stream": "stdout",
       "text": [
        "\n",
        "delta_i: -11805811.6272\n",
        "r3: "
       ]
      },
      {
       "output_type": "stream",
       "stream": "stdout",
       "text": [
        "\n",
        "delta_i: -11825636.6677\n",
        "r3: "
       ]
      },
      {
       "output_type": "stream",
       "stream": "stdout",
       "text": [
        "\n",
        "delta_i: -11845461.7082\n",
        "r3: "
       ]
      },
      {
       "output_type": "stream",
       "stream": "stdout",
       "text": [
        "\n",
        "delta_i: -11865286.7487\n",
        "r3: "
       ]
      },
      {
       "output_type": "stream",
       "stream": "stdout",
       "text": [
        "\n",
        "delta_i: -11885111.7892\n",
        "r3: "
       ]
      },
      {
       "output_type": "stream",
       "stream": "stdout",
       "text": [
        "\n",
        "delta_i: -11904936.8297\n",
        "r3: "
       ]
      },
      {
       "output_type": "stream",
       "stream": "stdout",
       "text": [
        "\n",
        "delta_i: -11924761.8702\n",
        "r3: "
       ]
      },
      {
       "output_type": "stream",
       "stream": "stdout",
       "text": [
        "\n",
        "delta_i: -11944586.9108\n",
        "r3: "
       ]
      },
      {
       "output_type": "stream",
       "stream": "stdout",
       "text": [
        "\n",
        "delta_i: -11964411.9513\n",
        "r3: "
       ]
      },
      {
       "output_type": "stream",
       "stream": "stdout",
       "text": [
        "\n",
        "delta_i: -11984236.9918\n",
        "r3: "
       ]
      },
      {
       "output_type": "stream",
       "stream": "stdout",
       "text": [
        "\n",
        "delta_i: -12004062.0323\n",
        "r3: "
       ]
      },
      {
       "output_type": "stream",
       "stream": "stdout",
       "text": [
        "\n",
        "delta_i: -12023887.0728\n",
        "r3: "
       ]
      },
      {
       "output_type": "stream",
       "stream": "stdout",
       "text": [
        "\n",
        "delta_i: -12043712.1133\n",
        "r3: "
       ]
      },
      {
       "output_type": "stream",
       "stream": "stdout",
       "text": [
        "\n",
        "delta_i: -12063537.1539\n",
        "r3: "
       ]
      },
      {
       "output_type": "stream",
       "stream": "stdout",
       "text": [
        "\n",
        "delta_i: -12083362.1944\n",
        "r3: "
       ]
      },
      {
       "output_type": "stream",
       "stream": "stdout",
       "text": [
        "\n",
        "delta_i: -12103187.2349\n",
        "r3: "
       ]
      },
      {
       "output_type": "stream",
       "stream": "stdout",
       "text": [
        "\n",
        "delta_i: -12123012.2754\n",
        "r3: "
       ]
      },
      {
       "output_type": "stream",
       "stream": "stdout",
       "text": [
        "\n",
        "delta_i: -12142837.3159\n",
        "r3: "
       ]
      },
      {
       "output_type": "stream",
       "stream": "stdout",
       "text": [
        "\n",
        "delta_i: -12162662.3564\n",
        "r3: "
       ]
      },
      {
       "output_type": "stream",
       "stream": "stdout",
       "text": [
        "\n",
        "delta_i: -12182487.397\n",
        "r3: "
       ]
      },
      {
       "output_type": "stream",
       "stream": "stdout",
       "text": [
        "\n",
        "delta_i: -12202312.4375\n",
        "r3: "
       ]
      },
      {
       "output_type": "stream",
       "stream": "stdout",
       "text": [
        "\n",
        "delta_i: -12222137.478\n",
        "r3: "
       ]
      },
      {
       "output_type": "stream",
       "stream": "stdout",
       "text": [
        "\n",
        "delta_i: -12241962.5185\n",
        "r3: "
       ]
      },
      {
       "output_type": "stream",
       "stream": "stdout",
       "text": [
        "\n",
        "delta_i: -12261787.559\n",
        "r3: "
       ]
      },
      {
       "output_type": "stream",
       "stream": "stdout",
       "text": [
        "\n",
        "delta_i: -12281612.5995\n",
        "r3: "
       ]
      },
      {
       "output_type": "stream",
       "stream": "stdout",
       "text": [
        "\n",
        "delta_i: -12301437.64\n",
        "r3: "
       ]
      },
      {
       "output_type": "stream",
       "stream": "stdout",
       "text": [
        "\n",
        "delta_i: -12321262.6806\n",
        "r3: "
       ]
      },
      {
       "output_type": "stream",
       "stream": "stdout",
       "text": [
        "\n",
        "delta_i: -12341087.7211\n",
        "r3: "
       ]
      },
      {
       "output_type": "stream",
       "stream": "stdout",
       "text": [
        "\n",
        "delta_i: -12360912.7616\n",
        "r3: "
       ]
      },
      {
       "output_type": "stream",
       "stream": "stdout",
       "text": [
        "\n",
        "delta_i: -12380737.8021\n",
        "r3: "
       ]
      },
      {
       "output_type": "stream",
       "stream": "stdout",
       "text": [
        "\n",
        "delta_i: -12400562.8426\n",
        "r3: "
       ]
      },
      {
       "output_type": "stream",
       "stream": "stdout",
       "text": [
        "\n",
        "delta_i: -12420387.8831\n",
        "r3: "
       ]
      },
      {
       "output_type": "stream",
       "stream": "stdout",
       "text": [
        "\n",
        "delta_i: -12440212.9237\n",
        "r3: "
       ]
      },
      {
       "output_type": "stream",
       "stream": "stdout",
       "text": [
        "\n",
        "delta_i: -12460037.9642\n",
        "r3: "
       ]
      },
      {
       "output_type": "stream",
       "stream": "stdout",
       "text": [
        "\n",
        "delta_i: -12479863.0047\n",
        "r3: "
       ]
      },
      {
       "output_type": "stream",
       "stream": "stdout",
       "text": [
        "\n",
        "delta_i: -12499688.0452\n",
        "r3: "
       ]
      },
      {
       "output_type": "stream",
       "stream": "stdout",
       "text": [
        "\n",
        "delta_i: -12519513.0857\n",
        "r3: "
       ]
      },
      {
       "output_type": "stream",
       "stream": "stdout",
       "text": [
        "\n",
        "delta_i: -12539338.1262\n",
        "r3: "
       ]
      },
      {
       "output_type": "stream",
       "stream": "stdout",
       "text": [
        "\n",
        "delta_i: -12559163.1667\n",
        "r3: "
       ]
      },
      {
       "output_type": "stream",
       "stream": "stdout",
       "text": [
        "\n",
        "delta_i: -12578988.2073\n",
        "r3: "
       ]
      },
      {
       "output_type": "stream",
       "stream": "stdout",
       "text": [
        "\n",
        "delta_i: -12598813.2478\n",
        "r3: "
       ]
      },
      {
       "output_type": "stream",
       "stream": "stdout",
       "text": [
        "\n",
        "delta_i: -12618638.2883\n",
        "r3: "
       ]
      },
      {
       "output_type": "stream",
       "stream": "stdout",
       "text": [
        "\n",
        "delta_i: -12638463.3288\n",
        "r3: "
       ]
      },
      {
       "output_type": "stream",
       "stream": "stdout",
       "text": [
        "\n",
        "delta_i: -12658288.3693\n",
        "r3: "
       ]
      },
      {
       "output_type": "stream",
       "stream": "stdout",
       "text": [
        "\n",
        "delta_i: -12678113.4098\n",
        "r3: "
       ]
      },
      {
       "output_type": "stream",
       "stream": "stdout",
       "text": [
        "\n",
        "delta_i: -12697938.4504\n",
        "r3: "
       ]
      },
      {
       "output_type": "stream",
       "stream": "stdout",
       "text": [
        "\n",
        "delta_i: -12717763.4909\n",
        "r3: "
       ]
      },
      {
       "output_type": "stream",
       "stream": "stdout",
       "text": [
        "\n",
        "delta_i: -12737588.5314\n",
        "r3: "
       ]
      },
      {
       "output_type": "stream",
       "stream": "stdout",
       "text": [
        "\n",
        "delta_i: -12757413.5719\n",
        "r3: "
       ]
      },
      {
       "output_type": "stream",
       "stream": "stdout",
       "text": [
        "\n",
        "delta_i: -12777238.6124\n",
        "r3: "
       ]
      },
      {
       "output_type": "stream",
       "stream": "stdout",
       "text": [
        "\n",
        "delta_i: -12797063.6529\n",
        "r3: "
       ]
      },
      {
       "output_type": "stream",
       "stream": "stdout",
       "text": [
        "\n",
        "delta_i: -12816888.6935\n",
        "r3: "
       ]
      },
      {
       "output_type": "stream",
       "stream": "stdout",
       "text": [
        "\n",
        "delta_i: -12836713.734\n",
        "r3: "
       ]
      },
      {
       "output_type": "stream",
       "stream": "stdout",
       "text": [
        "\n",
        "delta_i: -12856538.7745\n",
        "r3: "
       ]
      },
      {
       "output_type": "stream",
       "stream": "stdout",
       "text": [
        "\n",
        "delta_i: -12876363.815\n",
        "r3: "
       ]
      },
      {
       "output_type": "stream",
       "stream": "stdout",
       "text": [
        "\n",
        "delta_i: -12896188.8555\n",
        "r3: "
       ]
      },
      {
       "output_type": "stream",
       "stream": "stdout",
       "text": [
        "\n",
        "delta_i: -12916013.896\n",
        "r3: "
       ]
      },
      {
       "output_type": "stream",
       "stream": "stdout",
       "text": [
        "\n",
        "delta_i: -12935838.9365\n",
        "r3: "
       ]
      },
      {
       "output_type": "stream",
       "stream": "stdout",
       "text": [
        "\n",
        "delta_i: -12955663.9771\n",
        "r3: "
       ]
      },
      {
       "output_type": "stream",
       "stream": "stdout",
       "text": [
        "\n",
        "delta_i: -12975489.0176\n",
        "r3: "
       ]
      },
      {
       "output_type": "stream",
       "stream": "stdout",
       "text": [
        "\n",
        "delta_i: -12995314.0581\n",
        "r3: "
       ]
      },
      {
       "output_type": "stream",
       "stream": "stdout",
       "text": [
        "\n",
        "delta_i: -13015139.0986\n",
        "r3: "
       ]
      },
      {
       "output_type": "stream",
       "stream": "stdout",
       "text": [
        "\n",
        "delta_i: -13034964.1391\n",
        "r3: "
       ]
      },
      {
       "output_type": "stream",
       "stream": "stdout",
       "text": [
        "\n",
        "delta_i: -13054789.1796\n",
        "r3: "
       ]
      },
      {
       "output_type": "stream",
       "stream": "stdout",
       "text": [
        "\n",
        "delta_i: -13074614.2202\n",
        "r3: "
       ]
      },
      {
       "output_type": "stream",
       "stream": "stdout",
       "text": [
        "\n",
        "delta_i: -13094439.2607\n",
        "r3: "
       ]
      },
      {
       "output_type": "stream",
       "stream": "stdout",
       "text": [
        "\n",
        "delta_i: -13114264.3012\n",
        "r3: "
       ]
      },
      {
       "output_type": "stream",
       "stream": "stdout",
       "text": [
        "\n",
        "delta_i: -13134089.3417\n",
        "r3: "
       ]
      },
      {
       "output_type": "stream",
       "stream": "stdout",
       "text": [
        "\n",
        "delta_i: -13153914.3822\n",
        "r3: "
       ]
      },
      {
       "output_type": "stream",
       "stream": "stdout",
       "text": [
        "\n",
        "delta_i: -13173739.4227\n",
        "r3: "
       ]
      },
      {
       "output_type": "stream",
       "stream": "stdout",
       "text": [
        "\n",
        "delta_i: -13193564.4633\n",
        "r3: "
       ]
      },
      {
       "output_type": "stream",
       "stream": "stdout",
       "text": [
        "\n",
        "delta_i: -13213389.5038\n",
        "r3: "
       ]
      },
      {
       "output_type": "stream",
       "stream": "stdout",
       "text": [
        "\n",
        "delta_i: -13233214.5443\n",
        "r3: "
       ]
      },
      {
       "output_type": "stream",
       "stream": "stdout",
       "text": [
        "\n",
        "delta_i: -13253039.5848\n",
        "r3: "
       ]
      },
      {
       "output_type": "stream",
       "stream": "stdout",
       "text": [
        "\n",
        "delta_i: -13272864.6253\n",
        "r3: "
       ]
      },
      {
       "output_type": "stream",
       "stream": "stdout",
       "text": [
        "\n",
        "delta_i: -13292689.6658\n",
        "r3: "
       ]
      },
      {
       "output_type": "stream",
       "stream": "stdout",
       "text": [
        "\n",
        "delta_i: -13312514.7063\n",
        "r3: "
       ]
      },
      {
       "output_type": "stream",
       "stream": "stdout",
       "text": [
        "\n",
        "delta_i: -13332339.7469\n",
        "r3: "
       ]
      },
      {
       "output_type": "stream",
       "stream": "stdout",
       "text": [
        "\n",
        "delta_i: -13352164.7874\n",
        "r3: "
       ]
      },
      {
       "output_type": "stream",
       "stream": "stdout",
       "text": [
        "\n",
        "delta_i: -13371989.8279\n",
        "r3: "
       ]
      },
      {
       "output_type": "stream",
       "stream": "stdout",
       "text": [
        "\n",
        "delta_i: -13391814.8684\n",
        "r3: "
       ]
      },
      {
       "output_type": "stream",
       "stream": "stdout",
       "text": [
        "\n",
        "delta_i: -13411639.9089\n",
        "r3: "
       ]
      },
      {
       "output_type": "stream",
       "stream": "stdout",
       "text": [
        "\n",
        "delta_i: -13431464.9494\n",
        "r3: "
       ]
      },
      {
       "output_type": "stream",
       "stream": "stdout",
       "text": [
        "\n",
        "delta_i: -13451289.99\n",
        "r3: "
       ]
      },
      {
       "output_type": "stream",
       "stream": "stdout",
       "text": [
        "\n",
        "delta_i: -13471115.0305\n",
        "r3: "
       ]
      },
      {
       "output_type": "stream",
       "stream": "stdout",
       "text": [
        "\n",
        "delta_i: -13490940.071\n",
        "r3: "
       ]
      },
      {
       "output_type": "stream",
       "stream": "stdout",
       "text": [
        "\n",
        "delta_i: -13510765.1115\n",
        "r3: "
       ]
      },
      {
       "output_type": "stream",
       "stream": "stdout",
       "text": [
        "\n",
        "delta_i: -13530590.152\n",
        "r3: "
       ]
      },
      {
       "output_type": "stream",
       "stream": "stdout",
       "text": [
        "\n",
        "delta_i: -13550415.1925\n",
        "r3: "
       ]
      },
      {
       "output_type": "stream",
       "stream": "stdout",
       "text": [
        "\n",
        "delta_i: -13570240.2331\n",
        "r3: "
       ]
      },
      {
       "output_type": "stream",
       "stream": "stdout",
       "text": [
        "\n",
        "delta_i: -13590065.2736\n",
        "r3: "
       ]
      },
      {
       "output_type": "stream",
       "stream": "stdout",
       "text": [
        "\n",
        "delta_i: -13609890.3141\n",
        "r3: "
       ]
      },
      {
       "output_type": "stream",
       "stream": "stdout",
       "text": [
        "\n",
        "delta_i: -13629715.3546\n",
        "r3: "
       ]
      },
      {
       "output_type": "stream",
       "stream": "stdout",
       "text": [
        "\n",
        "delta_i: -13649540.3951\n",
        "r3: "
       ]
      },
      {
       "output_type": "stream",
       "stream": "stdout",
       "text": [
        "\n",
        "delta_i: -13669365.4356\n",
        "r3: "
       ]
      },
      {
       "output_type": "stream",
       "stream": "stdout",
       "text": [
        "\n",
        "delta_i: -13689190.4761\n",
        "r3: "
       ]
      },
      {
       "output_type": "stream",
       "stream": "stdout",
       "text": [
        "\n",
        "delta_i: -13709015.5167\n",
        "r3: "
       ]
      },
      {
       "output_type": "stream",
       "stream": "stdout",
       "text": [
        "\n",
        "delta_i: -13728840.5572\n",
        "r3: "
       ]
      },
      {
       "output_type": "stream",
       "stream": "stdout",
       "text": [
        "\n",
        "delta_i: -13748665.5977\n",
        "r3: "
       ]
      },
      {
       "output_type": "stream",
       "stream": "stdout",
       "text": [
        "\n",
        "delta_i: -13768490.6382\n",
        "r3: "
       ]
      },
      {
       "output_type": "stream",
       "stream": "stdout",
       "text": [
        "\n",
        "delta_i: -13788315.6787\n",
        "r3: "
       ]
      },
      {
       "output_type": "stream",
       "stream": "stdout",
       "text": [
        "\n",
        "delta_i: -13808140.7192\n",
        "r3: "
       ]
      },
      {
       "output_type": "stream",
       "stream": "stdout",
       "text": [
        "\n",
        "delta_i: -13827965.7598\n",
        "r3: "
       ]
      },
      {
       "output_type": "stream",
       "stream": "stdout",
       "text": [
        "\n",
        "delta_i: -13847790.8003\n",
        "r3: "
       ]
      },
      {
       "output_type": "stream",
       "stream": "stdout",
       "text": [
        "\n",
        "delta_i: -13867615.8408\n",
        "r3: "
       ]
      },
      {
       "output_type": "stream",
       "stream": "stdout",
       "text": [
        "\n",
        "delta_i: -13887440.8813\n",
        "r3: "
       ]
      },
      {
       "output_type": "stream",
       "stream": "stdout",
       "text": [
        "\n",
        "delta_i: -13907265.9218\n",
        "r3: "
       ]
      },
      {
       "output_type": "stream",
       "stream": "stdout",
       "text": [
        "\n",
        "delta_i: -13927090.9623\n",
        "r3: "
       ]
      },
      {
       "output_type": "stream",
       "stream": "stdout",
       "text": [
        "\n",
        "delta_i: -13946916.0029\n",
        "r3: "
       ]
      },
      {
       "output_type": "stream",
       "stream": "stdout",
       "text": [
        "\n",
        "delta_i: -13966741.0434\n",
        "r3: "
       ]
      },
      {
       "output_type": "stream",
       "stream": "stdout",
       "text": [
        "\n",
        "delta_i: -13986566.0839\n",
        "r3: "
       ]
      },
      {
       "output_type": "stream",
       "stream": "stdout",
       "text": [
        "\n",
        "delta_i: -14006391.1244\n",
        "r3: "
       ]
      },
      {
       "output_type": "stream",
       "stream": "stdout",
       "text": [
        "\n",
        "delta_i: -14026216.1649\n",
        "r3: "
       ]
      },
      {
       "output_type": "stream",
       "stream": "stdout",
       "text": [
        "\n",
        "delta_i: -14046041.2054\n",
        "r3: "
       ]
      },
      {
       "output_type": "stream",
       "stream": "stdout",
       "text": [
        "\n",
        "delta_i: -14065866.2459\n",
        "r3: "
       ]
      },
      {
       "output_type": "stream",
       "stream": "stdout",
       "text": [
        "\n",
        "delta_i: -14085691.2865\n",
        "r3: "
       ]
      },
      {
       "output_type": "stream",
       "stream": "stdout",
       "text": [
        "\n",
        "delta_i: -14105516.327\n",
        "r3: "
       ]
      },
      {
       "output_type": "stream",
       "stream": "stdout",
       "text": [
        "\n",
        "delta_i: -14125341.3675\n",
        "r3: "
       ]
      },
      {
       "output_type": "stream",
       "stream": "stdout",
       "text": [
        "\n",
        "delta_i: -14145166.408\n",
        "r3: "
       ]
      },
      {
       "output_type": "stream",
       "stream": "stdout",
       "text": [
        "\n",
        "delta_i: -14164991.4485\n",
        "r3: "
       ]
      },
      {
       "output_type": "stream",
       "stream": "stdout",
       "text": [
        "\n",
        "delta_i: -14184816.489\n",
        "r3: "
       ]
      },
      {
       "output_type": "stream",
       "stream": "stdout",
       "text": [
        "\n",
        "delta_i: -14204641.5296\n",
        "r3: "
       ]
      },
      {
       "output_type": "stream",
       "stream": "stdout",
       "text": [
        "\n",
        "delta_i: -14224466.5701\n",
        "r3: "
       ]
      },
      {
       "output_type": "stream",
       "stream": "stdout",
       "text": [
        "\n",
        "delta_i: -14244291.6106\n",
        "r3: "
       ]
      },
      {
       "output_type": "stream",
       "stream": "stdout",
       "text": [
        "\n",
        "delta_i: -14264116.6511\n",
        "r3: "
       ]
      },
      {
       "output_type": "stream",
       "stream": "stdout",
       "text": [
        "\n",
        "delta_i: -14283941.6916\n",
        "r3: "
       ]
      },
      {
       "output_type": "stream",
       "stream": "stdout",
       "text": [
        "\n",
        "delta_i: -14303766.7321\n",
        "r3: "
       ]
      },
      {
       "output_type": "stream",
       "stream": "stdout",
       "text": [
        "\n",
        "delta_i: -14323591.7727\n",
        "r3: "
       ]
      },
      {
       "output_type": "stream",
       "stream": "stdout",
       "text": [
        "\n",
        "delta_i: -14343416.8132\n",
        "r3: "
       ]
      },
      {
       "output_type": "stream",
       "stream": "stdout",
       "text": [
        "\n",
        "delta_i: -14363241.8537\n",
        "r3: "
       ]
      },
      {
       "output_type": "stream",
       "stream": "stdout",
       "text": [
        "\n",
        "delta_i: -14383066.8942\n",
        "r3: "
       ]
      },
      {
       "output_type": "stream",
       "stream": "stdout",
       "text": [
        "\n",
        "delta_i: -14402891.9347\n",
        "r3: "
       ]
      },
      {
       "output_type": "stream",
       "stream": "stdout",
       "text": [
        "\n",
        "delta_i: -14422716.9752\n",
        "r3: "
       ]
      },
      {
       "output_type": "stream",
       "stream": "stdout",
       "text": [
        "\n",
        "delta_i: -14442542.0157\n",
        "r3: "
       ]
      },
      {
       "output_type": "stream",
       "stream": "stdout",
       "text": [
        "\n",
        "delta_i: -14462367.0563\n",
        "r3: "
       ]
      },
      {
       "output_type": "stream",
       "stream": "stdout",
       "text": [
        "\n",
        "delta_i: -14482192.0968\n",
        "r3: "
       ]
      },
      {
       "output_type": "stream",
       "stream": "stdout",
       "text": [
        "\n",
        "delta_i: -14502017.1373\n",
        "r3: "
       ]
      },
      {
       "output_type": "stream",
       "stream": "stdout",
       "text": [
        "\n",
        "delta_i: -14521842.1778\n",
        "r3: "
       ]
      },
      {
       "output_type": "stream",
       "stream": "stdout",
       "text": [
        "\n",
        "delta_i: -14541667.2183\n",
        "r3: "
       ]
      },
      {
       "output_type": "stream",
       "stream": "stdout",
       "text": [
        "\n",
        "delta_i: -14561492.2588\n",
        "r3: "
       ]
      },
      {
       "output_type": "stream",
       "stream": "stdout",
       "text": [
        "\n",
        "delta_i: -14581317.2994\n",
        "r3: "
       ]
      },
      {
       "output_type": "stream",
       "stream": "stdout",
       "text": [
        "\n",
        "delta_i: -14601142.3399\n",
        "r3: "
       ]
      },
      {
       "output_type": "stream",
       "stream": "stdout",
       "text": [
        "\n",
        "delta_i: -14620967.3804\n",
        "r3: "
       ]
      },
      {
       "output_type": "stream",
       "stream": "stdout",
       "text": [
        "\n",
        "delta_i: -14640792.4209\n",
        "r3: "
       ]
      },
      {
       "output_type": "stream",
       "stream": "stdout",
       "text": [
        "\n",
        "delta_i: -14660617.4614\n",
        "r3: "
       ]
      },
      {
       "output_type": "stream",
       "stream": "stdout",
       "text": [
        "\n",
        "delta_i: -14680442.5019\n",
        "r3: "
       ]
      },
      {
       "output_type": "stream",
       "stream": "stdout",
       "text": [
        "\n",
        "delta_i: -14700267.5425\n",
        "r3: "
       ]
      },
      {
       "output_type": "stream",
       "stream": "stdout",
       "text": [
        "\n",
        "delta_i: -14720092.583\n",
        "r3: "
       ]
      },
      {
       "output_type": "stream",
       "stream": "stdout",
       "text": [
        "\n",
        "delta_i: -14739917.6235\n",
        "r3: "
       ]
      },
      {
       "output_type": "stream",
       "stream": "stdout",
       "text": [
        "\n",
        "delta_i: -14759742.664\n",
        "r3: "
       ]
      },
      {
       "output_type": "stream",
       "stream": "stdout",
       "text": [
        "\n",
        "delta_i: -14779567.7045\n",
        "r3: "
       ]
      },
      {
       "output_type": "stream",
       "stream": "stdout",
       "text": [
        "\n",
        "delta_i: -14799392.745\n",
        "r3: "
       ]
      },
      {
       "output_type": "stream",
       "stream": "stdout",
       "text": [
        "\n",
        "delta_i: -14819217.7855\n",
        "r3: "
       ]
      },
      {
       "output_type": "stream",
       "stream": "stdout",
       "text": [
        "\n",
        "delta_i: -14839042.8261\n",
        "r3: "
       ]
      },
      {
       "output_type": "stream",
       "stream": "stdout",
       "text": [
        "\n",
        "delta_i: -14858867.8666\n",
        "r3: "
       ]
      },
      {
       "output_type": "stream",
       "stream": "stdout",
       "text": [
        "\n",
        "delta_i: -14878692.9071\n",
        "r3: "
       ]
      },
      {
       "output_type": "stream",
       "stream": "stdout",
       "text": [
        "\n",
        "delta_i: -14898517.9476\n",
        "r3: "
       ]
      },
      {
       "output_type": "stream",
       "stream": "stdout",
       "text": [
        "\n",
        "delta_i: -14918342.9881\n",
        "r3: "
       ]
      },
      {
       "output_type": "stream",
       "stream": "stdout",
       "text": [
        "\n",
        "delta_i: -14938168.0286\n",
        "r3: "
       ]
      },
      {
       "output_type": "stream",
       "stream": "stdout",
       "text": [
        "\n",
        "delta_i: -14957993.0692\n",
        "r3: "
       ]
      },
      {
       "output_type": "stream",
       "stream": "stdout",
       "text": [
        "\n",
        "delta_i: -14977818.1097\n",
        "r3: "
       ]
      },
      {
       "output_type": "stream",
       "stream": "stdout",
       "text": [
        "\n",
        "delta_i: -14997643.1502\n",
        "r3: "
       ]
      },
      {
       "output_type": "stream",
       "stream": "stdout",
       "text": [
        "\n",
        "delta_i: -15017468.1907\n",
        "r3: "
       ]
      },
      {
       "output_type": "stream",
       "stream": "stdout",
       "text": [
        "\n",
        "delta_i: -15037293.2312\n",
        "r3: "
       ]
      },
      {
       "output_type": "stream",
       "stream": "stdout",
       "text": [
        "\n",
        "delta_i: -15057118.2717\n",
        "r3: "
       ]
      },
      {
       "output_type": "stream",
       "stream": "stdout",
       "text": [
        "\n",
        "delta_i: -15076943.3123\n",
        "r3: "
       ]
      },
      {
       "output_type": "stream",
       "stream": "stdout",
       "text": [
        "\n",
        "delta_i: -15096768.3528\n",
        "r3: "
       ]
      },
      {
       "output_type": "stream",
       "stream": "stdout",
       "text": [
        "\n",
        "delta_i: -15116593.3933\n",
        "r3: "
       ]
      },
      {
       "output_type": "stream",
       "stream": "stdout",
       "text": [
        "\n",
        "delta_i: -15136418.4338\n",
        "r3: "
       ]
      },
      {
       "output_type": "stream",
       "stream": "stdout",
       "text": [
        "\n",
        "delta_i: -15156243.4743\n",
        "r3: "
       ]
      },
      {
       "output_type": "stream",
       "stream": "stdout",
       "text": [
        "\n",
        "delta_i: -15176068.5148\n",
        "r3: "
       ]
      },
      {
       "output_type": "stream",
       "stream": "stdout",
       "text": [
        "\n",
        "delta_i: -15195893.5553\n",
        "r3: "
       ]
      },
      {
       "output_type": "stream",
       "stream": "stdout",
       "text": [
        "\n",
        "delta_i: -15215718.5959\n",
        "r3: "
       ]
      },
      {
       "output_type": "stream",
       "stream": "stdout",
       "text": [
        "\n",
        "delta_i: -15235543.6364\n",
        "r3: "
       ]
      },
      {
       "output_type": "stream",
       "stream": "stdout",
       "text": [
        "\n",
        "delta_i: -15255368.6769\n",
        "r3: "
       ]
      },
      {
       "output_type": "stream",
       "stream": "stdout",
       "text": [
        "\n",
        "delta_i: -15275193.7174\n",
        "r3: "
       ]
      },
      {
       "output_type": "stream",
       "stream": "stdout",
       "text": [
        "\n",
        "delta_i: -15295018.7579\n",
        "r3: "
       ]
      },
      {
       "output_type": "stream",
       "stream": "stdout",
       "text": [
        "\n",
        "delta_i: -15314843.7984\n",
        "r3: "
       ]
      },
      {
       "output_type": "stream",
       "stream": "stdout",
       "text": [
        "\n",
        "delta_i: -15334668.839\n",
        "r3: "
       ]
      },
      {
       "output_type": "stream",
       "stream": "stdout",
       "text": [
        "\n",
        "delta_i: -15354493.8795\n",
        "r3: "
       ]
      },
      {
       "output_type": "stream",
       "stream": "stdout",
       "text": [
        "\n",
        "delta_i: -15374318.92\n",
        "r3: "
       ]
      },
      {
       "output_type": "stream",
       "stream": "stdout",
       "text": [
        "\n",
        "delta_i: -15394143.9605\n",
        "r3: "
       ]
      },
      {
       "output_type": "stream",
       "stream": "stdout",
       "text": [
        "\n",
        "delta_i: -15413969.001\n",
        "r3: "
       ]
      },
      {
       "output_type": "stream",
       "stream": "stdout",
       "text": [
        "\n",
        "delta_i: -15433794.0415\n",
        "r3: "
       ]
      },
      {
       "output_type": "stream",
       "stream": "stdout",
       "text": [
        "\n",
        "delta_i: -15453619.0821\n",
        "r3: "
       ]
      },
      {
       "output_type": "stream",
       "stream": "stdout",
       "text": [
        "\n",
        "delta_i: -15473444.1226\n",
        "r3: "
       ]
      },
      {
       "output_type": "stream",
       "stream": "stdout",
       "text": [
        "\n",
        "delta_i: -15493269.1631\n",
        "r3: "
       ]
      },
      {
       "output_type": "stream",
       "stream": "stdout",
       "text": [
        "\n",
        "delta_i: -15513094.2036\n",
        "r3: "
       ]
      },
      {
       "output_type": "stream",
       "stream": "stdout",
       "text": [
        "\n",
        "delta_i: -15532919.2441\n",
        "r3: "
       ]
      },
      {
       "output_type": "stream",
       "stream": "stdout",
       "text": [
        "\n",
        "delta_i: -15552744.2846\n",
        "r3: "
       ]
      },
      {
       "output_type": "stream",
       "stream": "stdout",
       "text": [
        "\n",
        "delta_i: -15572569.3251\n",
        "r3: "
       ]
      },
      {
       "output_type": "stream",
       "stream": "stdout",
       "text": [
        "\n",
        "delta_i: -15592394.3657\n",
        "r3: "
       ]
      },
      {
       "output_type": "stream",
       "stream": "stdout",
       "text": [
        "\n",
        "delta_i: -15612219.4062\n",
        "r3: "
       ]
      },
      {
       "output_type": "stream",
       "stream": "stdout",
       "text": [
        "\n",
        "delta_i: -15632044.4467\n",
        "r3: "
       ]
      },
      {
       "output_type": "stream",
       "stream": "stdout",
       "text": [
        "\n",
        "delta_i: -15651869.4872\n",
        "r3: "
       ]
      },
      {
       "output_type": "stream",
       "stream": "stdout",
       "text": [
        "\n",
        "delta_i: -15671694.5277\n",
        "r3: "
       ]
      },
      {
       "output_type": "stream",
       "stream": "stdout",
       "text": [
        "\n",
        "delta_i: -15691519.5682\n",
        "r3: "
       ]
      },
      {
       "output_type": "stream",
       "stream": "stdout",
       "text": [
        "\n",
        "delta_i: -15711344.6088\n",
        "r3: "
       ]
      },
      {
       "output_type": "stream",
       "stream": "stdout",
       "text": [
        "\n",
        "delta_i: -15731169.6493\n",
        "r3: "
       ]
      },
      {
       "output_type": "stream",
       "stream": "stdout",
       "text": [
        "\n",
        "delta_i: -15750994.6898\n",
        "r3: "
       ]
      },
      {
       "output_type": "stream",
       "stream": "stdout",
       "text": [
        "\n",
        "delta_i: -15770819.7303\n",
        "r3: "
       ]
      },
      {
       "output_type": "stream",
       "stream": "stdout",
       "text": [
        "\n",
        "delta_i: -15790644.7708\n",
        "r3: "
       ]
      },
      {
       "output_type": "stream",
       "stream": "stdout",
       "text": [
        "\n",
        "delta_i: -15810469.8113\n",
        "r3: "
       ]
      },
      {
       "output_type": "stream",
       "stream": "stdout",
       "text": [
        "\n",
        "delta_i: -15830294.8519\n",
        "r3: "
       ]
      },
      {
       "output_type": "stream",
       "stream": "stdout",
       "text": [
        "\n",
        "delta_i: -15850119.8924\n",
        "r3: "
       ]
      },
      {
       "output_type": "stream",
       "stream": "stdout",
       "text": [
        "\n",
        "delta_i: -15869944.9329\n",
        "r3: "
       ]
      },
      {
       "output_type": "stream",
       "stream": "stdout",
       "text": [
        "\n",
        "delta_i: -15889769.9734\n",
        "r3: "
       ]
      },
      {
       "output_type": "stream",
       "stream": "stdout",
       "text": [
        "\n",
        "delta_i: -15909595.0139\n",
        "r3: "
       ]
      },
      {
       "output_type": "stream",
       "stream": "stdout",
       "text": [
        "\n",
        "delta_i: -15929420.0544\n",
        "r3: "
       ]
      },
      {
       "output_type": "stream",
       "stream": "stdout",
       "text": [
        "\n",
        "delta_i: -15949245.0949\n",
        "r3: "
       ]
      },
      {
       "output_type": "stream",
       "stream": "stdout",
       "text": [
        "\n",
        "delta_i: -15969070.1355\n",
        "r3: "
       ]
      },
      {
       "output_type": "stream",
       "stream": "stdout",
       "text": [
        "\n",
        "delta_i: -15988895.176\n",
        "r3: "
       ]
      },
      {
       "output_type": "stream",
       "stream": "stdout",
       "text": [
        "\n",
        "delta_i: -16008720.2165\n",
        "r3: "
       ]
      },
      {
       "output_type": "stream",
       "stream": "stdout",
       "text": [
        "\n",
        "delta_i: -16028545.257\n",
        "r3: "
       ]
      },
      {
       "output_type": "stream",
       "stream": "stdout",
       "text": [
        "\n",
        "delta_i: -16048370.2975\n",
        "r3: "
       ]
      },
      {
       "output_type": "stream",
       "stream": "stdout",
       "text": [
        "\n",
        "delta_i: -16068195.338\n",
        "r3: "
       ]
      },
      {
       "output_type": "stream",
       "stream": "stdout",
       "text": [
        "\n",
        "delta_i: -16088020.3786\n",
        "r3: "
       ]
      },
      {
       "output_type": "stream",
       "stream": "stdout",
       "text": [
        "\n",
        "delta_i: -16107845.4191\n",
        "r3: "
       ]
      },
      {
       "output_type": "stream",
       "stream": "stdout",
       "text": [
        "\n",
        "delta_i: -16127670.4596\n",
        "r3: "
       ]
      },
      {
       "output_type": "stream",
       "stream": "stdout",
       "text": [
        "\n",
        "delta_i: -16147495.5001\n",
        "r3: "
       ]
      },
      {
       "output_type": "stream",
       "stream": "stdout",
       "text": [
        "\n",
        "delta_i: -16167320.5406\n",
        "r3: "
       ]
      },
      {
       "output_type": "stream",
       "stream": "stdout",
       "text": [
        "\n",
        "delta_i: -16187145.5811\n",
        "r3: "
       ]
      },
      {
       "output_type": "stream",
       "stream": "stdout",
       "text": [
        "\n",
        "delta_i: -16206970.6217\n",
        "r3: "
       ]
      },
      {
       "output_type": "stream",
       "stream": "stdout",
       "text": [
        "\n",
        "delta_i: -16226795.6622\n",
        "r3: "
       ]
      },
      {
       "output_type": "stream",
       "stream": "stdout",
       "text": [
        "\n",
        "delta_i: -16246620.7027\n",
        "r3: "
       ]
      },
      {
       "output_type": "stream",
       "stream": "stdout",
       "text": [
        "\n",
        "delta_i: -16266445.7432\n",
        "r3: "
       ]
      },
      {
       "output_type": "stream",
       "stream": "stdout",
       "text": [
        "\n",
        "delta_i: -16286270.7837\n",
        "r3: "
       ]
      },
      {
       "output_type": "stream",
       "stream": "stdout",
       "text": [
        "\n",
        "delta_i: -16306095.8242\n",
        "r3: "
       ]
      },
      {
       "output_type": "stream",
       "stream": "stdout",
       "text": [
        "\n",
        "delta_i: -16325920.8647\n",
        "r3: "
       ]
      },
      {
       "output_type": "stream",
       "stream": "stdout",
       "text": [
        "\n",
        "delta_i: -16345745.9053\n",
        "r3: "
       ]
      },
      {
       "output_type": "stream",
       "stream": "stdout",
       "text": [
        "\n",
        "delta_i: -16365570.9458\n",
        "r3: "
       ]
      },
      {
       "output_type": "stream",
       "stream": "stdout",
       "text": [
        "\n",
        "delta_i: -16385395.9863\n",
        "r3: "
       ]
      },
      {
       "output_type": "stream",
       "stream": "stdout",
       "text": [
        "\n",
        "delta_i: -16405221.0268\n",
        "r3: "
       ]
      },
      {
       "output_type": "stream",
       "stream": "stdout",
       "text": [
        "\n",
        "delta_i: -16425046.0673\n",
        "r3: "
       ]
      },
      {
       "output_type": "stream",
       "stream": "stdout",
       "text": [
        "\n",
        "delta_i: -16444871.1078\n",
        "r3: "
       ]
      },
      {
       "output_type": "stream",
       "stream": "stdout",
       "text": [
        "\n",
        "delta_i: -16464696.1484\n",
        "r3: "
       ]
      },
      {
       "output_type": "stream",
       "stream": "stdout",
       "text": [
        "\n",
        "delta_i: -16484521.1889\n",
        "r3: "
       ]
      },
      {
       "output_type": "stream",
       "stream": "stdout",
       "text": [
        "\n",
        "delta_i: -16504346.2294\n",
        "r3: "
       ]
      },
      {
       "output_type": "stream",
       "stream": "stdout",
       "text": [
        "\n",
        "delta_i: -16524171.2699\n",
        "r3: "
       ]
      },
      {
       "output_type": "stream",
       "stream": "stdout",
       "text": [
        "\n",
        "delta_i: -16543996.3104\n",
        "r3: "
       ]
      },
      {
       "output_type": "stream",
       "stream": "stdout",
       "text": [
        "\n",
        "delta_i: -16563821.3509\n",
        "r3: "
       ]
      },
      {
       "output_type": "stream",
       "stream": "stdout",
       "text": [
        "\n",
        "delta_i: -16583646.3915\n",
        "r3: "
       ]
      },
      {
       "output_type": "stream",
       "stream": "stdout",
       "text": [
        "\n",
        "delta_i: -16603471.432\n",
        "r3: "
       ]
      },
      {
       "output_type": "stream",
       "stream": "stdout",
       "text": [
        "\n",
        "delta_i: -16623296.4725\n",
        "r3: "
       ]
      },
      {
       "output_type": "stream",
       "stream": "stdout",
       "text": [
        "\n",
        "delta_i: -16643121.513\n",
        "r3: "
       ]
      },
      {
       "output_type": "stream",
       "stream": "stdout",
       "text": [
        "\n",
        "delta_i: -16662946.5535\n",
        "r3: "
       ]
      },
      {
       "output_type": "stream",
       "stream": "stdout",
       "text": [
        "\n",
        "delta_i: -16682771.594\n",
        "r3: "
       ]
      },
      {
       "output_type": "stream",
       "stream": "stdout",
       "text": [
        "\n",
        "delta_i: -16702596.6345\n",
        "r3: "
       ]
      },
      {
       "output_type": "stream",
       "stream": "stdout",
       "text": [
        "\n",
        "delta_i: -16722421.6751\n",
        "r3: "
       ]
      },
      {
       "output_type": "stream",
       "stream": "stdout",
       "text": [
        "\n",
        "delta_i: -16742246.7156\n",
        "r3: "
       ]
      },
      {
       "output_type": "stream",
       "stream": "stdout",
       "text": [
        "\n",
        "delta_i: -16762071.7561\n",
        "r3: "
       ]
      },
      {
       "output_type": "stream",
       "stream": "stdout",
       "text": [
        "\n",
        "delta_i: -16781896.7966\n",
        "r3: "
       ]
      },
      {
       "output_type": "stream",
       "stream": "stdout",
       "text": [
        "\n",
        "delta_i: -16801721.8371\n",
        "r3: "
       ]
      },
      {
       "output_type": "stream",
       "stream": "stdout",
       "text": [
        "\n",
        "delta_i: -16821546.8776\n",
        "r3: "
       ]
      },
      {
       "output_type": "stream",
       "stream": "stdout",
       "text": [
        "\n",
        "delta_i: -16841371.9182\n",
        "r3: "
       ]
      },
      {
       "output_type": "stream",
       "stream": "stdout",
       "text": [
        "\n",
        "delta_i: -16861196.9587\n",
        "r3: "
       ]
      },
      {
       "output_type": "stream",
       "stream": "stdout",
       "text": [
        "\n",
        "delta_i: -16881021.9992\n",
        "r3: "
       ]
      },
      {
       "output_type": "stream",
       "stream": "stdout",
       "text": [
        "\n",
        "delta_i: -16900847.0397\n",
        "r3: "
       ]
      },
      {
       "output_type": "stream",
       "stream": "stdout",
       "text": [
        "\n",
        "delta_i: -16920672.0802\n",
        "r3: "
       ]
      },
      {
       "output_type": "stream",
       "stream": "stdout",
       "text": [
        "\n",
        "delta_i: -16940497.1207\n",
        "r3: "
       ]
      },
      {
       "output_type": "stream",
       "stream": "stdout",
       "text": [
        "\n",
        "delta_i: -16960322.1613\n",
        "r3: "
       ]
      },
      {
       "output_type": "stream",
       "stream": "stdout",
       "text": [
        "\n",
        "delta_i: -16980147.2018\n",
        "r3: "
       ]
      },
      {
       "output_type": "stream",
       "stream": "stdout",
       "text": [
        "\n",
        "delta_i: -16999972.2423\n",
        "r3: "
       ]
      },
      {
       "output_type": "stream",
       "stream": "stdout",
       "text": [
        "\n",
        "delta_i: -17019797.2828\n",
        "r3: "
       ]
      },
      {
       "output_type": "stream",
       "stream": "stdout",
       "text": [
        "\n",
        "delta_i: -17039622.3233\n",
        "r3: "
       ]
      },
      {
       "output_type": "stream",
       "stream": "stdout",
       "text": [
        "\n",
        "delta_i: -17059447.3638\n",
        "r3: "
       ]
      },
      {
       "output_type": "stream",
       "stream": "stdout",
       "text": [
        "\n",
        "delta_i: -17079272.4043\n",
        "r3: "
       ]
      },
      {
       "output_type": "stream",
       "stream": "stdout",
       "text": [
        "\n",
        "delta_i: -17099097.4449\n",
        "r3: "
       ]
      },
      {
       "output_type": "stream",
       "stream": "stdout",
       "text": [
        "\n",
        "delta_i: -17118922.4854\n",
        "r3: "
       ]
      },
      {
       "output_type": "stream",
       "stream": "stdout",
       "text": [
        "\n",
        "delta_i: -17138747.5259\n",
        "r3: "
       ]
      },
      {
       "output_type": "stream",
       "stream": "stdout",
       "text": [
        "\n",
        "delta_i: -17158572.5664\n",
        "r3: "
       ]
      },
      {
       "output_type": "stream",
       "stream": "stdout",
       "text": [
        "\n",
        "delta_i: -17178397.6069\n",
        "r3: "
       ]
      },
      {
       "output_type": "stream",
       "stream": "stdout",
       "text": [
        "\n",
        "delta_i: -17198222.6474\n",
        "r3: "
       ]
      },
      {
       "output_type": "stream",
       "stream": "stdout",
       "text": [
        "\n",
        "delta_i: -17218047.688\n",
        "r3: "
       ]
      },
      {
       "output_type": "stream",
       "stream": "stdout",
       "text": [
        "\n",
        "delta_i: -17237872.7285\n",
        "r3: "
       ]
      },
      {
       "output_type": "stream",
       "stream": "stdout",
       "text": [
        "\n",
        "delta_i: -17257697.769\n",
        "r3: "
       ]
      },
      {
       "output_type": "stream",
       "stream": "stdout",
       "text": [
        "\n",
        "delta_i: -17277522.8095\n",
        "r3: "
       ]
      },
      {
       "output_type": "stream",
       "stream": "stdout",
       "text": [
        "\n",
        "delta_i: -17297347.85\n",
        "r3: "
       ]
      },
      {
       "output_type": "stream",
       "stream": "stdout",
       "text": [
        "\n",
        "delta_i: -17317172.8905\n",
        "r3: "
       ]
      },
      {
       "output_type": "stream",
       "stream": "stdout",
       "text": [
        "\n",
        "delta_i: -17336997.9311\n",
        "r3: "
       ]
      },
      {
       "output_type": "stream",
       "stream": "stdout",
       "text": [
        "\n",
        "delta_i: -17356822.9716\n",
        "r3: "
       ]
      },
      {
       "output_type": "stream",
       "stream": "stdout",
       "text": [
        "\n",
        "delta_i: -17376648.0121\n",
        "r3: "
       ]
      },
      {
       "output_type": "stream",
       "stream": "stdout",
       "text": [
        "\n",
        "delta_i: -17396473.0526\n",
        "r3: "
       ]
      },
      {
       "output_type": "stream",
       "stream": "stdout",
       "text": [
        "\n",
        "delta_i: -17416298.0931\n",
        "r3: "
       ]
      },
      {
       "output_type": "stream",
       "stream": "stdout",
       "text": [
        "\n",
        "delta_i: -17436123.1336\n",
        "r3: "
       ]
      },
      {
       "output_type": "stream",
       "stream": "stdout",
       "text": [
        "\n",
        "delta_i: -17455948.1741\n",
        "r3: "
       ]
      },
      {
       "output_type": "stream",
       "stream": "stdout",
       "text": [
        "\n",
        "delta_i: -17475773.2147\n",
        "r3: "
       ]
      },
      {
       "output_type": "stream",
       "stream": "stdout",
       "text": [
        "\n",
        "delta_i: -17495598.2552\n",
        "r3: "
       ]
      },
      {
       "output_type": "stream",
       "stream": "stdout",
       "text": [
        "\n",
        "delta_i: -17515423.2957\n",
        "r3: "
       ]
      },
      {
       "output_type": "stream",
       "stream": "stdout",
       "text": [
        "\n",
        "delta_i: -17535248.3362\n",
        "r3: "
       ]
      },
      {
       "output_type": "stream",
       "stream": "stdout",
       "text": [
        "\n",
        "delta_i: -17555073.3767\n",
        "r3: "
       ]
      },
      {
       "output_type": "stream",
       "stream": "stdout",
       "text": [
        "\n",
        "delta_i: -17574898.4172\n",
        "r3: "
       ]
      },
      {
       "output_type": "stream",
       "stream": "stdout",
       "text": [
        "\n",
        "delta_i: -17594723.4578\n",
        "r3: "
       ]
      },
      {
       "output_type": "stream",
       "stream": "stdout",
       "text": [
        "\n",
        "delta_i: -17614548.4983\n",
        "r3: "
       ]
      },
      {
       "output_type": "stream",
       "stream": "stdout",
       "text": [
        "\n",
        "delta_i: -17634373.5388\n",
        "r3: "
       ]
      },
      {
       "output_type": "stream",
       "stream": "stdout",
       "text": [
        "\n",
        "delta_i: -17654198.5793\n",
        "r3: "
       ]
      },
      {
       "output_type": "stream",
       "stream": "stdout",
       "text": [
        "\n",
        "delta_i: -17674023.6198\n",
        "r3: "
       ]
      },
      {
       "output_type": "stream",
       "stream": "stdout",
       "text": [
        "\n",
        "delta_i: -17693848.6603\n",
        "r3: "
       ]
      },
      {
       "output_type": "stream",
       "stream": "stdout",
       "text": [
        "\n",
        "delta_i: -17713673.7009\n",
        "r3: "
       ]
      },
      {
       "output_type": "stream",
       "stream": "stdout",
       "text": [
        "\n",
        "delta_i: -17733498.7414\n",
        "r3: "
       ]
      },
      {
       "output_type": "stream",
       "stream": "stdout",
       "text": [
        "\n",
        "delta_i: -17753323.7819\n",
        "r3: "
       ]
      },
      {
       "output_type": "stream",
       "stream": "stdout",
       "text": [
        "\n",
        "delta_i: -17773148.8224\n",
        "r3: "
       ]
      },
      {
       "output_type": "stream",
       "stream": "stdout",
       "text": [
        "\n",
        "delta_i: -17792973.8629\n",
        "r3: "
       ]
      },
      {
       "output_type": "stream",
       "stream": "stdout",
       "text": [
        "\n",
        "delta_i: -17812798.9034\n",
        "r3: "
       ]
      },
      {
       "output_type": "stream",
       "stream": "stdout",
       "text": [
        "\n",
        "delta_i: -17832623.9439\n",
        "r3: "
       ]
      },
      {
       "output_type": "stream",
       "stream": "stdout",
       "text": [
        "\n",
        "delta_i: -17852448.9845\n",
        "r3: "
       ]
      },
      {
       "output_type": "stream",
       "stream": "stdout",
       "text": [
        "\n",
        "delta_i: -17872274.025\n",
        "r3: "
       ]
      },
      {
       "output_type": "stream",
       "stream": "stdout",
       "text": [
        "\n",
        "delta_i: -17892099.0655\n",
        "r3: "
       ]
      },
      {
       "output_type": "stream",
       "stream": "stdout",
       "text": [
        "\n",
        "delta_i: -17911924.106\n",
        "r3: "
       ]
      },
      {
       "output_type": "stream",
       "stream": "stdout",
       "text": [
        "\n",
        "delta_i: -17931749.1465\n",
        "r3: "
       ]
      },
      {
       "output_type": "stream",
       "stream": "stdout",
       "text": [
        "\n",
        "delta_i: -17951574.187\n",
        "r3: "
       ]
      },
      {
       "output_type": "stream",
       "stream": "stdout",
       "text": [
        "\n",
        "delta_i: -17971399.2276\n",
        "r3: "
       ]
      },
      {
       "output_type": "stream",
       "stream": "stdout",
       "text": [
        "\n",
        "delta_i: -17991224.2681\n",
        "r3: "
       ]
      },
      {
       "output_type": "stream",
       "stream": "stdout",
       "text": [
        "\n",
        "delta_i: -18011049.3086\n",
        "r3: "
       ]
      },
      {
       "output_type": "stream",
       "stream": "stdout",
       "text": [
        "\n",
        "delta_i: -18030874.3491\n",
        "r3: "
       ]
      },
      {
       "output_type": "stream",
       "stream": "stdout",
       "text": [
        "\n",
        "delta_i: -18050699.3896\n",
        "r3: "
       ]
      },
      {
       "output_type": "stream",
       "stream": "stdout",
       "text": [
        "\n",
        "delta_i: -18070524.4301\n",
        "r3: "
       ]
      },
      {
       "output_type": "stream",
       "stream": "stdout",
       "text": [
        "\n",
        "delta_i: -18090349.4707\n",
        "r3: "
       ]
      },
      {
       "output_type": "stream",
       "stream": "stdout",
       "text": [
        "\n",
        "delta_i: -18110174.5112\n",
        "r3: "
       ]
      },
      {
       "output_type": "stream",
       "stream": "stdout",
       "text": [
        "\n",
        "delta_i: -18129999.5517\n",
        "r3: "
       ]
      },
      {
       "output_type": "stream",
       "stream": "stdout",
       "text": [
        "\n",
        "delta_i: -18149824.5922\n",
        "r3: "
       ]
      },
      {
       "output_type": "stream",
       "stream": "stdout",
       "text": [
        "\n",
        "delta_i: -18169649.6327\n",
        "r3: "
       ]
      },
      {
       "output_type": "stream",
       "stream": "stdout",
       "text": [
        "\n",
        "delta_i: -18189474.6732\n",
        "r3: "
       ]
      },
      {
       "output_type": "stream",
       "stream": "stdout",
       "text": [
        "\n",
        "delta_i: -18209299.7137\n",
        "r3: "
       ]
      },
      {
       "output_type": "stream",
       "stream": "stdout",
       "text": [
        "\n",
        "delta_i: -18229124.7543\n",
        "r3: "
       ]
      },
      {
       "output_type": "stream",
       "stream": "stdout",
       "text": [
        "\n",
        "delta_i: -18248949.7948\n",
        "r3: "
       ]
      },
      {
       "output_type": "stream",
       "stream": "stdout",
       "text": [
        "\n",
        "delta_i: -18268774.8353\n",
        "r3: "
       ]
      },
      {
       "output_type": "stream",
       "stream": "stdout",
       "text": [
        "\n",
        "delta_i: -18288599.8758\n",
        "r3: "
       ]
      },
      {
       "output_type": "stream",
       "stream": "stdout",
       "text": [
        "\n",
        "delta_i: -18308424.9163\n",
        "r3: "
       ]
      },
      {
       "output_type": "stream",
       "stream": "stdout",
       "text": [
        "\n",
        "delta_i: -18328249.9568\n",
        "r3: "
       ]
      },
      {
       "output_type": "stream",
       "stream": "stdout",
       "text": [
        "\n",
        "delta_i: -18348074.9974\n",
        "r3: "
       ]
      },
      {
       "output_type": "stream",
       "stream": "stdout",
       "text": [
        "\n",
        "delta_i: -18367900.0379\n",
        "r3: "
       ]
      },
      {
       "output_type": "stream",
       "stream": "stdout",
       "text": [
        "\n",
        "delta_i: -18387725.0784\n",
        "r3: "
       ]
      },
      {
       "output_type": "stream",
       "stream": "stdout",
       "text": [
        "\n",
        "delta_i: -18407550.1189\n",
        "r3: "
       ]
      },
      {
       "output_type": "stream",
       "stream": "stdout",
       "text": [
        "\n",
        "delta_i: -18427375.1594\n",
        "r3: "
       ]
      },
      {
       "output_type": "stream",
       "stream": "stdout",
       "text": [
        "\n",
        "delta_i: -18447200.1999\n",
        "r3: "
       ]
      },
      {
       "output_type": "stream",
       "stream": "stdout",
       "text": [
        "\n",
        "delta_i: -18467025.2405\n",
        "r3: "
       ]
      },
      {
       "output_type": "stream",
       "stream": "stdout",
       "text": [
        "\n",
        "delta_i: -18486850.281\n",
        "r3: "
       ]
      },
      {
       "output_type": "stream",
       "stream": "stdout",
       "text": [
        "\n",
        "delta_i: -18506675.3215\n",
        "r3: "
       ]
      },
      {
       "output_type": "stream",
       "stream": "stdout",
       "text": [
        "\n",
        "delta_i: -18526500.362\n",
        "r3: "
       ]
      },
      {
       "output_type": "stream",
       "stream": "stdout",
       "text": [
        "\n",
        "delta_i: -18546325.4025\n",
        "r3: "
       ]
      },
      {
       "output_type": "stream",
       "stream": "stdout",
       "text": [
        "\n",
        "delta_i: -18566150.443\n",
        "r3: "
       ]
      },
      {
       "output_type": "stream",
       "stream": "stdout",
       "text": [
        "\n",
        "delta_i: -18585975.4835\n",
        "r3: "
       ]
      },
      {
       "output_type": "stream",
       "stream": "stdout",
       "text": [
        "\n",
        "delta_i: -18605800.5241\n",
        "r3: "
       ]
      },
      {
       "output_type": "stream",
       "stream": "stdout",
       "text": [
        "\n",
        "delta_i: -18625625.5646\n",
        "r3: "
       ]
      },
      {
       "output_type": "stream",
       "stream": "stdout",
       "text": [
        "\n",
        "delta_i: -18645450.6051\n",
        "r3: "
       ]
      },
      {
       "output_type": "stream",
       "stream": "stdout",
       "text": [
        "\n",
        "delta_i: -18665275.6456\n",
        "r3: "
       ]
      },
      {
       "output_type": "stream",
       "stream": "stdout",
       "text": [
        "\n",
        "delta_i: -18685100.6861\n",
        "r3: "
       ]
      },
      {
       "output_type": "stream",
       "stream": "stdout",
       "text": [
        "\n",
        "delta_i: -18704925.7266\n",
        "r3: "
       ]
      },
      {
       "output_type": "stream",
       "stream": "stdout",
       "text": [
        "\n",
        "delta_i: -18724750.7672\n",
        "r3: "
       ]
      },
      {
       "output_type": "stream",
       "stream": "stdout",
       "text": [
        "\n",
        "delta_i: -18744575.8077\n",
        "r3: "
       ]
      },
      {
       "output_type": "stream",
       "stream": "stdout",
       "text": [
        "\n",
        "delta_i: -18764400.8482\n",
        "r3: "
       ]
      },
      {
       "output_type": "stream",
       "stream": "stdout",
       "text": [
        "\n",
        "delta_i: -18784225.8887\n",
        "r3: "
       ]
      },
      {
       "output_type": "stream",
       "stream": "stdout",
       "text": [
        "\n",
        "delta_i: -18804050.9292\n",
        "r3: "
       ]
      },
      {
       "output_type": "stream",
       "stream": "stdout",
       "text": [
        "\n",
        "delta_i: -18823875.9697\n",
        "r3: "
       ]
      },
      {
       "output_type": "stream",
       "stream": "stdout",
       "text": [
        "\n",
        "delta_i: -18843701.0103\n",
        "r3: "
       ]
      },
      {
       "output_type": "stream",
       "stream": "stdout",
       "text": [
        "\n",
        "delta_i: -18863526.0508\n",
        "r3: "
       ]
      },
      {
       "output_type": "stream",
       "stream": "stdout",
       "text": [
        "\n",
        "delta_i: -18883351.0913\n",
        "r3: "
       ]
      },
      {
       "output_type": "stream",
       "stream": "stdout",
       "text": [
        "\n",
        "delta_i: -18903176.1318\n",
        "r3: "
       ]
      },
      {
       "output_type": "stream",
       "stream": "stdout",
       "text": [
        "\n",
        "delta_i: -18923001.1723\n",
        "r3: "
       ]
      },
      {
       "output_type": "stream",
       "stream": "stdout",
       "text": [
        "\n",
        "delta_i: -18942826.2128\n",
        "r3: "
       ]
      },
      {
       "output_type": "stream",
       "stream": "stdout",
       "text": [
        "\n",
        "delta_i: -18962651.2533\n",
        "r3: "
       ]
      },
      {
       "output_type": "stream",
       "stream": "stdout",
       "text": [
        "\n",
        "delta_i: -18982476.2939\n",
        "r3: "
       ]
      },
      {
       "output_type": "stream",
       "stream": "stdout",
       "text": [
        "\n",
        "delta_i: -19002301.3344\n",
        "r3: "
       ]
      },
      {
       "output_type": "stream",
       "stream": "stdout",
       "text": [
        "\n",
        "delta_i: -19022126.3749\n",
        "r3: "
       ]
      },
      {
       "output_type": "stream",
       "stream": "stdout",
       "text": [
        "\n",
        "delta_i: -19041951.4154\n",
        "r3: "
       ]
      },
      {
       "output_type": "stream",
       "stream": "stdout",
       "text": [
        "\n",
        "delta_i: -19061776.4559\n",
        "r3: "
       ]
      },
      {
       "output_type": "stream",
       "stream": "stdout",
       "text": [
        "\n",
        "delta_i: -19081601.4964\n",
        "r3: "
       ]
      },
      {
       "output_type": "stream",
       "stream": "stdout",
       "text": [
        "\n",
        "delta_i: -19101426.537\n",
        "r3: "
       ]
      },
      {
       "output_type": "stream",
       "stream": "stdout",
       "text": [
        "\n",
        "delta_i: -19121251.5775\n",
        "r3: "
       ]
      },
      {
       "output_type": "stream",
       "stream": "stdout",
       "text": [
        "\n",
        "delta_i: -19141076.618\n",
        "r3: "
       ]
      },
      {
       "output_type": "stream",
       "stream": "stdout",
       "text": [
        "\n",
        "delta_i: -19160901.6585\n",
        "r3: "
       ]
      },
      {
       "output_type": "stream",
       "stream": "stdout",
       "text": [
        "\n",
        "delta_i: -19180726.699\n",
        "r3: "
       ]
      },
      {
       "output_type": "stream",
       "stream": "stdout",
       "text": [
        "\n",
        "delta_i: -19200551.7395\n",
        "r3: "
       ]
      },
      {
       "output_type": "stream",
       "stream": "stdout",
       "text": [
        "\n",
        "delta_i: -19220376.7801\n",
        "r3: "
       ]
      },
      {
       "output_type": "stream",
       "stream": "stdout",
       "text": [
        "\n",
        "delta_i: -19240201.8206\n",
        "r3: "
       ]
      },
      {
       "output_type": "stream",
       "stream": "stdout",
       "text": [
        "\n",
        "delta_i: -19260026.8611\n",
        "r3: "
       ]
      },
      {
       "output_type": "stream",
       "stream": "stdout",
       "text": [
        "\n",
        "delta_i: -19279851.9016\n",
        "r3: "
       ]
      },
      {
       "output_type": "stream",
       "stream": "stdout",
       "text": [
        "\n",
        "delta_i: -19299676.9421\n",
        "r3: "
       ]
      },
      {
       "output_type": "stream",
       "stream": "stdout",
       "text": [
        "\n",
        "delta_i: -19319501.9826\n",
        "r3: "
       ]
      },
      {
       "output_type": "stream",
       "stream": "stdout",
       "text": [
        "\n",
        "delta_i: -19339327.0231\n",
        "r3: "
       ]
      },
      {
       "output_type": "stream",
       "stream": "stdout",
       "text": [
        "\n",
        "delta_i: -19359152.0637\n",
        "r3: "
       ]
      },
      {
       "output_type": "stream",
       "stream": "stdout",
       "text": [
        "\n",
        "delta_i: -19378977.1042\n",
        "r3: "
       ]
      },
      {
       "output_type": "stream",
       "stream": "stdout",
       "text": [
        "\n",
        "delta_i: -19398802.1447\n",
        "r3: "
       ]
      },
      {
       "output_type": "stream",
       "stream": "stdout",
       "text": [
        "\n",
        "delta_i: -19418627.1852\n",
        "r3: "
       ]
      },
      {
       "output_type": "stream",
       "stream": "stdout",
       "text": [
        "\n",
        "delta_i: -19438452.2257\n",
        "r3: "
       ]
      },
      {
       "output_type": "stream",
       "stream": "stdout",
       "text": [
        "\n",
        "delta_i: -19458277.2662\n",
        "r3: "
       ]
      },
      {
       "output_type": "stream",
       "stream": "stdout",
       "text": [
        "\n",
        "delta_i: -19478102.3068\n",
        "r3: "
       ]
      },
      {
       "output_type": "stream",
       "stream": "stdout",
       "text": [
        "\n",
        "delta_i: -19497927.3473\n",
        "r3: "
       ]
      },
      {
       "output_type": "stream",
       "stream": "stdout",
       "text": [
        "\n",
        "delta_i: -19517752.3878\n",
        "r3: "
       ]
      },
      {
       "output_type": "stream",
       "stream": "stdout",
       "text": [
        "\n",
        "delta_i: -19537577.4283\n",
        "r3: "
       ]
      },
      {
       "output_type": "stream",
       "stream": "stdout",
       "text": [
        "\n",
        "delta_i: -19557402.4688\n",
        "r3: "
       ]
      },
      {
       "output_type": "stream",
       "stream": "stdout",
       "text": [
        "\n",
        "delta_i: -19577227.5093\n",
        "r3: "
       ]
      },
      {
       "output_type": "stream",
       "stream": "stdout",
       "text": [
        "\n",
        "delta_i: -19597052.5499\n",
        "r3: "
       ]
      },
      {
       "output_type": "stream",
       "stream": "stdout",
       "text": [
        "\n",
        "delta_i: -19616877.5904\n",
        "r3: "
       ]
      },
      {
       "output_type": "stream",
       "stream": "stdout",
       "text": [
        "\n",
        "delta_i: -19636702.6309\n",
        "r3: "
       ]
      },
      {
       "output_type": "stream",
       "stream": "stdout",
       "text": [
        "\n",
        "delta_i: -19656527.6714\n",
        "r3: "
       ]
      },
      {
       "output_type": "stream",
       "stream": "stdout",
       "text": [
        "\n",
        "delta_i: -19676352.7119\n",
        "r3: "
       ]
      },
      {
       "output_type": "stream",
       "stream": "stdout",
       "text": [
        "\n",
        "delta_i: -19696177.7524\n",
        "r3: "
       ]
      },
      {
       "output_type": "stream",
       "stream": "stdout",
       "text": [
        "\n",
        "delta_i: -19716002.7929\n",
        "r3: "
       ]
      },
      {
       "output_type": "stream",
       "stream": "stdout",
       "text": [
        "\n",
        "delta_i: -19735827.8335\n",
        "r3: "
       ]
      },
      {
       "output_type": "stream",
       "stream": "stdout",
       "text": [
        "\n",
        "delta_i: -19755652.874\n",
        "r3: "
       ]
      },
      {
       "output_type": "stream",
       "stream": "stdout",
       "text": [
        "\n",
        "delta_i: -19775477.9145\n",
        "r3: "
       ]
      },
      {
       "output_type": "stream",
       "stream": "stdout",
       "text": [
        "\n",
        "delta_i: -19795302.955\n",
        "r3: "
       ]
      },
      {
       "output_type": "stream",
       "stream": "stdout",
       "text": [
        "\n",
        "(array([-24.85089331, -24.8508833 , -24.85087329, ..., -24.83091333,\n",
        "       -24.83090332, -24.83089331]), [0.26366413734601574, 0.26366422983011684, 0.26366414660027709, 0.26366421870495388, 0.26366415968718726, 0.26366420431115445, 0.26366417539940046, 0.26366418800415453, 0.26366419226526416, 0.26366417133635828, 0.26366420868891083, 0.26366415590922465, 0.26366422310121806, 0.26366414322166171, 0.26366423411052858, 0.26366413452429438, 0.26366424063745653, 0.2636641306984947, 0.26366424202133182, 0.26366413216677198, 0.26366423808845563, 0.26366413884967693, 0.2636642291713811, 0.26366415016687927, 0.26366421608530899, 0.26366416508834756, 0.26366420005111774, 0.26366418222941335, 0.26366418258539842, 0.26366419997828849, 0.26366416535631471, 0.26366421664975248, 0.26366415002631644, 0.26366423064469297, 0.26366413809198935, 0.26366424060484972, 0.26366413074018258, 0.26366424554516782, 0.26366412872943018, 0.26366424495155044, 0.2636641323158308, 0.26366423883510154, 0.26366414121994114, 0.26366422773642928, 0.26366415465203885, 0.26366421267855034, 0.2636641713788539, 0.26366419507460803, 0.26366418984085244, 0.26366417659536379, 0.2636642082953401, 0.26366415901264267, 0.26366422498376924, 0.26366414403022609, 0.26366423829879926, 0.26366413311967646, 0.26366424694009405, 0.26366412737779221, 0.26366425004273703, 0.26366412741657247, 0.26366424726258153, 0.26366413330096972, 0.26366423881747303, 0.26366414453630282, 0.26366422546853402, 0.26366416010999505, 0.2636642084562752, 0.26366417858399221, 0.2636641893835216, 0.2636641982270857, 0.26366417006791532, 0.26366421717909527, 0.26366415236845425, 0.26366423362691732, 0.26366413800854033, 0.26366424597863852, 0.26366412840901854, 0.2636642530192535, 0.26366412454973032, 0.26366425402992449, 0.26366412686953883, 0.26366424886213929, 0.26366413522079513, 0.26366423795914706, 0.26366414887574796, 0.26366422231681647, 0.26366416659067321, 0.26366420339706764, 0.26366418672085323, 0.26366418299054301, 0.2636642073722622, 0.26366416304863316, 0.26366422658180605, 0.26366414549915373, 0.263664242504072, 0.26366413206041256, 0.26366425359005025, 0.26366412407475381, 0.26366425873739424, 0.26366412237539932, 0.2636642574020952, 0.26366412720296589, 0.26366424965642615, 0.2636641381741458, 0.26366423618654783, 0.26366415431256196, 0.26366421823559, 0.26366417413738258, 0.26366419748961656, 0.26366419579833816, 0.26366417591930319, 0.26366421724948214, 0.263664155596047, 0.26366423644402059, 0.26366413849341663, 0.26366425152954331, 0.26366412629722602, 0.26366426102836388, 0.26366412024101876, 0.26366426398260473, 0.26366412098266623, 0.26366426005130444, 0.26366412853498283, 0.26366424955055112, 0.26366414225942297, 0.2636642334299687, 0.26366416091809691, 0.26366421318726113, 0.26366418278660197, 0.26366419073187719, 0.26366420581507072, 0.26366416820619931, 0.26366422782051874, 0.26366414778209385, 0.26366424669432043, 0.2636641314533944, 0.26366426060573672, 0.26366412084303575, 0.26366426818033301, 0.26366411704324288, 0.26366426863602421, 0.26366412050478943, 0.26366426186515945, 0.26366413098740693, 0.26366424845184216, 0.263664147575501, 0.26366422962388675, 0.26366416875777299, 0.26366420714151012, 0.26366419256618173, 0.26366418313425355, 0.26366421675932639, 0.26366415990147096, 0.26366423903475467, 0.26366413969375085, 0.26366425724877046, 0.26366412449597604, 0.26366426962368011, 0.26366411583469879, 0.26366427492220318, 0.26366411462628131, 0.26366427257228392, 0.2636641210829419, 0.26366426272900545, 0.26366413468420974, 0.26366424626809382, 0.26366415421862677, 0.26366422470956069, 0.26366417789252139, 0.26366420007906688, 0.2636642034953498, 0.26366417471959847, 0.26366422860718103, 0.26366415107026958, 0.26366425082832851, 0.26366413143355283, 0.26366426800968307, 0.26366411775283155, 0.26366427846165519, 0.26366411142210588, 0.26366428112105245, 0.26366411314612143, 0.26366427566042394, 0.26366412286519347, 0.26366426252733455, 0.26366413975217085, 0.26366424291077023, 0.26366416228310852, 0.26366421863484907, 0.26366418837580446, 0.26366419199138763, 0.26366421558277903, 0.26366416552547356, 0.26366424132212918, 0.26366414179417369, 0.26366426312339047, 0.26366412312140181, 0.26366427886602001, 0.26366411137240331, 0.26366428698639127, 0.26366410776975641, 0.26366428663442992, 0.26366411276861751, 0.26366427776305784, 0.26366412600432904, 0.26366426114216407, 0.26366414631815321, 0.26366423829409508, 0.26366417185899932, 0.26366421135610735, 0.26366420025304377, 0.2636641828827016, 0.26366422882549345, 0.26366415560545953, 0.26366425485355666, 0.26366413217281359, 0.26366427582716823, 0.26366411489526398, 0.26366428969194694, 0.26366410552002417, 0.26366429505199823, 0.26366410505642257, 0.26366429131091929, 0.26366411367083914, 0.26366427873905834, 0.26366413066066136, 0.26366425845730007, 0.26366415451153774, 0.26366423233936453, 0.26366418303316769, 0.26366420284136571, 0.26366421356141195, 0.26366417277261378, 0.26366424320807197, 0.26366414503076335, 0.26366426913560781, 0.26366412232469155, 0.26366428883014698, 0.2636641069122983, 0.26366430034588878, 0.26366410037867671, 0.26366430249893291, 0.26366410347581409, 0.26366429498966104, 0.26366411604038043, 0.26366427844245732, 0.26366413699913976, 0.26366425435660928, 0.26366416446058771, 0.26366422497350617, 0.26366419588640216, 0.26366419306939576, 0.26366422832726477, 0.26366416169629225, 0.26366425870087429, 0.26366413389235555, 0.26366428408661918, 0.26366411239050636, 0.26366430200715102, 0.26366409935177082, 0.26366431067133544, 0.263664096151075, 0.26366430915485922, 0.26366410323668177, 0.26366429750016873, 0.26366412007527801, 0.26366427672294868, 0.26366414519058634, 0.26366424872677174, 0.26366417629350974, 0.26366421613201929, 0.26366421049311695, 0.26366418203347741, 0.26366424456569859, 0.26366414970799329, 0.26366427525921377, 0.26366412230307357, 0.26366429960673082, 0.26366410253360034, 0.26366431521351047, 0.26366409241454131, 0.26366432049373795, 0.26366409306029609, 0.26366431483448644, 0.26366410456657857, 0.26366429866493679, 0.26366412598648387, 0.26366427342803256, 0.26366415541031257, 0.2636642414570578, 0.26366419013695713, 0.26366420576067678, 0.26366422692087554, 0.2636641697428414, 0.26366426227908379, 0.26366413688276358, 0.26366429282145293, 0.26366411039969589, 0.26366431557714692, 0.26366409294287407, 0.26366432828588604, 0.26366408632755922, 0.26366432962222952, 0.26366409135233726, 0.26366431933796053, 0.26366410770895388, 0.26366429829553634, 0.26366413399535005, 0.26366426840301033, 0.26366416784085284, 0.26366423244315879, 0.26366420611622821, 0.26366419381647976, 0.26366424522812426, 0.26366415622505995, 0.26366428145568782, 0.26366412331882161, 0.26366431130760359, 0.26366409834613885, 0.26366433185848875, 0.26366408383550333, 0.26366434103997244, 0.26366408134483671, 0.26366433784651339, 0.26366409129692725, 0.26366432245048982, 0.26366411292730879, 0.26366429619637305, 0.26366414433767399, 0.26366426149155353, 0.26366418266823566, 0.26366422158537861, 0.2636642243544976, 0.26366418027147204, 0.26366426546439981, 0.2636641415283339, 0.26366430206831654, 0.26366410914133448, 0.2636643306171273, 0.26366408633614297, 0.26366434828928365, 0.2636640754607133, 0.26366435326875881, 0.26366407775064993, 0.26366434493647728, 0.26366409319091683, 0.26366432394256639, 0.26366412050685029, 0.26366429216292875, 0.26366415726259307, 0.26366425253619846, 0.26366420008530722, 0.26366420879320146, 0.26366424497228708, 0.26366416511312163, 0.26366428766852373, 0.26366412572530568, 0.26366432407168144, 0.26366409450530415, 0.26366435062845522, 0.26366407459724694, 0.26366436468192128, 0.26366406810293858, 0.26366436474118976, 0.26366407586262719, 0.26366435063983279, 0.26366409736140145, 0.26366432356806635, 0.2636641307562736, 0.26366428598168357, 0.26366417303485334, 0.26366424137996214, 0.26366422029158176, 0.26366419398523749, 0.26366426808681848, 0.2636641483485912, 0.26366431186732175, 0.26366410891582592, 0.26366434740235145, 0.2636640795999764, 0.26366437119358133, 0.26366406339695264, 0.26366438082322918, 0.26366406208507021, 0.26366437519937813, 0.26366407603856612, 0.26366435468062621, 0.2636641041693179, 0.26366432106354826, 0.26366414401088734, 0.26366427742974846, 0.26366419193720297, 0.26366422786664739, 0.26366424349370404, 0.26366417709171958, 0.26366429381246109, 0.26366413000737338, 0.26366433807458528, 0.26366409123223877, 0.26366437197436904, 0.26366406465384873, 0.26366439213938581, 0.26366405304463869, 0.2636643964686235, 0.26366405777870749, 0.26366438435337636, 0.26366407867949632, 0.2636643567572558, 0.26366411401401968, 0.26366431614655378, 0.26366416063722586, 0.26366426627464934, 0.26366421427288522, 0.26366421184188776, 0.26366426990732023, 0.26366415805708793, 0.26366432226052089, 0.26366411014489216, 0.2636643662898599, 0.26366407284357818, 0.26366439767802452, 0.26366404994248516, 0.26366441325894269, 0.26366404390384524, 0.26366441133915069, 0.26366405560616618, 0.26366439188251251, 0.26366408423611404, 0.26366435653900411, 0.26366412734067984, 0.26366430851193767, 0.26366418103815836, 0.26366425227333817, 0.26366424036958208, 0.26366419315375056, 0.26366429975881955, 0.26366413684273488, 0.26366435353910789, 0.26366408884779952, 0.26366439649638945, 0.26366405396209386, 0.2636644243774266, 0.2636640357927269, 0.26366443431341824, 0.26366403636953623, 0.26366442518397898, 0.2636640559447872, 0.26366439757679067, 0.26366409303041366, 0.26366435388489629, 0.26366414439796654, 0.26366429809502318, 0.26366420539383773, 0.26366423542202039, 0.26366427036310552, 0.26366417182839313, 0.26366433317650567, 0.2636641134638939, 0.26366438781137219, 0.26366406607832449, 0.26366442893183828, 0.26366403446229936, 0.26366445241284553, 0.26366402197128008, 0.26366445575627956, 0.26366403017903611, 0.26366443835855125, 0.26366405869688575, 0.26366440160000398, 0.26366410517811856, 0.26366434874575578, 0.26366416551056138, 0.26366428466358854, 0.26366423418176582, 0.26366421538362583, 0.26366430478499098, 0.26366414753835737, 0.26366437061980014, 0.26366408773574207, 0.26366442533085849, 0.263664041924006, 0.26366446352484196, 0.26366401480858465, 0.26366448130438486, 0.26366400937836493, 0.26366447666845932, 0.26366402658866428, 0.26366444973781827, 0.26366406523617286, 0.26366440278084846, 0.26366412203609496, 0.2636643400310692, 0.26366419190071971, 0.2636642673140317, 0.26366426839788726, 0.26366419151748144, 0.26366434434771768, 0.26366411994647682, 0.26366441249634276, 0.26366405962769096, 0.26366446621466832, 0.26366401663133637, 0.26366450014472259, 0.26366399546719516, 0.26366451073805153, 0.26366399862862899, 0.26366449663058344, 0.26366402631089031, 0.26366445880761463, 0.26366407635727346, 0.26366440055886387, 0.2636641444202687, 0.2636643271942129, 0.2636642243424962, 0.26366424557833557, 0.26366430871519864, 0.26366416349134653, 0.26366438956912935, 0.26366408890201815, 0.26366445912946085, 0.26366402920304566, 0.26366451056765394, 0.26366399048920147, 0.26366453867688067, 0.26366397694820848, 0.26366454039846687, 0.26366399042458599, 0.26366451515972888, 0.26366403019479767, 0.26366446497426971, 0.26366409299418297, 0.2636643942918741, 0.26366417328250125, 0.26366430962102205, 0.2636642637326273, 0.26366421893899489, 0.26366435590405785, 0.26366413095111441, 0.2636644410342463, 0.26366405426790429, 0.26366451087429305, 0.26366399657513795, 0.26366455849283349, 0.26366396387647562, 0.26366457896807011, 0.26366395988397517, 0.26366456989925174, 0.26366398561780152, 0.26366453168548609, 0.26366403925647747, 0.26366446754089001, 0.26366411625816616, 0.26366438323954627, 0.26366420974480287, 0.26366428660921493, 0.26366431111911026, 0.26366418681790277, 0.26366441085874492, 0.26366409351733378, 0.26366449941465847, 0.26366401592387573, 0.2636645681296112, 0.26366396192267, 0.26366461008897735, 0.26366393728259924, 0.26366462082070286, 0.26366394505965757, 0.26366459877354043, 0.26366398524922635, 0.26366454552419422, 0.26366405472588966, 0.26366446568810498, 0.26366414748177053, 0.26366436653597763, 0.26366425514682118, 0.26366425734775301, 0.26366436774701724, 0.26366414855870723, 0.26366447463405379, 0.26366405077777139, 0.26366456549491246, 0.26366397377176659, 0.26366463135157564, 0.26366392550575735, 0.2636646654556174, 0.26366391133977629, 0.26366466397888666, 0.26366393346225836, 0.26366462644605548, 0.26366399060680801, 0.2636645558505421, 0.26366407811124726, 0.26366445843257774, 0.26366418828926408, 0.26366434315468473, 0.263664311110276, 0.26366422088663649, 0.263664435116155, 0.26366410340621427, 0.26366454849407972, 0.26366400227949616, 0.2636646402067343, 0.26366392774345482, 0.26366470107262779, 0.26366388769430349, 0.26366472469038732, 0.26366388687158188, 0.26366470811186904, 0.26366392633878838, 0.26366465220713742, 0.26366400330004558, 0.26366456165630925, 0.26366411128248257, 0.26366444458521127, 0.26366424068473521, 0.26366431185904549, 0.26366437963094119, 0.26366417609307136, 0.26366451506410687, 0.2636640504766965, 0.26366463397962564, 0.26366394751631839, 0.26366472467917956, 0.26366387781430689, 0.2636647779262849, 0.26366384900467071, 0.26366478789257741, 0.26366386495118349, 0.26366475279595369, 0.26366392529003724, 0.26366467516405101, 0.26366402536909939, 0.26366456168862779, 0.26366415659791448, 0.26366442267582868, 0.2636643071858164, 0.26366427113608587, 0.26366446320463921, 0.26366412159251451, 0.26366460988167317, 0.26366398871648833, 0.2636647330042674, 0.26366388591673179, 0.26366482030307403, 0.26366382401759747, 0.26366486268024875, 0.26366381015460338, 0.26366485516115645, 0.26366384699873141, 0.26366479747186528, 0.26366393239261671, 0.26366469417827743, 0.26366405944558874, 0.26366455436337638, 0.26366421708207721, 0.26366439085776722, 0.26366439100748518, 0.26366421909392723, 0.26366456501014446, 0.2636640556841981, 0.26366472247808803, 0.2636639168447738, 0.26366484798902223, 0.26366381682488288, 0.26366492883037507, 0.26366376648152273, 0.26366495628701814, 0.26366377214999398, 0.26366492659061624, 0.26366383491976891, 0.2636648413954612, 0.26366395039506851, 0.26366470776942202, 0.26366410898356424, 0.26366453763617675, 0.26366429668682057, 0.2636643467614595, 0.26366449633780437, 0.26366415332181542, 0.26366468917778635, 0.26366397621894055, 0.26366485662221695, 0.26366383327267656, 0.26366498205924627, 0.26366373947597094, 0.26366505250338806, 0.26366370547207196, 0.26366505994609074, 0.26366373641273039, 0.26366500225949285, 0.26366383131694787, 0.26366488355633799, 0.26366398300205662, 0.26366471396379448, 0.26366417860734048, 0.26366450880833098, 0.26366440068296509, 0.26366428727755525, 0.26366462874880175, 0.26366407067426778, 0.26366484118809397, 0.26366388041909894, 0.26366501730211878, 0.26366373598668436, 0.26366513933354796, 0.26366365297220329, 0.26366519426263779, 0.26366364147758109, 0.26366517519705307, 0.26366370498181779, 0.26366508221080232, 0.26366383981719449, 0.26366492253578089, 0.26366403531917298, 0.26366471006955, 0.26366427465402148, 0.26366446422677603, 0.26366453626662001, 0.26366420822279812, 0.26366479582480101, 0.26366396694651739, 0.26366502848398909, 0.26366376460723279, 0.2636652112739396, 0.26366362259424309, 0.26366532505950313, 0.26366355665790597, 0.2636653575273582, 0.26366357596370144, 0.26366530334507637, 0.26366368163397336, 0.26366516555946473, 0.26366386647500523, 0.26366495541190571, 0.2636641154190581, 0.26366469150371763, 0.26366440673775804, 0.26366439822669335, 0.26366471393575963, 0.26366410358632308, 0.26366500816230393, 0.26366383660981807, 0.26366526092441434, 0.26366362457443759, 0.26366544685154836, 0.26366349031689801, 0.2636655462460033, 0.26366344988648499, 0.26366554716718582, 0.26366351077710443, 0.26366544683605064, 0.26366367092596998, 0.263665252203102, 0.26366391859879007, 0.26366497970580138, 0.26366423300616576, 0.26366465372111642, 0.26366458672725612, 0.26366430449999745, 0.2636649473541367, 0.26366396575338125, 0.26366528069471495, 0.2636636713600396, 0.26366555402871839, 0.26366345209709363, 0.26366573931884335, 0.26366333255687824, 0.26366581608811057, 0.26366332855854163, 0.26366577366574784, 0.26366344604954556, 0.26366561195285054, 0.26366367669831353, 0.26366534449109796, 0.2636640050182778, 0.26366499278620087, 0.26366440240925171, 0.26366458933704306, 0.26366483347941611, 0.26366417225765854, 0.26366525828832632, 0.2636637823936564, 0.2636656361649084, 0.26366345926885415, 0.26366592957515811, 0.26366323763672189, 0.26366610735466794, 0.26366314398491436, 0.26366614866438204, 0.26366319366973684, 0.26366604462897569, 0.26366338773810066, 0.26366582557527768, 0.26366369055580496, 0.2636654596028869, 0.26366412679110585, 0.26366500254048053, 0.2636646348004088, 0.26366449630747912, 0.26366516898994902, 0.26366398925847268, 0.26366567935068863, 0.26366353187458919, 0.26366611620975916, 0.26366317188681587, 0.26366643501965509, 0.26366294957857866, 0.2636666008768036, 0.26366289358101835, 0.26366659230100598, 0.2636630176187964, 0.26366640387916701, 0.26366331855345077, 0.26366604747410433, 0.2636637759662025, 0.26366555182275109, 0.26366435338653099, 0.26366496049344185, 0.26366500111826224, 0.26366432832762282, 0.26366566046085771, 0.2636637166420831, 0.26366626898328177, 0.26366318759303398, 0.26366676639396069, 0.26366279820916821, 0.26366710046794994, 0.26366259464398306, 0.26366723247221252, 0.26366260721175339, 0.2636671415425732, 0.2636628467142601, 0.26366682754860993, 0.26366330247126218, 0.26366631210276775, 0.2636639423189871, 0.26366563752868521, 0.26366471467492231, 0.26366486379122633, 0.26366555256583774, 0.26366406358099637, 0.26366637933455428, 0.26366331593411091, 0.26366711555974831, 0.26366269892503169, 0.2636676865888849, 0.26366228207773185, 0.26366803000662709, 0.26366211920475147, 0.26366810230783688, 0.26366224238702463, 0.26366788411220915, 0.26366265771125053, 0.26366738334596634, 0.2636633432754768, 0.26366663597563861, 0.26366424976564579, 0.26366570409916967, 0.2636653036899993, 0.26366467142867667, 0.26366641310919814, 0.26366363644928881, 0.26366747545636215, 0.26366270378544171, 0.26366838681409099, 0.26366197446910322, 0.26366905187514855, 0.2636615359932401, 0.26366939365516168, 0.2636614530632842, 0.26366936203889124, 0.26366175997253721, 0.26366894029074178, 0.26366245540475908, 0.26366814877252809, 0.26366350031955932, 0.26366704536488356, 0.26366481929570851, 0.26366572233878582, 0.26366630542567498, 0.26366429975970346, 0.26366782852697113, 0.26366291580463286, 0.26366924610524567, 0.26366171473116073, 0.26367041623605564, 0.26366083343935576, 0.26367121125757154, 0.26366038781569062, 0.26367153107969055, 0.26366046011682476, 0.26367131481090827, 0.26366108863580384, 0.26367054951625613, 0.26366226077901123, 0.2636692750951623, 0.26366391043912557, 0.26366758452968886, 0.26366592019930019, 0.2636656191771436, 0.26366812866026895, 0.26366355904012628, 0.26367034222002428, 0.26366160888162415, 0.26367235108778053, 0.2636599806449208, 0.2636739479784152, 0.26365887392334508, 0.26367494813812326, 0.26365845591859027, 0.26367520897165392, 0.26365884271978407, 0.26367464742792746, 0.2636600837200021, 0.26367325340123421, 0.26366215084686256, 0.26367109756730056, 0.26366493398819196, 0.26366833250549981, 0.26366824356678287, 0.26366518638114217, 0.26367182067760497, 0.26366194912182117, 0.26367535455182112, 0.26365895159865077, 0.2636785065226222, 0.26365653899628222, 0.26368093894805233, 0.26365504031552661, 0.26368234698335918, 0.26365473588008037, 0.26368249101368052, 0.26365582604890431, 0.26368122658717785, 0.26365840343316765, 0.26367852942477332, 0.26366243160354758, 0.26367451272266595, 0.2636677326694124, 0.26366943449469998, 0.26367398577667972, 0.26366369354635411, 0.26368073765495509, 0.26365781249391168, 0.26368742567600167, 0.26365240953766783, 0.26369341339482971, 0.26364815704029315, 0.26369803717167195, 0.2636457313353292, 0.263700660667604, 0.2636457557946526, 0.26370073545998851, 0.26364873960891971, 0.26369786350668489, 0.26365501759330551, 0.26369185746139862, 0.26366469634805562, 0.26368279277356754, 0.26367759493689003, 0.26367106647487681, 0.26369322350687191, 0.26365741171625157, 0.26371075364247676, 0.26364292790287136, 0.26372901504462593, 0.26362908294913007, 0.26374650763836832, 0.26361770496853232, 0.26376142973006128, 0.26361096484450214, 0.2637717194344722, 0.26361135708186956, 0.2637751048293891, 0.26362169052143919, 0.26376915602997802, 0.26364510791219226, 0.26375133013723812, 0.26368516512042051, 0.26371899761033324, 0.26374602382561235, 0.26366943479543303, 0.26383285403604101, 0.26359977613248337, 0.2639526434068436, 0.26350691617829158, 0.26411584499397678, 0.26338744831064309, 0.26433988440387263, 0.26323806458066207, 0.264657291618145, 0.26305857658840925, 0.26513701252764221, 0.26286993246177143, 0.26595050259945457, 0.26284271110926699, 0.26762074814717618, 0.26490875511433976, 0.27071930648373416, 0.42921924979352782, 0.42921924978316062, 0.27071930647762837, 0.26490875511637813, 0.26762074814599413, 0.26284271110985985, 0.26595050259906533, 0.26286993246198403, 0.26513701252750277, 0.26305857658847803, 0.26465729161810775, 0.26323806458066601, 0.26433988440388351, 0.26338744831061606, 0.26411584499400914, 0.26350691617825128, 0.26395264340688424, 0.26359977613244118, 0.26383285403608192, 0.26366943479539412, 0.26374602382564982, 0.26371899761029866, 0.26368516512045104, 0.26375133013721141, 0.26364510791221613, 0.26376915602995643, 0.26362169052145401, 0.26377510482937544, 0.26361135708188138, 0.26377171943446626, 0.26361096484450508, 0.26376142973006117, 0.26361770496853043, 0.26374650763837115, 0.26362908294912729, 0.26372901504463059, 0.26364292790286614, 0.2637107536424857, 0.26365741171624174, 0.26369322350688018, 0.2636710664748691, 0.2636775949368993, 0.26368279277355983, 0.26366469634806328, 0.26369185746138923, 0.26365501759331006, 0.26369786350667901, 0.26364873960892538, 0.26370073545998424, 0.26364575579465566, 0.26370066066760306, 0.26364573133532987, 0.26369803717167295, 0.26364815704029221, 0.2636934133948301, 0.26365240953766583, 0.26368742567600356, 0.26365781249390774, 0.26368073765495936, 0.26366369354634889, 0.26367398577668338, 0.26366943449469588, 0.26366773266941562, 0.26367451272266224, 0.26366243160355191, 0.26367852942477082, 0.26365840343316904, 0.26368122658717741, 0.26365582604890653, 0.26368249101368163, 0.26365473588008087, 0.26368234698335929, 0.26365504031552539, 0.26368093894805311, 0.26365653899628244, 0.26367850652262509, 0.26365895159864949, 0.26367535455182323, 0.26366194912181662, 0.26367182067760814, 0.26366518638113928, 0.26366824356678636, 0.26366833250549659, 0.26366493398819507, 0.26367109756729923, 0.26366215084686584, 0.26367325340123421, 0.26366008372000288, 0.26367464742792757, 0.26365884271978446, 0.26367520897165464, 0.26365845591859016, 0.26367494813812381, 0.26365887392334503, 0.26367394797841559, 0.26365998064491958, 0.26367235108778181, 0.26366160888162438, 0.26367034222002517, 0.26366355904012517, 0.26366812866027067, 0.26366561917714293, 0.26366592019930069, 0.26366758452968869, 0.26366391043912701, 0.26366927509515908, 0.26366226077901089, 0.26367054951625596, 0.26366108863580429, 0.26367131481090789, 0.26366046011682648, 0.26367153107969032, 0.26366038781568896, 0.26367121125757259, 0.26366083343935609, 0.2636704162360563, 0.2636617147311599, 0.26366924610524689, 0.26366291580463291, 0.26366782852697429, 0.26366429975970179, 0.2636663054256756, 0.26366572233878721, 0.26366481929571084, 0.26366704536488522, 0.26366350031955832, 0.2636681487725277, 0.26366245540475697, 0.26366894029074173, 0.26366175997253721, 0.26366936203888786, 0.26366145306328587, 0.26366939365516101, 0.26366153599323955, 0.26366905187514916, 0.26366197446910195, 0.26366838681408827, 0.26366270378544016, 0.2636674754563611, 0.26366363644928859, 0.26366641310920097, 0.26366467142867589, 0.2636653036899993, 0.26366570409917056, 0.2636642497656469, 0.26366663597563922, 0.26366334327547797, 0.26366738334596501, 0.2636626577112518, 0.26366788411220876, 0.26366224238702396, 0.26366810230783594, 0.26366211920475258, 0.2636680300066282, 0.26366228207773262, 0.26366768658888134, 0.26366269892503108, 0.26366711555974631, 0.2636633159341138, 0.26366637933455611, 0.2636640635809952, 0.26366555256584073, 0.26366486379122733, 0.26366471467492275, 0.26366563752868444, 0.26366394231898849, 0.26366631210276681, 0.2636633024712623, 0.26366682754860765, 0.26366284671426088, 0.26366714154257342, 0.26366260721175544, 0.26366723247221108, 0.26366259464398573, 0.26366710046795189, 0.26366279820916777, 0.26366676639395897, 0.26366318759303392, 0.26366626898328172, 0.26366371664208149, 0.26366566046085654, 0.26366432832762404, 0.26366500111826113, 0.26366496049344001, 0.26366435338653171, 0.26366555182275103, 0.26366377596619822, 0.26366604747410027, 0.26366331855345021, 0.26366640387916696, 0.26366301761879696, 0.26366659230100403, 0.26366289358101869, 0.26366660087679977, 0.26366294957857661, 0.26366643501965459, 0.26366317188681504, 0.2636661162097611, 0.26366353187458796, 0.26366567935068691, 0.26366398925847206, 0.26366516898994924, 0.26366449630747724, 0.26366463480040425, 0.26366500254047981, 0.26366412679110518, 0.2636654596028869, 0.26366369055580657, 0.26366582557527696, 0.26366338773809384, 0.26366604462897641, 0.26366319366974483, 0.26366614866438065, 0.26366314398490992, 0.26366610735466911, 0.26366323763670824, 0.26366592957515872, 0.26366345926884383, 0.26366563616488981, 0.26366378239366345, 0.26366525828832776, 0.2636641722576667, 0.26366483347940417, 0.26366458933703113, 0.26366440240923372, 0.2636649927862067, 0.26366400501827197, 0.26366534449109641, 0.26366367669831009, 0.26366561195285632, 0.263663446049545, 0.26366577366572813, 0.2636633285585353, 0.26366581608810596, 0.26366333255687763, 0.26366573931882997, 0.26366345209709602, 0.26366555402872144, 0.26366367136003138, 0.26366528069471407, 0.26366396575339379, 0.26366494735413332, 0.2636643045000211, 0.26366458672727183, 0.26366465372111575, 0.26366423300615777, 0.2636649797058021, 0.26366391859878718, 0.26366525220309206, 0.26366367092597043, 0.26366544683605775, 0.2636635107771228, 0.26366554716719731, 0.26366344988647222, 0.2636655462460013, 0.26366349031687986, 0.26366544685154902, 0.26366362457442383, 0.263665260924412, 0.26366383660980819, 0.26366500816228688, 0.26366410358633424, 0.26366471393577096, 0.26366439822669235, 0.26366440673775798, 0.26366469150371447, 0.2636641154190521, 0.26366495541190293, 0.26366386647500328, 0.26366516555946978, 0.26366368163398757, 0.26366530334508886, 0.26366357596369416, 0.26366535752734355, 0.26366355665791424, 0.26366532505950707, 0.26366362259423359, 0.2636652112739622, 0.2636637646072435, 0.26366502848399048, 0.26366396694651212, 0.26366479582480673, 0.26366420822278802, 0.26366453626664571, 0.26366446422677575, 0.26366427465402426, 0.26366471006953629, 0.26366403531918214, 0.26366492253580009, 0.2636638398171941, 0.26366508221081636, 0.2636637049817866, 0.26366517519705474, 0.26366364147757926, 0.26366519426264073, 0.26366365297220906, 0.26366513933356117, 0.26366373598669351, 0.26366501730210318, 0.26366388041908362, 0.26366484118809314, 0.26366407067424907, 0.26366462874880564, 0.26366428727755276, 0.26366440068294944, 0.26366450880832809, 0.26366417860733071, 0.26366471396378083, 0.26366398300204918, 0.26366488355633494, 0.26366383131695997, 0.26366500225949802, 0.26366373641274377, 0.26366505994609096, 0.26366370547208218, 0.2636650525033955, 0.26366373947595306, 0.26366498205923966, 0.26366383327268134, 0.26366485662221972, 0.26366397621895682, 0.26366468917779728, 0.26366415332183163, 0.26366449633781774, 0.26366434676146067, 0.26366429668682773, 0.26366453763620806, 0.26366410898357912, 0.26366470776942019, 0.26366395039507218, 0.26366484139546181, 0.26366383491976808, 0.26366492659061985, 0.26366377214999703, 0.26366495628703734, 0.26366376648151146, 0.26366492883036202, 0.26366381682486756, 0.26366484798903256, 0.26366391684476309, 0.26366472247810308, 0.26366405568421558, 0.26366456501011565, 0.26366421909392046, 0.26366439100747563, 0.26366439085778975, 0.26366421708208426, 0.26366455436336739, 0.26366405944558235, 0.26366469417828958, 0.26366393239262453, 0.26366479747188343, 0.26366384699871992, 0.26366485516115362, 0.26366381015462481, 0.26366486268027489, 0.26366382401759542, 0.26366482030307226, 0.26366388591672013, 0.2636647330042356, 0.26366398871646918, 0.26366460988164897, 0.26366412159251945, 0.26366446320463477, 0.26366427113608404, 0.26366430718582989, 0.26366442267583007, 0.26366415659792725, 0.26366456168863234, 0.26366402536907652, 0.26366467516404946, 0.26366392529002464, 0.26366475279594537, 0.26366386495117083, 0.26366478789256664, 0.26366384900464873, 0.26366477792628107, 0.26366387781428219, 0.26366472467916668, 0.26366394751632027, 0.26366463397962192, 0.26366405047670033, 0.26366451506410943, 0.26366417609309117, 0.26366437963094769, 0.26366431185903488, 0.2636642406847301, 0.26366444458522609, 0.26366411128248318, 0.26366456165630459, 0.26366400330002798, 0.26366465220713997, 0.2636639263387871, 0.26366470811187531, 0.26366388687158021, 0.26366472469039015, 0.26366388769431381, 0.2636647010726626, 0.26366392774346942, 0.2636646402067413, 0.26366400227952336, 0.2636645484940785, 0.26366410340622676, 0.26366443511612414, 0.2636642208866235, 0.26366431111026273, 0.26366434315468135, 0.26366418828927146, 0.26366445843259889, 0.26366407811121811, 0.26366455585056242, 0.26366399060681517, 0.26366462644607036, 0.26366393346225414, 0.26366466397887123, 0.26366391133980571, 0.2636646654556376, 0.26366392550574019, 0.26366463135161561, 0.26366397377178002, 0.26366456549488287, 0.26366405077777633, 0.26366447463403736, 0.26366414855869941, 0.26366436774701796, 0.26366425734775478, 0.26366425514680863, 0.26366436653599928, 0.26366414748176759, 0.26366446568811802, 0.2636640547259036, 0.26366454552420576, 0.26366398524925344, 0.26366459877353504, 0.26366394505964508, 0.26366462082071823, 0.26366393728259924, 0.26366461008900033, 0.26366396192265867, 0.26366456812960543, 0.26366401592388283, 0.26366449941465769, 0.26366409351737469, 0.26366441085876652, 0.2636641868178769, 0.26366431111911642, 0.26366428660919872, 0.26366420974479299, 0.26366438323951874, 0.26366411625816727, 0.26366446754090667, 0.26366403925648058, 0.26366453168547921, 0.26366398561779558, 0.26366456989922815, 0.2636639598840036, 0.26366457896808937, 0.26366396387646496, 0.26366455849286952, 0.26366399657514022, 0.26366451087428433, 0.26366405426789402, 0.26366444103424891, 0.26366413095114372, 0.26366435590407167, 0.26366421893902148, 0.2636642637326212, 0.26366430962103771, 0.26366417328251851, 0.26366439429189464, 0.26366409299419058, 0.26366446497426138, 0.26366403019479057, 0.26366451515972311, 0.26366399042459948, 0.26366454039847609, 0.263663976948185, 0.2636645386768679, 0.26366399048917433, 0.26366451056764928, 0.26366402920303983, 0.26366445912948572, 0.26366408890201515, 0.26366438956913379, 0.26366416349136351, 0.26366430871521029, 0.26366424557833978, 0.26366422434249381, 0.26366432719421523, 0.26366414442027519, 0.26366440055887402, 0.26366407635728711, 0.26366445880762635, 0.2636640263109018, 0.26366449663059072, 0.26366399862860979, 0.26366451073806974, 0.26366399546716529, 0.26366450014471537, 0.26366401663137817, 0.26366446621465212, 0.26366405962768252, 0.26366441249632899, 0.26366411994649108, 0.26366434434772423, 0.26366419151748854, 0.26366426839788593, 0.26366426731403603, 0.26366419190071877, 0.26366434003107314, 0.2636641220360802, 0.26366440278086739, 0.26366406523617386, 0.26366444973782194, 0.26366402658864463, 0.26366447666843806, 0.26366400937836348, 0.26366448130435377, 0.2636640148085968, 0.26366446352483686, 0.26366404192398685, 0.26366442533089512, 0.2636640877357353, 0.26366437061976872, 0.26366414753836032, 0.26366430478500846, 0.26366421538364565, 0.26366423418174034, 0.26366428466358638, 0.26366416551053845, 0.26366434874571137, 0.26366410517812267, 0.26366440160000237, 0.26366405869688947, 0.26366443835856651, 0.26366403017900075, 0.26366445575627434, 0.26366402197126299, 0.26366445241282715, 0.26366403446234143, 0.26366442893185349, 0.26366406607832799, 0.26366438781139251, 0.26366411346388774, 0.26366433317651661, 0.26366417182836954, 0.26366427036309337, 0.26366423542202549, 0.26366420539382895, 0.26366429809498304, 0.26366414439797592, 0.26366435388488002, 0.26366409303044352, 0.26366439757676491, 0.26366405594477138, 0.26366442518397415, 0.263664036369546, 0.26366443431342562, 0.26366403579272107, 0.26366442437739329, 0.26366405396212017, 0.26366439649640205, 0.26366408884780534, 0.26366435353908885, 0.26366413684272311, 0.26366429975881278, 0.26366419315374112, 0.26366424036959712, 0.26366425227338447, 0.26366418103819667, 0.26366430851194239, 0.2636641273406824, 0.2636643565390272, 0.26366408423611409, 0.26366439188248431, 0.26366405560617084, 0.26366441133914564, 0.26366404390385634, 0.26366441325893514, 0.26366404994252918, 0.26366439767801736, 0.26366407284359145, 0.26366436628984874, 0.26366411014492863, 0.26366432226051933, 0.2636641580571204, 0.26366426990733738, 0.26366421184188105, 0.26366421427287229, 0.26366426627466577, 0.26366416063719605, 0.26366431614651858, 0.26366411401400852, 0.26366435675725436, 0.26366407867946767, 0.26366438435336698, 0.26366405777868246, 0.26366439646862666, 0.26366405304465101, 0.2636643921393842, 0.26366406465385961, 0.26366437197438869, 0.26366409123224865, 0.26366433807459344, 0.26366413000736438, 0.26366429381246415, 0.2636641770917233, 0.26366424349371431, 0.26366422786669896, 0.26366419193717144, 0.26366427742974186, 0.26366414401090643, 0.26366432106355653, 0.26366410416934644, 0.26366435468062416, 0.26366407603855535, 0.26366437519934888, 0.26366406208505122, 0.26366438082322163, 0.26366406339695603, 0.2636643711936062, 0.26366407959994081, 0.26366434740234268, 0.26366410891582015, 0.26366431186732958, 0.26366414834859053, 0.26366426808679921, 0.2636641939852154, 0.26366422029159747, 0.2636642413799779, 0.26366417303486211, 0.26366428598167418, 0.26366413075627154, 0.26366432356805991, 0.26366409736139218, 0.26366435063986027, 0.26366407586263763, 0.26366436474120053, 0.26366406810291587, 0.26366436468196397, 0.26366407459726887, 0.26366435062847815, 0.26366409450530237, 0.26366432407166657, 0.26366412572530989, 0.26366428766850153, 0.26366416511311142, 0.26366424497229118, 0.26366420879322305, 0.26366420008533664, 0.26366425253622816, 0.26366415726260051, 0.26366429216291254, 0.26366412050684224, 0.26366432394254924, 0.26366409319093975, 0.26366434493645613, 0.26366407775062456, 0.26366435326879306, 0.26366407546073439, 0.26366434828925528, 0.26366408633615052, 0.26366433061714717, 0.26366410914132971, 0.26366430206830588, 0.26366414152832096, 0.26366426546439725, 0.2636641802714545, 0.2636642243545172, 0.2636642215854007, 0.26366418266823255, 0.26366426149156463, 0.26366414433769592, 0.26366429619640436, 0.26366411292728725, 0.26366432245049054, 0.26366409129690321, 0.2636643378465226, 0.26366408134481745, 0.26366434103999675, 0.26366408383551188, 0.26366433185851251, 0.26366409834611404, 0.2636643113075941, 0.26366412331883221, 0.26366428145569665, 0.26366415622505646, 0.26366424522811593, 0.26366419381646522, 0.26366420611625535, 0.26366423244315629, 0.26366416784085478, 0.26366426840300405, 0.26366413399536431, 0.26366429829556387, 0.26366410770891902, 0.26366431933792372, 0.26366409135230384, 0.26366432962219855, 0.26366408632755139, 0.26366432828591113, 0.26366409294287174, 0.26366431557712328, 0.26366411039968807, 0.2636642928214285, 0.2636641368827618, 0.26366426227908146, 0.26366416974289358, 0.26366422692084551, 0.2636642057606533, 0.26366419013694797, 0.2636642414570633, 0.26366415541034716, 0.26366427342807452, 0.26366412598645017, 0.26366429866492119, 0.26366410456657197, 0.26366431483448027, 0.2636640930603219, 0.26366432049372029, 0.26366409241452121, 0.2636643152135007, 0.26366410253362232, 0.26366429960674215, 0.26366412230306452, 0.26366427525916797, 0.26366414970803098, 0.26366424456567228, 0.26366418203350295, 0.26366421049317607, 0.26366421613205576, 0.26366417629347599, 0.26366424872676791, 0.26366414519059933, 0.26366427672297915, 0.26366412007530415, 0.26366429750013459, 0.26366410323671741, 0.26366430915482408, 0.26366409615106867, 0.26366431067131485, 0.26366409935176882, 0.26366430200714625, 0.26366411239052256, 0.2636642840866274, 0.26366413389239995, 0.26366425870088939, 0.26366416169630275, 0.26366422832728209, 0.26366419306938105, 0.2636641958864207, 0.26366422497346548, 0.2636641644605564, 0.26366425435659485, 0.26366413699912694, 0.26366427844243273, 0.26366411604037227, 0.26366429498968669, 0.26366410347581687, 0.26366430249896122, 0.26366410037872073, 0.26366430034590466, 0.26366410691226849, 0.26366428883015203, 0.26366412232466024, 0.26366426913561963, 0.26366414503077396, 0.26366424320807236, 0.26366417277261989, 0.2636642135614311, 0.2636642028413464, 0.26366418303318201, 0.26366423233938124, 0.26366415451151759, 0.26366425845731062, 0.26366413066064348, 0.26366427873905596, 0.2636641136707934, 0.26366429131094032, 0.26366410505641363, 0.26366429505196376, 0.26366410552005376, 0.26366428969196282, 0.26366411489529556, 0.26366427582715024, 0.26366413217281953, 0.26366425485356659, 0.2636641556054275, 0.26366422882546819, 0.26366418288273824, 0.26366420025303761, 0.26366421135611917, 0.26366417185899238, 0.26366423829411573, 0.2636641463181662, 0.26366426114219205, 0.26366412600433797, 0.26366427776306212, 0.26366411276863033, 0.26366428663443386, 0.26366410776975591, 0.2636642869864167, 0.26366411137239931, 0.26366427886605054, 0.26366412312142001, 0.26366426312339586, 0.26366414179419329, 0.26366424132212196, 0.2636641655254951, 0.2636642155827934, 0.26366419199138297, 0.26366418837582323, 0.26366421863484946, 0.26366416228315243, 0.26366424291078028, 0.26366413975218689, 0.26366426252737168, 0.26366412286518037, 0.26366427566042683, 0.2636641131461363, 0.26366428112106716, 0.26366411142207846, 0.26366427846164914, 0.26366411775281096, 0.26366426800973375, 0.2636641314335823, 0.26366425082835027, 0.26366415107025593, 0.26366422860721828, 0.26366417471959047, 0.26366420349534314, 0.2636642000790867, 0.26366417789251401, 0.26366422470957934, 0.26366415421863532, 0.26366424626808743, 0.26366413468420058, 0.26366426272897781, 0.26366412108292492, 0.26366427257220582, 0.26366411462628864, 0.26366427492220162, 0.26366411583471733, 0.26366426962368217, 0.26366412449601651, 0.26366425724878895, 0.26366413969373459, 0.26366423903479014, 0.263664159901498, 0.26366421675933427, 0.26366418313421486, 0.26366419256619467, 0.26366420714151834, 0.26366416875781939, 0.26366422962393921, 0.26366414757548912, 0.26366424845185416, 0.26366413098742841, 0.26366426186515896, 0.26366412050482269, 0.26366426863601694, 0.26366411704321219, 0.2636642681803481, 0.26366412084304308, 0.26366426060575437, 0.26366413145334944, 0.26366424669428301, 0.26366414778210351, 0.2636642278205158, 0.26366416820617206, 0.26366420581508493, 0.263664190731906, 0.26366418278664527, 0.26366421318725031, 0.26366416091809081, 0.26366423342997009, 0.26366414225945028, 0.26366424955052886, 0.26366412853497923, 0.2636642600513015, 0.26366412098264236, 0.26366426398260062, 0.26366412024105984, 0.26366426102840146, 0.26366412629722297, 0.26366425152950296, 0.2636641384934173, 0.26366423644403769, 0.26366415559605622, 0.26366421724952827, 0.26366417591931318, 0.26366419579834438, 0.26366419748957293, 0.26366417413741078, 0.26366421823563568, 0.26366415431251705, 0.26366423618656926, 0.26366413817415796, 0.26366424965645086, 0.2636641272029715, 0.2636642574020871, 0.26366412237542031, 0.26366425873741978, 0.26366412407475792, 0.26366425359002893, 0.26366413206043243, 0.26366424250404263, 0.26366414549914285, 0.26366422658180616, 0.26366416304863677, 0.26366420737224616, 0.26366418299052286, 0.26366418672086039, 0.26366420339707225, 0.26366416659064257, 0.26366422231681114, 0.26366414887573869, 0.26366423795910143, 0.26366413522080123, 0.26366424886212447, 0.26366412686951396, 0.26366425402990662, 0.26366412454977262, 0.26366425301926266, 0.26366412840902725, 0.26366424597866689, 0.26366413800853006, 0.26366423362692704, 0.26366415236845775, 0.26366421717910871, 0.26366417006785187, 0.26366419822705983, 0.26366418938350422, 0.26366417858401081, 0.26366420845628685, 0.26366416010998578, 0.26366422546854823, 0.26366414453630438, 0.26366423881747653, 0.26366413330097627, 0.26366424726256465, 0.26366412741651241, 0.26366425004274258, 0.26366412737777661, 0.26366424694006418, 0.26366413311971149, 0.26366423829881774, 0.26366414403021482, 0.26366422498372211, 0.26366415901259616, 0.26366420829534876, 0.26366417659535163, 0.26366418984084528, 0.26366419507455852, 0.26366417137883835, 0.26366421267854051, 0.26366415465199255, 0.26366422773647874, 0.26366414121995535, 0.26366423883509477, 0.26366413231584745, 0.26366424495154417, 0.26366412872943101, 0.26366424554508783, 0.2636641307401813, 0.26366424060482696, 0.26366413809201372, 0.26366423064466704, 0.2636641500263156, 0.26366421664974676, 0.26366416535630982, 0.26366419997831286, 0.26366418258541657, 0.26366418222947796, 0.26366420005109875, 0.26366416508835167, 0.26366421608529578, 0.26366415016683464, 0.26366422917138227, 0.26366413884965578, 0.26366423808841105, 0.26366413216682399, 0.26366424202137934, 0.26366413069854494, 0.26366424063748595, 0.26366413452427995, 0.2636642341105685, 0.26366414322165393, 0.26366422310121324, 0.26366415590919928, 0.26366420868887924, 0.26366417133635534, 0.26366419226525989, 0.26366418800413705, 0.26366417539940534, 0.26366420431116105, 0.26366415968715617, 0.26366421870493484, 0.26366414660028142, 0.26366422983008392])\n"
       ]
      }
     ],
     "prompt_number": 6
    },
    {
     "cell_type": "code",
     "collapsed": false,
     "input": [
      "pylab.plot (x[750:850],y[750:850])"
     ],
     "language": "python",
     "metadata": {},
     "outputs": [
      {
       "metadata": {},
       "output_type": "pyout",
       "prompt_number": 19,
       "text": [
        "[<matplotlib.lines.Line2D at 0x106d9ac90>]"
       ]
      },
      {
       "metadata": {},
       "output_type": "display_data",
       "png": "[encoded data removed]",
       "text": [
        "<matplotlib.figure.Figure at 0x106cddb10>"
       ]
      }
     ],
     "prompt_number": 19
    },
    {
     "cell_type": "code",
     "collapsed": false,
     "input": [
      "pylab.plot (x[980:1050],y[980:1050])"
     ],
     "language": "python",
     "metadata": {},
     "outputs": [
      {
       "metadata": {},
       "output_type": "pyout",
       "prompt_number": 32,
       "text": [
        "[<matplotlib.lines.Line2D at 0x1076a8850>]"
       ]
      },
      {
       "metadata": {},
       "output_type": "display_data",
       "png": "[encoded data removed]",
       "text": [
        "<matplotlib.figure.Figure at 0x1075de450>"
       ]
      }
     ],
     "prompt_number": 32
    },
    {
     "cell_type": "code",
     "collapsed": false,
     "input": [
      "plt.plot(car_data[:,0],car_data[:,1],'o')\n",
      "pylab.plot (x[750:850],y[750:850])"
     ],
     "language": "python",
     "metadata": {},
     "outputs": [
      {
       "metadata": {},
       "output_type": "pyout",
       "prompt_number": 8,
       "text": [
        "[<matplotlib.lines.Line2D at 0x106b987d0>]"
       ]
      },
      {
       "metadata": {},
       "output_type": "display_data",
       "png": "[encoded data removed]",
       "text": [
        "<matplotlib.figure.Figure at 0x106b08a10>"
       ]
      }
     ],
     "prompt_number": 8
    },
    {
     "cell_type": "code",
     "collapsed": false,
     "input": [
      "pylab.plot (x[980:1050],y[980:1050])\n",
      "plt.plot(car_data[:,0],car_data[:,1],'o')"
     ],
     "language": "python",
     "metadata": {},
     "outputs": [
      {
       "metadata": {},
       "output_type": "pyout",
       "prompt_number": 40,
       "text": [
        "[<matplotlib.lines.Line2D at 0x107859310>]"
       ]
      },
      {
       "metadata": {},
       "output_type": "display_data",
       "png": "[encoded data removed]",
       "text": [
        "<matplotlib.figure.Figure at 0x107688a50>"
       ]
      }
     ],
     "prompt_number": 40
    },
    {
     "cell_type": "code",
     "collapsed": false,
     "input": [
      "pylab.plot (x[980:1050],5*array(y[980:1050])-1.3)\n",
      "plt.plot(car_data[:,0],car_data[:,1],'o')"
     ],
     "language": "python",
     "metadata": {},
     "outputs": [
      {
       "metadata": {},
       "output_type": "pyout",
       "prompt_number": 52,
       "text": [
        "[<matplotlib.lines.Line2D at 0x10734ba50>]"
       ]
      },
      {
       "metadata": {},
       "output_type": "display_data",
       "png": "[encoded data removed]",
       "text": [
        "<matplotlib.figure.Figure at 0x10734bc90>"
       ]
      }
     ],
     "prompt_number": 52
    },
    {
     "cell_type": "code",
     "collapsed": false,
     "input": [
      "# a= ('1',2,3)\n",
      "# list(a)"
     ],
     "language": "python",
     "metadata": {},
     "outputs": [],
     "prompt_number": 9
    },
    {
     "cell_type": "code",
     "collapsed": false,
     "input": [
      "# r3 = sol[0][:,2]\n",
      "# r3"
     ],
     "language": "python",
     "metadata": {},
     "outputs": [],
     "prompt_number": 10
    },
    {
     "cell_type": "code",
     "collapsed": false,
     "input": [
      "len(x)\n",
      "len(y)"
     ],
     "language": "python",
     "metadata": {},
     "outputs": [
      {
       "metadata": {},
       "output_type": "pyout",
       "prompt_number": 11,
       "text": [
        "1999"
       ]
      }
     ],
     "prompt_number": 11
    },
    {
     "cell_type": "code",
     "collapsed": false,
     "input": [
      "len(b.dataX)"
     ],
     "language": "python",
     "metadata": {},
     "outputs": [
      {
       "metadata": {},
       "output_type": "pyout",
       "prompt_number": 12,
       "text": [
        "20"
       ]
      }
     ],
     "prompt_number": 12
    },
    {
     "cell_type": "code",
     "collapsed": false,
     "input": [
      "#Changed fine_grid = np.linspace(self.dataX.min(), self.dataX.max(), 100 * points-1) in datafit\n",
      "plot(x,y)"
     ],
     "language": "python",
     "metadata": {},
     "outputs": [
      {
       "metadata": {},
       "output_type": "pyout",
       "prompt_number": 13,
       "text": [
        "[<matplotlib.lines.Line2D at 0x106c66b50>]"
       ]
      },
      {
       "metadata": {},
       "output_type": "display_data",
       "png": "[encoded data removed]",
       "text": [
        "<matplotlib.figure.Figure at 0x106aea610>"
       ]
      }
     ],
     "prompt_number": 13
    },
    {
     "cell_type": "code",
     "collapsed": false,
     "input": [
      "print(b.dataX)\n",
      "print(len(b.dataX))\n",
      "print(b.dataY)"
     ],
     "language": "python",
     "metadata": {},
     "outputs": [
      {
       "output_type": "stream",
       "stream": "stdout",
       "text": [
        "[-24.85089331 -24.84984068 -24.84878805 -24.84773542 -24.84668279\n",
        " -24.84563015 -24.84457752 -24.84352489 -24.84247226 -24.84141963\n",
        " -24.840367   -24.83931436 -24.83826173 -24.8372091  -24.83615647\n",
        " -24.83510384 -24.83405121 -24.83299858 -24.83194594 -24.83089331]\n",
        "20\n",
        "[ 0.05  0.04  0.03  0.04  0.01  0.07  0.08  0.15  0.26  0.35  0.47  0.62\n",
        "  0.62  0.71  0.62  0.6   0.4   0.16  0.15  0.05]\n"
       ]
      }
     ],
     "prompt_number": 14
    },
    {
     "cell_type": "code",
     "collapsed": false,
     "input": [
      "len(x)\n",
      "len(y)\n",
      "# plot (x,y)"
     ],
     "language": "python",
     "metadata": {},
     "outputs": [
      {
       "metadata": {},
       "output_type": "pyout",
       "prompt_number": 15,
       "text": [
        "1999"
       ]
      }
     ],
     "prompt_number": 15
    },
    {
     "cell_type": "code",
     "collapsed": false,
     "input": [
      "# param = Parameter()"
     ],
     "language": "python",
     "metadata": {},
     "outputs": [],
     "prompt_number": 16
    },
    {
     "cell_type": "code",
     "collapsed": false,
     "input": [
      "# b.model(fit_params,arange(20))"
     ],
     "language": "python",
     "metadata": {},
     "outputs": [],
     "prompt_number": 17
    },
    {
     "cell_type": "code",
     "collapsed": false,
     "input": [
      "b.dataX\n",
      "# plot (b.dataX,'o')#y)#,'o')\n",
      "plt.figure()\n",
      "plt.plot (b.dataY,'o')\n",
      "plt.plot(y)"
     ],
     "language": "python",
     "metadata": {},
     "outputs": [
      {
       "metadata": {},
       "output_type": "pyout",
       "prompt_number": 18,
       "text": [
        "[<matplotlib.lines.Line2D at 0x106cdaf90>]"
       ]
      },
      {
       "metadata": {},
       "output_type": "display_data",
       "png": "[encoded data removed]",
       "text": [
        "<matplotlib.figure.Figure at 0x106cdd1d0>"
       ]
      }
     ],
     "prompt_number": 18
    },
    {
     "cell_type": "code",
     "collapsed": false,
     "input": [],
     "language": "python",
     "metadata": {},
     "outputs": [],
     "prompt_number": 18
    }
   ],
   "metadata": {}
  }
 ]
}